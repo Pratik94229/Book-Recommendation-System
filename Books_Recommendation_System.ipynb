{
  "nbformat": 4,
  "nbformat_minor": 0,
  "metadata": {
    "colab": {
      "provenance": [],
      "collapsed_sections": [
        "0wOQAZs5pc--",
        "K5QZ13OEpz2H",
        "lQ7QKXXCp7Bj",
        "448CDAPjqfQr",
        "KSlN3yHqYklG",
        "t6dVpIINYklI",
        "ijmpgYnKYklI",
        "-JiQyfWJYklI",
        "EM7whBJCYoAo",
        "fge-S5ZAYoAp",
        "85gYPyotYoAp",
        "RoGjAbkUYoAp",
        "4Of9eVA-YrdM",
        "iky9q4vBYrdO",
        "F6T5p64dYrdO",
        "y-Ehk30pYrdP",
        "bamQiAODYuh1",
        "QHF8YVU7Yuh3",
        "GwzvFGzlYuh3",
        "qYpmQ266Yuh3",
        "OH-pJp9IphqM",
        "bbFf2-_FphqN",
        "_ouA3fa0phqN",
        "Seke61FWphqN",
        "PIIx-8_IphqN",
        "t27r6nlMphqO",
        "r2jJGEOYphqO",
        "b0JNsNcRphqO",
        "BZR9WyysphqO",
        "jj7wYXLtphqO",
        "eZrbJ2SmphqO",
        "rFu4xreNphqO",
        "YJ55k-q6phqO",
        "gCFgpxoyphqP",
        "OVtJsKN_phqQ",
        "lssrdh5qphqQ",
        "U2RJ9gkRphqQ",
        "1M8mcRywphqQ",
        "tgIPom80phqQ",
        "JMzcOPDDphqR",
        "x-EpHcCOp1ci",
        "X_VqEhTip1ck",
        "8zGJKyg5p1ck",
        "PVzmfK_Ep1ck",
        "n3dbpmDWp1ck",
        "ylSl6qgtp1ck",
        "ZWILFDl5p1ck",
        "M7G43BXep1ck",
        "Ag9LCva-p1cl",
        "E6MkPsBcp1cl",
        "2cELzS2fp1cl",
        "3MPXvC8up1cl",
        "NC_X3p0fY2L0",
        "UV0SzAkaZNRQ",
        "YPEH6qLeZNRQ",
        "q29F0dvdveiT",
        "EXh0U9oCveiU",
        "22aHeOlLveiV",
        "g-ATYxFrGrvw",
        "Yfr_Vlr8HBkt",
        "8yEUt7NnHlrM",
        "tEA2Xm5dHt1r",
        "I79__PHVH19G",
        "Ou-I18pAyIpj",
        "fF3858GYyt-u",
        "4_0_7-oCpUZd",
        "hwyV_J3ipUZe",
        "3yB-zSqbpUZe",
        "dEUvejAfpUZe",
        "Fd15vwWVpUZf",
        "bn_IUdTipZyH",
        "49K5P_iCpZyH",
        "Nff-vKELpZyI",
        "kLW572S8pZyI",
        "dWbDXHzopZyI",
        "id1riN9m0vUs",
        "578E2V7j08f6",
        "qBMux9mC6MCf",
        "C74aWNz2AliB",
        "2DejudWSA-a0",
        "pEMng2IbBLp7",
        "rAdphbQ9Bhjc",
        "TNVZ9zx19K6k",
        "nqoHp30x9hH9",
        "rMDnDkt2B6du",
        "yiiVWRdJDDil",
        "1UUpS68QDMuG",
        "kexQrXU-DjzY",
        "T5CmagL3EC8N",
        "BhH2vgX9EjGr",
        "qjKvONjwE8ra",
        "P1XJ9OREExlT",
        "VFOzZv6IFROw",
        "TIqpNgepFxVj",
        "ArJBuiUVfxKd",
        "4qY1EAkEfxKe",
        "PiV4Ypx8fxKe",
        "TfvqoZmBfxKf",
        "JWYfwnehpsJ1",
        "-jK_YjpMpsJ2",
        "HAih1iBOpsJ2",
        "zVGeBEFhpsJ2",
        "Fze-IPXLpx6K",
        "7AN1z2sKpx6M",
        "9PIHJqyupx6M",
        "_-qAgymDpx6N",
        "Z-hykwinpx6N",
        "h_CCil-SKHpo",
        "cBFFvTBNJzUa",
        "HvGl1hHyA_VK",
        "EyNgTHvd2WFk",
        "KH5McJBi2d8v",
        "iW_Lq9qf2h6X",
        "-Kee-DAl2viO",
        "gCX9965dhzqZ",
        "gIfDvo9L0UH2"
      ],
      "include_colab_link": true
    },
    "kernelspec": {
      "name": "python3",
      "display_name": "Python 3"
    },
    "language_info": {
      "name": "python"
    },
    "gpuClass": "standard"
  },
  "cells": [
    {
      "cell_type": "markdown",
      "metadata": {
        "id": "view-in-github",
        "colab_type": "text"
      },
      "source": [
        "<a href=\"https://colab.research.google.com/github/Pratik94229/Capstone-4/blob/main/Books_Recommendation_System.ipynb\" target=\"_parent\"><img src=\"https://colab.research.google.com/assets/colab-badge.svg\" alt=\"Open In Colab\"/></a>"
      ]
    },
    {
      "cell_type": "markdown",
      "source": [
        "# **Project Name**    - \n",
        "\n"
      ],
      "metadata": {
        "id": "vncDsAP0Gaoa"
      }
    },
    {
      "cell_type": "markdown",
      "source": [
        "##### **Project Type**    -Unsupervised\n",
        "##### **Contribution**    - Individual\n",
        "##### **Name -** Pratik Thorat\n"
      ],
      "metadata": {
        "id": "beRrZCGUAJYm"
      }
    },
    {
      "cell_type": "markdown",
      "source": [
        "# **Project Summary -**"
      ],
      "metadata": {
        "id": "FJNUwmbgGyua"
      }
    },
    {
      "cell_type": "markdown",
      "source": [
        "Write the summary here within 500-600 words."
      ],
      "metadata": {
        "id": "F6v_1wHtG2nS"
      }
    },
    {
      "cell_type": "markdown",
      "source": [
        "# **GitHub Link -**"
      ],
      "metadata": {
        "id": "w6K7xa23Elo4"
      }
    },
    {
      "cell_type": "markdown",
      "source": [
        "Provide your GitHub Link here."
      ],
      "metadata": {
        "id": "h1o69JH3Eqqn"
      }
    },
    {
      "cell_type": "markdown",
      "source": [
        "# **Problem Statement**\n"
      ],
      "metadata": {
        "id": "yQaldy8SH6Dl"
      }
    },
    {
      "cell_type": "markdown",
      "source": [
        "**Write Problem Statement Here.**"
      ],
      "metadata": {
        "id": "DpeJGUA3kjGy"
      }
    },
    {
      "cell_type": "markdown",
      "source": [
        "# **General Guidelines** : -  "
      ],
      "metadata": {
        "id": "mDgbUHAGgjLW"
      }
    },
    {
      "cell_type": "markdown",
      "source": [
        "1.   Well-structured, formatted, and commented code is required. \n",
        "2.   Exception Handling, Production Grade Code & Deployment Ready Code will be a plus. Those students will be awarded some additional credits. \n",
        "     \n",
        "     The additional credits will have advantages over other students during Star Student selection.\n",
        "       \n",
        "             [ Note: - Deployment Ready Code is defined as, the whole .ipynb notebook should be executable in one go\n",
        "                       without a single error logged. ]\n",
        "\n",
        "3.   Each and every logic should have proper comments.\n",
        "4. You may add as many number of charts you want. Make Sure for each and every chart the following format should be answered.\n",
        "        \n",
        "\n",
        "```\n",
        "# Chart visualization code\n",
        "```\n",
        "            \n",
        "\n",
        "*   Why did you pick the specific chart?\n",
        "*   What is/are the insight(s) found from the chart?\n",
        "* Will the gained insights help creating a positive business impact? \n",
        "Are there any insights that lead to negative growth? Justify with specific reason.\n",
        "\n",
        "5. You have to create at least 15 logical & meaningful charts having important insights.\n",
        "\n",
        "\n",
        "[ Hints : - Do the Vizualization in  a structured way while following \"UBM\" Rule. \n",
        "\n",
        "U - Univariate Analysis,\n",
        "\n",
        "B - Bivariate Analysis (Numerical - Categorical, Numerical - Numerical, Categorical - Categorical)\n",
        "\n",
        "M - Multivariate Analysis\n",
        " ]\n",
        "\n",
        "\n",
        "\n",
        "\n",
        "\n",
        "6. You may add more ml algorithms for model creation. Make sure for each and every algorithm, the following format should be answered.\n",
        "\n",
        "\n",
        "*   Explain the ML Model used and it's performance using Evaluation metric Score Chart.\n",
        "\n",
        "\n",
        "*   Cross- Validation & Hyperparameter Tuning\n",
        "\n",
        "*   Have you seen any improvement? Note down the improvement with updates Evaluation metric Score Chart.\n",
        "\n",
        "*   Explain each evaluation metric's indication towards business and the business impact pf the ML model used.\n",
        "\n",
        "\n",
        "\n",
        "\n",
        "\n",
        "\n",
        "\n",
        "\n",
        "\n",
        "\n",
        "\n",
        "\n",
        "\n",
        "\n",
        "\n",
        "\n",
        "\n",
        "\n"
      ],
      "metadata": {
        "id": "ZrxVaUj-hHfC"
      }
    },
    {
      "cell_type": "markdown",
      "source": [
        "# ***Let's Begin !***"
      ],
      "metadata": {
        "id": "O_i_v8NEhb9l"
      }
    },
    {
      "cell_type": "markdown",
      "source": [
        "## ***1. Know Your Data***"
      ],
      "metadata": {
        "id": "HhfV-JJviCcP"
      }
    },
    {
      "cell_type": "markdown",
      "source": [
        "### Import Libraries"
      ],
      "metadata": {
        "id": "Y3lxredqlCYt"
      }
    },
    {
      "cell_type": "code",
      "source": [
        "# Import Libraries\n",
        "import pandas as pd\n",
        "import numpy as np\n",
        "import missingno as msno\n",
        "import seaborn as sns\n",
        "\n",
        "#For ignoring warnings\n",
        "import warnings\n",
        "warnings.filterwarnings('ignore')"
      ],
      "metadata": {
        "id": "M8Vqi-pPk-HR"
      },
      "execution_count": 1,
      "outputs": []
    },
    {
      "cell_type": "markdown",
      "source": [
        "### Dataset Loading"
      ],
      "metadata": {
        "id": "3RnN4peoiCZX"
      }
    },
    {
      "cell_type": "code",
      "source": [
        "# Load Dataset\n",
        "from google.colab import drive\n",
        "drive.mount('/content/drive')\n"
      ],
      "metadata": {
        "id": "4CkvbW_SlZ_R",
        "colab": {
          "base_uri": "https://localhost:8080/"
        },
        "outputId": "5b5047af-6675-4b57-b7bc-2ed1478577b3"
      },
      "execution_count": 2,
      "outputs": [
        {
          "output_type": "stream",
          "name": "stdout",
          "text": [
            "Mounted at /content/drive\n"
          ]
        }
      ]
    },
    {
      "cell_type": "code",
      "source": [
        "working_dir='/content/drive/MyDrive/Colab Notebooks/Module 4/Capstone 4/'\n",
        "books_df=pd.read_csv(working_dir+'Books.csv',low_memory=False)\n",
        "ratings_df=pd.read_csv(working_dir+'Ratings.csv')\n",
        "users_df=pd.read_csv(working_dir+'Users.csv')\n"
      ],
      "metadata": {
        "id": "d7_n_LPMrNN5"
      },
      "execution_count": 3,
      "outputs": []
    },
    {
      "cell_type": "markdown",
      "source": [
        "### Dataset First View"
      ],
      "metadata": {
        "id": "x71ZqKXriCWQ"
      }
    },
    {
      "cell_type": "code",
      "source": [
        "# Dataset First Look\n",
        "books_df.head(3)"
      ],
      "metadata": {
        "id": "LWNFOSvLl09H",
        "colab": {
          "base_uri": "https://localhost:8080/",
          "height": 329
        },
        "outputId": "a9e312b1-6aae-458a-d099-46baa1e5c4ee"
      },
      "execution_count": 4,
      "outputs": [
        {
          "output_type": "execute_result",
          "data": {
            "text/plain": [
              "         ISBN            Book-Title           Book-Author Year-Of-Publication  \\\n",
              "0  0195153448   Classical Mythology    Mark P. O. Morford                2002   \n",
              "1  0002005018          Clara Callan  Richard Bruce Wright                2001   \n",
              "2  0060973129  Decision in Normandy          Carlo D'Este                1991   \n",
              "\n",
              "                 Publisher                                        Image-URL-S  \\\n",
              "0  Oxford University Press  http://images.amazon.com/images/P/0195153448.0...   \n",
              "1    HarperFlamingo Canada  http://images.amazon.com/images/P/0002005018.0...   \n",
              "2          HarperPerennial  http://images.amazon.com/images/P/0060973129.0...   \n",
              "\n",
              "                                         Image-URL-M  \\\n",
              "0  http://images.amazon.com/images/P/0195153448.0...   \n",
              "1  http://images.amazon.com/images/P/0002005018.0...   \n",
              "2  http://images.amazon.com/images/P/0060973129.0...   \n",
              "\n",
              "                                         Image-URL-L  \n",
              "0  http://images.amazon.com/images/P/0195153448.0...  \n",
              "1  http://images.amazon.com/images/P/0002005018.0...  \n",
              "2  http://images.amazon.com/images/P/0060973129.0...  "
            ],
            "text/html": [
              "\n",
              "  <div id=\"df-33287d10-4bfb-40be-9911-1aea1c4db53c\">\n",
              "    <div class=\"colab-df-container\">\n",
              "      <div>\n",
              "<style scoped>\n",
              "    .dataframe tbody tr th:only-of-type {\n",
              "        vertical-align: middle;\n",
              "    }\n",
              "\n",
              "    .dataframe tbody tr th {\n",
              "        vertical-align: top;\n",
              "    }\n",
              "\n",
              "    .dataframe thead th {\n",
              "        text-align: right;\n",
              "    }\n",
              "</style>\n",
              "<table border=\"1\" class=\"dataframe\">\n",
              "  <thead>\n",
              "    <tr style=\"text-align: right;\">\n",
              "      <th></th>\n",
              "      <th>ISBN</th>\n",
              "      <th>Book-Title</th>\n",
              "      <th>Book-Author</th>\n",
              "      <th>Year-Of-Publication</th>\n",
              "      <th>Publisher</th>\n",
              "      <th>Image-URL-S</th>\n",
              "      <th>Image-URL-M</th>\n",
              "      <th>Image-URL-L</th>\n",
              "    </tr>\n",
              "  </thead>\n",
              "  <tbody>\n",
              "    <tr>\n",
              "      <th>0</th>\n",
              "      <td>0195153448</td>\n",
              "      <td>Classical Mythology</td>\n",
              "      <td>Mark P. O. Morford</td>\n",
              "      <td>2002</td>\n",
              "      <td>Oxford University Press</td>\n",
              "      <td>http://images.amazon.com/images/P/0195153448.0...</td>\n",
              "      <td>http://images.amazon.com/images/P/0195153448.0...</td>\n",
              "      <td>http://images.amazon.com/images/P/0195153448.0...</td>\n",
              "    </tr>\n",
              "    <tr>\n",
              "      <th>1</th>\n",
              "      <td>0002005018</td>\n",
              "      <td>Clara Callan</td>\n",
              "      <td>Richard Bruce Wright</td>\n",
              "      <td>2001</td>\n",
              "      <td>HarperFlamingo Canada</td>\n",
              "      <td>http://images.amazon.com/images/P/0002005018.0...</td>\n",
              "      <td>http://images.amazon.com/images/P/0002005018.0...</td>\n",
              "      <td>http://images.amazon.com/images/P/0002005018.0...</td>\n",
              "    </tr>\n",
              "    <tr>\n",
              "      <th>2</th>\n",
              "      <td>0060973129</td>\n",
              "      <td>Decision in Normandy</td>\n",
              "      <td>Carlo D'Este</td>\n",
              "      <td>1991</td>\n",
              "      <td>HarperPerennial</td>\n",
              "      <td>http://images.amazon.com/images/P/0060973129.0...</td>\n",
              "      <td>http://images.amazon.com/images/P/0060973129.0...</td>\n",
              "      <td>http://images.amazon.com/images/P/0060973129.0...</td>\n",
              "    </tr>\n",
              "  </tbody>\n",
              "</table>\n",
              "</div>\n",
              "      <button class=\"colab-df-convert\" onclick=\"convertToInteractive('df-33287d10-4bfb-40be-9911-1aea1c4db53c')\"\n",
              "              title=\"Convert this dataframe to an interactive table.\"\n",
              "              style=\"display:none;\">\n",
              "        \n",
              "  <svg xmlns=\"http://www.w3.org/2000/svg\" height=\"24px\"viewBox=\"0 0 24 24\"\n",
              "       width=\"24px\">\n",
              "    <path d=\"M0 0h24v24H0V0z\" fill=\"none\"/>\n",
              "    <path d=\"M18.56 5.44l.94 2.06.94-2.06 2.06-.94-2.06-.94-.94-2.06-.94 2.06-2.06.94zm-11 1L8.5 8.5l.94-2.06 2.06-.94-2.06-.94L8.5 2.5l-.94 2.06-2.06.94zm10 10l.94 2.06.94-2.06 2.06-.94-2.06-.94-.94-2.06-.94 2.06-2.06.94z\"/><path d=\"M17.41 7.96l-1.37-1.37c-.4-.4-.92-.59-1.43-.59-.52 0-1.04.2-1.43.59L10.3 9.45l-7.72 7.72c-.78.78-.78 2.05 0 2.83L4 21.41c.39.39.9.59 1.41.59.51 0 1.02-.2 1.41-.59l7.78-7.78 2.81-2.81c.8-.78.8-2.07 0-2.86zM5.41 20L4 18.59l7.72-7.72 1.47 1.35L5.41 20z\"/>\n",
              "  </svg>\n",
              "      </button>\n",
              "      \n",
              "  <style>\n",
              "    .colab-df-container {\n",
              "      display:flex;\n",
              "      flex-wrap:wrap;\n",
              "      gap: 12px;\n",
              "    }\n",
              "\n",
              "    .colab-df-convert {\n",
              "      background-color: #E8F0FE;\n",
              "      border: none;\n",
              "      border-radius: 50%;\n",
              "      cursor: pointer;\n",
              "      display: none;\n",
              "      fill: #1967D2;\n",
              "      height: 32px;\n",
              "      padding: 0 0 0 0;\n",
              "      width: 32px;\n",
              "    }\n",
              "\n",
              "    .colab-df-convert:hover {\n",
              "      background-color: #E2EBFA;\n",
              "      box-shadow: 0px 1px 2px rgba(60, 64, 67, 0.3), 0px 1px 3px 1px rgba(60, 64, 67, 0.15);\n",
              "      fill: #174EA6;\n",
              "    }\n",
              "\n",
              "    [theme=dark] .colab-df-convert {\n",
              "      background-color: #3B4455;\n",
              "      fill: #D2E3FC;\n",
              "    }\n",
              "\n",
              "    [theme=dark] .colab-df-convert:hover {\n",
              "      background-color: #434B5C;\n",
              "      box-shadow: 0px 1px 3px 1px rgba(0, 0, 0, 0.15);\n",
              "      filter: drop-shadow(0px 1px 2px rgba(0, 0, 0, 0.3));\n",
              "      fill: #FFFFFF;\n",
              "    }\n",
              "  </style>\n",
              "\n",
              "      <script>\n",
              "        const buttonEl =\n",
              "          document.querySelector('#df-33287d10-4bfb-40be-9911-1aea1c4db53c button.colab-df-convert');\n",
              "        buttonEl.style.display =\n",
              "          google.colab.kernel.accessAllowed ? 'block' : 'none';\n",
              "\n",
              "        async function convertToInteractive(key) {\n",
              "          const element = document.querySelector('#df-33287d10-4bfb-40be-9911-1aea1c4db53c');\n",
              "          const dataTable =\n",
              "            await google.colab.kernel.invokeFunction('convertToInteractive',\n",
              "                                                     [key], {});\n",
              "          if (!dataTable) return;\n",
              "\n",
              "          const docLinkHtml = 'Like what you see? Visit the ' +\n",
              "            '<a target=\"_blank\" href=https://colab.research.google.com/notebooks/data_table.ipynb>data table notebook</a>'\n",
              "            + ' to learn more about interactive tables.';\n",
              "          element.innerHTML = '';\n",
              "          dataTable['output_type'] = 'display_data';\n",
              "          await google.colab.output.renderOutput(dataTable, element);\n",
              "          const docLink = document.createElement('div');\n",
              "          docLink.innerHTML = docLinkHtml;\n",
              "          element.appendChild(docLink);\n",
              "        }\n",
              "      </script>\n",
              "    </div>\n",
              "  </div>\n",
              "  "
            ]
          },
          "metadata": {},
          "execution_count": 4
        }
      ]
    },
    {
      "cell_type": "code",
      "source": [
        "ratings_df.head(3)"
      ],
      "metadata": {
        "id": "w0pve5ESsX4f",
        "colab": {
          "base_uri": "https://localhost:8080/",
          "height": 143
        },
        "outputId": "91c6487f-56a0-4d2c-a73c-bfa995372d73"
      },
      "execution_count": 5,
      "outputs": [
        {
          "output_type": "execute_result",
          "data": {
            "text/plain": [
              "   User-ID        ISBN  Book-Rating\n",
              "0   276725  034545104X            0\n",
              "1   276726  0155061224            5\n",
              "2   276727  0446520802            0"
            ],
            "text/html": [
              "\n",
              "  <div id=\"df-0a328ad6-bf5f-40f6-9373-351ca0f889a8\">\n",
              "    <div class=\"colab-df-container\">\n",
              "      <div>\n",
              "<style scoped>\n",
              "    .dataframe tbody tr th:only-of-type {\n",
              "        vertical-align: middle;\n",
              "    }\n",
              "\n",
              "    .dataframe tbody tr th {\n",
              "        vertical-align: top;\n",
              "    }\n",
              "\n",
              "    .dataframe thead th {\n",
              "        text-align: right;\n",
              "    }\n",
              "</style>\n",
              "<table border=\"1\" class=\"dataframe\">\n",
              "  <thead>\n",
              "    <tr style=\"text-align: right;\">\n",
              "      <th></th>\n",
              "      <th>User-ID</th>\n",
              "      <th>ISBN</th>\n",
              "      <th>Book-Rating</th>\n",
              "    </tr>\n",
              "  </thead>\n",
              "  <tbody>\n",
              "    <tr>\n",
              "      <th>0</th>\n",
              "      <td>276725</td>\n",
              "      <td>034545104X</td>\n",
              "      <td>0</td>\n",
              "    </tr>\n",
              "    <tr>\n",
              "      <th>1</th>\n",
              "      <td>276726</td>\n",
              "      <td>0155061224</td>\n",
              "      <td>5</td>\n",
              "    </tr>\n",
              "    <tr>\n",
              "      <th>2</th>\n",
              "      <td>276727</td>\n",
              "      <td>0446520802</td>\n",
              "      <td>0</td>\n",
              "    </tr>\n",
              "  </tbody>\n",
              "</table>\n",
              "</div>\n",
              "      <button class=\"colab-df-convert\" onclick=\"convertToInteractive('df-0a328ad6-bf5f-40f6-9373-351ca0f889a8')\"\n",
              "              title=\"Convert this dataframe to an interactive table.\"\n",
              "              style=\"display:none;\">\n",
              "        \n",
              "  <svg xmlns=\"http://www.w3.org/2000/svg\" height=\"24px\"viewBox=\"0 0 24 24\"\n",
              "       width=\"24px\">\n",
              "    <path d=\"M0 0h24v24H0V0z\" fill=\"none\"/>\n",
              "    <path d=\"M18.56 5.44l.94 2.06.94-2.06 2.06-.94-2.06-.94-.94-2.06-.94 2.06-2.06.94zm-11 1L8.5 8.5l.94-2.06 2.06-.94-2.06-.94L8.5 2.5l-.94 2.06-2.06.94zm10 10l.94 2.06.94-2.06 2.06-.94-2.06-.94-.94-2.06-.94 2.06-2.06.94z\"/><path d=\"M17.41 7.96l-1.37-1.37c-.4-.4-.92-.59-1.43-.59-.52 0-1.04.2-1.43.59L10.3 9.45l-7.72 7.72c-.78.78-.78 2.05 0 2.83L4 21.41c.39.39.9.59 1.41.59.51 0 1.02-.2 1.41-.59l7.78-7.78 2.81-2.81c.8-.78.8-2.07 0-2.86zM5.41 20L4 18.59l7.72-7.72 1.47 1.35L5.41 20z\"/>\n",
              "  </svg>\n",
              "      </button>\n",
              "      \n",
              "  <style>\n",
              "    .colab-df-container {\n",
              "      display:flex;\n",
              "      flex-wrap:wrap;\n",
              "      gap: 12px;\n",
              "    }\n",
              "\n",
              "    .colab-df-convert {\n",
              "      background-color: #E8F0FE;\n",
              "      border: none;\n",
              "      border-radius: 50%;\n",
              "      cursor: pointer;\n",
              "      display: none;\n",
              "      fill: #1967D2;\n",
              "      height: 32px;\n",
              "      padding: 0 0 0 0;\n",
              "      width: 32px;\n",
              "    }\n",
              "\n",
              "    .colab-df-convert:hover {\n",
              "      background-color: #E2EBFA;\n",
              "      box-shadow: 0px 1px 2px rgba(60, 64, 67, 0.3), 0px 1px 3px 1px rgba(60, 64, 67, 0.15);\n",
              "      fill: #174EA6;\n",
              "    }\n",
              "\n",
              "    [theme=dark] .colab-df-convert {\n",
              "      background-color: #3B4455;\n",
              "      fill: #D2E3FC;\n",
              "    }\n",
              "\n",
              "    [theme=dark] .colab-df-convert:hover {\n",
              "      background-color: #434B5C;\n",
              "      box-shadow: 0px 1px 3px 1px rgba(0, 0, 0, 0.15);\n",
              "      filter: drop-shadow(0px 1px 2px rgba(0, 0, 0, 0.3));\n",
              "      fill: #FFFFFF;\n",
              "    }\n",
              "  </style>\n",
              "\n",
              "      <script>\n",
              "        const buttonEl =\n",
              "          document.querySelector('#df-0a328ad6-bf5f-40f6-9373-351ca0f889a8 button.colab-df-convert');\n",
              "        buttonEl.style.display =\n",
              "          google.colab.kernel.accessAllowed ? 'block' : 'none';\n",
              "\n",
              "        async function convertToInteractive(key) {\n",
              "          const element = document.querySelector('#df-0a328ad6-bf5f-40f6-9373-351ca0f889a8');\n",
              "          const dataTable =\n",
              "            await google.colab.kernel.invokeFunction('convertToInteractive',\n",
              "                                                     [key], {});\n",
              "          if (!dataTable) return;\n",
              "\n",
              "          const docLinkHtml = 'Like what you see? Visit the ' +\n",
              "            '<a target=\"_blank\" href=https://colab.research.google.com/notebooks/data_table.ipynb>data table notebook</a>'\n",
              "            + ' to learn more about interactive tables.';\n",
              "          element.innerHTML = '';\n",
              "          dataTable['output_type'] = 'display_data';\n",
              "          await google.colab.output.renderOutput(dataTable, element);\n",
              "          const docLink = document.createElement('div');\n",
              "          docLink.innerHTML = docLinkHtml;\n",
              "          element.appendChild(docLink);\n",
              "        }\n",
              "      </script>\n",
              "    </div>\n",
              "  </div>\n",
              "  "
            ]
          },
          "metadata": {},
          "execution_count": 5
        }
      ]
    },
    {
      "cell_type": "code",
      "source": [
        "books_df.head(3)"
      ],
      "metadata": {
        "id": "BD8Hor4QsjL8",
        "colab": {
          "base_uri": "https://localhost:8080/",
          "height": 329
        },
        "outputId": "241d3ad0-da86-422b-c3f7-2768134ff26b"
      },
      "execution_count": 6,
      "outputs": [
        {
          "output_type": "execute_result",
          "data": {
            "text/plain": [
              "         ISBN            Book-Title           Book-Author Year-Of-Publication  \\\n",
              "0  0195153448   Classical Mythology    Mark P. O. Morford                2002   \n",
              "1  0002005018          Clara Callan  Richard Bruce Wright                2001   \n",
              "2  0060973129  Decision in Normandy          Carlo D'Este                1991   \n",
              "\n",
              "                 Publisher                                        Image-URL-S  \\\n",
              "0  Oxford University Press  http://images.amazon.com/images/P/0195153448.0...   \n",
              "1    HarperFlamingo Canada  http://images.amazon.com/images/P/0002005018.0...   \n",
              "2          HarperPerennial  http://images.amazon.com/images/P/0060973129.0...   \n",
              "\n",
              "                                         Image-URL-M  \\\n",
              "0  http://images.amazon.com/images/P/0195153448.0...   \n",
              "1  http://images.amazon.com/images/P/0002005018.0...   \n",
              "2  http://images.amazon.com/images/P/0060973129.0...   \n",
              "\n",
              "                                         Image-URL-L  \n",
              "0  http://images.amazon.com/images/P/0195153448.0...  \n",
              "1  http://images.amazon.com/images/P/0002005018.0...  \n",
              "2  http://images.amazon.com/images/P/0060973129.0...  "
            ],
            "text/html": [
              "\n",
              "  <div id=\"df-1a4d9324-d93d-49d0-8433-f6c40f724c55\">\n",
              "    <div class=\"colab-df-container\">\n",
              "      <div>\n",
              "<style scoped>\n",
              "    .dataframe tbody tr th:only-of-type {\n",
              "        vertical-align: middle;\n",
              "    }\n",
              "\n",
              "    .dataframe tbody tr th {\n",
              "        vertical-align: top;\n",
              "    }\n",
              "\n",
              "    .dataframe thead th {\n",
              "        text-align: right;\n",
              "    }\n",
              "</style>\n",
              "<table border=\"1\" class=\"dataframe\">\n",
              "  <thead>\n",
              "    <tr style=\"text-align: right;\">\n",
              "      <th></th>\n",
              "      <th>ISBN</th>\n",
              "      <th>Book-Title</th>\n",
              "      <th>Book-Author</th>\n",
              "      <th>Year-Of-Publication</th>\n",
              "      <th>Publisher</th>\n",
              "      <th>Image-URL-S</th>\n",
              "      <th>Image-URL-M</th>\n",
              "      <th>Image-URL-L</th>\n",
              "    </tr>\n",
              "  </thead>\n",
              "  <tbody>\n",
              "    <tr>\n",
              "      <th>0</th>\n",
              "      <td>0195153448</td>\n",
              "      <td>Classical Mythology</td>\n",
              "      <td>Mark P. O. Morford</td>\n",
              "      <td>2002</td>\n",
              "      <td>Oxford University Press</td>\n",
              "      <td>http://images.amazon.com/images/P/0195153448.0...</td>\n",
              "      <td>http://images.amazon.com/images/P/0195153448.0...</td>\n",
              "      <td>http://images.amazon.com/images/P/0195153448.0...</td>\n",
              "    </tr>\n",
              "    <tr>\n",
              "      <th>1</th>\n",
              "      <td>0002005018</td>\n",
              "      <td>Clara Callan</td>\n",
              "      <td>Richard Bruce Wright</td>\n",
              "      <td>2001</td>\n",
              "      <td>HarperFlamingo Canada</td>\n",
              "      <td>http://images.amazon.com/images/P/0002005018.0...</td>\n",
              "      <td>http://images.amazon.com/images/P/0002005018.0...</td>\n",
              "      <td>http://images.amazon.com/images/P/0002005018.0...</td>\n",
              "    </tr>\n",
              "    <tr>\n",
              "      <th>2</th>\n",
              "      <td>0060973129</td>\n",
              "      <td>Decision in Normandy</td>\n",
              "      <td>Carlo D'Este</td>\n",
              "      <td>1991</td>\n",
              "      <td>HarperPerennial</td>\n",
              "      <td>http://images.amazon.com/images/P/0060973129.0...</td>\n",
              "      <td>http://images.amazon.com/images/P/0060973129.0...</td>\n",
              "      <td>http://images.amazon.com/images/P/0060973129.0...</td>\n",
              "    </tr>\n",
              "  </tbody>\n",
              "</table>\n",
              "</div>\n",
              "      <button class=\"colab-df-convert\" onclick=\"convertToInteractive('df-1a4d9324-d93d-49d0-8433-f6c40f724c55')\"\n",
              "              title=\"Convert this dataframe to an interactive table.\"\n",
              "              style=\"display:none;\">\n",
              "        \n",
              "  <svg xmlns=\"http://www.w3.org/2000/svg\" height=\"24px\"viewBox=\"0 0 24 24\"\n",
              "       width=\"24px\">\n",
              "    <path d=\"M0 0h24v24H0V0z\" fill=\"none\"/>\n",
              "    <path d=\"M18.56 5.44l.94 2.06.94-2.06 2.06-.94-2.06-.94-.94-2.06-.94 2.06-2.06.94zm-11 1L8.5 8.5l.94-2.06 2.06-.94-2.06-.94L8.5 2.5l-.94 2.06-2.06.94zm10 10l.94 2.06.94-2.06 2.06-.94-2.06-.94-.94-2.06-.94 2.06-2.06.94z\"/><path d=\"M17.41 7.96l-1.37-1.37c-.4-.4-.92-.59-1.43-.59-.52 0-1.04.2-1.43.59L10.3 9.45l-7.72 7.72c-.78.78-.78 2.05 0 2.83L4 21.41c.39.39.9.59 1.41.59.51 0 1.02-.2 1.41-.59l7.78-7.78 2.81-2.81c.8-.78.8-2.07 0-2.86zM5.41 20L4 18.59l7.72-7.72 1.47 1.35L5.41 20z\"/>\n",
              "  </svg>\n",
              "      </button>\n",
              "      \n",
              "  <style>\n",
              "    .colab-df-container {\n",
              "      display:flex;\n",
              "      flex-wrap:wrap;\n",
              "      gap: 12px;\n",
              "    }\n",
              "\n",
              "    .colab-df-convert {\n",
              "      background-color: #E8F0FE;\n",
              "      border: none;\n",
              "      border-radius: 50%;\n",
              "      cursor: pointer;\n",
              "      display: none;\n",
              "      fill: #1967D2;\n",
              "      height: 32px;\n",
              "      padding: 0 0 0 0;\n",
              "      width: 32px;\n",
              "    }\n",
              "\n",
              "    .colab-df-convert:hover {\n",
              "      background-color: #E2EBFA;\n",
              "      box-shadow: 0px 1px 2px rgba(60, 64, 67, 0.3), 0px 1px 3px 1px rgba(60, 64, 67, 0.15);\n",
              "      fill: #174EA6;\n",
              "    }\n",
              "\n",
              "    [theme=dark] .colab-df-convert {\n",
              "      background-color: #3B4455;\n",
              "      fill: #D2E3FC;\n",
              "    }\n",
              "\n",
              "    [theme=dark] .colab-df-convert:hover {\n",
              "      background-color: #434B5C;\n",
              "      box-shadow: 0px 1px 3px 1px rgba(0, 0, 0, 0.15);\n",
              "      filter: drop-shadow(0px 1px 2px rgba(0, 0, 0, 0.3));\n",
              "      fill: #FFFFFF;\n",
              "    }\n",
              "  </style>\n",
              "\n",
              "      <script>\n",
              "        const buttonEl =\n",
              "          document.querySelector('#df-1a4d9324-d93d-49d0-8433-f6c40f724c55 button.colab-df-convert');\n",
              "        buttonEl.style.display =\n",
              "          google.colab.kernel.accessAllowed ? 'block' : 'none';\n",
              "\n",
              "        async function convertToInteractive(key) {\n",
              "          const element = document.querySelector('#df-1a4d9324-d93d-49d0-8433-f6c40f724c55');\n",
              "          const dataTable =\n",
              "            await google.colab.kernel.invokeFunction('convertToInteractive',\n",
              "                                                     [key], {});\n",
              "          if (!dataTable) return;\n",
              "\n",
              "          const docLinkHtml = 'Like what you see? Visit the ' +\n",
              "            '<a target=\"_blank\" href=https://colab.research.google.com/notebooks/data_table.ipynb>data table notebook</a>'\n",
              "            + ' to learn more about interactive tables.';\n",
              "          element.innerHTML = '';\n",
              "          dataTable['output_type'] = 'display_data';\n",
              "          await google.colab.output.renderOutput(dataTable, element);\n",
              "          const docLink = document.createElement('div');\n",
              "          docLink.innerHTML = docLinkHtml;\n",
              "          element.appendChild(docLink);\n",
              "        }\n",
              "      </script>\n",
              "    </div>\n",
              "  </div>\n",
              "  "
            ]
          },
          "metadata": {},
          "execution_count": 6
        }
      ]
    },
    {
      "cell_type": "markdown",
      "source": [
        "### Dataset Rows & Columns count"
      ],
      "metadata": {
        "id": "7hBIi_osiCS2"
      }
    },
    {
      "cell_type": "code",
      "source": [
        "# Dataset Rows & Columns count\n",
        "dict_df={'books':books_df,'ratings':ratings_df,'users':users_df}\n",
        "for key in dict_df.keys():\n",
        "  print(f'---------------------------------\\n{key} dataframe rows and columns:\\n{dict_df[key].shape}')\n"
      ],
      "metadata": {
        "id": "Kllu7SJgmLij",
        "colab": {
          "base_uri": "https://localhost:8080/"
        },
        "outputId": "8f94ae55-334d-46bc-e21d-1fbc8cf9d2f3"
      },
      "execution_count": 7,
      "outputs": [
        {
          "output_type": "stream",
          "name": "stdout",
          "text": [
            "---------------------------------\n",
            "books dataframe rows and columns:\n",
            "(271360, 8)\n",
            "---------------------------------\n",
            "ratings dataframe rows and columns:\n",
            "(1149780, 3)\n",
            "---------------------------------\n",
            "users dataframe rows and columns:\n",
            "(278858, 3)\n"
          ]
        }
      ]
    },
    {
      "cell_type": "markdown",
      "source": [
        "### Dataset Information"
      ],
      "metadata": {
        "id": "JlHwYmJAmNHm"
      }
    },
    {
      "cell_type": "code",
      "source": [
        "# Dataset Info\n",
        "for key in dict_df.keys():\n",
        "  print(f'-------------Info of {key} dataframe------------------\\n\\n\\n{dict_df[key].info()}')\n"
      ],
      "metadata": {
        "id": "e9hRXRi6meOf",
        "colab": {
          "base_uri": "https://localhost:8080/"
        },
        "outputId": "e9500579-6522-4843-e647-65d38c311991"
      },
      "execution_count": 8,
      "outputs": [
        {
          "output_type": "stream",
          "name": "stdout",
          "text": [
            "<class 'pandas.core.frame.DataFrame'>\n",
            "RangeIndex: 271360 entries, 0 to 271359\n",
            "Data columns (total 8 columns):\n",
            " #   Column               Non-Null Count   Dtype \n",
            "---  ------               --------------   ----- \n",
            " 0   ISBN                 271360 non-null  object\n",
            " 1   Book-Title           271360 non-null  object\n",
            " 2   Book-Author          271359 non-null  object\n",
            " 3   Year-Of-Publication  271360 non-null  object\n",
            " 4   Publisher            271358 non-null  object\n",
            " 5   Image-URL-S          271360 non-null  object\n",
            " 6   Image-URL-M          271360 non-null  object\n",
            " 7   Image-URL-L          271357 non-null  object\n",
            "dtypes: object(8)\n",
            "memory usage: 16.6+ MB\n",
            "-------------Info of books dataframe------------------\n",
            "\n",
            "\n",
            "None\n",
            "<class 'pandas.core.frame.DataFrame'>\n",
            "RangeIndex: 1149780 entries, 0 to 1149779\n",
            "Data columns (total 3 columns):\n",
            " #   Column       Non-Null Count    Dtype \n",
            "---  ------       --------------    ----- \n",
            " 0   User-ID      1149780 non-null  int64 \n",
            " 1   ISBN         1149780 non-null  object\n",
            " 2   Book-Rating  1149780 non-null  int64 \n",
            "dtypes: int64(2), object(1)\n",
            "memory usage: 26.3+ MB\n",
            "-------------Info of ratings dataframe------------------\n",
            "\n",
            "\n",
            "None\n",
            "<class 'pandas.core.frame.DataFrame'>\n",
            "RangeIndex: 278858 entries, 0 to 278857\n",
            "Data columns (total 3 columns):\n",
            " #   Column    Non-Null Count   Dtype  \n",
            "---  ------    --------------   -----  \n",
            " 0   User-ID   278858 non-null  int64  \n",
            " 1   Location  278858 non-null  object \n",
            " 2   Age       168096 non-null  float64\n",
            "dtypes: float64(1), int64(1), object(1)\n",
            "memory usage: 6.4+ MB\n",
            "-------------Info of users dataframe------------------\n",
            "\n",
            "\n",
            "None\n"
          ]
        }
      ]
    },
    {
      "cell_type": "markdown",
      "source": [
        "#### Duplicate Values"
      ],
      "metadata": {
        "id": "35m5QtbWiB9F"
      }
    },
    {
      "cell_type": "code",
      "source": [
        "# Dataset Duplicate Value Count\n",
        "for key in dict_df.keys():\n",
        "  print(f'--------------Duplicates in {key}------------------------\\n\\n\\n{dict_df[key][dict_df[key].duplicated()].count()}\\n\\n')\n"
      ],
      "metadata": {
        "id": "1sLdpKYkmox0",
        "colab": {
          "base_uri": "https://localhost:8080/"
        },
        "outputId": "dc6845b2-93dd-4fb3-fe4e-814b075f1ed3"
      },
      "execution_count": 9,
      "outputs": [
        {
          "output_type": "stream",
          "name": "stdout",
          "text": [
            "--------------Duplicates in books------------------------\n",
            "\n",
            "\n",
            "ISBN                   0\n",
            "Book-Title             0\n",
            "Book-Author            0\n",
            "Year-Of-Publication    0\n",
            "Publisher              0\n",
            "Image-URL-S            0\n",
            "Image-URL-M            0\n",
            "Image-URL-L            0\n",
            "dtype: int64\n",
            "\n",
            "\n",
            "--------------Duplicates in ratings------------------------\n",
            "\n",
            "\n",
            "User-ID        0\n",
            "ISBN           0\n",
            "Book-Rating    0\n",
            "dtype: int64\n",
            "\n",
            "\n",
            "--------------Duplicates in users------------------------\n",
            "\n",
            "\n",
            "User-ID     0\n",
            "Location    0\n",
            "Age         0\n",
            "dtype: int64\n",
            "\n",
            "\n"
          ]
        }
      ]
    },
    {
      "cell_type": "markdown",
      "source": [
        "#### Missing Values/Null Values"
      ],
      "metadata": {
        "id": "PoPl-ycgm1ru"
      }
    },
    {
      "cell_type": "code",
      "source": [
        "# Missing Values/Null Values Count\n",
        "for key in dict_df.keys():\n",
        "  print(f'---------------Missing values in {key} dataframe----------------------\\n\\n\\n{dict_df[key].isna().sum()}\\n')\n",
        "\n",
        "\n"
      ],
      "metadata": {
        "id": "GgHWkxvamxVg",
        "colab": {
          "base_uri": "https://localhost:8080/"
        },
        "outputId": "cf4f644a-e023-4c27-fec1-45830b8aa04a"
      },
      "execution_count": 10,
      "outputs": [
        {
          "output_type": "stream",
          "name": "stdout",
          "text": [
            "---------------Missing values in books dataframe----------------------\n",
            "\n",
            "\n",
            "ISBN                   0\n",
            "Book-Title             0\n",
            "Book-Author            1\n",
            "Year-Of-Publication    0\n",
            "Publisher              2\n",
            "Image-URL-S            0\n",
            "Image-URL-M            0\n",
            "Image-URL-L            3\n",
            "dtype: int64\n",
            "\n",
            "---------------Missing values in ratings dataframe----------------------\n",
            "\n",
            "\n",
            "User-ID        0\n",
            "ISBN           0\n",
            "Book-Rating    0\n",
            "dtype: int64\n",
            "\n",
            "---------------Missing values in users dataframe----------------------\n",
            "\n",
            "\n",
            "User-ID          0\n",
            "Location         0\n",
            "Age         110762\n",
            "dtype: int64\n",
            "\n"
          ]
        }
      ]
    },
    {
      "cell_type": "code",
      "source": [
        "# Visualizing the missing values in users dataframe\n",
        "msno.matrix(users_df)"
      ],
      "metadata": {
        "id": "3q5wnI3om9sJ",
        "colab": {
          "base_uri": "https://localhost:8080/",
          "height": 533
        },
        "outputId": "52892c72-3368-4fec-a19a-eca4b53392d3"
      },
      "execution_count": 11,
      "outputs": [
        {
          "output_type": "execute_result",
          "data": {
            "text/plain": [
              "<Axes: >"
            ]
          },
          "metadata": {},
          "execution_count": 11
        },
        {
          "output_type": "display_data",
          "data": {
            "text/plain": [
              "<Figure size 2500x1000 with 2 Axes>"
            ],
            "image/png": "[encoded data removed]"
          },
          "metadata": {}
        }
      ]
    },
    {
      "cell_type": "code",
      "source": [
        "# set the background style of the plot\n",
        "import matplotlib.pyplot as plt\n",
        "sns.set_style('whitegrid')\n",
        "sns.distplot(users_df['Age'], kde = False, color ='red', bins = 30)\n",
        "plt.show()"
      ],
      "metadata": {
        "colab": {
          "base_uri": "https://localhost:8080/",
          "height": 449
        },
        "id": "Hs8aBpqW8RNu",
        "outputId": "f5cd939c-a0bd-46e1-f4b8-a8fddceaa6bc"
      },
      "execution_count": 12,
      "outputs": [
        {
          "output_type": "display_data",
          "data": {
            "text/plain": [
              "<Figure size 640x480 with 1 Axes>"
            ],
            "image/png": "[encoded data removed]"
          },
          "metadata": {}
        }
      ]
    },
    {
      "cell_type": "markdown",
      "source": [
        "#Checking for people whoes age is greater than 85"
      ],
      "metadata": {
        "id": "PzX0CFRX9m0J"
      }
    },
    {
      "cell_type": "code",
      "source": [
        "# set the background style of the plot\n",
        "import matplotlib.pyplot as plt\n",
        "sns.set_style('whitegrid')\n",
        "sns.distplot(users_df[users_df['Age']>85]['Age'], kde = False, color ='red', bins = 30)\n",
        "plt.show()"
      ],
      "metadata": {
        "colab": {
          "base_uri": "https://localhost:8080/",
          "height": 449
        },
        "id": "EpGx8xEg9hFG",
        "outputId": "4081618e-27ab-430e-9a02-7584e30b3c9b"
      },
      "execution_count": 13,
      "outputs": [
        {
          "output_type": "display_data",
          "data": {
            "text/plain": [
              "<Figure size 640x480 with 1 Axes>"
            ],
            "image/png": "[encoded data removed]"
          },
          "metadata": {}
        }
      ]
    },
    {
      "cell_type": "markdown",
      "source": [
        "#Replacing people with age greater than 85 with mean age."
      ],
      "metadata": {
        "id": "oUmu4RT190mu"
      }
    },
    {
      "cell_type": "code",
      "source": [
        "users_df['Age'].mean()"
      ],
      "metadata": {
        "colab": {
          "base_uri": "https://localhost:8080/"
        },
        "id": "qxg1qTdP_R-U",
        "outputId": "6d1c02a5-d7bb-40ad-af03-5678736f9110"
      },
      "execution_count": 14,
      "outputs": [
        {
          "output_type": "execute_result",
          "data": {
            "text/plain": [
              "34.75143370454978"
            ]
          },
          "metadata": {},
          "execution_count": 14
        }
      ]
    },
    {
      "cell_type": "code",
      "source": [
        "users_df[users_df['Age']>85]['Age']"
      ],
      "metadata": {
        "colab": {
          "base_uri": "https://localhost:8080/"
        },
        "id": "LBP81B4M_YDm",
        "outputId": "edb0e745-aa7c-488b-9c57-a73886ad6158"
      },
      "execution_count": 15,
      "outputs": [
        {
          "output_type": "execute_result",
          "data": {
            "text/plain": [
              "1288      103.0\n",
              "1322      104.0\n",
              "1578      231.0\n",
              "3084      104.0\n",
              "3210      119.0\n",
              "          ...  \n",
              "276352    104.0\n",
              "277107    104.0\n",
              "277503    103.0\n",
              "277558     98.0\n",
              "278301    104.0\n",
              "Name: Age, Length: 452, dtype: float64"
            ]
          },
          "metadata": {},
          "execution_count": 15
        }
      ]
    },
    {
      "cell_type": "code",
      "source": [
        "users_df[users_df['Age']>85]['Age']=users_df['Age'].mean()"
      ],
      "metadata": {
        "id": "m7TTKzGc-Kjw"
      },
      "execution_count": 16,
      "outputs": []
    },
    {
      "cell_type": "code",
      "source": [
        "sns.set_style('whitegrid')\n",
        "sns.distplot(users_df['Age'], kde = False, color ='red', bins = 30)\n",
        "plt.show()"
      ],
      "metadata": {
        "colab": {
          "base_uri": "https://localhost:8080/",
          "height": 449
        },
        "id": "5tdAj0QW-WKX",
        "outputId": "1c2893dc-4250-4cf2-a30c-ed77d7865967"
      },
      "execution_count": 17,
      "outputs": [
        {
          "output_type": "display_data",
          "data": {
            "text/plain": [
              "<Figure size 640x480 with 1 Axes>"
            ],
            "image/png": "[encoded data removed]"
          },
          "metadata": {}
        }
      ]
    },
    {
      "cell_type": "markdown",
      "source": [
        "### What did you know about your dataset?"
      ],
      "metadata": {
        "id": "H0kj-8xxnORC"
      }
    },
    {
      "cell_type": "markdown",
      "source": [
        "Answer Here"
      ],
      "metadata": {
        "id": "gfoNAAC-nUe_"
      }
    },
    {
      "cell_type": "markdown",
      "source": [
        "## ***2. Understanding Your Variables***"
      ],
      "metadata": {
        "id": "nA9Y7ga8ng1Z"
      }
    },
    {
      "cell_type": "code",
      "source": [
        "# Dataset \n",
        "for key in dict_df.keys():\n",
        "  print(f'########################  Columns in {key} dataframe   ########################\\n\\n\\n{dict_df[key].columns}\\n\\n')"
      ],
      "metadata": {
        "id": "j7xfkqrt5Ag5",
        "colab": {
          "base_uri": "https://localhost:8080/"
        },
        "outputId": "6d4a0a52-41a3-48ee-c373-391bddf9c71d"
      },
      "execution_count": 18,
      "outputs": [
        {
          "output_type": "stream",
          "name": "stdout",
          "text": [
            "########################  Columns in books dataframe   ########################\n",
            "\n",
            "\n",
            "Index(['ISBN', 'Book-Title', 'Book-Author', 'Year-Of-Publication', 'Publisher',\n",
            "       'Image-URL-S', 'Image-URL-M', 'Image-URL-L'],\n",
            "      dtype='object')\n",
            "\n",
            "\n",
            "########################  Columns in ratings dataframe   ########################\n",
            "\n",
            "\n",
            "Index(['User-ID', 'ISBN', 'Book-Rating'], dtype='object')\n",
            "\n",
            "\n",
            "########################  Columns in users dataframe   ########################\n",
            "\n",
            "\n",
            "Index(['User-ID', 'Location', 'Age'], dtype='object')\n",
            "\n",
            "\n"
          ]
        }
      ]
    },
    {
      "cell_type": "code",
      "source": [
        "# Dataset Describe\n",
        "for key in dict_df.keys():\n",
        "  print(f'----------------Description of {key} dataframe-------------------------\\n\\n\\n{dict_df[key].describe()}\\n\\n')"
      ],
      "metadata": {
        "id": "DnOaZdaE5Q5t",
        "colab": {
          "base_uri": "https://localhost:8080/"
        },
        "outputId": "8c62eaf4-e66f-4053-bff2-f1f74aa46cf1"
      },
      "execution_count": 19,
      "outputs": [
        {
          "output_type": "stream",
          "name": "stdout",
          "text": [
            "----------------Description of books dataframe-------------------------\n",
            "\n",
            "\n",
            "              ISBN      Book-Title      Book-Author Year-Of-Publication  \\\n",
            "count       271360          271360           271359              271360   \n",
            "unique      271360          242135           102023                 118   \n",
            "top     0195153448  Selected Poems  Agatha Christie                2002   \n",
            "freq             1              27              632               17627   \n",
            "\n",
            "        Publisher                                        Image-URL-S  \\\n",
            "count      271358                                             271360   \n",
            "unique      16807                                             271044   \n",
            "top     Harlequin  http://images.amazon.com/images/P/185326119X.0...   \n",
            "freq         7535                                                  2   \n",
            "\n",
            "                                              Image-URL-M  \\\n",
            "count                                              271360   \n",
            "unique                                             271044   \n",
            "top     http://images.amazon.com/images/P/185326119X.0...   \n",
            "freq                                                    2   \n",
            "\n",
            "                                              Image-URL-L  \n",
            "count                                              271357  \n",
            "unique                                             271041  \n",
            "top     http://images.amazon.com/images/P/225307649X.0...  \n",
            "freq                                                    2  \n",
            "\n",
            "\n",
            "----------------Description of ratings dataframe-------------------------\n",
            "\n",
            "\n",
            "            User-ID   Book-Rating\n",
            "count  1.149780e+06  1.149780e+06\n",
            "mean   1.403864e+05  2.866950e+00\n",
            "std    8.056228e+04  3.854184e+00\n",
            "min    2.000000e+00  0.000000e+00\n",
            "25%    7.034500e+04  0.000000e+00\n",
            "50%    1.410100e+05  0.000000e+00\n",
            "75%    2.110280e+05  7.000000e+00\n",
            "max    2.788540e+05  1.000000e+01\n",
            "\n",
            "\n",
            "----------------Description of users dataframe-------------------------\n",
            "\n",
            "\n",
            "            User-ID            Age\n",
            "count  278858.00000  168096.000000\n",
            "mean   139429.50000      34.751434\n",
            "std     80499.51502      14.428097\n",
            "min         1.00000       0.000000\n",
            "25%     69715.25000      24.000000\n",
            "50%    139429.50000      32.000000\n",
            "75%    209143.75000      44.000000\n",
            "max    278858.00000     244.000000\n",
            "\n",
            "\n"
          ]
        }
      ]
    },
    {
      "cell_type": "markdown",
      "source": [
        "### Variables Description "
      ],
      "metadata": {
        "id": "PBTbrJXOngz2"
      }
    },
    {
      "cell_type": "markdown",
      "source": [
        "Answer Here"
      ],
      "metadata": {
        "id": "aJV4KIxSnxay"
      }
    },
    {
      "cell_type": "markdown",
      "source": [
        "### Check Unique Values for each variable."
      ],
      "metadata": {
        "id": "u3PMJOP6ngxN"
      }
    },
    {
      "cell_type": "code",
      "source": [
        "# Check Unique Values for each variable.\n",
        "for key in dict_df.keys():\n",
        "  print(f'--------------Unique values in {key} dataframe-------------------------\\n\\n\\n{dict_df[key].nunique()}\\n\\n')"
      ],
      "metadata": {
        "id": "zms12Yq5n-jE",
        "colab": {
          "base_uri": "https://localhost:8080/"
        },
        "outputId": "294eec1f-4ca1-4f0d-a34f-9bf2a771c041"
      },
      "execution_count": 20,
      "outputs": [
        {
          "output_type": "stream",
          "name": "stdout",
          "text": [
            "--------------Unique values in books dataframe-------------------------\n",
            "\n",
            "\n",
            "ISBN                   271360\n",
            "Book-Title             242135\n",
            "Book-Author            102023\n",
            "Year-Of-Publication       118\n",
            "Publisher               16807\n",
            "Image-URL-S            271044\n",
            "Image-URL-M            271044\n",
            "Image-URL-L            271041\n",
            "dtype: int64\n",
            "\n",
            "\n",
            "--------------Unique values in ratings dataframe-------------------------\n",
            "\n",
            "\n",
            "User-ID        105283\n",
            "ISBN           340556\n",
            "Book-Rating        11\n",
            "dtype: int64\n",
            "\n",
            "\n",
            "--------------Unique values in users dataframe-------------------------\n",
            "\n",
            "\n",
            "User-ID     278858\n",
            "Location     57339\n",
            "Age            165\n",
            "dtype: int64\n",
            "\n",
            "\n"
          ]
        }
      ]
    },
    {
      "cell_type": "markdown",
      "source": [
        "## 3. ***Data Wrangling***"
      ],
      "metadata": {
        "id": "dauF4eBmngu3"
      }
    },
    {
      "cell_type": "markdown",
      "source": [
        "### Data Wrangling Code"
      ],
      "metadata": {
        "id": "bKJF3rekwFvQ"
      }
    },
    {
      "cell_type": "code",
      "source": [
        "# Write your code to make your dataset analysis ready."
      ],
      "metadata": {
        "id": "wk-9a2fpoLcV"
      },
      "execution_count": 21,
      "outputs": []
    },
    {
      "cell_type": "markdown",
      "source": [
        "### What all manipulations have you done and insights you found?"
      ],
      "metadata": {
        "id": "MSa1f5Uengrz"
      }
    },
    {
      "cell_type": "markdown",
      "source": [
        "Answer Here."
      ],
      "metadata": {
        "id": "LbyXE7I1olp8"
      }
    },
    {
      "cell_type": "markdown",
      "source": [
        "## ***4. Data Vizualization, Storytelling & Experimenting with charts : Understand the relationships between variables***"
      ],
      "metadata": {
        "id": "GF8Ens_Soomf"
      }
    },
    {
      "cell_type": "markdown",
      "source": [
        "#### Chart - 1"
      ],
      "metadata": {
        "id": "0wOQAZs5pc--"
      }
    },
    {
      "cell_type": "code",
      "source": [
        "# Chart - 1 visualization code"
      ],
      "metadata": {
        "id": "7v_ESjsspbW7"
      },
      "execution_count": 22,
      "outputs": []
    },
    {
      "cell_type": "markdown",
      "source": [
        "##### 1. Why did you pick the specific chart?"
      ],
      "metadata": {
        "id": "K5QZ13OEpz2H"
      }
    },
    {
      "cell_type": "markdown",
      "source": [
        "Answer Here."
      ],
      "metadata": {
        "id": "XESiWehPqBRc"
      }
    },
    {
      "cell_type": "markdown",
      "source": [
        "##### 2. What is/are the insight(s) found from the chart?"
      ],
      "metadata": {
        "id": "lQ7QKXXCp7Bj"
      }
    },
    {
      "cell_type": "markdown",
      "source": [
        "Answer Here"
      ],
      "metadata": {
        "id": "C_j1G7yiqdRP"
      }
    },
    {
      "cell_type": "markdown",
      "source": [
        "##### 3. Will the gained insights help creating a positive business impact? \n",
        "Are there any insights that lead to negative growth? Justify with specific reason."
      ],
      "metadata": {
        "id": "448CDAPjqfQr"
      }
    },
    {
      "cell_type": "markdown",
      "source": [
        "Answer Here"
      ],
      "metadata": {
        "id": "3cspy4FjqxJW"
      }
    },
    {
      "cell_type": "markdown",
      "source": [
        "#### Chart - 2"
      ],
      "metadata": {
        "id": "KSlN3yHqYklG"
      }
    },
    {
      "cell_type": "code",
      "source": [
        "# Chart - 2 visualization code"
      ],
      "metadata": {
        "id": "R4YgtaqtYklH"
      },
      "execution_count": 23,
      "outputs": []
    },
    {
      "cell_type": "markdown",
      "source": [
        "##### 1. Why did you pick the specific chart?"
      ],
      "metadata": {
        "id": "t6dVpIINYklI"
      }
    },
    {
      "cell_type": "markdown",
      "source": [
        "Answer Here."
      ],
      "metadata": {
        "id": "5aaW0BYyYklI"
      }
    },
    {
      "cell_type": "markdown",
      "source": [
        "##### 2. What is/are the insight(s) found from the chart?"
      ],
      "metadata": {
        "id": "ijmpgYnKYklI"
      }
    },
    {
      "cell_type": "markdown",
      "source": [
        "Answer Here"
      ],
      "metadata": {
        "id": "PSx9atu2YklI"
      }
    },
    {
      "cell_type": "markdown",
      "source": [
        "##### 3. Will the gained insights help creating a positive business impact? \n",
        "Are there any insights that lead to negative growth? Justify with specific reason."
      ],
      "metadata": {
        "id": "-JiQyfWJYklI"
      }
    },
    {
      "cell_type": "markdown",
      "source": [
        "Answer Here"
      ],
      "metadata": {
        "id": "BcBbebzrYklV"
      }
    },
    {
      "cell_type": "markdown",
      "source": [
        "#### Chart - 3"
      ],
      "metadata": {
        "id": "EM7whBJCYoAo"
      }
    },
    {
      "cell_type": "code",
      "source": [
        "# Chart - 3 visualization code"
      ],
      "metadata": {
        "id": "t6GMdE67YoAp"
      },
      "execution_count": 24,
      "outputs": []
    },
    {
      "cell_type": "markdown",
      "source": [
        "##### 1. Why did you pick the specific chart?"
      ],
      "metadata": {
        "id": "fge-S5ZAYoAp"
      }
    },
    {
      "cell_type": "markdown",
      "source": [
        "Answer Here."
      ],
      "metadata": {
        "id": "5dBItgRVYoAp"
      }
    },
    {
      "cell_type": "markdown",
      "source": [
        "##### 2. What is/are the insight(s) found from the chart?"
      ],
      "metadata": {
        "id": "85gYPyotYoAp"
      }
    },
    {
      "cell_type": "markdown",
      "source": [
        "Answer Here"
      ],
      "metadata": {
        "id": "4jstXR6OYoAp"
      }
    },
    {
      "cell_type": "markdown",
      "source": [
        "##### 3. Will the gained insights help creating a positive business impact? \n",
        "Are there any insights that lead to negative growth? Justify with specific reason."
      ],
      "metadata": {
        "id": "RoGjAbkUYoAp"
      }
    },
    {
      "cell_type": "markdown",
      "source": [
        "Answer Here"
      ],
      "metadata": {
        "id": "zfJ8IqMcYoAp"
      }
    },
    {
      "cell_type": "markdown",
      "source": [
        "#### Chart - 4"
      ],
      "metadata": {
        "id": "4Of9eVA-YrdM"
      }
    },
    {
      "cell_type": "code",
      "source": [
        "# Chart - 4 visualization code"
      ],
      "metadata": {
        "id": "irlUoxc8YrdO"
      },
      "execution_count": 25,
      "outputs": []
    },
    {
      "cell_type": "markdown",
      "source": [
        "##### 1. Why did you pick the specific chart?"
      ],
      "metadata": {
        "id": "iky9q4vBYrdO"
      }
    },
    {
      "cell_type": "markdown",
      "source": [
        "Answer Here."
      ],
      "metadata": {
        "id": "aJRCwT6DYrdO"
      }
    },
    {
      "cell_type": "markdown",
      "source": [
        "##### 2. What is/are the insight(s) found from the chart?"
      ],
      "metadata": {
        "id": "F6T5p64dYrdO"
      }
    },
    {
      "cell_type": "markdown",
      "source": [
        "Answer Here"
      ],
      "metadata": {
        "id": "Xx8WAJvtYrdO"
      }
    },
    {
      "cell_type": "markdown",
      "source": [
        "##### 3. Will the gained insights help creating a positive business impact? \n",
        "Are there any insights that lead to negative growth? Justify with specific reason."
      ],
      "metadata": {
        "id": "y-Ehk30pYrdP"
      }
    },
    {
      "cell_type": "markdown",
      "source": [
        "Answer Here"
      ],
      "metadata": {
        "id": "jLNxxz7MYrdP"
      }
    },
    {
      "cell_type": "markdown",
      "source": [
        "#### Chart - 5"
      ],
      "metadata": {
        "id": "bamQiAODYuh1"
      }
    },
    {
      "cell_type": "code",
      "source": [
        "# Chart - 5 visualization code"
      ],
      "metadata": {
        "id": "TIJwrbroYuh3"
      },
      "execution_count": 26,
      "outputs": []
    },
    {
      "cell_type": "markdown",
      "source": [
        "##### 1. Why did you pick the specific chart?"
      ],
      "metadata": {
        "id": "QHF8YVU7Yuh3"
      }
    },
    {
      "cell_type": "markdown",
      "source": [
        "Answer Here."
      ],
      "metadata": {
        "id": "dcxuIMRPYuh3"
      }
    },
    {
      "cell_type": "markdown",
      "source": [
        "##### 2. What is/are the insight(s) found from the chart?"
      ],
      "metadata": {
        "id": "GwzvFGzlYuh3"
      }
    },
    {
      "cell_type": "markdown",
      "source": [
        "Answer Here"
      ],
      "metadata": {
        "id": "uyqkiB8YYuh3"
      }
    },
    {
      "cell_type": "markdown",
      "source": [
        "##### 3. Will the gained insights help creating a positive business impact? \n",
        "Are there any insights that lead to negative growth? Justify with specific reason."
      ],
      "metadata": {
        "id": "qYpmQ266Yuh3"
      }
    },
    {
      "cell_type": "markdown",
      "source": [
        "Answer Here"
      ],
      "metadata": {
        "id": "_WtzZ_hCYuh4"
      }
    },
    {
      "cell_type": "markdown",
      "source": [
        "#### Chart - 6"
      ],
      "metadata": {
        "id": "OH-pJp9IphqM"
      }
    },
    {
      "cell_type": "code",
      "source": [
        "# Chart - 6 visualization code"
      ],
      "metadata": {
        "id": "kuRf4wtuphqN"
      },
      "execution_count": 27,
      "outputs": []
    },
    {
      "cell_type": "markdown",
      "source": [
        "##### 1. Why did you pick the specific chart?"
      ],
      "metadata": {
        "id": "bbFf2-_FphqN"
      }
    },
    {
      "cell_type": "markdown",
      "source": [
        "Answer Here."
      ],
      "metadata": {
        "id": "loh7H2nzphqN"
      }
    },
    {
      "cell_type": "markdown",
      "source": [
        "##### 2. What is/are the insight(s) found from the chart?"
      ],
      "metadata": {
        "id": "_ouA3fa0phqN"
      }
    },
    {
      "cell_type": "markdown",
      "source": [
        "Answer Here"
      ],
      "metadata": {
        "id": "VECbqPI7phqN"
      }
    },
    {
      "cell_type": "markdown",
      "source": [
        "##### 3. Will the gained insights help creating a positive business impact? \n",
        "Are there any insights that lead to negative growth? Justify with specific reason."
      ],
      "metadata": {
        "id": "Seke61FWphqN"
      }
    },
    {
      "cell_type": "markdown",
      "source": [
        "Answer Here"
      ],
      "metadata": {
        "id": "DW4_bGpfphqN"
      }
    },
    {
      "cell_type": "markdown",
      "source": [
        "#### Chart - 7"
      ],
      "metadata": {
        "id": "PIIx-8_IphqN"
      }
    },
    {
      "cell_type": "code",
      "source": [
        "# Chart - 7 visualization code"
      ],
      "metadata": {
        "id": "lqAIGUfyphqO"
      },
      "execution_count": 28,
      "outputs": []
    },
    {
      "cell_type": "markdown",
      "source": [
        "##### 1. Why did you pick the specific chart?"
      ],
      "metadata": {
        "id": "t27r6nlMphqO"
      }
    },
    {
      "cell_type": "markdown",
      "source": [
        "Answer Here."
      ],
      "metadata": {
        "id": "iv6ro40sphqO"
      }
    },
    {
      "cell_type": "markdown",
      "source": [
        "##### 2. What is/are the insight(s) found from the chart?"
      ],
      "metadata": {
        "id": "r2jJGEOYphqO"
      }
    },
    {
      "cell_type": "markdown",
      "source": [
        "Answer Here"
      ],
      "metadata": {
        "id": "Po6ZPi4hphqO"
      }
    },
    {
      "cell_type": "markdown",
      "source": [
        "##### 3. Will the gained insights help creating a positive business impact? \n",
        "Are there any insights that lead to negative growth? Justify with specific reason."
      ],
      "metadata": {
        "id": "b0JNsNcRphqO"
      }
    },
    {
      "cell_type": "markdown",
      "source": [
        "Answer Here"
      ],
      "metadata": {
        "id": "xvSq8iUTphqO"
      }
    },
    {
      "cell_type": "markdown",
      "source": [
        "#### Chart - 8"
      ],
      "metadata": {
        "id": "BZR9WyysphqO"
      }
    },
    {
      "cell_type": "code",
      "source": [
        "# Chart - 8 visualization code"
      ],
      "metadata": {
        "id": "TdPTWpAVphqO"
      },
      "execution_count": 29,
      "outputs": []
    },
    {
      "cell_type": "markdown",
      "source": [
        "##### 1. Why did you pick the specific chart?"
      ],
      "metadata": {
        "id": "jj7wYXLtphqO"
      }
    },
    {
      "cell_type": "markdown",
      "source": [
        "Answer Here."
      ],
      "metadata": {
        "id": "Ob8u6rCTphqO"
      }
    },
    {
      "cell_type": "markdown",
      "source": [
        "##### 2. What is/are the insight(s) found from the chart?"
      ],
      "metadata": {
        "id": "eZrbJ2SmphqO"
      }
    },
    {
      "cell_type": "markdown",
      "source": [
        "Answer Here"
      ],
      "metadata": {
        "id": "mZtgC_hjphqO"
      }
    },
    {
      "cell_type": "markdown",
      "source": [
        "##### 3. Will the gained insights help creating a positive business impact? \n",
        "Are there any insights that lead to negative growth? Justify with specific reason."
      ],
      "metadata": {
        "id": "rFu4xreNphqO"
      }
    },
    {
      "cell_type": "markdown",
      "source": [
        "Answer Here"
      ],
      "metadata": {
        "id": "ey_0qi68phqO"
      }
    },
    {
      "cell_type": "markdown",
      "source": [
        "#### Chart - 9"
      ],
      "metadata": {
        "id": "YJ55k-q6phqO"
      }
    },
    {
      "cell_type": "code",
      "source": [
        "# Chart - 9 visualization code"
      ],
      "metadata": {
        "id": "B2aS4O1ophqO"
      },
      "execution_count": 30,
      "outputs": []
    },
    {
      "cell_type": "markdown",
      "source": [
        "##### 1. Why did you pick the specific chart?"
      ],
      "metadata": {
        "id": "gCFgpxoyphqP"
      }
    },
    {
      "cell_type": "markdown",
      "source": [
        "Answer Here."
      ],
      "metadata": {
        "id": "TVxDimi2phqP"
      }
    },
    {
      "cell_type": "markdown",
      "source": [
        "##### 2. What is/are the insight(s) found from the chart?"
      ],
      "metadata": {
        "id": "OVtJsKN_phqQ"
      }
    },
    {
      "cell_type": "markdown",
      "source": [
        "Answer Here"
      ],
      "metadata": {
        "id": "ngGi97qjphqQ"
      }
    },
    {
      "cell_type": "markdown",
      "source": [
        "##### 3. Will the gained insights help creating a positive business impact? \n",
        "Are there any insights that lead to negative growth? Justify with specific reason."
      ],
      "metadata": {
        "id": "lssrdh5qphqQ"
      }
    },
    {
      "cell_type": "markdown",
      "source": [
        "Answer Here"
      ],
      "metadata": {
        "id": "tBpY5ekJphqQ"
      }
    },
    {
      "cell_type": "markdown",
      "source": [
        "#### Chart - 10"
      ],
      "metadata": {
        "id": "U2RJ9gkRphqQ"
      }
    },
    {
      "cell_type": "code",
      "source": [
        "# Chart - 10 visualization code"
      ],
      "metadata": {
        "id": "GM7a4YP4phqQ"
      },
      "execution_count": 31,
      "outputs": []
    },
    {
      "cell_type": "markdown",
      "source": [
        "##### 1. Why did you pick the specific chart?"
      ],
      "metadata": {
        "id": "1M8mcRywphqQ"
      }
    },
    {
      "cell_type": "markdown",
      "source": [
        "Answer Here."
      ],
      "metadata": {
        "id": "8agQvks0phqQ"
      }
    },
    {
      "cell_type": "markdown",
      "source": [
        "##### 2. What is/are the insight(s) found from the chart?"
      ],
      "metadata": {
        "id": "tgIPom80phqQ"
      }
    },
    {
      "cell_type": "markdown",
      "source": [
        "Answer Here"
      ],
      "metadata": {
        "id": "Qp13pnNzphqQ"
      }
    },
    {
      "cell_type": "markdown",
      "source": [
        "##### 3. Will the gained insights help creating a positive business impact? \n",
        "Are there any insights that lead to negative growth? Justify with specific reason."
      ],
      "metadata": {
        "id": "JMzcOPDDphqR"
      }
    },
    {
      "cell_type": "markdown",
      "source": [
        "Answer Here"
      ],
      "metadata": {
        "id": "R4Ka1PC2phqR"
      }
    },
    {
      "cell_type": "markdown",
      "source": [
        "#### Chart - 11"
      ],
      "metadata": {
        "id": "x-EpHcCOp1ci"
      }
    },
    {
      "cell_type": "code",
      "source": [
        "# Chart - 11 visualization code"
      ],
      "metadata": {
        "id": "mAQTIvtqp1cj"
      },
      "execution_count": 32,
      "outputs": []
    },
    {
      "cell_type": "markdown",
      "source": [
        "##### 1. Why did you pick the specific chart?"
      ],
      "metadata": {
        "id": "X_VqEhTip1ck"
      }
    },
    {
      "cell_type": "markdown",
      "source": [
        "Answer Here."
      ],
      "metadata": {
        "id": "-vsMzt_np1ck"
      }
    },
    {
      "cell_type": "markdown",
      "source": [
        "##### 2. What is/are the insight(s) found from the chart?"
      ],
      "metadata": {
        "id": "8zGJKyg5p1ck"
      }
    },
    {
      "cell_type": "markdown",
      "source": [
        "Answer Here"
      ],
      "metadata": {
        "id": "ZYdMsrqVp1ck"
      }
    },
    {
      "cell_type": "markdown",
      "source": [
        "##### 3. Will the gained insights help creating a positive business impact? \n",
        "Are there any insights that lead to negative growth? Justify with specific reason."
      ],
      "metadata": {
        "id": "PVzmfK_Ep1ck"
      }
    },
    {
      "cell_type": "markdown",
      "source": [
        "Answer Here"
      ],
      "metadata": {
        "id": "druuKYZpp1ck"
      }
    },
    {
      "cell_type": "markdown",
      "source": [
        "#### Chart - 12"
      ],
      "metadata": {
        "id": "n3dbpmDWp1ck"
      }
    },
    {
      "cell_type": "code",
      "source": [
        "# Chart - 12 visualization code"
      ],
      "metadata": {
        "id": "bwevp1tKp1ck"
      },
      "execution_count": 33,
      "outputs": []
    },
    {
      "cell_type": "markdown",
      "source": [
        "##### 1. Why did you pick the specific chart?"
      ],
      "metadata": {
        "id": "ylSl6qgtp1ck"
      }
    },
    {
      "cell_type": "markdown",
      "source": [
        "Answer Here."
      ],
      "metadata": {
        "id": "m2xqNkiQp1ck"
      }
    },
    {
      "cell_type": "markdown",
      "source": [
        "##### 2. What is/are the insight(s) found from the chart?"
      ],
      "metadata": {
        "id": "ZWILFDl5p1ck"
      }
    },
    {
      "cell_type": "markdown",
      "source": [
        "Answer Here"
      ],
      "metadata": {
        "id": "x-lUsV2mp1ck"
      }
    },
    {
      "cell_type": "markdown",
      "source": [
        "##### 3. Will the gained insights help creating a positive business impact? \n",
        "Are there any insights that lead to negative growth? Justify with specific reason."
      ],
      "metadata": {
        "id": "M7G43BXep1ck"
      }
    },
    {
      "cell_type": "markdown",
      "source": [
        "Answer Here"
      ],
      "metadata": {
        "id": "5wwDJXsLp1cl"
      }
    },
    {
      "cell_type": "markdown",
      "source": [
        "#### Chart - 13"
      ],
      "metadata": {
        "id": "Ag9LCva-p1cl"
      }
    },
    {
      "cell_type": "code",
      "source": [
        "# Chart - 13 visualization code"
      ],
      "metadata": {
        "id": "EUfxeq9-p1cl"
      },
      "execution_count": 34,
      "outputs": []
    },
    {
      "cell_type": "markdown",
      "source": [
        "##### 1. Why did you pick the specific chart?"
      ],
      "metadata": {
        "id": "E6MkPsBcp1cl"
      }
    },
    {
      "cell_type": "markdown",
      "source": [
        "Answer Here."
      ],
      "metadata": {
        "id": "V22bRsFWp1cl"
      }
    },
    {
      "cell_type": "markdown",
      "source": [
        "##### 2. What is/are the insight(s) found from the chart?"
      ],
      "metadata": {
        "id": "2cELzS2fp1cl"
      }
    },
    {
      "cell_type": "markdown",
      "source": [
        "Answer Here"
      ],
      "metadata": {
        "id": "ozQPc2_Ip1cl"
      }
    },
    {
      "cell_type": "markdown",
      "source": [
        "##### 3. Will the gained insights help creating a positive business impact? \n",
        "Are there any insights that lead to negative growth? Justify with specific reason."
      ],
      "metadata": {
        "id": "3MPXvC8up1cl"
      }
    },
    {
      "cell_type": "markdown",
      "source": [
        "Answer Here"
      ],
      "metadata": {
        "id": "GL8l1tdLp1cl"
      }
    },
    {
      "cell_type": "markdown",
      "source": [
        "#### Chart - 14 - Correlation Heatmap"
      ],
      "metadata": {
        "id": "NC_X3p0fY2L0"
      }
    },
    {
      "cell_type": "code",
      "source": [
        "# Correlation Heatmap visualization code"
      ],
      "metadata": {
        "id": "xyC9zolEZNRQ"
      },
      "execution_count": 35,
      "outputs": []
    },
    {
      "cell_type": "markdown",
      "source": [
        "##### 1. Why did you pick the specific chart?"
      ],
      "metadata": {
        "id": "UV0SzAkaZNRQ"
      }
    },
    {
      "cell_type": "markdown",
      "source": [
        "Answer Here."
      ],
      "metadata": {
        "id": "DVPuT8LYZNRQ"
      }
    },
    {
      "cell_type": "markdown",
      "source": [
        "##### 2. What is/are the insight(s) found from the chart?"
      ],
      "metadata": {
        "id": "YPEH6qLeZNRQ"
      }
    },
    {
      "cell_type": "markdown",
      "source": [
        "Answer Here"
      ],
      "metadata": {
        "id": "bfSqtnDqZNRR"
      }
    },
    {
      "cell_type": "markdown",
      "source": [
        "#### Chart - 15 - Pair Plot "
      ],
      "metadata": {
        "id": "q29F0dvdveiT"
      }
    },
    {
      "cell_type": "code",
      "source": [
        "# Pair Plot visualization code"
      ],
      "metadata": {
        "id": "o58-TEIhveiU"
      },
      "execution_count": 36,
      "outputs": []
    },
    {
      "cell_type": "markdown",
      "source": [
        "##### 1. Why did you pick the specific chart?"
      ],
      "metadata": {
        "id": "EXh0U9oCveiU"
      }
    },
    {
      "cell_type": "markdown",
      "source": [
        "Answer Here."
      ],
      "metadata": {
        "id": "eMmPjTByveiU"
      }
    },
    {
      "cell_type": "markdown",
      "source": [
        "##### 2. What is/are the insight(s) found from the chart?"
      ],
      "metadata": {
        "id": "22aHeOlLveiV"
      }
    },
    {
      "cell_type": "markdown",
      "source": [
        "Answer Here"
      ],
      "metadata": {
        "id": "uPQ8RGwHveiV"
      }
    },
    {
      "cell_type": "markdown",
      "source": [
        "## ***5. Hypothesis Testing***"
      ],
      "metadata": {
        "id": "g-ATYxFrGrvw"
      }
    },
    {
      "cell_type": "markdown",
      "source": [
        "### Based on your chart experiments, define three hypothetical statements from the dataset. In the next three questions, perform hypothesis testing to obtain final conclusion about the statements through your code and statistical testing."
      ],
      "metadata": {
        "id": "Yfr_Vlr8HBkt"
      }
    },
    {
      "cell_type": "markdown",
      "source": [
        "Answer Here."
      ],
      "metadata": {
        "id": "-7MS06SUHkB-"
      }
    },
    {
      "cell_type": "markdown",
      "source": [
        "### Hypothetical Statement - 1"
      ],
      "metadata": {
        "id": "8yEUt7NnHlrM"
      }
    },
    {
      "cell_type": "markdown",
      "source": [
        "#### 1. State Your research hypothesis as a null hypothesis and alternate hypothesis."
      ],
      "metadata": {
        "id": "tEA2Xm5dHt1r"
      }
    },
    {
      "cell_type": "markdown",
      "source": [
        "Answer Here."
      ],
      "metadata": {
        "id": "HI9ZP0laH0D-"
      }
    },
    {
      "cell_type": "markdown",
      "source": [
        "#### 2. Perform an appropriate statistical test."
      ],
      "metadata": {
        "id": "I79__PHVH19G"
      }
    },
    {
      "cell_type": "code",
      "source": [
        "# Perform Statistical Test to obtain P-Value"
      ],
      "metadata": {
        "id": "oZrfquKtyian"
      },
      "execution_count": 37,
      "outputs": []
    },
    {
      "cell_type": "markdown",
      "source": [
        "##### Which statistical test have you done to obtain P-Value?"
      ],
      "metadata": {
        "id": "Ou-I18pAyIpj"
      }
    },
    {
      "cell_type": "markdown",
      "source": [
        "Answer Here."
      ],
      "metadata": {
        "id": "s2U0kk00ygSB"
      }
    },
    {
      "cell_type": "markdown",
      "source": [
        "##### Why did you choose the specific statistical test?"
      ],
      "metadata": {
        "id": "fF3858GYyt-u"
      }
    },
    {
      "cell_type": "markdown",
      "source": [
        "Answer Here."
      ],
      "metadata": {
        "id": "HO4K0gP5y3B4"
      }
    },
    {
      "cell_type": "markdown",
      "source": [
        "### Hypothetical Statement - 2"
      ],
      "metadata": {
        "id": "4_0_7-oCpUZd"
      }
    },
    {
      "cell_type": "markdown",
      "source": [
        "#### 1. State Your research hypothesis as a null hypothesis and alternate hypothesis."
      ],
      "metadata": {
        "id": "hwyV_J3ipUZe"
      }
    },
    {
      "cell_type": "markdown",
      "source": [
        "Answer Here."
      ],
      "metadata": {
        "id": "FnpLGJ-4pUZe"
      }
    },
    {
      "cell_type": "markdown",
      "source": [
        "#### 2. Perform an appropriate statistical test."
      ],
      "metadata": {
        "id": "3yB-zSqbpUZe"
      }
    },
    {
      "cell_type": "code",
      "source": [
        "# Perform Statistical Test to obtain P-Value"
      ],
      "metadata": {
        "id": "sWxdNTXNpUZe"
      },
      "execution_count": 38,
      "outputs": []
    },
    {
      "cell_type": "markdown",
      "source": [
        "##### Which statistical test have you done to obtain P-Value?"
      ],
      "metadata": {
        "id": "dEUvejAfpUZe"
      }
    },
    {
      "cell_type": "markdown",
      "source": [
        "Answer Here."
      ],
      "metadata": {
        "id": "oLDrPz7HpUZf"
      }
    },
    {
      "cell_type": "markdown",
      "source": [
        "##### Why did you choose the specific statistical test?"
      ],
      "metadata": {
        "id": "Fd15vwWVpUZf"
      }
    },
    {
      "cell_type": "markdown",
      "source": [
        "Answer Here."
      ],
      "metadata": {
        "id": "4xOGYyiBpUZf"
      }
    },
    {
      "cell_type": "markdown",
      "source": [
        "### Hypothetical Statement - 3"
      ],
      "metadata": {
        "id": "bn_IUdTipZyH"
      }
    },
    {
      "cell_type": "markdown",
      "source": [
        "#### 1. State Your research hypothesis as a null hypothesis and alternate hypothesis."
      ],
      "metadata": {
        "id": "49K5P_iCpZyH"
      }
    },
    {
      "cell_type": "markdown",
      "source": [
        "Answer Here."
      ],
      "metadata": {
        "id": "7gWI5rT9pZyH"
      }
    },
    {
      "cell_type": "markdown",
      "source": [
        "#### 2. Perform an appropriate statistical test."
      ],
      "metadata": {
        "id": "Nff-vKELpZyI"
      }
    },
    {
      "cell_type": "code",
      "source": [
        "# Perform Statistical Test to obtain P-Value"
      ],
      "metadata": {
        "id": "s6AnJQjtpZyI"
      },
      "execution_count": 39,
      "outputs": []
    },
    {
      "cell_type": "markdown",
      "source": [
        "##### Which statistical test have you done to obtain P-Value?"
      ],
      "metadata": {
        "id": "kLW572S8pZyI"
      }
    },
    {
      "cell_type": "markdown",
      "source": [
        "Answer Here."
      ],
      "metadata": {
        "id": "ytWJ8v15pZyI"
      }
    },
    {
      "cell_type": "markdown",
      "source": [
        "##### Why did you choose the specific statistical test?"
      ],
      "metadata": {
        "id": "dWbDXHzopZyI"
      }
    },
    {
      "cell_type": "markdown",
      "source": [
        "Answer Here."
      ],
      "metadata": {
        "id": "M99G98V6pZyI"
      }
    },
    {
      "cell_type": "markdown",
      "source": [
        "## ***6. Feature Engineering & Data Pre-processing***"
      ],
      "metadata": {
        "id": "yLjJCtPM0KBk"
      }
    },
    {
      "cell_type": "markdown",
      "source": [
        "### 1. Handling Missing Values"
      ],
      "metadata": {
        "id": "xiyOF9F70UgQ"
      }
    },
    {
      "cell_type": "code",
      "source": [
        "# Handling Missing Values & Missing Value Imputation"
      ],
      "metadata": {
        "id": "iRsAHk1K0fpS"
      },
      "execution_count": 40,
      "outputs": []
    },
    {
      "cell_type": "markdown",
      "source": [
        "#### What all missing value imputation techniques have you used and why did you use those techniques?"
      ],
      "metadata": {
        "id": "7wuGOrhz0itI"
      }
    },
    {
      "cell_type": "markdown",
      "source": [
        "Answer Here."
      ],
      "metadata": {
        "id": "1ixusLtI0pqI"
      }
    },
    {
      "cell_type": "markdown",
      "source": [
        "### 2. Handling Outliers"
      ],
      "metadata": {
        "id": "id1riN9m0vUs"
      }
    },
    {
      "cell_type": "code",
      "source": [
        "# Handling Outliers & Outlier treatments"
      ],
      "metadata": {
        "id": "M6w2CzZf04JK"
      },
      "execution_count": 41,
      "outputs": []
    },
    {
      "cell_type": "markdown",
      "source": [
        "##### What all outlier treatment techniques have you used and why did you use those techniques?"
      ],
      "metadata": {
        "id": "578E2V7j08f6"
      }
    },
    {
      "cell_type": "markdown",
      "source": [
        "Answer Here."
      ],
      "metadata": {
        "id": "uGZz5OrT1HH-"
      }
    },
    {
      "cell_type": "markdown",
      "source": [
        "### 3. Categorical Encoding"
      ],
      "metadata": {
        "id": "89xtkJwZ18nB"
      }
    },
    {
      "cell_type": "markdown",
      "source": [],
      "metadata": {
        "id": "zm9KhpNSDGY5"
      }
    },
    {
      "cell_type": "code",
      "source": [
        "# Encode your categorical columns"
      ],
      "metadata": {
        "id": "21JmIYMG2hEo"
      },
      "execution_count": 42,
      "outputs": []
    },
    {
      "cell_type": "markdown",
      "source": [],
      "metadata": {
        "id": "bKefqMmZDHsM"
      }
    },
    {
      "cell_type": "markdown",
      "source": [
        "#### What all categorical encoding techniques have you used & why did you use those techniques?"
      ],
      "metadata": {
        "id": "67NQN5KX2AMe"
      }
    },
    {
      "cell_type": "markdown",
      "source": [
        "Answer Here."
      ],
      "metadata": {
        "id": "UDaue5h32n_G"
      }
    },
    {
      "cell_type": "markdown",
      "source": [
        "#Popularity Based Recommendation System"
      ],
      "metadata": {
        "id": "Ih9AxjNEDJJ8"
      }
    },
    {
      "cell_type": "code",
      "source": [
        "merged_dataset= ratings_df.merge(books_df,on='ISBN')"
      ],
      "metadata": {
        "id": "JP5m9cyoDUBr"
      },
      "execution_count": 93,
      "outputs": []
    },
    {
      "cell_type": "code",
      "source": [
        "merged_dataset.head(3)"
      ],
      "metadata": {
        "colab": {
          "base_uri": "https://localhost:8080/",
          "height": 381
        },
        "id": "ovoVR2bHD47R",
        "outputId": "4b4c4ce6-ef66-473a-f7cc-68d3298bda0e"
      },
      "execution_count": 94,
      "outputs": [
        {
          "output_type": "execute_result",
          "data": {
            "text/plain": [
              "   User-ID        ISBN  Book-Rating            Book-Title Book-Author  \\\n",
              "0   276725  034545104X            0  Flesh Tones: A Novel  M. J. Rose   \n",
              "1     2313  034545104X            5  Flesh Tones: A Novel  M. J. Rose   \n",
              "2     6543  034545104X            0  Flesh Tones: A Novel  M. J. Rose   \n",
              "\n",
              "  Year-Of-Publication         Publisher  \\\n",
              "0                2002  Ballantine Books   \n",
              "1                2002  Ballantine Books   \n",
              "2                2002  Ballantine Books   \n",
              "\n",
              "                                         Image-URL-S  \\\n",
              "0  http://images.amazon.com/images/P/034545104X.0...   \n",
              "1  http://images.amazon.com/images/P/034545104X.0...   \n",
              "2  http://images.amazon.com/images/P/034545104X.0...   \n",
              "\n",
              "                                         Image-URL-M  \\\n",
              "0  http://images.amazon.com/images/P/034545104X.0...   \n",
              "1  http://images.amazon.com/images/P/034545104X.0...   \n",
              "2  http://images.amazon.com/images/P/034545104X.0...   \n",
              "\n",
              "                                         Image-URL-L  \n",
              "0  http://images.amazon.com/images/P/034545104X.0...  \n",
              "1  http://images.amazon.com/images/P/034545104X.0...  \n",
              "2  http://images.amazon.com/images/P/034545104X.0...  "
            ],
            "text/html": [
              "\n",
              "  <div id=\"df-7c2fa3e2-5aa3-4e8e-8722-38d181285c85\">\n",
              "    <div class=\"colab-df-container\">\n",
              "      <div>\n",
              "<style scoped>\n",
              "    .dataframe tbody tr th:only-of-type {\n",
              "        vertical-align: middle;\n",
              "    }\n",
              "\n",
              "    .dataframe tbody tr th {\n",
              "        vertical-align: top;\n",
              "    }\n",
              "\n",
              "    .dataframe thead th {\n",
              "        text-align: right;\n",
              "    }\n",
              "</style>\n",
              "<table border=\"1\" class=\"dataframe\">\n",
              "  <thead>\n",
              "    <tr style=\"text-align: right;\">\n",
              "      <th></th>\n",
              "      <th>User-ID</th>\n",
              "      <th>ISBN</th>\n",
              "      <th>Book-Rating</th>\n",
              "      <th>Book-Title</th>\n",
              "      <th>Book-Author</th>\n",
              "      <th>Year-Of-Publication</th>\n",
              "      <th>Publisher</th>\n",
              "      <th>Image-URL-S</th>\n",
              "      <th>Image-URL-M</th>\n",
              "      <th>Image-URL-L</th>\n",
              "    </tr>\n",
              "  </thead>\n",
              "  <tbody>\n",
              "    <tr>\n",
              "      <th>0</th>\n",
              "      <td>276725</td>\n",
              "      <td>034545104X</td>\n",
              "      <td>0</td>\n",
              "      <td>Flesh Tones: A Novel</td>\n",
              "      <td>M. J. Rose</td>\n",
              "      <td>2002</td>\n",
              "      <td>Ballantine Books</td>\n",
              "      <td>http://images.amazon.com/images/P/034545104X.0...</td>\n",
              "      <td>http://images.amazon.com/images/P/034545104X.0...</td>\n",
              "      <td>http://images.amazon.com/images/P/034545104X.0...</td>\n",
              "    </tr>\n",
              "    <tr>\n",
              "      <th>1</th>\n",
              "      <td>2313</td>\n",
              "      <td>034545104X</td>\n",
              "      <td>5</td>\n",
              "      <td>Flesh Tones: A Novel</td>\n",
              "      <td>M. J. Rose</td>\n",
              "      <td>2002</td>\n",
              "      <td>Ballantine Books</td>\n",
              "      <td>http://images.amazon.com/images/P/034545104X.0...</td>\n",
              "      <td>http://images.amazon.com/images/P/034545104X.0...</td>\n",
              "      <td>http://images.amazon.com/images/P/034545104X.0...</td>\n",
              "    </tr>\n",
              "    <tr>\n",
              "      <th>2</th>\n",
              "      <td>6543</td>\n",
              "      <td>034545104X</td>\n",
              "      <td>0</td>\n",
              "      <td>Flesh Tones: A Novel</td>\n",
              "      <td>M. J. Rose</td>\n",
              "      <td>2002</td>\n",
              "      <td>Ballantine Books</td>\n",
              "      <td>http://images.amazon.com/images/P/034545104X.0...</td>\n",
              "      <td>http://images.amazon.com/images/P/034545104X.0...</td>\n",
              "      <td>http://images.amazon.com/images/P/034545104X.0...</td>\n",
              "    </tr>\n",
              "  </tbody>\n",
              "</table>\n",
              "</div>\n",
              "      <button class=\"colab-df-convert\" onclick=\"convertToInteractive('df-7c2fa3e2-5aa3-4e8e-8722-38d181285c85')\"\n",
              "              title=\"Convert this dataframe to an interactive table.\"\n",
              "              style=\"display:none;\">\n",
              "        \n",
              "  <svg xmlns=\"http://www.w3.org/2000/svg\" height=\"24px\"viewBox=\"0 0 24 24\"\n",
              "       width=\"24px\">\n",
              "    <path d=\"M0 0h24v24H0V0z\" fill=\"none\"/>\n",
              "    <path d=\"M18.56 5.44l.94 2.06.94-2.06 2.06-.94-2.06-.94-.94-2.06-.94 2.06-2.06.94zm-11 1L8.5 8.5l.94-2.06 2.06-.94-2.06-.94L8.5 2.5l-.94 2.06-2.06.94zm10 10l.94 2.06.94-2.06 2.06-.94-2.06-.94-.94-2.06-.94 2.06-2.06.94z\"/><path d=\"M17.41 7.96l-1.37-1.37c-.4-.4-.92-.59-1.43-.59-.52 0-1.04.2-1.43.59L10.3 9.45l-7.72 7.72c-.78.78-.78 2.05 0 2.83L4 21.41c.39.39.9.59 1.41.59.51 0 1.02-.2 1.41-.59l7.78-7.78 2.81-2.81c.8-.78.8-2.07 0-2.86zM5.41 20L4 18.59l7.72-7.72 1.47 1.35L5.41 20z\"/>\n",
              "  </svg>\n",
              "      </button>\n",
              "      \n",
              "  <style>\n",
              "    .colab-df-container {\n",
              "      display:flex;\n",
              "      flex-wrap:wrap;\n",
              "      gap: 12px;\n",
              "    }\n",
              "\n",
              "    .colab-df-convert {\n",
              "      background-color: #E8F0FE;\n",
              "      border: none;\n",
              "      border-radius: 50%;\n",
              "      cursor: pointer;\n",
              "      display: none;\n",
              "      fill: #1967D2;\n",
              "      height: 32px;\n",
              "      padding: 0 0 0 0;\n",
              "      width: 32px;\n",
              "    }\n",
              "\n",
              "    .colab-df-convert:hover {\n",
              "      background-color: #E2EBFA;\n",
              "      box-shadow: 0px 1px 2px rgba(60, 64, 67, 0.3), 0px 1px 3px 1px rgba(60, 64, 67, 0.15);\n",
              "      fill: #174EA6;\n",
              "    }\n",
              "\n",
              "    [theme=dark] .colab-df-convert {\n",
              "      background-color: #3B4455;\n",
              "      fill: #D2E3FC;\n",
              "    }\n",
              "\n",
              "    [theme=dark] .colab-df-convert:hover {\n",
              "      background-color: #434B5C;\n",
              "      box-shadow: 0px 1px 3px 1px rgba(0, 0, 0, 0.15);\n",
              "      filter: drop-shadow(0px 1px 2px rgba(0, 0, 0, 0.3));\n",
              "      fill: #FFFFFF;\n",
              "    }\n",
              "  </style>\n",
              "\n",
              "      <script>\n",
              "        const buttonEl =\n",
              "          document.querySelector('#df-7c2fa3e2-5aa3-4e8e-8722-38d181285c85 button.colab-df-convert');\n",
              "        buttonEl.style.display =\n",
              "          google.colab.kernel.accessAllowed ? 'block' : 'none';\n",
              "\n",
              "        async function convertToInteractive(key) {\n",
              "          const element = document.querySelector('#df-7c2fa3e2-5aa3-4e8e-8722-38d181285c85');\n",
              "          const dataTable =\n",
              "            await google.colab.kernel.invokeFunction('convertToInteractive',\n",
              "                                                     [key], {});\n",
              "          if (!dataTable) return;\n",
              "\n",
              "          const docLinkHtml = 'Like what you see? Visit the ' +\n",
              "            '<a target=\"_blank\" href=https://colab.research.google.com/notebooks/data_table.ipynb>data table notebook</a>'\n",
              "            + ' to learn more about interactive tables.';\n",
              "          element.innerHTML = '';\n",
              "          dataTable['output_type'] = 'display_data';\n",
              "          await google.colab.output.renderOutput(dataTable, element);\n",
              "          const docLink = document.createElement('div');\n",
              "          docLink.innerHTML = docLinkHtml;\n",
              "          element.appendChild(docLink);\n",
              "        }\n",
              "      </script>\n",
              "    </div>\n",
              "  </div>\n",
              "  "
            ]
          },
          "metadata": {},
          "execution_count": 94
        }
      ]
    },
    {
      "cell_type": "code",
      "source": [
        "count_ratings=merged_dataset.groupby('Book-Title')['Book-Rating'].count().reset_index()"
      ],
      "metadata": {
        "id": "L5oPOKOrEmGm"
      },
      "execution_count": 95,
      "outputs": []
    },
    {
      "cell_type": "code",
      "source": [
        "count_ratings.rename(columns={'Book-Rating':'count_ratings'},inplace=True)"
      ],
      "metadata": {
        "id": "C0vTeETkFb_G"
      },
      "execution_count": 96,
      "outputs": []
    },
    {
      "cell_type": "code",
      "source": [
        "count_ratings.head(3)"
      ],
      "metadata": {
        "colab": {
          "base_uri": "https://localhost:8080/",
          "height": 143
        },
        "id": "EixP7UT0IJjr",
        "outputId": "fc57e97e-ea99-4408-b87b-4539ebeffeae"
      },
      "execution_count": 97,
      "outputs": [
        {
          "output_type": "execute_result",
          "data": {
            "text/plain": [
              "                                          Book-Title  count_ratings\n",
              "0   A Light in the Storm: The Civil War Diary of ...              4\n",
              "1                              Always Have Popsicles              1\n",
              "2               Apple Magic (The Collector's series)              1"
            ],
            "text/html": [
              "\n",
              "  <div id=\"df-83ece8b7-003c-43cf-a825-027cd634d514\">\n",
              "    <div class=\"colab-df-container\">\n",
              "      <div>\n",
              "<style scoped>\n",
              "    .dataframe tbody tr th:only-of-type {\n",
              "        vertical-align: middle;\n",
              "    }\n",
              "\n",
              "    .dataframe tbody tr th {\n",
              "        vertical-align: top;\n",
              "    }\n",
              "\n",
              "    .dataframe thead th {\n",
              "        text-align: right;\n",
              "    }\n",
              "</style>\n",
              "<table border=\"1\" class=\"dataframe\">\n",
              "  <thead>\n",
              "    <tr style=\"text-align: right;\">\n",
              "      <th></th>\n",
              "      <th>Book-Title</th>\n",
              "      <th>count_ratings</th>\n",
              "    </tr>\n",
              "  </thead>\n",
              "  <tbody>\n",
              "    <tr>\n",
              "      <th>0</th>\n",
              "      <td>A Light in the Storm: The Civil War Diary of ...</td>\n",
              "      <td>4</td>\n",
              "    </tr>\n",
              "    <tr>\n",
              "      <th>1</th>\n",
              "      <td>Always Have Popsicles</td>\n",
              "      <td>1</td>\n",
              "    </tr>\n",
              "    <tr>\n",
              "      <th>2</th>\n",
              "      <td>Apple Magic (The Collector's series)</td>\n",
              "      <td>1</td>\n",
              "    </tr>\n",
              "  </tbody>\n",
              "</table>\n",
              "</div>\n",
              "      <button class=\"colab-df-convert\" onclick=\"convertToInteractive('df-83ece8b7-003c-43cf-a825-027cd634d514')\"\n",
              "              title=\"Convert this dataframe to an interactive table.\"\n",
              "              style=\"display:none;\">\n",
              "        \n",
              "  <svg xmlns=\"http://www.w3.org/2000/svg\" height=\"24px\"viewBox=\"0 0 24 24\"\n",
              "       width=\"24px\">\n",
              "    <path d=\"M0 0h24v24H0V0z\" fill=\"none\"/>\n",
              "    <path d=\"M18.56 5.44l.94 2.06.94-2.06 2.06-.94-2.06-.94-.94-2.06-.94 2.06-2.06.94zm-11 1L8.5 8.5l.94-2.06 2.06-.94-2.06-.94L8.5 2.5l-.94 2.06-2.06.94zm10 10l.94 2.06.94-2.06 2.06-.94-2.06-.94-.94-2.06-.94 2.06-2.06.94z\"/><path d=\"M17.41 7.96l-1.37-1.37c-.4-.4-.92-.59-1.43-.59-.52 0-1.04.2-1.43.59L10.3 9.45l-7.72 7.72c-.78.78-.78 2.05 0 2.83L4 21.41c.39.39.9.59 1.41.59.51 0 1.02-.2 1.41-.59l7.78-7.78 2.81-2.81c.8-.78.8-2.07 0-2.86zM5.41 20L4 18.59l7.72-7.72 1.47 1.35L5.41 20z\"/>\n",
              "  </svg>\n",
              "      </button>\n",
              "      \n",
              "  <style>\n",
              "    .colab-df-container {\n",
              "      display:flex;\n",
              "      flex-wrap:wrap;\n",
              "      gap: 12px;\n",
              "    }\n",
              "\n",
              "    .colab-df-convert {\n",
              "      background-color: #E8F0FE;\n",
              "      border: none;\n",
              "      border-radius: 50%;\n",
              "      cursor: pointer;\n",
              "      display: none;\n",
              "      fill: #1967D2;\n",
              "      height: 32px;\n",
              "      padding: 0 0 0 0;\n",
              "      width: 32px;\n",
              "    }\n",
              "\n",
              "    .colab-df-convert:hover {\n",
              "      background-color: #E2EBFA;\n",
              "      box-shadow: 0px 1px 2px rgba(60, 64, 67, 0.3), 0px 1px 3px 1px rgba(60, 64, 67, 0.15);\n",
              "      fill: #174EA6;\n",
              "    }\n",
              "\n",
              "    [theme=dark] .colab-df-convert {\n",
              "      background-color: #3B4455;\n",
              "      fill: #D2E3FC;\n",
              "    }\n",
              "\n",
              "    [theme=dark] .colab-df-convert:hover {\n",
              "      background-color: #434B5C;\n",
              "      box-shadow: 0px 1px 3px 1px rgba(0, 0, 0, 0.15);\n",
              "      filter: drop-shadow(0px 1px 2px rgba(0, 0, 0, 0.3));\n",
              "      fill: #FFFFFF;\n",
              "    }\n",
              "  </style>\n",
              "\n",
              "      <script>\n",
              "        const buttonEl =\n",
              "          document.querySelector('#df-83ece8b7-003c-43cf-a825-027cd634d514 button.colab-df-convert');\n",
              "        buttonEl.style.display =\n",
              "          google.colab.kernel.accessAllowed ? 'block' : 'none';\n",
              "\n",
              "        async function convertToInteractive(key) {\n",
              "          const element = document.querySelector('#df-83ece8b7-003c-43cf-a825-027cd634d514');\n",
              "          const dataTable =\n",
              "            await google.colab.kernel.invokeFunction('convertToInteractive',\n",
              "                                                     [key], {});\n",
              "          if (!dataTable) return;\n",
              "\n",
              "          const docLinkHtml = 'Like what you see? Visit the ' +\n",
              "            '<a target=\"_blank\" href=https://colab.research.google.com/notebooks/data_table.ipynb>data table notebook</a>'\n",
              "            + ' to learn more about interactive tables.';\n",
              "          element.innerHTML = '';\n",
              "          dataTable['output_type'] = 'display_data';\n",
              "          await google.colab.output.renderOutput(dataTable, element);\n",
              "          const docLink = document.createElement('div');\n",
              "          docLink.innerHTML = docLinkHtml;\n",
              "          element.appendChild(docLink);\n",
              "        }\n",
              "      </script>\n",
              "    </div>\n",
              "  </div>\n",
              "  "
            ]
          },
          "metadata": {},
          "execution_count": 97
        }
      ]
    },
    {
      "cell_type": "code",
      "source": [
        "mean_rating=merged_dataset.groupby('Book-Title')['Book-Rating'].mean().reset_index()"
      ],
      "metadata": {
        "id": "EoYjVm0gHk6v"
      },
      "execution_count": 98,
      "outputs": []
    },
    {
      "cell_type": "code",
      "source": [
        "mean_rating.rename(columns={'Book-Rating':'mean_ratings'},inplace=True)"
      ],
      "metadata": {
        "id": "zgrWaxqtHyAQ"
      },
      "execution_count": 99,
      "outputs": []
    },
    {
      "cell_type": "code",
      "source": [
        "mean_rating.head(3)"
      ],
      "metadata": {
        "colab": {
          "base_uri": "https://localhost:8080/",
          "height": 143
        },
        "id": "Ah_dGeEIH5Q6",
        "outputId": "f1666236-edd9-4bd8-9c8d-ac12c5e95777"
      },
      "execution_count": 100,
      "outputs": [
        {
          "output_type": "execute_result",
          "data": {
            "text/plain": [
              "                                          Book-Title  mean_ratings\n",
              "0   A Light in the Storm: The Civil War Diary of ...          2.25\n",
              "1                              Always Have Popsicles          0.00\n",
              "2               Apple Magic (The Collector's series)          0.00"
            ],
            "text/html": [
              "\n",
              "  <div id=\"df-58de4f2f-3594-48f4-9ae2-da0888f6a55c\">\n",
              "    <div class=\"colab-df-container\">\n",
              "      <div>\n",
              "<style scoped>\n",
              "    .dataframe tbody tr th:only-of-type {\n",
              "        vertical-align: middle;\n",
              "    }\n",
              "\n",
              "    .dataframe tbody tr th {\n",
              "        vertical-align: top;\n",
              "    }\n",
              "\n",
              "    .dataframe thead th {\n",
              "        text-align: right;\n",
              "    }\n",
              "</style>\n",
              "<table border=\"1\" class=\"dataframe\">\n",
              "  <thead>\n",
              "    <tr style=\"text-align: right;\">\n",
              "      <th></th>\n",
              "      <th>Book-Title</th>\n",
              "      <th>mean_ratings</th>\n",
              "    </tr>\n",
              "  </thead>\n",
              "  <tbody>\n",
              "    <tr>\n",
              "      <th>0</th>\n",
              "      <td>A Light in the Storm: The Civil War Diary of ...</td>\n",
              "      <td>2.25</td>\n",
              "    </tr>\n",
              "    <tr>\n",
              "      <th>1</th>\n",
              "      <td>Always Have Popsicles</td>\n",
              "      <td>0.00</td>\n",
              "    </tr>\n",
              "    <tr>\n",
              "      <th>2</th>\n",
              "      <td>Apple Magic (The Collector's series)</td>\n",
              "      <td>0.00</td>\n",
              "    </tr>\n",
              "  </tbody>\n",
              "</table>\n",
              "</div>\n",
              "      <button class=\"colab-df-convert\" onclick=\"convertToInteractive('df-58de4f2f-3594-48f4-9ae2-da0888f6a55c')\"\n",
              "              title=\"Convert this dataframe to an interactive table.\"\n",
              "              style=\"display:none;\">\n",
              "        \n",
              "  <svg xmlns=\"http://www.w3.org/2000/svg\" height=\"24px\"viewBox=\"0 0 24 24\"\n",
              "       width=\"24px\">\n",
              "    <path d=\"M0 0h24v24H0V0z\" fill=\"none\"/>\n",
              "    <path d=\"M18.56 5.44l.94 2.06.94-2.06 2.06-.94-2.06-.94-.94-2.06-.94 2.06-2.06.94zm-11 1L8.5 8.5l.94-2.06 2.06-.94-2.06-.94L8.5 2.5l-.94 2.06-2.06.94zm10 10l.94 2.06.94-2.06 2.06-.94-2.06-.94-.94-2.06-.94 2.06-2.06.94z\"/><path d=\"M17.41 7.96l-1.37-1.37c-.4-.4-.92-.59-1.43-.59-.52 0-1.04.2-1.43.59L10.3 9.45l-7.72 7.72c-.78.78-.78 2.05 0 2.83L4 21.41c.39.39.9.59 1.41.59.51 0 1.02-.2 1.41-.59l7.78-7.78 2.81-2.81c.8-.78.8-2.07 0-2.86zM5.41 20L4 18.59l7.72-7.72 1.47 1.35L5.41 20z\"/>\n",
              "  </svg>\n",
              "      </button>\n",
              "      \n",
              "  <style>\n",
              "    .colab-df-container {\n",
              "      display:flex;\n",
              "      flex-wrap:wrap;\n",
              "      gap: 12px;\n",
              "    }\n",
              "\n",
              "    .colab-df-convert {\n",
              "      background-color: #E8F0FE;\n",
              "      border: none;\n",
              "      border-radius: 50%;\n",
              "      cursor: pointer;\n",
              "      display: none;\n",
              "      fill: #1967D2;\n",
              "      height: 32px;\n",
              "      padding: 0 0 0 0;\n",
              "      width: 32px;\n",
              "    }\n",
              "\n",
              "    .colab-df-convert:hover {\n",
              "      background-color: #E2EBFA;\n",
              "      box-shadow: 0px 1px 2px rgba(60, 64, 67, 0.3), 0px 1px 3px 1px rgba(60, 64, 67, 0.15);\n",
              "      fill: #174EA6;\n",
              "    }\n",
              "\n",
              "    [theme=dark] .colab-df-convert {\n",
              "      background-color: #3B4455;\n",
              "      fill: #D2E3FC;\n",
              "    }\n",
              "\n",
              "    [theme=dark] .colab-df-convert:hover {\n",
              "      background-color: #434B5C;\n",
              "      box-shadow: 0px 1px 3px 1px rgba(0, 0, 0, 0.15);\n",
              "      filter: drop-shadow(0px 1px 2px rgba(0, 0, 0, 0.3));\n",
              "      fill: #FFFFFF;\n",
              "    }\n",
              "  </style>\n",
              "\n",
              "      <script>\n",
              "        const buttonEl =\n",
              "          document.querySelector('#df-58de4f2f-3594-48f4-9ae2-da0888f6a55c button.colab-df-convert');\n",
              "        buttonEl.style.display =\n",
              "          google.colab.kernel.accessAllowed ? 'block' : 'none';\n",
              "\n",
              "        async function convertToInteractive(key) {\n",
              "          const element = document.querySelector('#df-58de4f2f-3594-48f4-9ae2-da0888f6a55c');\n",
              "          const dataTable =\n",
              "            await google.colab.kernel.invokeFunction('convertToInteractive',\n",
              "                                                     [key], {});\n",
              "          if (!dataTable) return;\n",
              "\n",
              "          const docLinkHtml = 'Like what you see? Visit the ' +\n",
              "            '<a target=\"_blank\" href=https://colab.research.google.com/notebooks/data_table.ipynb>data table notebook</a>'\n",
              "            + ' to learn more about interactive tables.';\n",
              "          element.innerHTML = '';\n",
              "          dataTable['output_type'] = 'display_data';\n",
              "          await google.colab.output.renderOutput(dataTable, element);\n",
              "          const docLink = document.createElement('div');\n",
              "          docLink.innerHTML = docLinkHtml;\n",
              "          element.appendChild(docLink);\n",
              "        }\n",
              "      </script>\n",
              "    </div>\n",
              "  </div>\n",
              "  "
            ]
          },
          "metadata": {},
          "execution_count": 100
        }
      ]
    },
    {
      "cell_type": "code",
      "source": [
        "book_mean_rating=pd.merge(count_ratings,mean_rating, on='Book-Title', how='inner')"
      ],
      "metadata": {
        "id": "pKx_FtVkIN6h"
      },
      "execution_count": 101,
      "outputs": []
    },
    {
      "cell_type": "code",
      "source": [
        "popular_books=book_mean_rating[book_mean_rating['count_ratings']>=150].sort_values('mean_ratings',ascending=False).head(50)\n",
        "popular_books"
      ],
      "metadata": {
        "id": "a-24OfUfIgY_",
        "colab": {
          "base_uri": "https://localhost:8080/",
          "height": 1000
        },
        "outputId": "daff4b94-124d-4488-bcbe-17d80bea53d9"
      },
      "execution_count": 102,
      "outputs": [
        {
          "output_type": "execute_result",
          "data": {
            "text/plain": [
              "                                               Book-Title  count_ratings  \\\n",
              "80434   Harry Potter and the Prisoner of Azkaban (Book 3)            428   \n",
              "80422        Harry Potter and the Goblet of Fire (Book 4)            387   \n",
              "80441      Harry Potter and the Sorcerer's Stone (Book 1)            278   \n",
              "80426   Harry Potter and the Order of the Phoenix (Boo...            347   \n",
              "60582       Ender's Game (Ender Wiggins Saga (Paperback))            249   \n",
              "80414    Harry Potter and the Chamber of Secrets (Book 2)            556   \n",
              "191612  The Hobbit : The Enchanting Prelude to The Lor...            281   \n",
              "187377  The Fellowship of the Ring (The Lord of the Ri...            368   \n",
              "189274                 The Giver (21st Century Reference)            179   \n",
              "94259        Ishmael: An Adventure of the Mind and Spirit            162   \n",
              "80445   Harry Potter and the Sorcerer's Stone (Harry P...            575   \n",
              "211384     The Two Towers (The Lord of the Rings, Part 2)            260   \n",
              "200913                              The Other Boleyn Girl            159   \n",
              "219741                              To Kill a Mockingbird            510   \n",
              "183573                                  The Da Vinci Code            898   \n",
              "160107                                         Siddhartha            172   \n",
              "187880                 The Five People You Meet in Heaven            430   \n",
              "7742                                    A Wrinkle In Time            158   \n",
              "180556                             The Catcher in the Rye            449   \n",
              "204672  The Return of the King (The Lord of the Rings,...            211   \n",
              "55014                                  Dragonfly in Amber            151   \n",
              "196326                          The Lovely Bones: A Novel           1295   \n",
              "190081                                   The Great Gatsby            205   \n",
              "764                                                  1984            284   \n",
              "144165                           Prodigal Summer: A Novel            253   \n",
              "128670                                         Neverwhere            265   \n",
              "206502                            The Secret Life of Bees            774   \n",
              "168719  Stupid White Men ...and Other Sorry Excuses fo...            283   \n",
              "223135  Tuesdays with Morrie: An Old Man, a Young Man,...            493   \n",
              "204387                The Red Tent (Bestselling Backlist)            723   \n",
              "27295                                     Brave New World            226   \n",
              "239022                                    Year of Wonders            169   \n",
              "191589               The Hitchhiker's Guide to the Galaxy            268   \n",
              "39675                                            Coraline            183   \n",
              "118982                             Memoirs of a Geisha Uk            163   \n",
              "7743                                    A Wrinkle in Time            192   \n",
              "129379   Nickel and Dimed: On (Not) Getting By in America            335   \n",
              "209778                                    The Tao of Pooh            211   \n",
              "14607                                         Animal Farm            233   \n",
              "93381                                       Into the Wild            252   \n",
              "84480                            Holes (Yearling Newbery)            154   \n",
              "55986                           Dude, Where's My Country?            178   \n",
              "63867                                      Fahrenheit 451            409   \n",
              "76287                                          Good Omens            168   \n",
              "7373    A Walk in the Woods: Rediscovering America on ...            205   \n",
              "74750                           Girl with a Pearl Earring            526   \n",
              "129444                                              Night            202   \n",
              "136145                                          Outlander            283   \n",
              "127366                                              Naked            196   \n",
              "185338  The Drawing of the Three (The Dark Tower, Book 2)            179   \n",
              "\n",
              "        mean_ratings  \n",
              "80434       5.852804  \n",
              "80422       5.824289  \n",
              "80441       5.737410  \n",
              "80426       5.501441  \n",
              "60582       5.409639  \n",
              "80414       5.183453  \n",
              "191612      5.007117  \n",
              "187377      4.948370  \n",
              "189274      4.916201  \n",
              "94259       4.907407  \n",
              "80445       4.895652  \n",
              "211384      4.880769  \n",
              "200913      4.761006  \n",
              "219741      4.700000  \n",
              "183573      4.642539  \n",
              "160107      4.563953  \n",
              "187880      4.551163  \n",
              "7742        4.550633  \n",
              "180556      4.545657  \n",
              "204672      4.497630  \n",
              "55014       4.476821  \n",
              "196326      4.468726  \n",
              "190081      4.458537  \n",
              "764         4.454225  \n",
              "144165      4.450593  \n",
              "128670      4.449057  \n",
              "206502      4.447028  \n",
              "168719      4.356890  \n",
              "223135      4.354970  \n",
              "204387      4.334716  \n",
              "27295       4.331858  \n",
              "239022      4.331361  \n",
              "191589      4.328358  \n",
              "39675       4.327869  \n",
              "118982      4.312883  \n",
              "7743        4.307292  \n",
              "129379      4.289552  \n",
              "209778      4.289100  \n",
              "14607       4.274678  \n",
              "93381       4.273810  \n",
              "84480       4.272727  \n",
              "55986       4.269663  \n",
              "63867       4.264059  \n",
              "76287       4.244048  \n",
              "7373        4.243902  \n",
              "74750       4.218631  \n",
              "129444      4.217822  \n",
              "136145      4.173145  \n",
              "127366      4.158163  \n",
              "185338      4.134078  "
            ],
            "text/html": [
              "\n",
              "  <div id=\"df-499d2e9d-da50-420b-8ba8-fe3c366b40ff\">\n",
              "    <div class=\"colab-df-container\">\n",
              "      <div>\n",
              "<style scoped>\n",
              "    .dataframe tbody tr th:only-of-type {\n",
              "        vertical-align: middle;\n",
              "    }\n",
              "\n",
              "    .dataframe tbody tr th {\n",
              "        vertical-align: top;\n",
              "    }\n",
              "\n",
              "    .dataframe thead th {\n",
              "        text-align: right;\n",
              "    }\n",
              "</style>\n",
              "<table border=\"1\" class=\"dataframe\">\n",
              "  <thead>\n",
              "    <tr style=\"text-align: right;\">\n",
              "      <th></th>\n",
              "      <th>Book-Title</th>\n",
              "      <th>count_ratings</th>\n",
              "      <th>mean_ratings</th>\n",
              "    </tr>\n",
              "  </thead>\n",
              "  <tbody>\n",
              "    <tr>\n",
              "      <th>80434</th>\n",
              "      <td>Harry Potter and the Prisoner of Azkaban (Book 3)</td>\n",
              "      <td>428</td>\n",
              "      <td>5.852804</td>\n",
              "    </tr>\n",
              "    <tr>\n",
              "      <th>80422</th>\n",
              "      <td>Harry Potter and the Goblet of Fire (Book 4)</td>\n",
              "      <td>387</td>\n",
              "      <td>5.824289</td>\n",
              "    </tr>\n",
              "    <tr>\n",
              "      <th>80441</th>\n",
              "      <td>Harry Potter and the Sorcerer's Stone (Book 1)</td>\n",
              "      <td>278</td>\n",
              "      <td>5.737410</td>\n",
              "    </tr>\n",
              "    <tr>\n",
              "      <th>80426</th>\n",
              "      <td>Harry Potter and the Order of the Phoenix (Boo...</td>\n",
              "      <td>347</td>\n",
              "      <td>5.501441</td>\n",
              "    </tr>\n",
              "    <tr>\n",
              "      <th>60582</th>\n",
              "      <td>Ender's Game (Ender Wiggins Saga (Paperback))</td>\n",
              "      <td>249</td>\n",
              "      <td>5.409639</td>\n",
              "    </tr>\n",
              "    <tr>\n",
              "      <th>80414</th>\n",
              "      <td>Harry Potter and the Chamber of Secrets (Book 2)</td>\n",
              "      <td>556</td>\n",
              "      <td>5.183453</td>\n",
              "    </tr>\n",
              "    <tr>\n",
              "      <th>191612</th>\n",
              "      <td>The Hobbit : The Enchanting Prelude to The Lor...</td>\n",
              "      <td>281</td>\n",
              "      <td>5.007117</td>\n",
              "    </tr>\n",
              "    <tr>\n",
              "      <th>187377</th>\n",
              "      <td>The Fellowship of the Ring (The Lord of the Ri...</td>\n",
              "      <td>368</td>\n",
              "      <td>4.948370</td>\n",
              "    </tr>\n",
              "    <tr>\n",
              "      <th>189274</th>\n",
              "      <td>The Giver (21st Century Reference)</td>\n",
              "      <td>179</td>\n",
              "      <td>4.916201</td>\n",
              "    </tr>\n",
              "    <tr>\n",
              "      <th>94259</th>\n",
              "      <td>Ishmael: An Adventure of the Mind and Spirit</td>\n",
              "      <td>162</td>\n",
              "      <td>4.907407</td>\n",
              "    </tr>\n",
              "    <tr>\n",
              "      <th>80445</th>\n",
              "      <td>Harry Potter and the Sorcerer's Stone (Harry P...</td>\n",
              "      <td>575</td>\n",
              "      <td>4.895652</td>\n",
              "    </tr>\n",
              "    <tr>\n",
              "      <th>211384</th>\n",
              "      <td>The Two Towers (The Lord of the Rings, Part 2)</td>\n",
              "      <td>260</td>\n",
              "      <td>4.880769</td>\n",
              "    </tr>\n",
              "    <tr>\n",
              "      <th>200913</th>\n",
              "      <td>The Other Boleyn Girl</td>\n",
              "      <td>159</td>\n",
              "      <td>4.761006</td>\n",
              "    </tr>\n",
              "    <tr>\n",
              "      <th>219741</th>\n",
              "      <td>To Kill a Mockingbird</td>\n",
              "      <td>510</td>\n",
              "      <td>4.700000</td>\n",
              "    </tr>\n",
              "    <tr>\n",
              "      <th>183573</th>\n",
              "      <td>The Da Vinci Code</td>\n",
              "      <td>898</td>\n",
              "      <td>4.642539</td>\n",
              "    </tr>\n",
              "    <tr>\n",
              "      <th>160107</th>\n",
              "      <td>Siddhartha</td>\n",
              "      <td>172</td>\n",
              "      <td>4.563953</td>\n",
              "    </tr>\n",
              "    <tr>\n",
              "      <th>187880</th>\n",
              "      <td>The Five People You Meet in Heaven</td>\n",
              "      <td>430</td>\n",
              "      <td>4.551163</td>\n",
              "    </tr>\n",
              "    <tr>\n",
              "      <th>7742</th>\n",
              "      <td>A Wrinkle In Time</td>\n",
              "      <td>158</td>\n",
              "      <td>4.550633</td>\n",
              "    </tr>\n",
              "    <tr>\n",
              "      <th>180556</th>\n",
              "      <td>The Catcher in the Rye</td>\n",
              "      <td>449</td>\n",
              "      <td>4.545657</td>\n",
              "    </tr>\n",
              "    <tr>\n",
              "      <th>204672</th>\n",
              "      <td>The Return of the King (The Lord of the Rings,...</td>\n",
              "      <td>211</td>\n",
              "      <td>4.497630</td>\n",
              "    </tr>\n",
              "    <tr>\n",
              "      <th>55014</th>\n",
              "      <td>Dragonfly in Amber</td>\n",
              "      <td>151</td>\n",
              "      <td>4.476821</td>\n",
              "    </tr>\n",
              "    <tr>\n",
              "      <th>196326</th>\n",
              "      <td>The Lovely Bones: A Novel</td>\n",
              "      <td>1295</td>\n",
              "      <td>4.468726</td>\n",
              "    </tr>\n",
              "    <tr>\n",
              "      <th>190081</th>\n",
              "      <td>The Great Gatsby</td>\n",
              "      <td>205</td>\n",
              "      <td>4.458537</td>\n",
              "    </tr>\n",
              "    <tr>\n",
              "      <th>764</th>\n",
              "      <td>1984</td>\n",
              "      <td>284</td>\n",
              "      <td>4.454225</td>\n",
              "    </tr>\n",
              "    <tr>\n",
              "      <th>144165</th>\n",
              "      <td>Prodigal Summer: A Novel</td>\n",
              "      <td>253</td>\n",
              "      <td>4.450593</td>\n",
              "    </tr>\n",
              "    <tr>\n",
              "      <th>128670</th>\n",
              "      <td>Neverwhere</td>\n",
              "      <td>265</td>\n",
              "      <td>4.449057</td>\n",
              "    </tr>\n",
              "    <tr>\n",
              "      <th>206502</th>\n",
              "      <td>The Secret Life of Bees</td>\n",
              "      <td>774</td>\n",
              "      <td>4.447028</td>\n",
              "    </tr>\n",
              "    <tr>\n",
              "      <th>168719</th>\n",
              "      <td>Stupid White Men ...and Other Sorry Excuses fo...</td>\n",
              "      <td>283</td>\n",
              "      <td>4.356890</td>\n",
              "    </tr>\n",
              "    <tr>\n",
              "      <th>223135</th>\n",
              "      <td>Tuesdays with Morrie: An Old Man, a Young Man,...</td>\n",
              "      <td>493</td>\n",
              "      <td>4.354970</td>\n",
              "    </tr>\n",
              "    <tr>\n",
              "      <th>204387</th>\n",
              "      <td>The Red Tent (Bestselling Backlist)</td>\n",
              "      <td>723</td>\n",
              "      <td>4.334716</td>\n",
              "    </tr>\n",
              "    <tr>\n",
              "      <th>27295</th>\n",
              "      <td>Brave New World</td>\n",
              "      <td>226</td>\n",
              "      <td>4.331858</td>\n",
              "    </tr>\n",
              "    <tr>\n",
              "      <th>239022</th>\n",
              "      <td>Year of Wonders</td>\n",
              "      <td>169</td>\n",
              "      <td>4.331361</td>\n",
              "    </tr>\n",
              "    <tr>\n",
              "      <th>191589</th>\n",
              "      <td>The Hitchhiker's Guide to the Galaxy</td>\n",
              "      <td>268</td>\n",
              "      <td>4.328358</td>\n",
              "    </tr>\n",
              "    <tr>\n",
              "      <th>39675</th>\n",
              "      <td>Coraline</td>\n",
              "      <td>183</td>\n",
              "      <td>4.327869</td>\n",
              "    </tr>\n",
              "    <tr>\n",
              "      <th>118982</th>\n",
              "      <td>Memoirs of a Geisha Uk</td>\n",
              "      <td>163</td>\n",
              "      <td>4.312883</td>\n",
              "    </tr>\n",
              "    <tr>\n",
              "      <th>7743</th>\n",
              "      <td>A Wrinkle in Time</td>\n",
              "      <td>192</td>\n",
              "      <td>4.307292</td>\n",
              "    </tr>\n",
              "    <tr>\n",
              "      <th>129379</th>\n",
              "      <td>Nickel and Dimed: On (Not) Getting By in America</td>\n",
              "      <td>335</td>\n",
              "      <td>4.289552</td>\n",
              "    </tr>\n",
              "    <tr>\n",
              "      <th>209778</th>\n",
              "      <td>The Tao of Pooh</td>\n",
              "      <td>211</td>\n",
              "      <td>4.289100</td>\n",
              "    </tr>\n",
              "    <tr>\n",
              "      <th>14607</th>\n",
              "      <td>Animal Farm</td>\n",
              "      <td>233</td>\n",
              "      <td>4.274678</td>\n",
              "    </tr>\n",
              "    <tr>\n",
              "      <th>93381</th>\n",
              "      <td>Into the Wild</td>\n",
              "      <td>252</td>\n",
              "      <td>4.273810</td>\n",
              "    </tr>\n",
              "    <tr>\n",
              "      <th>84480</th>\n",
              "      <td>Holes (Yearling Newbery)</td>\n",
              "      <td>154</td>\n",
              "      <td>4.272727</td>\n",
              "    </tr>\n",
              "    <tr>\n",
              "      <th>55986</th>\n",
              "      <td>Dude, Where's My Country?</td>\n",
              "      <td>178</td>\n",
              "      <td>4.269663</td>\n",
              "    </tr>\n",
              "    <tr>\n",
              "      <th>63867</th>\n",
              "      <td>Fahrenheit 451</td>\n",
              "      <td>409</td>\n",
              "      <td>4.264059</td>\n",
              "    </tr>\n",
              "    <tr>\n",
              "      <th>76287</th>\n",
              "      <td>Good Omens</td>\n",
              "      <td>168</td>\n",
              "      <td>4.244048</td>\n",
              "    </tr>\n",
              "    <tr>\n",
              "      <th>7373</th>\n",
              "      <td>A Walk in the Woods: Rediscovering America on ...</td>\n",
              "      <td>205</td>\n",
              "      <td>4.243902</td>\n",
              "    </tr>\n",
              "    <tr>\n",
              "      <th>74750</th>\n",
              "      <td>Girl with a Pearl Earring</td>\n",
              "      <td>526</td>\n",
              "      <td>4.218631</td>\n",
              "    </tr>\n",
              "    <tr>\n",
              "      <th>129444</th>\n",
              "      <td>Night</td>\n",
              "      <td>202</td>\n",
              "      <td>4.217822</td>\n",
              "    </tr>\n",
              "    <tr>\n",
              "      <th>136145</th>\n",
              "      <td>Outlander</td>\n",
              "      <td>283</td>\n",
              "      <td>4.173145</td>\n",
              "    </tr>\n",
              "    <tr>\n",
              "      <th>127366</th>\n",
              "      <td>Naked</td>\n",
              "      <td>196</td>\n",
              "      <td>4.158163</td>\n",
              "    </tr>\n",
              "    <tr>\n",
              "      <th>185338</th>\n",
              "      <td>The Drawing of the Three (The Dark Tower, Book 2)</td>\n",
              "      <td>179</td>\n",
              "      <td>4.134078</td>\n",
              "    </tr>\n",
              "  </tbody>\n",
              "</table>\n",
              "</div>\n",
              "      <button class=\"colab-df-convert\" onclick=\"convertToInteractive('df-499d2e9d-da50-420b-8ba8-fe3c366b40ff')\"\n",
              "              title=\"Convert this dataframe to an interactive table.\"\n",
              "              style=\"display:none;\">\n",
              "        \n",
              "  <svg xmlns=\"http://www.w3.org/2000/svg\" height=\"24px\"viewBox=\"0 0 24 24\"\n",
              "       width=\"24px\">\n",
              "    <path d=\"M0 0h24v24H0V0z\" fill=\"none\"/>\n",
              "    <path d=\"M18.56 5.44l.94 2.06.94-2.06 2.06-.94-2.06-.94-.94-2.06-.94 2.06-2.06.94zm-11 1L8.5 8.5l.94-2.06 2.06-.94-2.06-.94L8.5 2.5l-.94 2.06-2.06.94zm10 10l.94 2.06.94-2.06 2.06-.94-2.06-.94-.94-2.06-.94 2.06-2.06.94z\"/><path d=\"M17.41 7.96l-1.37-1.37c-.4-.4-.92-.59-1.43-.59-.52 0-1.04.2-1.43.59L10.3 9.45l-7.72 7.72c-.78.78-.78 2.05 0 2.83L4 21.41c.39.39.9.59 1.41.59.51 0 1.02-.2 1.41-.59l7.78-7.78 2.81-2.81c.8-.78.8-2.07 0-2.86zM5.41 20L4 18.59l7.72-7.72 1.47 1.35L5.41 20z\"/>\n",
              "  </svg>\n",
              "      </button>\n",
              "      \n",
              "  <style>\n",
              "    .colab-df-container {\n",
              "      display:flex;\n",
              "      flex-wrap:wrap;\n",
              "      gap: 12px;\n",
              "    }\n",
              "\n",
              "    .colab-df-convert {\n",
              "      background-color: #E8F0FE;\n",
              "      border: none;\n",
              "      border-radius: 50%;\n",
              "      cursor: pointer;\n",
              "      display: none;\n",
              "      fill: #1967D2;\n",
              "      height: 32px;\n",
              "      padding: 0 0 0 0;\n",
              "      width: 32px;\n",
              "    }\n",
              "\n",
              "    .colab-df-convert:hover {\n",
              "      background-color: #E2EBFA;\n",
              "      box-shadow: 0px 1px 2px rgba(60, 64, 67, 0.3), 0px 1px 3px 1px rgba(60, 64, 67, 0.15);\n",
              "      fill: #174EA6;\n",
              "    }\n",
              "\n",
              "    [theme=dark] .colab-df-convert {\n",
              "      background-color: #3B4455;\n",
              "      fill: #D2E3FC;\n",
              "    }\n",
              "\n",
              "    [theme=dark] .colab-df-convert:hover {\n",
              "      background-color: #434B5C;\n",
              "      box-shadow: 0px 1px 3px 1px rgba(0, 0, 0, 0.15);\n",
              "      filter: drop-shadow(0px 1px 2px rgba(0, 0, 0, 0.3));\n",
              "      fill: #FFFFFF;\n",
              "    }\n",
              "  </style>\n",
              "\n",
              "      <script>\n",
              "        const buttonEl =\n",
              "          document.querySelector('#df-499d2e9d-da50-420b-8ba8-fe3c366b40ff button.colab-df-convert');\n",
              "        buttonEl.style.display =\n",
              "          google.colab.kernel.accessAllowed ? 'block' : 'none';\n",
              "\n",
              "        async function convertToInteractive(key) {\n",
              "          const element = document.querySelector('#df-499d2e9d-da50-420b-8ba8-fe3c366b40ff');\n",
              "          const dataTable =\n",
              "            await google.colab.kernel.invokeFunction('convertToInteractive',\n",
              "                                                     [key], {});\n",
              "          if (!dataTable) return;\n",
              "\n",
              "          const docLinkHtml = 'Like what you see? Visit the ' +\n",
              "            '<a target=\"_blank\" href=https://colab.research.google.com/notebooks/data_table.ipynb>data table notebook</a>'\n",
              "            + ' to learn more about interactive tables.';\n",
              "          element.innerHTML = '';\n",
              "          dataTable['output_type'] = 'display_data';\n",
              "          await google.colab.output.renderOutput(dataTable, element);\n",
              "          const docLink = document.createElement('div');\n",
              "          docLink.innerHTML = docLinkHtml;\n",
              "          element.appendChild(docLink);\n",
              "        }\n",
              "      </script>\n",
              "    </div>\n",
              "  </div>\n",
              "  "
            ]
          },
          "metadata": {},
          "execution_count": 102
        }
      ]
    },
    {
      "cell_type": "code",
      "source": [
        "popular_books = popular_books.merge(books_df,on='Book-Title').drop_duplicates('Book-Title')\n",
        "popular_books=popular_books[['Book-Title','Book-Author','Image-URL-M','count_ratings','mean_ratings']]"
      ],
      "metadata": {
        "id": "DpV9PBZmio4Z"
      },
      "execution_count": 103,
      "outputs": []
    },
    {
      "cell_type": "code",
      "source": [
        "popular_books.head(3)"
      ],
      "metadata": {
        "colab": {
          "base_uri": "https://localhost:8080/",
          "height": 143
        },
        "id": "i3LvwB7ljz4X",
        "outputId": "ce6f9741-40f4-42a3-d8c2-8fe9392137ae"
      },
      "execution_count": 104,
      "outputs": [
        {
          "output_type": "execute_result",
          "data": {
            "text/plain": [
              "                                          Book-Title    Book-Author  \\\n",
              "0  Harry Potter and the Prisoner of Azkaban (Book 3)  J. K. Rowling   \n",
              "3       Harry Potter and the Goblet of Fire (Book 4)  J. K. Rowling   \n",
              "5     Harry Potter and the Sorcerer's Stone (Book 1)  J. K. Rowling   \n",
              "\n",
              "                                         Image-URL-M  count_ratings  \\\n",
              "0  http://images.amazon.com/images/P/0439136350.0...            428   \n",
              "3  http://images.amazon.com/images/P/0439139597.0...            387   \n",
              "5  http://images.amazon.com/images/P/0590353403.0...            278   \n",
              "\n",
              "   mean_ratings  \n",
              "0      5.852804  \n",
              "3      5.824289  \n",
              "5      5.737410  "
            ],
            "text/html": [
              "\n",
              "  <div id=\"df-0155c8b2-46c9-4f5b-8da5-619602e16139\">\n",
              "    <div class=\"colab-df-container\">\n",
              "      <div>\n",
              "<style scoped>\n",
              "    .dataframe tbody tr th:only-of-type {\n",
              "        vertical-align: middle;\n",
              "    }\n",
              "\n",
              "    .dataframe tbody tr th {\n",
              "        vertical-align: top;\n",
              "    }\n",
              "\n",
              "    .dataframe thead th {\n",
              "        text-align: right;\n",
              "    }\n",
              "</style>\n",
              "<table border=\"1\" class=\"dataframe\">\n",
              "  <thead>\n",
              "    <tr style=\"text-align: right;\">\n",
              "      <th></th>\n",
              "      <th>Book-Title</th>\n",
              "      <th>Book-Author</th>\n",
              "      <th>Image-URL-M</th>\n",
              "      <th>count_ratings</th>\n",
              "      <th>mean_ratings</th>\n",
              "    </tr>\n",
              "  </thead>\n",
              "  <tbody>\n",
              "    <tr>\n",
              "      <th>0</th>\n",
              "      <td>Harry Potter and the Prisoner of Azkaban (Book 3)</td>\n",
              "      <td>J. K. Rowling</td>\n",
              "      <td>http://images.amazon.com/images/P/0439136350.0...</td>\n",
              "      <td>428</td>\n",
              "      <td>5.852804</td>\n",
              "    </tr>\n",
              "    <tr>\n",
              "      <th>3</th>\n",
              "      <td>Harry Potter and the Goblet of Fire (Book 4)</td>\n",
              "      <td>J. K. Rowling</td>\n",
              "      <td>http://images.amazon.com/images/P/0439139597.0...</td>\n",
              "      <td>387</td>\n",
              "      <td>5.824289</td>\n",
              "    </tr>\n",
              "    <tr>\n",
              "      <th>5</th>\n",
              "      <td>Harry Potter and the Sorcerer's Stone (Book 1)</td>\n",
              "      <td>J. K. Rowling</td>\n",
              "      <td>http://images.amazon.com/images/P/0590353403.0...</td>\n",
              "      <td>278</td>\n",
              "      <td>5.737410</td>\n",
              "    </tr>\n",
              "  </tbody>\n",
              "</table>\n",
              "</div>\n",
              "      <button class=\"colab-df-convert\" onclick=\"convertToInteractive('df-0155c8b2-46c9-4f5b-8da5-619602e16139')\"\n",
              "              title=\"Convert this dataframe to an interactive table.\"\n",
              "              style=\"display:none;\">\n",
              "        \n",
              "  <svg xmlns=\"http://www.w3.org/2000/svg\" height=\"24px\"viewBox=\"0 0 24 24\"\n",
              "       width=\"24px\">\n",
              "    <path d=\"M0 0h24v24H0V0z\" fill=\"none\"/>\n",
              "    <path d=\"M18.56 5.44l.94 2.06.94-2.06 2.06-.94-2.06-.94-.94-2.06-.94 2.06-2.06.94zm-11 1L8.5 8.5l.94-2.06 2.06-.94-2.06-.94L8.5 2.5l-.94 2.06-2.06.94zm10 10l.94 2.06.94-2.06 2.06-.94-2.06-.94-.94-2.06-.94 2.06-2.06.94z\"/><path d=\"M17.41 7.96l-1.37-1.37c-.4-.4-.92-.59-1.43-.59-.52 0-1.04.2-1.43.59L10.3 9.45l-7.72 7.72c-.78.78-.78 2.05 0 2.83L4 21.41c.39.39.9.59 1.41.59.51 0 1.02-.2 1.41-.59l7.78-7.78 2.81-2.81c.8-.78.8-2.07 0-2.86zM5.41 20L4 18.59l7.72-7.72 1.47 1.35L5.41 20z\"/>\n",
              "  </svg>\n",
              "      </button>\n",
              "      \n",
              "  <style>\n",
              "    .colab-df-container {\n",
              "      display:flex;\n",
              "      flex-wrap:wrap;\n",
              "      gap: 12px;\n",
              "    }\n",
              "\n",
              "    .colab-df-convert {\n",
              "      background-color: #E8F0FE;\n",
              "      border: none;\n",
              "      border-radius: 50%;\n",
              "      cursor: pointer;\n",
              "      display: none;\n",
              "      fill: #1967D2;\n",
              "      height: 32px;\n",
              "      padding: 0 0 0 0;\n",
              "      width: 32px;\n",
              "    }\n",
              "\n",
              "    .colab-df-convert:hover {\n",
              "      background-color: #E2EBFA;\n",
              "      box-shadow: 0px 1px 2px rgba(60, 64, 67, 0.3), 0px 1px 3px 1px rgba(60, 64, 67, 0.15);\n",
              "      fill: #174EA6;\n",
              "    }\n",
              "\n",
              "    [theme=dark] .colab-df-convert {\n",
              "      background-color: #3B4455;\n",
              "      fill: #D2E3FC;\n",
              "    }\n",
              "\n",
              "    [theme=dark] .colab-df-convert:hover {\n",
              "      background-color: #434B5C;\n",
              "      box-shadow: 0px 1px 3px 1px rgba(0, 0, 0, 0.15);\n",
              "      filter: drop-shadow(0px 1px 2px rgba(0, 0, 0, 0.3));\n",
              "      fill: #FFFFFF;\n",
              "    }\n",
              "  </style>\n",
              "\n",
              "      <script>\n",
              "        const buttonEl =\n",
              "          document.querySelector('#df-0155c8b2-46c9-4f5b-8da5-619602e16139 button.colab-df-convert');\n",
              "        buttonEl.style.display =\n",
              "          google.colab.kernel.accessAllowed ? 'block' : 'none';\n",
              "\n",
              "        async function convertToInteractive(key) {\n",
              "          const element = document.querySelector('#df-0155c8b2-46c9-4f5b-8da5-619602e16139');\n",
              "          const dataTable =\n",
              "            await google.colab.kernel.invokeFunction('convertToInteractive',\n",
              "                                                     [key], {});\n",
              "          if (!dataTable) return;\n",
              "\n",
              "          const docLinkHtml = 'Like what you see? Visit the ' +\n",
              "            '<a target=\"_blank\" href=https://colab.research.google.com/notebooks/data_table.ipynb>data table notebook</a>'\n",
              "            + ' to learn more about interactive tables.';\n",
              "          element.innerHTML = '';\n",
              "          dataTable['output_type'] = 'display_data';\n",
              "          await google.colab.output.renderOutput(dataTable, element);\n",
              "          const docLink = document.createElement('div');\n",
              "          docLink.innerHTML = docLinkHtml;\n",
              "          element.appendChild(docLink);\n",
              "        }\n",
              "      </script>\n",
              "    </div>\n",
              "  </div>\n",
              "  "
            ]
          },
          "metadata": {},
          "execution_count": 104
        }
      ]
    },
    {
      "cell_type": "code",
      "source": [],
      "metadata": {
        "id": "tXxTykrIjOrP"
      },
      "execution_count": 54,
      "outputs": []
    },
    {
      "cell_type": "markdown",
      "source": [
        "### 4. Textual Data Preprocessing \n",
        "(It's mandatory for textual dataset i.e., NLP, Sentiment Analysis, Text Clustering etc.)"
      ],
      "metadata": {
        "id": "Iwf50b-R2tYG"
      }
    },
    {
      "cell_type": "markdown",
      "source": [],
      "metadata": {
        "id": "IuJt6uYEDAld"
      }
    },
    {
      "cell_type": "markdown",
      "source": [
        "#### 1. Expand Contraction"
      ],
      "metadata": {
        "id": "GMQiZwjn3iu7"
      }
    },
    {
      "cell_type": "code",
      "source": [
        "# Expand Contraction"
      ],
      "metadata": {
        "id": "PTouz10C3oNN"
      },
      "execution_count": 55,
      "outputs": []
    },
    {
      "cell_type": "markdown",
      "source": [
        "#### 2. Lower Casing"
      ],
      "metadata": {
        "id": "WVIkgGqN3qsr"
      }
    },
    {
      "cell_type": "code",
      "source": [
        "# Lower Casing"
      ],
      "metadata": {
        "id": "88JnJ1jN3w7j"
      },
      "execution_count": 56,
      "outputs": []
    },
    {
      "cell_type": "markdown",
      "source": [
        "#### 3. Removing Punctuations"
      ],
      "metadata": {
        "id": "XkPnILGE3zoT"
      }
    },
    {
      "cell_type": "code",
      "source": [
        "# Remove Punctuations"
      ],
      "metadata": {
        "id": "vqbBqNaA33c0"
      },
      "execution_count": 57,
      "outputs": []
    },
    {
      "cell_type": "markdown",
      "source": [
        "#### 4. Removing URLs & Removing words and digits contain digits."
      ],
      "metadata": {
        "id": "Hlsf0x5436Go"
      }
    },
    {
      "cell_type": "code",
      "source": [
        "# Remove URLs & Remove words and digits contain digits"
      ],
      "metadata": {
        "id": "2sxKgKxu4Ip3"
      },
      "execution_count": 58,
      "outputs": []
    },
    {
      "cell_type": "markdown",
      "source": [
        "#### 5. Removing Stopwords & Removing White spaces"
      ],
      "metadata": {
        "id": "mT9DMSJo4nBL"
      }
    },
    {
      "cell_type": "code",
      "source": [
        "# Remove Stopwords"
      ],
      "metadata": {
        "id": "T2LSJh154s8W"
      },
      "execution_count": 59,
      "outputs": []
    },
    {
      "cell_type": "code",
      "source": [
        "# Remove White spaces"
      ],
      "metadata": {
        "id": "EgLJGffy4vm0"
      },
      "execution_count": 60,
      "outputs": []
    },
    {
      "cell_type": "markdown",
      "source": [
        "#### 6. Rephrase Text"
      ],
      "metadata": {
        "id": "c49ITxTc407N"
      }
    },
    {
      "cell_type": "code",
      "source": [
        "# Rephrase Text"
      ],
      "metadata": {
        "id": "foqY80Qu48N2"
      },
      "execution_count": 61,
      "outputs": []
    },
    {
      "cell_type": "markdown",
      "source": [
        "#### 7. Tokenization"
      ],
      "metadata": {
        "id": "OeJFEK0N496M"
      }
    },
    {
      "cell_type": "code",
      "source": [
        "# Tokenization"
      ],
      "metadata": {
        "id": "ijx1rUOS5CUU"
      },
      "execution_count": 62,
      "outputs": []
    },
    {
      "cell_type": "markdown",
      "source": [
        "#### 8. Text Normalization"
      ],
      "metadata": {
        "id": "9ExmJH0g5HBk"
      }
    },
    {
      "cell_type": "code",
      "source": [
        "# Normalizing Text (i.e., Stemming, Lemmatization etc.)"
      ],
      "metadata": {
        "id": "AIJ1a-Zc5PY8"
      },
      "execution_count": 63,
      "outputs": []
    },
    {
      "cell_type": "markdown",
      "source": [
        "##### Which text normalization technique have you used and why?"
      ],
      "metadata": {
        "id": "cJNqERVU536h"
      }
    },
    {
      "cell_type": "markdown",
      "source": [
        "Answer Here."
      ],
      "metadata": {
        "id": "Z9jKVxE06BC1"
      }
    },
    {
      "cell_type": "markdown",
      "source": [
        "#### 9. Part of speech tagging"
      ],
      "metadata": {
        "id": "k5UmGsbsOxih"
      }
    },
    {
      "cell_type": "code",
      "source": [
        "# POS Taging"
      ],
      "metadata": {
        "id": "btT3ZJBAO6Ik"
      },
      "execution_count": 64,
      "outputs": []
    },
    {
      "cell_type": "markdown",
      "source": [
        "#### 10. Text Vectorization"
      ],
      "metadata": {
        "id": "T0VqWOYE6DLQ"
      }
    },
    {
      "cell_type": "code",
      "source": [
        "# Vectorizing Text"
      ],
      "metadata": {
        "id": "yBRtdhth6JDE"
      },
      "execution_count": 65,
      "outputs": []
    },
    {
      "cell_type": "markdown",
      "source": [
        "##### Which text vectorization technique have you used and why?"
      ],
      "metadata": {
        "id": "qBMux9mC6MCf"
      }
    },
    {
      "cell_type": "markdown",
      "source": [
        "Answer Here."
      ],
      "metadata": {
        "id": "su2EnbCh6UKQ"
      }
    },
    {
      "cell_type": "markdown",
      "source": [
        "### 4. Feature Manipulation & Selection"
      ],
      "metadata": {
        "id": "-oLEiFgy-5Pf"
      }
    },
    {
      "cell_type": "markdown",
      "source": [
        "#### 1. Feature Manipulation"
      ],
      "metadata": {
        "id": "C74aWNz2AliB"
      }
    },
    {
      "cell_type": "code",
      "source": [
        "# Manipulate Features to minimize feature correlation and create new features"
      ],
      "metadata": {
        "id": "h1qC4yhBApWC"
      },
      "execution_count": 66,
      "outputs": []
    },
    {
      "cell_type": "markdown",
      "source": [
        "#### 2. Feature Selection"
      ],
      "metadata": {
        "id": "2DejudWSA-a0"
      }
    },
    {
      "cell_type": "code",
      "source": [
        "# Select your features wisely to avoid overfitting"
      ],
      "metadata": {
        "id": "YLhe8UmaBCEE"
      },
      "execution_count": 67,
      "outputs": []
    },
    {
      "cell_type": "markdown",
      "source": [
        "##### What all feature selection methods have you used  and why?"
      ],
      "metadata": {
        "id": "pEMng2IbBLp7"
      }
    },
    {
      "cell_type": "markdown",
      "source": [
        "Answer Here."
      ],
      "metadata": {
        "id": "rb2Lh6Z8BgGs"
      }
    },
    {
      "cell_type": "markdown",
      "source": [
        "##### Which all features you found important and why?"
      ],
      "metadata": {
        "id": "rAdphbQ9Bhjc"
      }
    },
    {
      "cell_type": "markdown",
      "source": [
        "Answer Here."
      ],
      "metadata": {
        "id": "fGgaEstsBnaf"
      }
    },
    {
      "cell_type": "markdown",
      "source": [
        "### 5. Data Transformation"
      ],
      "metadata": {
        "id": "TNVZ9zx19K6k"
      }
    },
    {
      "cell_type": "markdown",
      "source": [
        "#### Do you think that your data needs to be transformed? If yes, which transformation have you used. Explain Why?"
      ],
      "metadata": {
        "id": "nqoHp30x9hH9"
      }
    },
    {
      "cell_type": "code",
      "source": [
        "# Transform Your data"
      ],
      "metadata": {
        "id": "I6quWQ1T9rtH"
      },
      "execution_count": 68,
      "outputs": []
    },
    {
      "cell_type": "markdown",
      "source": [
        "### 6. Data Scaling"
      ],
      "metadata": {
        "id": "rMDnDkt2B6du"
      }
    },
    {
      "cell_type": "code",
      "source": [
        "# Scaling your data"
      ],
      "metadata": {
        "id": "dL9LWpySC6x_"
      },
      "execution_count": 69,
      "outputs": []
    },
    {
      "cell_type": "markdown",
      "source": [
        "##### Which method have you used to scale you data and why?"
      ],
      "metadata": {
        "id": "yiiVWRdJDDil"
      }
    },
    {
      "cell_type": "markdown",
      "source": [
        "### 7. Dimesionality Reduction"
      ],
      "metadata": {
        "id": "1UUpS68QDMuG"
      }
    },
    {
      "cell_type": "markdown",
      "source": [
        "##### Do you think that dimensionality reduction is needed? Explain Why?"
      ],
      "metadata": {
        "id": "kexQrXU-DjzY"
      }
    },
    {
      "cell_type": "markdown",
      "source": [
        "Answer Here."
      ],
      "metadata": {
        "id": "GGRlBsSGDtTQ"
      }
    },
    {
      "cell_type": "code",
      "source": [
        "# DImensionality Reduction (If needed)"
      ],
      "metadata": {
        "id": "kQfvxBBHDvCa"
      },
      "execution_count": 70,
      "outputs": []
    },
    {
      "cell_type": "markdown",
      "source": [
        "##### Which dimensionality reduction technique have you used and why? (If dimensionality reduction done on dataset.)"
      ],
      "metadata": {
        "id": "T5CmagL3EC8N"
      }
    },
    {
      "cell_type": "markdown",
      "source": [
        "Answer Here."
      ],
      "metadata": {
        "id": "ZKr75IDuEM7t"
      }
    },
    {
      "cell_type": "markdown",
      "source": [
        "### 8. Data Splitting"
      ],
      "metadata": {
        "id": "BhH2vgX9EjGr"
      }
    },
    {
      "cell_type": "code",
      "source": [
        "# Split your data to train and test. Choose Splitting ratio wisely."
      ],
      "metadata": {
        "id": "0CTyd2UwEyNM"
      },
      "execution_count": 71,
      "outputs": []
    },
    {
      "cell_type": "markdown",
      "source": [
        "##### What data splitting ratio have you used and why? "
      ],
      "metadata": {
        "id": "qjKvONjwE8ra"
      }
    },
    {
      "cell_type": "markdown",
      "source": [
        "Answer Here."
      ],
      "metadata": {
        "id": "Y2lJ8cobFDb_"
      }
    },
    {
      "cell_type": "markdown",
      "source": [
        "### 9. Handling Imbalanced Dataset"
      ],
      "metadata": {
        "id": "P1XJ9OREExlT"
      }
    },
    {
      "cell_type": "markdown",
      "source": [
        "##### Do you think the dataset is imbalanced? Explain Why."
      ],
      "metadata": {
        "id": "VFOzZv6IFROw"
      }
    },
    {
      "cell_type": "markdown",
      "source": [
        "Answer Here."
      ],
      "metadata": {
        "id": "GeKDIv7pFgcC"
      }
    },
    {
      "cell_type": "code",
      "source": [
        "# Handling Imbalanced Dataset (If needed)"
      ],
      "metadata": {
        "id": "nQsRhhZLFiDs"
      },
      "execution_count": 72,
      "outputs": []
    },
    {
      "cell_type": "markdown",
      "source": [
        "##### What technique did you use to handle the imbalance dataset and why? (If needed to be balanced)"
      ],
      "metadata": {
        "id": "TIqpNgepFxVj"
      }
    },
    {
      "cell_type": "markdown",
      "source": [
        "Answer Here."
      ],
      "metadata": {
        "id": "qbet1HwdGDTz"
      }
    },
    {
      "cell_type": "markdown",
      "source": [
        "## ***7. ML Model Implementation***"
      ],
      "metadata": {
        "id": "VfCC591jGiD4"
      }
    },
    {
      "cell_type": "markdown",
      "source": [
        "<b>Neighbourhood based Collaborative filtering method"
      ],
      "metadata": {
        "id": "cnTCgnE3By8k"
      }
    },
    {
      "cell_type": "code",
      "source": [
        "# Function to find the top N favorite book of a user \n",
        "def favoritebook(activeUser,N):\n",
        "    #1. subset the dataframe to have the rows corresponding to the active user\n",
        "    # 2. sort by the rating in descending order\n",
        "    # 3. pick the top N rows\n",
        "    topbooks=pd.DataFrame.sort_values(merged_dataset[merged_dataset['User-ID']==activeUser],['Book-Rating'],ascending=[0])[:N]\n",
        "    # return the title corresponding to the books in topbooks \n",
        "    if(topbooks.empty):\n",
        "      return \"Insufficient data\"\n",
        "    else:  \n",
        "      return list(topbooks['Book-Title'])\n",
        "\n",
        "print(favoritebook(8,3)) # Print the top 3 favorite movies of user 8\n"
      ],
      "metadata": {
        "colab": {
          "base_uri": "https://localhost:8080/"
        },
        "id": "uv7BQ-MD-mAV",
        "outputId": "31fd2d0e-e6e3-42f0-8671-7e00d525b4a6"
      },
      "execution_count": 105,
      "outputs": [
        {
          "output_type": "stream",
          "name": "stdout",
          "text": [
            "['Goodbye to the Buttermilk Sky', 'More Cunning Than Man: A Social History of Rats and Man', 'The Witchfinder (Amos Walker Mystery Series)']\n"
          ]
        }
      ]
    },
    {
      "cell_type": "code",
      "source": [
        "#Filtering users who have given atleast 200 ratings\n",
        "xp_readers = merged_dataset.groupby('User-ID').count()['Book-Rating'] > 200\n",
        "\n",
        "#Index of all the users who have given atleast 200 ratings to books\n",
        "xp_readers_index = xp_readers[xp_readers].index\n",
        "\n",
        "#Filtering all these users in dataframe\n",
        "filtered_xp_users = merged_dataset[merged_dataset['User-ID'].isin(xp_readers_index)]"
      ],
      "metadata": {
        "id": "DMVUBJY2xAB7"
      },
      "execution_count": 116,
      "outputs": []
    },
    {
      "cell_type": "code",
      "source": [
        "#Filtering all the books which have got atleast 50 ratings\n",
        "popular_books = filtered_xp_users.groupby('Book-Title').count()['Book-Rating']>=50\n",
        "\n",
        "#Index of all the books who have got atleast 50 ratings \n",
        "popular_books_index= popular_books[popular_books].index\n",
        "\n",
        "#Filtering all books in dataframe\n",
        "final_filtered_df = filtered_xp_users[filtered_xp_users['Book-Title'].isin(popular_books_index)]"
      ],
      "metadata": {
        "id": "QQtVyehfzjJQ"
      },
      "execution_count": 119,
      "outputs": []
    },
    {
      "cell_type": "code",
      "source": [
        "#finding  the K Nearest neighbours of a user and using their ratings to predict ratings of the active user for books they haven't rated.\n",
        "\n",
        "#Creating Pivot table\n",
        "userItemRatingMatrix=pd.pivot_table(final_filtered_df, values='Book-Rating',index=['User-ID'],\n",
        "                                    columns=['Book-Title'])\n",
        "\n",
        "userItemRatingMatrix.head()"
      ],
      "metadata": {
        "colab": {
          "base_uri": "https://localhost:8080/",
          "height": 469
        },
        "id": "_13634c8zwwF",
        "outputId": "98fc0b58-56bc-4da7-e968-56adf5353a7a"
      },
      "execution_count": 128,
      "outputs": [
        {
          "output_type": "execute_result",
          "data": {
            "text/plain": [
              "Book-Title  1984  1st to Die: A Novel  2nd Chance  4 Blondes  \\\n",
              "User-ID                                                        \n",
              "254          9.0                  NaN         NaN        NaN   \n",
              "2276         NaN                  NaN        10.0        NaN   \n",
              "2766         NaN                  NaN         NaN        NaN   \n",
              "2977         NaN                  NaN         NaN        NaN   \n",
              "3363         NaN                  NaN         NaN        NaN   \n",
              "\n",
              "Book-Title  A Bend in the Road  A Case of Need  \\\n",
              "User-ID                                          \n",
              "254                        0.0             NaN   \n",
              "2276                       NaN             NaN   \n",
              "2766                       7.0             0.0   \n",
              "2977                       NaN             NaN   \n",
              "3363                       NaN             NaN   \n",
              "\n",
              "Book-Title  A Child Called \\It\\\": One Child's Courage to Survive\"  \\\n",
              "User-ID                                                             \n",
              "254                                                       NaN       \n",
              "2276                                                      NaN       \n",
              "2766                                                      NaN       \n",
              "2977                                                      NaN       \n",
              "3363                                                      NaN       \n",
              "\n",
              "Book-Title  A Civil Action  A Day Late and a Dollar Short  A Fine Balance  \\\n",
              "User-ID                                                                     \n",
              "254                    NaN                            NaN             NaN   \n",
              "2276                   NaN                            NaN             NaN   \n",
              "2766                   NaN                            NaN             NaN   \n",
              "2977                   NaN                            NaN             NaN   \n",
              "3363                   0.0                            NaN             NaN   \n",
              "\n",
              "Book-Title  ...  Winter Solstice  Wish You Well  Without Remorse  \\\n",
              "User-ID     ...                                                    \n",
              "254         ...              NaN            NaN              NaN   \n",
              "2276        ...              NaN            NaN              NaN   \n",
              "2766        ...              NaN            NaN              NaN   \n",
              "2977        ...              NaN            NaN              NaN   \n",
              "3363        ...              NaN            NaN              NaN   \n",
              "\n",
              "Book-Title  Wizard and Glass (The Dark Tower, Book 4)  Wuthering Heights  \\\n",
              "User-ID                                                                    \n",
              "254                                               NaN                NaN   \n",
              "2276                                              NaN                NaN   \n",
              "2766                                              NaN                NaN   \n",
              "2977                                              NaN                NaN   \n",
              "3363                                              NaN                NaN   \n",
              "\n",
              "Book-Title  Year of Wonders  You Belong To Me  \\\n",
              "User-ID                                         \n",
              "254                     NaN               NaN   \n",
              "2276                    NaN               NaN   \n",
              "2766                    NaN               NaN   \n",
              "2977                    7.0               NaN   \n",
              "3363                    NaN               NaN   \n",
              "\n",
              "Book-Title  Zen and the Art of Motorcycle Maintenance: An Inquiry into Values  \\\n",
              "User-ID                                                                         \n",
              "254                                                       NaN                   \n",
              "2276                                                      NaN                   \n",
              "2766                                                      NaN                   \n",
              "2977                                                      NaN                   \n",
              "3363                                                      0.0                   \n",
              "\n",
              "Book-Title  Zoya  \\O\\\" Is for Outlaw\"  \n",
              "User-ID                                \n",
              "254          NaN                  NaN  \n",
              "2276         NaN                  NaN  \n",
              "2766         NaN                  NaN  \n",
              "2977         NaN                  NaN  \n",
              "3363         NaN                  NaN  \n",
              "\n",
              "[5 rows x 706 columns]"
            ],
            "text/html": [
              "\n",
              "  <div id=\"df-8cc1c801-7143-44df-b98e-825212fe21a3\">\n",
              "    <div class=\"colab-df-container\">\n",
              "      <div>\n",
              "<style scoped>\n",
              "    .dataframe tbody tr th:only-of-type {\n",
              "        vertical-align: middle;\n",
              "    }\n",
              "\n",
              "    .dataframe tbody tr th {\n",
              "        vertical-align: top;\n",
              "    }\n",
              "\n",
              "    .dataframe thead th {\n",
              "        text-align: right;\n",
              "    }\n",
              "</style>\n",
              "<table border=\"1\" class=\"dataframe\">\n",
              "  <thead>\n",
              "    <tr style=\"text-align: right;\">\n",
              "      <th>Book-Title</th>\n",
              "      <th>1984</th>\n",
              "      <th>1st to Die: A Novel</th>\n",
              "      <th>2nd Chance</th>\n",
              "      <th>4 Blondes</th>\n",
              "      <th>A Bend in the Road</th>\n",
              "      <th>A Case of Need</th>\n",
              "      <th>A Child Called \\It\\\": One Child's Courage to Survive\"</th>\n",
              "      <th>A Civil Action</th>\n",
              "      <th>A Day Late and a Dollar Short</th>\n",
              "      <th>A Fine Balance</th>\n",
              "      <th>...</th>\n",
              "      <th>Winter Solstice</th>\n",
              "      <th>Wish You Well</th>\n",
              "      <th>Without Remorse</th>\n",
              "      <th>Wizard and Glass (The Dark Tower, Book 4)</th>\n",
              "      <th>Wuthering Heights</th>\n",
              "      <th>Year of Wonders</th>\n",
              "      <th>You Belong To Me</th>\n",
              "      <th>Zen and the Art of Motorcycle Maintenance: An Inquiry into Values</th>\n",
              "      <th>Zoya</th>\n",
              "      <th>\\O\\\" Is for Outlaw\"</th>\n",
              "    </tr>\n",
              "    <tr>\n",
              "      <th>User-ID</th>\n",
              "      <th></th>\n",
              "      <th></th>\n",
              "      <th></th>\n",
              "      <th></th>\n",
              "      <th></th>\n",
              "      <th></th>\n",
              "      <th></th>\n",
              "      <th></th>\n",
              "      <th></th>\n",
              "      <th></th>\n",
              "      <th></th>\n",
              "      <th></th>\n",
              "      <th></th>\n",
              "      <th></th>\n",
              "      <th></th>\n",
              "      <th></th>\n",
              "      <th></th>\n",
              "      <th></th>\n",
              "      <th></th>\n",
              "      <th></th>\n",
              "      <th></th>\n",
              "    </tr>\n",
              "  </thead>\n",
              "  <tbody>\n",
              "    <tr>\n",
              "      <th>254</th>\n",
              "      <td>9.0</td>\n",
              "      <td>NaN</td>\n",
              "      <td>NaN</td>\n",
              "      <td>NaN</td>\n",
              "      <td>0.0</td>\n",
              "      <td>NaN</td>\n",
              "      <td>NaN</td>\n",
              "      <td>NaN</td>\n",
              "      <td>NaN</td>\n",
              "      <td>NaN</td>\n",
              "      <td>...</td>\n",
              "      <td>NaN</td>\n",
              "      <td>NaN</td>\n",
              "      <td>NaN</td>\n",
              "      <td>NaN</td>\n",
              "      <td>NaN</td>\n",
              "      <td>NaN</td>\n",
              "      <td>NaN</td>\n",
              "      <td>NaN</td>\n",
              "      <td>NaN</td>\n",
              "      <td>NaN</td>\n",
              "    </tr>\n",
              "    <tr>\n",
              "      <th>2276</th>\n",
              "      <td>NaN</td>\n",
              "      <td>NaN</td>\n",
              "      <td>10.0</td>\n",
              "      <td>NaN</td>\n",
              "      <td>NaN</td>\n",
              "      <td>NaN</td>\n",
              "      <td>NaN</td>\n",
              "      <td>NaN</td>\n",
              "      <td>NaN</td>\n",
              "      <td>NaN</td>\n",
              "      <td>...</td>\n",
              "      <td>NaN</td>\n",
              "      <td>NaN</td>\n",
              "      <td>NaN</td>\n",
              "      <td>NaN</td>\n",
              "      <td>NaN</td>\n",
              "      <td>NaN</td>\n",
              "      <td>NaN</td>\n",
              "      <td>NaN</td>\n",
              "      <td>NaN</td>\n",
              "      <td>NaN</td>\n",
              "    </tr>\n",
              "    <tr>\n",
              "      <th>2766</th>\n",
              "      <td>NaN</td>\n",
              "      <td>NaN</td>\n",
              "      <td>NaN</td>\n",
              "      <td>NaN</td>\n",
              "      <td>7.0</td>\n",
              "      <td>0.0</td>\n",
              "      <td>NaN</td>\n",
              "      <td>NaN</td>\n",
              "      <td>NaN</td>\n",
              "      <td>NaN</td>\n",
              "      <td>...</td>\n",
              "      <td>NaN</td>\n",
              "      <td>NaN</td>\n",
              "      <td>NaN</td>\n",
              "      <td>NaN</td>\n",
              "      <td>NaN</td>\n",
              "      <td>NaN</td>\n",
              "      <td>NaN</td>\n",
              "      <td>NaN</td>\n",
              "      <td>NaN</td>\n",
              "      <td>NaN</td>\n",
              "    </tr>\n",
              "    <tr>\n",
              "      <th>2977</th>\n",
              "      <td>NaN</td>\n",
              "      <td>NaN</td>\n",
              "      <td>NaN</td>\n",
              "      <td>NaN</td>\n",
              "      <td>NaN</td>\n",
              "      <td>NaN</td>\n",
              "      <td>NaN</td>\n",
              "      <td>NaN</td>\n",
              "      <td>NaN</td>\n",
              "      <td>NaN</td>\n",
              "      <td>...</td>\n",
              "      <td>NaN</td>\n",
              "      <td>NaN</td>\n",
              "      <td>NaN</td>\n",
              "      <td>NaN</td>\n",
              "      <td>NaN</td>\n",
              "      <td>7.0</td>\n",
              "      <td>NaN</td>\n",
              "      <td>NaN</td>\n",
              "      <td>NaN</td>\n",
              "      <td>NaN</td>\n",
              "    </tr>\n",
              "    <tr>\n",
              "      <th>3363</th>\n",
              "      <td>NaN</td>\n",
              "      <td>NaN</td>\n",
              "      <td>NaN</td>\n",
              "      <td>NaN</td>\n",
              "      <td>NaN</td>\n",
              "      <td>NaN</td>\n",
              "      <td>NaN</td>\n",
              "      <td>0.0</td>\n",
              "      <td>NaN</td>\n",
              "      <td>NaN</td>\n",
              "      <td>...</td>\n",
              "      <td>NaN</td>\n",
              "      <td>NaN</td>\n",
              "      <td>NaN</td>\n",
              "      <td>NaN</td>\n",
              "      <td>NaN</td>\n",
              "      <td>NaN</td>\n",
              "      <td>NaN</td>\n",
              "      <td>0.0</td>\n",
              "      <td>NaN</td>\n",
              "      <td>NaN</td>\n",
              "    </tr>\n",
              "  </tbody>\n",
              "</table>\n",
              "<p>5 rows × 706 columns</p>\n",
              "</div>\n",
              "      <button class=\"colab-df-convert\" onclick=\"convertToInteractive('df-8cc1c801-7143-44df-b98e-825212fe21a3')\"\n",
              "              title=\"Convert this dataframe to an interactive table.\"\n",
              "              style=\"display:none;\">\n",
              "        \n",
              "  <svg xmlns=\"http://www.w3.org/2000/svg\" height=\"24px\"viewBox=\"0 0 24 24\"\n",
              "       width=\"24px\">\n",
              "    <path d=\"M0 0h24v24H0V0z\" fill=\"none\"/>\n",
              "    <path d=\"M18.56 5.44l.94 2.06.94-2.06 2.06-.94-2.06-.94-.94-2.06-.94 2.06-2.06.94zm-11 1L8.5 8.5l.94-2.06 2.06-.94-2.06-.94L8.5 2.5l-.94 2.06-2.06.94zm10 10l.94 2.06.94-2.06 2.06-.94-2.06-.94-.94-2.06-.94 2.06-2.06.94z\"/><path d=\"M17.41 7.96l-1.37-1.37c-.4-.4-.92-.59-1.43-.59-.52 0-1.04.2-1.43.59L10.3 9.45l-7.72 7.72c-.78.78-.78 2.05 0 2.83L4 21.41c.39.39.9.59 1.41.59.51 0 1.02-.2 1.41-.59l7.78-7.78 2.81-2.81c.8-.78.8-2.07 0-2.86zM5.41 20L4 18.59l7.72-7.72 1.47 1.35L5.41 20z\"/>\n",
              "  </svg>\n",
              "      </button>\n",
              "      \n",
              "  <style>\n",
              "    .colab-df-container {\n",
              "      display:flex;\n",
              "      flex-wrap:wrap;\n",
              "      gap: 12px;\n",
              "    }\n",
              "\n",
              "    .colab-df-convert {\n",
              "      background-color: #E8F0FE;\n",
              "      border: none;\n",
              "      border-radius: 50%;\n",
              "      cursor: pointer;\n",
              "      display: none;\n",
              "      fill: #1967D2;\n",
              "      height: 32px;\n",
              "      padding: 0 0 0 0;\n",
              "      width: 32px;\n",
              "    }\n",
              "\n",
              "    .colab-df-convert:hover {\n",
              "      background-color: #E2EBFA;\n",
              "      box-shadow: 0px 1px 2px rgba(60, 64, 67, 0.3), 0px 1px 3px 1px rgba(60, 64, 67, 0.15);\n",
              "      fill: #174EA6;\n",
              "    }\n",
              "\n",
              "    [theme=dark] .colab-df-convert {\n",
              "      background-color: #3B4455;\n",
              "      fill: #D2E3FC;\n",
              "    }\n",
              "\n",
              "    [theme=dark] .colab-df-convert:hover {\n",
              "      background-color: #434B5C;\n",
              "      box-shadow: 0px 1px 3px 1px rgba(0, 0, 0, 0.15);\n",
              "      filter: drop-shadow(0px 1px 2px rgba(0, 0, 0, 0.3));\n",
              "      fill: #FFFFFF;\n",
              "    }\n",
              "  </style>\n",
              "\n",
              "      <script>\n",
              "        const buttonEl =\n",
              "          document.querySelector('#df-8cc1c801-7143-44df-b98e-825212fe21a3 button.colab-df-convert');\n",
              "        buttonEl.style.display =\n",
              "          google.colab.kernel.accessAllowed ? 'block' : 'none';\n",
              "\n",
              "        async function convertToInteractive(key) {\n",
              "          const element = document.querySelector('#df-8cc1c801-7143-44df-b98e-825212fe21a3');\n",
              "          const dataTable =\n",
              "            await google.colab.kernel.invokeFunction('convertToInteractive',\n",
              "                                                     [key], {});\n",
              "          if (!dataTable) return;\n",
              "\n",
              "          const docLinkHtml = 'Like what you see? Visit the ' +\n",
              "            '<a target=\"_blank\" href=https://colab.research.google.com/notebooks/data_table.ipynb>data table notebook</a>'\n",
              "            + ' to learn more about interactive tables.';\n",
              "          element.innerHTML = '';\n",
              "          dataTable['output_type'] = 'display_data';\n",
              "          await google.colab.output.renderOutput(dataTable, element);\n",
              "          const docLink = document.createElement('div');\n",
              "          docLink.innerHTML = docLinkHtml;\n",
              "          element.appendChild(docLink);\n",
              "        }\n",
              "      </script>\n",
              "    </div>\n",
              "  </div>\n",
              "  "
            ]
          },
          "metadata": {},
          "execution_count": 128
        }
      ]
    },
    {
      "cell_type": "markdown",
      "source": [
        "#Now each user has been represented using their ratings."
      ],
      "metadata": {
        "id": "fBO7V_pe9eGv"
      }
    },
    {
      "cell_type": "code",
      "source": [
        "# function to find the similarity between 2 users using correlation\n",
        "\n",
        "from scipy.spatial.distance import correlation \n",
        "def similarity(user1,user2):\n",
        "    #normalizing user1 by the mean rating of user 1 for any book for removing biases\n",
        "    user1=np.array(user1)-np.nanmean(user1)\n",
        "\n",
        "    #normalizing user1 by the mean rating of user 2 for any book for removing biases\n",
        "    user2=np.array(user2)-np.nanmean(user2)\n",
        "    # Now to find the similarity between 2 users\n",
        "    # We'll first subset each user to be represented only by the ratings for book the 2 users have in common \n",
        "    commonItemIds=[i for i in range(len(user1)) if user1[i]>0 and user2[i]>0]\n",
        "    # Gives us book for which both users have non NaN ratings \n",
        "    if len(commonItemIds)==0:\n",
        "        # If there are no book in common \n",
        "        return 0\n",
        "    else:\n",
        "        user1=np.array([user1[i] for i in commonItemIds])\n",
        "        user2=np.array([user2[i] for i in commonItemIds])\n",
        "        return correlation(user1,user2)"
      ],
      "metadata": {
        "id": "FLKP7WCB9OXU"
      },
      "execution_count": 129,
      "outputs": []
    },
    {
      "cell_type": "markdown",
      "source": [
        "#Formula for predicting the rating of active user."
      ],
      "metadata": {
        "id": "bKTwSRfEKaJF"
      }
    },
    {
      "cell_type": "markdown",
      "source": [
        "![Screenshot from 2023-05-05 09-41-32.png](data:image/png;base64,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)"
      ],
      "metadata": {
        "id": "5kjRGml1KU-e"
      }
    },
    {
      "cell_type": "code",
      "source": [
        "# Using this similarity function we will find the nearest neighbours of the active user\n",
        "\n",
        "def nearestNeighbourRatings(activeUser,K):\n",
        "    '''This function will find the K Nearest neighbours of the active user, then \n",
        "      use their ratings to predict the activeUsers ratings for other movies '''\n",
        "    \n",
        "    # Creating an empty matrix whose row index is userIds, and the value will be \n",
        "    # similarity of that user to the active User for finding similarity with other users.\n",
        "    similarityMatrix=pd.DataFrame(index=userItemRatingMatrix.index,\n",
        "                                  columns=['Similarity'])\n",
        "    \n",
        "    # Finding the similarity between user i and the active user and add it to the similarityMatrix\n",
        "    # using similarity function.\n",
        "    for i in userItemRatingMatrix.index:\n",
        "        similarityMatrix.loc[i]=similarity(userItemRatingMatrix.loc[activeUser],\n",
        "                                          userItemRatingMatrix.loc[i])\n",
        "        \n",
        "    # Sorting the similarity matrix in the descending order of similarity    \n",
        "    similarityMatrix=pd.DataFrame.sort_values(similarityMatrix,\n",
        "                                              ['Similarity'],ascending=False)\n",
        "    \n",
        "    # Finding K Nearest neighbours of the active user\n",
        "    nearestNeighbours=similarityMatrix[:K]\n",
        "     \n",
        "    \n",
        "    # Using the nearest neighbours ratings to predict the active user's rating for every books\n",
        "    \n",
        "    neighbourItemRatings=userItemRatingMatrix.loc[nearestNeighbours.index]\n",
        "    \n",
        "    # A placeholder for the predicted item ratings. \n",
        "    predictItemRating=pd.DataFrame(index=userItemRatingMatrix.columns, columns=['Rating'])\n",
        "\n",
        "    \"\"\"We will find predicted rating for active user using the above formula\"\"\"\n",
        "\n",
        "     # for each item \n",
        "    for i in userItemRatingMatrix.columns:\n",
        "\n",
        "        # start with the average rating of the user\n",
        "        predictedRating=np.nanmean(userItemRatingMatrix.loc[activeUser])\n",
        "\n",
        "        # for each neighbour in the neighbour list\n",
        "        for j in neighbourItemRatings.index:\n",
        "\n",
        "           ''' If the neighbour has rated that item Add the rating of the neighbour for that item\n",
        "            adjusted by the average rating of the neighbour weighted by the similarity of the neighbour \n",
        "            to the active user'''\n",
        "\n",
        "           if (userItemRatingMatrix.loc[j,i]>0):\n",
        "                \n",
        "                predictedRating += (userItemRatingMatrix.loc[j,i]\n",
        "                                    -np.nanmean(userItemRatingMatrix.loc[j]))*nearestNeighbours.loc[j,'Similarity']\n",
        "        # adding the rating to the predicted Rating matrix\n",
        "        predictItemRating.loc[i,'Rating']=predictedRating\n",
        "    return predictItemRating"
      ],
      "metadata": {
        "id": "bQL1_54NEz1e"
      },
      "execution_count": 130,
      "outputs": []
    },
    {
      "cell_type": "code",
      "source": [
        "# Using predicted Ratings to find the top N Recommendations for the active user \n",
        "\n",
        "def topNRecommendations(activeUser,N):\n",
        "    # Using the 10 nearest neighbours to find the predicted ratings\n",
        "    predictItemRating=nearestNeighbourRatings(activeUser,10)\n",
        "    \n",
        "    #removing books which are already read by active user\n",
        "    booksAlreadyRead=list(userItemRatingMatrix.loc[activeUser]\n",
        "                              .loc[userItemRatingMatrix.loc[activeUser]>0].index)\n",
        "    \n",
        "    # finding the list of items whose ratings which are not NaN\n",
        "    predictItemRating=predictItemRating.drop(booksAlreadyRead)\n",
        "    topRecommendations=pd.DataFrame.sort_values(predictItemRating,\n",
        "                                                ['Rating'],ascending=[0])[:N]\n",
        "    # This will give us the list of itemIds which are the top recommendations \n",
        "    # Let's find the corresponding book titles \n",
        "\n",
        "    topRecommendationTitles=(final_filtered_df.loc[final_filtered_df['Book-Title'].isin(topRecommendations.index)])\n",
        "    list(set(topRecommendationTitles['Book-Title']))\n",
        "    return final_filtered_df[final_filtered_df['Book-Title'].isin(list(set(topRecommendationTitles['Book-Title'])))].drop_duplicates('Book-Title')[['Book-Author','Year-Of-Publication','Publisher','Image-URL-M']].reset_index().drop(['index'],axis=1)\n",
        "  "
      ],
      "metadata": {
        "id": "q70Z96JmNFz1"
      },
      "execution_count": 210,
      "outputs": []
    },
    {
      "cell_type": "code",
      "source": [
        "# Let's take this for a spin \n",
        "activeUser=3363\n",
        "print(favoritebook(activeUser,5))\n",
        "topNRecommendations(activeUser,5)"
      ],
      "metadata": {
        "colab": {
          "base_uri": "https://localhost:8080/",
          "height": 243
        },
        "id": "qAuzeRwCTFsj",
        "outputId": "2b8cd3e0-bfd8-4004-b715-8dee94fbc438"
      },
      "execution_count": 214,
      "outputs": [
        {
          "output_type": "stream",
          "name": "stdout",
          "text": [
            "[\"Where the Heart Is (Oprah's Book Club (Paperback))\", 'Joyful Noise (rpkg) : Poems for Two Voices', 'Afternoon of the Elves', 'A Pocket Full of Seeds (A Puffin Book)', 'The Gym Teacher from the Black Lagoon']\n"
          ]
        },
        {
          "output_type": "execute_result",
          "data": {
            "text/plain": [
              "              Book-Author Year-Of-Publication                Publisher  \\\n",
              "0         James Patterson                2002            Warner Vision   \n",
              "1  Alexander McCall Smith                2002                   Anchor   \n",
              "2            Maeve Binchy                2000  Dell Publishing Company   \n",
              "3           George Orwell                1990              Signet Book   \n",
              "4               Anne Rice                1996         Ballantine Books   \n",
              "\n",
              "                                         Image-URL-M  \n",
              "0  http://images.amazon.com/images/P/0446610038.0...  \n",
              "1  http://images.amazon.com/images/P/1400031354.0...  \n",
              "2  http://images.amazon.com/images/P/0440235596.0...  \n",
              "3  http://images.amazon.com/images/P/0451524934.0...  \n",
              "4  http://images.amazon.com/images/P/0345404319.0...  "
            ],
            "text/html": [
              "\n",
              "  <div id=\"df-a023e2dc-49fb-4a39-8a3b-7aa57e539cd6\">\n",
              "    <div class=\"colab-df-container\">\n",
              "      <div>\n",
              "<style scoped>\n",
              "    .dataframe tbody tr th:only-of-type {\n",
              "        vertical-align: middle;\n",
              "    }\n",
              "\n",
              "    .dataframe tbody tr th {\n",
              "        vertical-align: top;\n",
              "    }\n",
              "\n",
              "    .dataframe thead th {\n",
              "        text-align: right;\n",
              "    }\n",
              "</style>\n",
              "<table border=\"1\" class=\"dataframe\">\n",
              "  <thead>\n",
              "    <tr style=\"text-align: right;\">\n",
              "      <th></th>\n",
              "      <th>Book-Author</th>\n",
              "      <th>Year-Of-Publication</th>\n",
              "      <th>Publisher</th>\n",
              "      <th>Image-URL-M</th>\n",
              "    </tr>\n",
              "  </thead>\n",
              "  <tbody>\n",
              "    <tr>\n",
              "      <th>0</th>\n",
              "      <td>James Patterson</td>\n",
              "      <td>2002</td>\n",
              "      <td>Warner Vision</td>\n",
              "      <td>http://images.amazon.com/images/P/0446610038.0...</td>\n",
              "    </tr>\n",
              "    <tr>\n",
              "      <th>1</th>\n",
              "      <td>Alexander McCall Smith</td>\n",
              "      <td>2002</td>\n",
              "      <td>Anchor</td>\n",
              "      <td>http://images.amazon.com/images/P/1400031354.0...</td>\n",
              "    </tr>\n",
              "    <tr>\n",
              "      <th>2</th>\n",
              "      <td>Maeve Binchy</td>\n",
              "      <td>2000</td>\n",
              "      <td>Dell Publishing Company</td>\n",
              "      <td>http://images.amazon.com/images/P/0440235596.0...</td>\n",
              "    </tr>\n",
              "    <tr>\n",
              "      <th>3</th>\n",
              "      <td>George Orwell</td>\n",
              "      <td>1990</td>\n",
              "      <td>Signet Book</td>\n",
              "      <td>http://images.amazon.com/images/P/0451524934.0...</td>\n",
              "    </tr>\n",
              "    <tr>\n",
              "      <th>4</th>\n",
              "      <td>Anne Rice</td>\n",
              "      <td>1996</td>\n",
              "      <td>Ballantine Books</td>\n",
              "      <td>http://images.amazon.com/images/P/0345404319.0...</td>\n",
              "    </tr>\n",
              "  </tbody>\n",
              "</table>\n",
              "</div>\n",
              "      <button class=\"colab-df-convert\" onclick=\"convertToInteractive('df-a023e2dc-49fb-4a39-8a3b-7aa57e539cd6')\"\n",
              "              title=\"Convert this dataframe to an interactive table.\"\n",
              "              style=\"display:none;\">\n",
              "        \n",
              "  <svg xmlns=\"http://www.w3.org/2000/svg\" height=\"24px\"viewBox=\"0 0 24 24\"\n",
              "       width=\"24px\">\n",
              "    <path d=\"M0 0h24v24H0V0z\" fill=\"none\"/>\n",
              "    <path d=\"M18.56 5.44l.94 2.06.94-2.06 2.06-.94-2.06-.94-.94-2.06-.94 2.06-2.06.94zm-11 1L8.5 8.5l.94-2.06 2.06-.94-2.06-.94L8.5 2.5l-.94 2.06-2.06.94zm10 10l.94 2.06.94-2.06 2.06-.94-2.06-.94-.94-2.06-.94 2.06-2.06.94z\"/><path d=\"M17.41 7.96l-1.37-1.37c-.4-.4-.92-.59-1.43-.59-.52 0-1.04.2-1.43.59L10.3 9.45l-7.72 7.72c-.78.78-.78 2.05 0 2.83L4 21.41c.39.39.9.59 1.41.59.51 0 1.02-.2 1.41-.59l7.78-7.78 2.81-2.81c.8-.78.8-2.07 0-2.86zM5.41 20L4 18.59l7.72-7.72 1.47 1.35L5.41 20z\"/>\n",
              "  </svg>\n",
              "      </button>\n",
              "      \n",
              "  <style>\n",
              "    .colab-df-container {\n",
              "      display:flex;\n",
              "      flex-wrap:wrap;\n",
              "      gap: 12px;\n",
              "    }\n",
              "\n",
              "    .colab-df-convert {\n",
              "      background-color: #E8F0FE;\n",
              "      border: none;\n",
              "      border-radius: 50%;\n",
              "      cursor: pointer;\n",
              "      display: none;\n",
              "      fill: #1967D2;\n",
              "      height: 32px;\n",
              "      padding: 0 0 0 0;\n",
              "      width: 32px;\n",
              "    }\n",
              "\n",
              "    .colab-df-convert:hover {\n",
              "      background-color: #E2EBFA;\n",
              "      box-shadow: 0px 1px 2px rgba(60, 64, 67, 0.3), 0px 1px 3px 1px rgba(60, 64, 67, 0.15);\n",
              "      fill: #174EA6;\n",
              "    }\n",
              "\n",
              "    [theme=dark] .colab-df-convert {\n",
              "      background-color: #3B4455;\n",
              "      fill: #D2E3FC;\n",
              "    }\n",
              "\n",
              "    [theme=dark] .colab-df-convert:hover {\n",
              "      background-color: #434B5C;\n",
              "      box-shadow: 0px 1px 3px 1px rgba(0, 0, 0, 0.15);\n",
              "      filter: drop-shadow(0px 1px 2px rgba(0, 0, 0, 0.3));\n",
              "      fill: #FFFFFF;\n",
              "    }\n",
              "  </style>\n",
              "\n",
              "      <script>\n",
              "        const buttonEl =\n",
              "          document.querySelector('#df-a023e2dc-49fb-4a39-8a3b-7aa57e539cd6 button.colab-df-convert');\n",
              "        buttonEl.style.display =\n",
              "          google.colab.kernel.accessAllowed ? 'block' : 'none';\n",
              "\n",
              "        async function convertToInteractive(key) {\n",
              "          const element = document.querySelector('#df-a023e2dc-49fb-4a39-8a3b-7aa57e539cd6');\n",
              "          const dataTable =\n",
              "            await google.colab.kernel.invokeFunction('convertToInteractive',\n",
              "                                                     [key], {});\n",
              "          if (!dataTable) return;\n",
              "\n",
              "          const docLinkHtml = 'Like what you see? Visit the ' +\n",
              "            '<a target=\"_blank\" href=https://colab.research.google.com/notebooks/data_table.ipynb>data table notebook</a>'\n",
              "            + ' to learn more about interactive tables.';\n",
              "          element.innerHTML = '';\n",
              "          dataTable['output_type'] = 'display_data';\n",
              "          await google.colab.output.renderOutput(dataTable, element);\n",
              "          const docLink = document.createElement('div');\n",
              "          docLink.innerHTML = docLinkHtml;\n",
              "          element.appendChild(docLink);\n",
              "        }\n",
              "      </script>\n",
              "    </div>\n",
              "  </div>\n",
              "  "
            ]
          },
          "metadata": {},
          "execution_count": 214
        }
      ]
    },
    {
      "cell_type": "markdown",
      "source": [
        "### ML Model - 1"
      ],
      "metadata": {
        "id": "OB4l2ZhMeS1U"
      }
    },
    {
      "cell_type": "code",
      "source": [
        "# ML Model - 1 Implementation\n",
        "\n",
        "# Fit the Algorithm\n",
        "\n",
        "# Predict on the model"
      ],
      "metadata": {
        "id": "7ebyywQieS1U"
      },
      "execution_count": null,
      "outputs": []
    },
    {
      "cell_type": "markdown",
      "source": [
        "#### 1. Explain the ML Model used and it's performance using Evaluation metric Score Chart."
      ],
      "metadata": {
        "id": "ArJBuiUVfxKd"
      }
    },
    {
      "cell_type": "code",
      "source": [
        "# Visualizing evaluation Metric Score chart"
      ],
      "metadata": {
        "id": "rqD5ZohzfxKe"
      },
      "execution_count": null,
      "outputs": []
    },
    {
      "cell_type": "markdown",
      "source": [
        "#### 2. Cross- Validation & Hyperparameter Tuning"
      ],
      "metadata": {
        "id": "4qY1EAkEfxKe"
      }
    },
    {
      "cell_type": "code",
      "source": [
        "# ML Model - 1 Implementation with hyperparameter optimization techniques (i.e., GridSearch CV, RandomSearch CV, Bayesian Optimization etc.)\n",
        "\n",
        "# Fit the Algorithm\n",
        "\n",
        "# Predict on the model"
      ],
      "metadata": {
        "id": "Dy61ujd6fxKe"
      },
      "execution_count": null,
      "outputs": []
    },
    {
      "cell_type": "markdown",
      "source": [
        "##### Which hyperparameter optimization technique have you used and why?"
      ],
      "metadata": {
        "id": "PiV4Ypx8fxKe"
      }
    },
    {
      "cell_type": "markdown",
      "source": [
        "Answer Here."
      ],
      "metadata": {
        "id": "negyGRa7fxKf"
      }
    },
    {
      "cell_type": "markdown",
      "source": [
        "##### Have you seen any improvement? Note down the improvement with updates Evaluation metric Score Chart."
      ],
      "metadata": {
        "id": "TfvqoZmBfxKf"
      }
    },
    {
      "cell_type": "markdown",
      "source": [
        "Answer Here."
      ],
      "metadata": {
        "id": "OaLui8CcfxKf"
      }
    },
    {
      "cell_type": "markdown",
      "source": [
        "### ML Model - 2"
      ],
      "metadata": {
        "id": "dJ2tPlVmpsJ0"
      }
    },
    {
      "cell_type": "markdown",
      "source": [
        "#Using Matrix Factorization"
      ],
      "metadata": {
        "id": "CMTr1GRxebQI"
      }
    },
    {
      "cell_type": "code",
      "source": [],
      "metadata": {
        "id": "4Fjgwv_AehXM"
      },
      "execution_count": null,
      "outputs": []
    },
    {
      "cell_type": "markdown",
      "source": [
        "#### 1. Explain the ML Model used and it's performance using Evaluation metric Score Chart."
      ],
      "metadata": {
        "id": "JWYfwnehpsJ1"
      }
    },
    {
      "cell_type": "code",
      "source": [
        "# Visualizing evaluation Metric Score chart"
      ],
      "metadata": {
        "id": "yEl-hgQWpsJ1"
      },
      "execution_count": null,
      "outputs": []
    },
    {
      "cell_type": "markdown",
      "source": [
        "#### 2. Cross- Validation & Hyperparameter Tuning"
      ],
      "metadata": {
        "id": "-jK_YjpMpsJ2"
      }
    },
    {
      "cell_type": "code",
      "source": [
        "# ML Model - 1 Implementation with hyperparameter optimization techniques (i.e., GridSearch CV, RandomSearch CV, Bayesian Optimization etc.)\n",
        "\n",
        "# Fit the Algorithm\n",
        "\n",
        "# Predict on the model"
      ],
      "metadata": {
        "id": "Dn0EOfS6psJ2"
      },
      "execution_count": null,
      "outputs": []
    },
    {
      "cell_type": "markdown",
      "source": [
        "##### Which hyperparameter optimization technique have you used and why?"
      ],
      "metadata": {
        "id": "HAih1iBOpsJ2"
      }
    },
    {
      "cell_type": "markdown",
      "source": [
        "Answer Here."
      ],
      "metadata": {
        "id": "9kBgjYcdpsJ2"
      }
    },
    {
      "cell_type": "markdown",
      "source": [
        "##### Have you seen any improvement? Note down the improvement with updates Evaluation metric Score Chart."
      ],
      "metadata": {
        "id": "zVGeBEFhpsJ2"
      }
    },
    {
      "cell_type": "markdown",
      "source": [
        "Answer Here."
      ],
      "metadata": {
        "id": "74yRdG6UpsJ3"
      }
    },
    {
      "cell_type": "markdown",
      "source": [
        "#### 3. Explain each evaluation metric's indication towards business and the business impact pf the ML model used."
      ],
      "metadata": {
        "id": "bmKjuQ-FpsJ3"
      }
    },
    {
      "cell_type": "markdown",
      "source": [
        "Answer Here."
      ],
      "metadata": {
        "id": "BDKtOrBQpsJ3"
      }
    },
    {
      "cell_type": "markdown",
      "source": [],
      "metadata": {
        "id": "y-sAxV4JeaVU"
      }
    },
    {
      "cell_type": "markdown",
      "source": [
        "### ML Model - 3"
      ],
      "metadata": {
        "id": "Fze-IPXLpx6K"
      }
    },
    {
      "cell_type": "code",
      "source": [
        "# ML Model - 3 Implementation\n",
        "\n",
        "# Fit the Algorithm\n",
        "\n",
        "# Predict on the model"
      ],
      "metadata": {
        "id": "FFrSXAtrpx6M"
      },
      "execution_count": null,
      "outputs": []
    },
    {
      "cell_type": "markdown",
      "source": [
        "#### 1. Explain the ML Model used and it's performance using Evaluation metric Score Chart."
      ],
      "metadata": {
        "id": "7AN1z2sKpx6M"
      }
    },
    {
      "cell_type": "code",
      "source": [
        "# Visualizing evaluation Metric Score chart"
      ],
      "metadata": {
        "id": "xIY4lxxGpx6M"
      },
      "execution_count": null,
      "outputs": []
    },
    {
      "cell_type": "markdown",
      "source": [
        "#### 2. Cross- Validation & Hyperparameter Tuning"
      ],
      "metadata": {
        "id": "9PIHJqyupx6M"
      }
    },
    {
      "cell_type": "code",
      "source": [
        "# ML Model - 3 Implementation with hyperparameter optimization techniques (i.e., GridSearch CV, RandomSearch CV, Bayesian Optimization etc.)\n",
        "\n",
        "# Fit the Algorithm\n",
        "\n",
        "# Predict on the model"
      ],
      "metadata": {
        "id": "eSVXuaSKpx6M"
      },
      "execution_count": null,
      "outputs": []
    },
    {
      "cell_type": "markdown",
      "source": [
        "##### Which hyperparameter optimization technique have you used and why?"
      ],
      "metadata": {
        "id": "_-qAgymDpx6N"
      }
    },
    {
      "cell_type": "markdown",
      "source": [
        "Answer Here."
      ],
      "metadata": {
        "id": "lQMffxkwpx6N"
      }
    },
    {
      "cell_type": "markdown",
      "source": [
        "##### Have you seen any improvement? Note down the improvement with updates Evaluation metric Score Chart."
      ],
      "metadata": {
        "id": "Z-hykwinpx6N"
      }
    },
    {
      "cell_type": "markdown",
      "source": [
        "Answer Here."
      ],
      "metadata": {
        "id": "MzVzZC6opx6N"
      }
    },
    {
      "cell_type": "markdown",
      "source": [
        "### 1. Which Evaluation metrics did you consider for a positive business impact and why?"
      ],
      "metadata": {
        "id": "h_CCil-SKHpo"
      }
    },
    {
      "cell_type": "markdown",
      "source": [
        "Answer Here."
      ],
      "metadata": {
        "id": "jHVz9hHDKFms"
      }
    },
    {
      "cell_type": "markdown",
      "source": [
        "### 2. Which ML model did you choose from the above created models as your final prediction model and why?"
      ],
      "metadata": {
        "id": "cBFFvTBNJzUa"
      }
    },
    {
      "cell_type": "markdown",
      "source": [
        "Answer Here."
      ],
      "metadata": {
        "id": "6ksF5Q1LKTVm"
      }
    },
    {
      "cell_type": "markdown",
      "source": [
        "### 3. Explain the model which you have used and the feature importance using any model explainability tool?"
      ],
      "metadata": {
        "id": "HvGl1hHyA_VK"
      }
    },
    {
      "cell_type": "markdown",
      "source": [
        "Answer Here."
      ],
      "metadata": {
        "id": "YnvVTiIxBL-C"
      }
    },
    {
      "cell_type": "markdown",
      "source": [
        "## ***8.*** ***Future Work (Optional)***"
      ],
      "metadata": {
        "id": "EyNgTHvd2WFk"
      }
    },
    {
      "cell_type": "markdown",
      "source": [
        "### 1. Save the best performing ml model in a pickle file or joblib file format for deployment process.\n"
      ],
      "metadata": {
        "id": "KH5McJBi2d8v"
      }
    },
    {
      "cell_type": "code",
      "source": [
        "# Save the File"
      ],
      "metadata": {
        "id": "bQIANRl32f4J"
      },
      "execution_count": null,
      "outputs": []
    },
    {
      "cell_type": "markdown",
      "source": [
        "### 2. Again Load the saved model file and try to predict unseen data for a sanity check.\n"
      ],
      "metadata": {
        "id": "iW_Lq9qf2h6X"
      }
    },
    {
      "cell_type": "code",
      "source": [
        "# Load the File and predict unseen data."
      ],
      "metadata": {
        "id": "oEXk9ydD2nVC"
      },
      "execution_count": null,
      "outputs": []
    },
    {
      "cell_type": "markdown",
      "source": [
        "### ***Congrats! Your model is successfully created and ready for deployment on a live server for a real user interaction !!!***"
      ],
      "metadata": {
        "id": "-Kee-DAl2viO"
      }
    },
    {
      "cell_type": "markdown",
      "source": [
        "# **Conclusion**"
      ],
      "metadata": {
        "id": "gCX9965dhzqZ"
      }
    },
    {
      "cell_type": "markdown",
      "source": [
        "Write the conclusion here."
      ],
      "metadata": {
        "id": "Fjb1IsQkh3yE"
      }
    },
    {
      "cell_type": "markdown",
      "source": [
        "### ***Hurrah! You have successfully completed your Machine Learning Capstone Project !!!***"
      ],
      "metadata": {
        "id": "gIfDvo9L0UH2"
      }
    }
  ]
}