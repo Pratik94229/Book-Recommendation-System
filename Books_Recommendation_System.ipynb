{
  "cells": [
    {
      "cell_type": "markdown",
      "metadata": {
        "id": "view-in-github",
        "colab_type": "text"
      },
      "source": [
        "<a href=\"https://colab.research.google.com/github/Pratik94229/Capstone-4/blob/main/Books_Recommendation_System.ipynb\" target=\"_parent\"><img src=\"https://colab.research.google.com/assets/colab-badge.svg\" alt=\"Open In Colab\"/></a>"
      ]
    },
    {
      "cell_type": "markdown",
      "metadata": {
        "id": "vncDsAP0Gaoa"
      },
      "source": [
        "# **Project Name**    - \n",
        "\n"
      ]
    },
    {
      "cell_type": "markdown",
      "metadata": {
        "id": "beRrZCGUAJYm"
      },
      "source": [
        "##### **Project Type**    -Unsupervised\n",
        "##### **Contribution**    - Individual\n",
        "##### **Name -** Pratik Thorat\n"
      ]
    },
    {
      "cell_type": "markdown",
      "metadata": {
        "id": "FJNUwmbgGyua"
      },
      "source": [
        "# **Project Summary -**"
      ]
    },
    {
      "cell_type": "markdown",
      "metadata": {
        "id": "F6v_1wHtG2nS"
      },
      "source": [
        "Write the summary here within 500-600 words."
      ]
    },
    {
      "cell_type": "markdown",
      "metadata": {
        "id": "w6K7xa23Elo4"
      },
      "source": [
        "# **GitHub Link -**"
      ]
    },
    {
      "cell_type": "markdown",
      "metadata": {
        "id": "h1o69JH3Eqqn"
      },
      "source": [
        "Provide your GitHub Link here."
      ]
    },
    {
      "cell_type": "markdown",
      "metadata": {
        "id": "yQaldy8SH6Dl"
      },
      "source": [
        "# **Problem Statement**\n"
      ]
    },
    {
      "cell_type": "markdown",
      "metadata": {
        "id": "DpeJGUA3kjGy"
      },
      "source": [
        "**Write Problem Statement Here.**"
      ]
    },
    {
      "cell_type": "markdown",
      "metadata": {
        "id": "mDgbUHAGgjLW"
      },
      "source": [
        "# **General Guidelines** : -  "
      ]
    },
    {
      "cell_type": "markdown",
      "metadata": {
        "id": "ZrxVaUj-hHfC"
      },
      "source": [
        "1.   Well-structured, formatted, and commented code is required. \n",
        "2.   Exception Handling, Production Grade Code & Deployment Ready Code will be a plus. Those students will be awarded some additional credits. \n",
        "     \n",
        "     The additional credits will have advantages over other students during Star Student selection.\n",
        "       \n",
        "             [ Note: - Deployment Ready Code is defined as, the whole .ipynb notebook should be executable in one go\n",
        "                       without a single error logged. ]\n",
        "\n",
        "3.   Each and every logic should have proper comments.\n",
        "4. You may add as many number of charts you want. Make Sure for each and every chart the following format should be answered.\n",
        "        \n",
        "\n",
        "```\n",
        "# Chart visualization code\n",
        "```\n",
        "            \n",
        "\n",
        "*   Why did you pick the specific chart?\n",
        "*   What is/are the insight(s) found from the chart?\n",
        "* Will the gained insights help creating a positive business impact? \n",
        "Are there any insights that lead to negative growth? Justify with specific reason.\n",
        "\n",
        "5. You have to create at least 15 logical & meaningful charts having important insights.\n",
        "\n",
        "\n",
        "[ Hints : - Do the Vizualization in  a structured way while following \"UBM\" Rule. \n",
        "\n",
        "U - Univariate Analysis,\n",
        "\n",
        "B - Bivariate Analysis (Numerical - Categorical, Numerical - Numerical, Categorical - Categorical)\n",
        "\n",
        "M - Multivariate Analysis\n",
        " ]\n",
        "\n",
        "\n",
        "\n",
        "\n",
        "\n",
        "6. You may add more ml algorithms for model creation. Make sure for each and every algorithm, the following format should be answered.\n",
        "\n",
        "\n",
        "*   Explain the ML Model used and it's performance using Evaluation metric Score Chart.\n",
        "\n",
        "\n",
        "*   Cross- Validation & Hyperparameter Tuning\n",
        "\n",
        "*   Have you seen any improvement? Note down the improvement with updates Evaluation metric Score Chart.\n",
        "\n",
        "*   Explain each evaluation metric's indication towards business and the business impact pf the ML model used.\n",
        "\n",
        "\n",
        "\n",
        "\n",
        "\n",
        "\n",
        "\n",
        "\n",
        "\n",
        "\n",
        "\n",
        "\n",
        "\n",
        "\n",
        "\n",
        "\n",
        "\n",
        "\n"
      ]
    },
    {
      "cell_type": "markdown",
      "metadata": {
        "id": "O_i_v8NEhb9l"
      },
      "source": [
        "# ***Let's Begin !***"
      ]
    },
    {
      "cell_type": "code",
      "execution_count": 53,
      "metadata": {
        "colab": {
          "base_uri": "https://localhost:8080/"
        },
        "id": "Tvy5_fZmeYnH",
        "outputId": "16d1bf2b-4400-4eeb-b0cd-ccf701faf41e"
      },
      "outputs": [
        {
          "output_type": "stream",
          "name": "stdout",
          "text": [
            "Looking in indexes: https://pypi.org/simple, https://us-python.pkg.dev/colab-wheels/public/simple/\n",
            "Requirement already satisfied: tqdm in /usr/local/lib/python3.10/dist-packages (4.65.0)\n"
          ]
        }
      ],
      "source": [
        "# For checking progress of Python code execution\n",
        "!pip install tqdm"
      ]
    },
    {
      "cell_type": "code",
      "source": [
        "!pip install surprise"
      ],
      "metadata": {
        "colab": {
          "base_uri": "https://localhost:8080/"
        },
        "id": "IW-JWmp1l7vS",
        "outputId": "6bca2487-757e-4bb8-df12-2e54486d9c24"
      },
      "execution_count": 54,
      "outputs": [
        {
          "output_type": "stream",
          "name": "stdout",
          "text": [
            "Looking in indexes: https://pypi.org/simple, https://us-python.pkg.dev/colab-wheels/public/simple/\n",
            "Requirement already satisfied: lightfm in /usr/local/lib/python3.10/dist-packages (1.17)\n",
            "Requirement already satisfied: numpy in /usr/local/lib/python3.10/dist-packages (from lightfm) (1.22.4)\n",
            "Requirement already satisfied: scipy>=0.17.0 in /usr/local/lib/python3.10/dist-packages (from lightfm) (1.10.1)\n",
            "Requirement already satisfied: scikit-learn in /usr/local/lib/python3.10/dist-packages (from lightfm) (1.2.2)\n",
            "Requirement already satisfied: requests in /usr/local/lib/python3.10/dist-packages (from lightfm) (2.27.1)\n",
            "Requirement already satisfied: idna<4,>=2.5 in /usr/local/lib/python3.10/dist-packages (from requests->lightfm) (3.4)\n",
            "Requirement already satisfied: certifi>=2017.4.17 in /usr/local/lib/python3.10/dist-packages (from requests->lightfm) (2022.12.7)\n",
            "Requirement already satisfied: urllib3<1.27,>=1.21.1 in /usr/local/lib/python3.10/dist-packages (from requests->lightfm) (1.26.15)\n",
            "Requirement already satisfied: charset-normalizer~=2.0.0 in /usr/local/lib/python3.10/dist-packages (from requests->lightfm) (2.0.12)\n",
            "Requirement already satisfied: joblib>=1.1.1 in /usr/local/lib/python3.10/dist-packages (from scikit-learn->lightfm) (1.2.0)\n",
            "Requirement already satisfied: threadpoolctl>=2.0.0 in /usr/local/lib/python3.10/dist-packages (from scikit-learn->lightfm) (3.1.0)\n"
          ]
        }
      ]
    },
    {
      "cell_type": "markdown",
      "metadata": {
        "id": "HhfV-JJviCcP"
      },
      "source": [
        "## ***1. Know Your Data***"
      ]
    },
    {
      "cell_type": "markdown",
      "metadata": {
        "id": "Y3lxredqlCYt"
      },
      "source": [
        "### Import Libraries"
      ]
    },
    {
      "cell_type": "code",
      "source": [
        "# Ignore warnings :\n",
        "import warnings\n",
        "warnings.filterwarnings('ignore')\n",
        "\n",
        "\n",
        "# Handle table-like data and matrices :\n",
        "import numpy as np\n",
        "import pandas as pd\n",
        "import math \n",
        "import itertools\n",
        "\n",
        "# Modelling Helpers :\n",
        "from sklearn.impute import SimpleImputer\n",
        "from sklearn.preprocessing import Normalizer , scale\n",
        "from sklearn.model_selection import train_test_split\n",
        "from sklearn.metrics import confusion_matrix\n",
        "from sklearn.feature_selection import RFECV\n",
        "from sklearn.model_selection import GridSearchCV , KFold , cross_val_score\n",
        "\n",
        "\n",
        "\n",
        "# Evaluation metrics :\n",
        "\n",
        "# Regression\n",
        "from sklearn.metrics import mean_squared_log_error,mean_squared_error, r2_score,mean_absolute_error \n",
        "\n",
        "# Classification\n",
        "from sklearn.metrics import accuracy_score,precision_score,recall_score,f1_score\n",
        "\n",
        "\n",
        "# Deep Learning Libraries\n",
        "from keras.models import Sequential, load_model\n",
        "from keras.layers import Dense, Dropout, Flatten\n",
        "from keras.layers import Conv2D, MaxPooling2D, BatchNormalization\n",
        "from keras.optimizers import Adam,SGD,Adagrad,Adadelta,RMSprop\n",
        "from keras.preprocessing.image import ImageDataGenerator\n",
        "from keras.callbacks import ReduceLROnPlateau, LearningRateScheduler\n",
        "from keras.utils import to_categorical\n",
        "\n",
        "\n",
        "# Visualisation\n",
        "import matplotlib as mpl\n",
        "import matplotlib.pyplot as plt\n",
        "import matplotlib.pylab as pylab\n",
        "import seaborn as sns\n",
        "import missingno as msno\n",
        "\n",
        "\n",
        "# Configure visualisations\n",
        "%matplotlib inline\n",
        "mpl.style.use( 'ggplot' )\n",
        "plt.style.use('fivethirtyeight')\n",
        "sns.set(context=\"notebook\", palette=\"dark\", style = 'whitegrid' , color_codes=True)"
      ],
      "metadata": {
        "id": "LCuFWU1wg7Lc"
      },
      "execution_count": 55,
      "outputs": []
    },
    {
      "cell_type": "code",
      "execution_count": 56,
      "metadata": {
        "id": "M8Vqi-pPk-HR"
      },
      "outputs": [],
      "source": [
        "# Import Libraries\n",
        "import pandas as pd\n",
        "import numpy as np\n",
        "import missingno as msno\n",
        "import seaborn as sns\n",
        "\n",
        "#Time remaining in for loop.\n",
        "from time import sleep\n",
        "from tqdm import tqdm\n",
        "\n",
        "#For ignoring warnings\n",
        "import warnings\n",
        "warnings.filterwarnings('ignore')"
      ]
    },
    {
      "cell_type": "markdown",
      "metadata": {
        "id": "3RnN4peoiCZX"
      },
      "source": [
        "### Dataset Loading"
      ]
    },
    {
      "cell_type": "code",
      "execution_count": 57,
      "metadata": {
        "colab": {
          "base_uri": "https://localhost:8080/"
        },
        "id": "4CkvbW_SlZ_R",
        "outputId": "f064cda3-4493-41b6-af69-c4438614813b"
      },
      "outputs": [
        {
          "output_type": "stream",
          "name": "stdout",
          "text": [
            "Drive already mounted at /content/drive; to attempt to forcibly remount, call drive.mount(\"/content/drive\", force_remount=True).\n"
          ]
        }
      ],
      "source": [
        "# Load Dataset\n",
        "from google.colab import drive\n",
        "drive.mount('/content/drive')\n"
      ]
    },
    {
      "cell_type": "code",
      "execution_count": 58,
      "metadata": {
        "id": "d7_n_LPMrNN5"
      },
      "outputs": [],
      "source": [
        "working_dir='/content/drive/MyDrive/Colab Notebooks/Module 4/Capstone 4/'\n",
        "books_df=pd.read_csv(working_dir+'Books.csv',low_memory=False)\n",
        "ratings_df=pd.read_csv(working_dir+'Ratings.csv')\n",
        "users_df=pd.read_csv(working_dir+'Users.csv')\n"
      ]
    },
    {
      "cell_type": "markdown",
      "metadata": {
        "id": "x71ZqKXriCWQ"
      },
      "source": [
        "### Dataset First View"
      ]
    },
    {
      "cell_type": "code",
      "execution_count": 59,
      "metadata": {
        "colab": {
          "base_uri": "https://localhost:8080/",
          "height": 329
        },
        "id": "LWNFOSvLl09H",
        "outputId": "7ea23d23-f0f6-433b-e17c-40b93759aeb6"
      },
      "outputs": [
        {
          "output_type": "execute_result",
          "data": {
            "text/plain": [
              "         ISBN            Book-Title           Book-Author Year-Of-Publication  \\\n",
              "0  0195153448   Classical Mythology    Mark P. O. Morford                2002   \n",
              "1  0002005018          Clara Callan  Richard Bruce Wright                2001   \n",
              "2  0060973129  Decision in Normandy          Carlo D'Este                1991   \n",
              "\n",
              "                 Publisher                                        Image-URL-S  \\\n",
              "0  Oxford University Press  http://images.amazon.com/images/P/0195153448.0...   \n",
              "1    HarperFlamingo Canada  http://images.amazon.com/images/P/0002005018.0...   \n",
              "2          HarperPerennial  http://images.amazon.com/images/P/0060973129.0...   \n",
              "\n",
              "                                         Image-URL-M  \\\n",
              "0  http://images.amazon.com/images/P/0195153448.0...   \n",
              "1  http://images.amazon.com/images/P/0002005018.0...   \n",
              "2  http://images.amazon.com/images/P/0060973129.0...   \n",
              "\n",
              "                                         Image-URL-L  \n",
              "0  http://images.amazon.com/images/P/0195153448.0...  \n",
              "1  http://images.amazon.com/images/P/0002005018.0...  \n",
              "2  http://images.amazon.com/images/P/0060973129.0...  "
            ],
            "text/html": [
              "\n",
              "  <div id=\"df-599c6cfb-2ff6-4ec5-9234-ab012949a53f\">\n",
              "    <div class=\"colab-df-container\">\n",
              "      <div>\n",
              "<style scoped>\n",
              "    .dataframe tbody tr th:only-of-type {\n",
              "        vertical-align: middle;\n",
              "    }\n",
              "\n",
              "    .dataframe tbody tr th {\n",
              "        vertical-align: top;\n",
              "    }\n",
              "\n",
              "    .dataframe thead th {\n",
              "        text-align: right;\n",
              "    }\n",
              "</style>\n",
              "<table border=\"1\" class=\"dataframe\">\n",
              "  <thead>\n",
              "    <tr style=\"text-align: right;\">\n",
              "      <th></th>\n",
              "      <th>ISBN</th>\n",
              "      <th>Book-Title</th>\n",
              "      <th>Book-Author</th>\n",
              "      <th>Year-Of-Publication</th>\n",
              "      <th>Publisher</th>\n",
              "      <th>Image-URL-S</th>\n",
              "      <th>Image-URL-M</th>\n",
              "      <th>Image-URL-L</th>\n",
              "    </tr>\n",
              "  </thead>\n",
              "  <tbody>\n",
              "    <tr>\n",
              "      <th>0</th>\n",
              "      <td>0195153448</td>\n",
              "      <td>Classical Mythology</td>\n",
              "      <td>Mark P. O. Morford</td>\n",
              "      <td>2002</td>\n",
              "      <td>Oxford University Press</td>\n",
              "      <td>http://images.amazon.com/images/P/0195153448.0...</td>\n",
              "      <td>http://images.amazon.com/images/P/0195153448.0...</td>\n",
              "      <td>http://images.amazon.com/images/P/0195153448.0...</td>\n",
              "    </tr>\n",
              "    <tr>\n",
              "      <th>1</th>\n",
              "      <td>0002005018</td>\n",
              "      <td>Clara Callan</td>\n",
              "      <td>Richard Bruce Wright</td>\n",
              "      <td>2001</td>\n",
              "      <td>HarperFlamingo Canada</td>\n",
              "      <td>http://images.amazon.com/images/P/0002005018.0...</td>\n",
              "      <td>http://images.amazon.com/images/P/0002005018.0...</td>\n",
              "      <td>http://images.amazon.com/images/P/0002005018.0...</td>\n",
              "    </tr>\n",
              "    <tr>\n",
              "      <th>2</th>\n",
              "      <td>0060973129</td>\n",
              "      <td>Decision in Normandy</td>\n",
              "      <td>Carlo D'Este</td>\n",
              "      <td>1991</td>\n",
              "      <td>HarperPerennial</td>\n",
              "      <td>http://images.amazon.com/images/P/0060973129.0...</td>\n",
              "      <td>http://images.amazon.com/images/P/0060973129.0...</td>\n",
              "      <td>http://images.amazon.com/images/P/0060973129.0...</td>\n",
              "    </tr>\n",
              "  </tbody>\n",
              "</table>\n",
              "</div>\n",
              "      <button class=\"colab-df-convert\" onclick=\"convertToInteractive('df-599c6cfb-2ff6-4ec5-9234-ab012949a53f')\"\n",
              "              title=\"Convert this dataframe to an interactive table.\"\n",
              "              style=\"display:none;\">\n",
              "        \n",
              "  <svg xmlns=\"http://www.w3.org/2000/svg\" height=\"24px\"viewBox=\"0 0 24 24\"\n",
              "       width=\"24px\">\n",
              "    <path d=\"M0 0h24v24H0V0z\" fill=\"none\"/>\n",
              "    <path d=\"M18.56 5.44l.94 2.06.94-2.06 2.06-.94-2.06-.94-.94-2.06-.94 2.06-2.06.94zm-11 1L8.5 8.5l.94-2.06 2.06-.94-2.06-.94L8.5 2.5l-.94 2.06-2.06.94zm10 10l.94 2.06.94-2.06 2.06-.94-2.06-.94-.94-2.06-.94 2.06-2.06.94z\"/><path d=\"M17.41 7.96l-1.37-1.37c-.4-.4-.92-.59-1.43-.59-.52 0-1.04.2-1.43.59L10.3 9.45l-7.72 7.72c-.78.78-.78 2.05 0 2.83L4 21.41c.39.39.9.59 1.41.59.51 0 1.02-.2 1.41-.59l7.78-7.78 2.81-2.81c.8-.78.8-2.07 0-2.86zM5.41 20L4 18.59l7.72-7.72 1.47 1.35L5.41 20z\"/>\n",
              "  </svg>\n",
              "      </button>\n",
              "      \n",
              "  <style>\n",
              "    .colab-df-container {\n",
              "      display:flex;\n",
              "      flex-wrap:wrap;\n",
              "      gap: 12px;\n",
              "    }\n",
              "\n",
              "    .colab-df-convert {\n",
              "      background-color: #E8F0FE;\n",
              "      border: none;\n",
              "      border-radius: 50%;\n",
              "      cursor: pointer;\n",
              "      display: none;\n",
              "      fill: #1967D2;\n",
              "      height: 32px;\n",
              "      padding: 0 0 0 0;\n",
              "      width: 32px;\n",
              "    }\n",
              "\n",
              "    .colab-df-convert:hover {\n",
              "      background-color: #E2EBFA;\n",
              "      box-shadow: 0px 1px 2px rgba(60, 64, 67, 0.3), 0px 1px 3px 1px rgba(60, 64, 67, 0.15);\n",
              "      fill: #174EA6;\n",
              "    }\n",
              "\n",
              "    [theme=dark] .colab-df-convert {\n",
              "      background-color: #3B4455;\n",
              "      fill: #D2E3FC;\n",
              "    }\n",
              "\n",
              "    [theme=dark] .colab-df-convert:hover {\n",
              "      background-color: #434B5C;\n",
              "      box-shadow: 0px 1px 3px 1px rgba(0, 0, 0, 0.15);\n",
              "      filter: drop-shadow(0px 1px 2px rgba(0, 0, 0, 0.3));\n",
              "      fill: #FFFFFF;\n",
              "    }\n",
              "  </style>\n",
              "\n",
              "      <script>\n",
              "        const buttonEl =\n",
              "          document.querySelector('#df-599c6cfb-2ff6-4ec5-9234-ab012949a53f button.colab-df-convert');\n",
              "        buttonEl.style.display =\n",
              "          google.colab.kernel.accessAllowed ? 'block' : 'none';\n",
              "\n",
              "        async function convertToInteractive(key) {\n",
              "          const element = document.querySelector('#df-599c6cfb-2ff6-4ec5-9234-ab012949a53f');\n",
              "          const dataTable =\n",
              "            await google.colab.kernel.invokeFunction('convertToInteractive',\n",
              "                                                     [key], {});\n",
              "          if (!dataTable) return;\n",
              "\n",
              "          const docLinkHtml = 'Like what you see? Visit the ' +\n",
              "            '<a target=\"_blank\" href=https://colab.research.google.com/notebooks/data_table.ipynb>data table notebook</a>'\n",
              "            + ' to learn more about interactive tables.';\n",
              "          element.innerHTML = '';\n",
              "          dataTable['output_type'] = 'display_data';\n",
              "          await google.colab.output.renderOutput(dataTable, element);\n",
              "          const docLink = document.createElement('div');\n",
              "          docLink.innerHTML = docLinkHtml;\n",
              "          element.appendChild(docLink);\n",
              "        }\n",
              "      </script>\n",
              "    </div>\n",
              "  </div>\n",
              "  "
            ]
          },
          "metadata": {},
          "execution_count": 59
        }
      ],
      "source": [
        "# Dataset First Look\n",
        "books_df.head(3)"
      ]
    },
    {
      "cell_type": "code",
      "execution_count": 60,
      "metadata": {
        "colab": {
          "base_uri": "https://localhost:8080/",
          "height": 143
        },
        "id": "w0pve5ESsX4f",
        "outputId": "af58ce3f-cf5e-45a6-853b-bc1c59149d04"
      },
      "outputs": [
        {
          "output_type": "execute_result",
          "data": {
            "text/plain": [
              "   User-ID        ISBN  Book-Rating\n",
              "0   276725  034545104X            0\n",
              "1   276726  0155061224            5\n",
              "2   276727  0446520802            0"
            ],
            "text/html": [
              "\n",
              "  <div id=\"df-be68eb10-e223-40c9-a5e4-fe0d66536a7d\">\n",
              "    <div class=\"colab-df-container\">\n",
              "      <div>\n",
              "<style scoped>\n",
              "    .dataframe tbody tr th:only-of-type {\n",
              "        vertical-align: middle;\n",
              "    }\n",
              "\n",
              "    .dataframe tbody tr th {\n",
              "        vertical-align: top;\n",
              "    }\n",
              "\n",
              "    .dataframe thead th {\n",
              "        text-align: right;\n",
              "    }\n",
              "</style>\n",
              "<table border=\"1\" class=\"dataframe\">\n",
              "  <thead>\n",
              "    <tr style=\"text-align: right;\">\n",
              "      <th></th>\n",
              "      <th>User-ID</th>\n",
              "      <th>ISBN</th>\n",
              "      <th>Book-Rating</th>\n",
              "    </tr>\n",
              "  </thead>\n",
              "  <tbody>\n",
              "    <tr>\n",
              "      <th>0</th>\n",
              "      <td>276725</td>\n",
              "      <td>034545104X</td>\n",
              "      <td>0</td>\n",
              "    </tr>\n",
              "    <tr>\n",
              "      <th>1</th>\n",
              "      <td>276726</td>\n",
              "      <td>0155061224</td>\n",
              "      <td>5</td>\n",
              "    </tr>\n",
              "    <tr>\n",
              "      <th>2</th>\n",
              "      <td>276727</td>\n",
              "      <td>0446520802</td>\n",
              "      <td>0</td>\n",
              "    </tr>\n",
              "  </tbody>\n",
              "</table>\n",
              "</div>\n",
              "      <button class=\"colab-df-convert\" onclick=\"convertToInteractive('df-be68eb10-e223-40c9-a5e4-fe0d66536a7d')\"\n",
              "              title=\"Convert this dataframe to an interactive table.\"\n",
              "              style=\"display:none;\">\n",
              "        \n",
              "  <svg xmlns=\"http://www.w3.org/2000/svg\" height=\"24px\"viewBox=\"0 0 24 24\"\n",
              "       width=\"24px\">\n",
              "    <path d=\"M0 0h24v24H0V0z\" fill=\"none\"/>\n",
              "    <path d=\"M18.56 5.44l.94 2.06.94-2.06 2.06-.94-2.06-.94-.94-2.06-.94 2.06-2.06.94zm-11 1L8.5 8.5l.94-2.06 2.06-.94-2.06-.94L8.5 2.5l-.94 2.06-2.06.94zm10 10l.94 2.06.94-2.06 2.06-.94-2.06-.94-.94-2.06-.94 2.06-2.06.94z\"/><path d=\"M17.41 7.96l-1.37-1.37c-.4-.4-.92-.59-1.43-.59-.52 0-1.04.2-1.43.59L10.3 9.45l-7.72 7.72c-.78.78-.78 2.05 0 2.83L4 21.41c.39.39.9.59 1.41.59.51 0 1.02-.2 1.41-.59l7.78-7.78 2.81-2.81c.8-.78.8-2.07 0-2.86zM5.41 20L4 18.59l7.72-7.72 1.47 1.35L5.41 20z\"/>\n",
              "  </svg>\n",
              "      </button>\n",
              "      \n",
              "  <style>\n",
              "    .colab-df-container {\n",
              "      display:flex;\n",
              "      flex-wrap:wrap;\n",
              "      gap: 12px;\n",
              "    }\n",
              "\n",
              "    .colab-df-convert {\n",
              "      background-color: #E8F0FE;\n",
              "      border: none;\n",
              "      border-radius: 50%;\n",
              "      cursor: pointer;\n",
              "      display: none;\n",
              "      fill: #1967D2;\n",
              "      height: 32px;\n",
              "      padding: 0 0 0 0;\n",
              "      width: 32px;\n",
              "    }\n",
              "\n",
              "    .colab-df-convert:hover {\n",
              "      background-color: #E2EBFA;\n",
              "      box-shadow: 0px 1px 2px rgba(60, 64, 67, 0.3), 0px 1px 3px 1px rgba(60, 64, 67, 0.15);\n",
              "      fill: #174EA6;\n",
              "    }\n",
              "\n",
              "    [theme=dark] .colab-df-convert {\n",
              "      background-color: #3B4455;\n",
              "      fill: #D2E3FC;\n",
              "    }\n",
              "\n",
              "    [theme=dark] .colab-df-convert:hover {\n",
              "      background-color: #434B5C;\n",
              "      box-shadow: 0px 1px 3px 1px rgba(0, 0, 0, 0.15);\n",
              "      filter: drop-shadow(0px 1px 2px rgba(0, 0, 0, 0.3));\n",
              "      fill: #FFFFFF;\n",
              "    }\n",
              "  </style>\n",
              "\n",
              "      <script>\n",
              "        const buttonEl =\n",
              "          document.querySelector('#df-be68eb10-e223-40c9-a5e4-fe0d66536a7d button.colab-df-convert');\n",
              "        buttonEl.style.display =\n",
              "          google.colab.kernel.accessAllowed ? 'block' : 'none';\n",
              "\n",
              "        async function convertToInteractive(key) {\n",
              "          const element = document.querySelector('#df-be68eb10-e223-40c9-a5e4-fe0d66536a7d');\n",
              "          const dataTable =\n",
              "            await google.colab.kernel.invokeFunction('convertToInteractive',\n",
              "                                                     [key], {});\n",
              "          if (!dataTable) return;\n",
              "\n",
              "          const docLinkHtml = 'Like what you see? Visit the ' +\n",
              "            '<a target=\"_blank\" href=https://colab.research.google.com/notebooks/data_table.ipynb>data table notebook</a>'\n",
              "            + ' to learn more about interactive tables.';\n",
              "          element.innerHTML = '';\n",
              "          dataTable['output_type'] = 'display_data';\n",
              "          await google.colab.output.renderOutput(dataTable, element);\n",
              "          const docLink = document.createElement('div');\n",
              "          docLink.innerHTML = docLinkHtml;\n",
              "          element.appendChild(docLink);\n",
              "        }\n",
              "      </script>\n",
              "    </div>\n",
              "  </div>\n",
              "  "
            ]
          },
          "metadata": {},
          "execution_count": 60
        }
      ],
      "source": [
        "ratings_df.head(3)"
      ]
    },
    {
      "cell_type": "code",
      "execution_count": 61,
      "metadata": {
        "colab": {
          "base_uri": "https://localhost:8080/",
          "height": 143
        },
        "id": "BD8Hor4QsjL8",
        "outputId": "35110ce9-fc06-45ae-f21d-0c914b97cb61"
      },
      "outputs": [
        {
          "output_type": "execute_result",
          "data": {
            "text/plain": [
              "   User-ID                         Location   Age\n",
              "0        1               nyc, new york, usa   NaN\n",
              "1        2        stockton, california, usa  18.0\n",
              "2        3  moscow, yukon territory, russia   NaN"
            ],
            "text/html": [
              "\n",
              "  <div id=\"df-6376a4e4-015b-4474-afe6-e21c15c6f179\">\n",
              "    <div class=\"colab-df-container\">\n",
              "      <div>\n",
              "<style scoped>\n",
              "    .dataframe tbody tr th:only-of-type {\n",
              "        vertical-align: middle;\n",
              "    }\n",
              "\n",
              "    .dataframe tbody tr th {\n",
              "        vertical-align: top;\n",
              "    }\n",
              "\n",
              "    .dataframe thead th {\n",
              "        text-align: right;\n",
              "    }\n",
              "</style>\n",
              "<table border=\"1\" class=\"dataframe\">\n",
              "  <thead>\n",
              "    <tr style=\"text-align: right;\">\n",
              "      <th></th>\n",
              "      <th>User-ID</th>\n",
              "      <th>Location</th>\n",
              "      <th>Age</th>\n",
              "    </tr>\n",
              "  </thead>\n",
              "  <tbody>\n",
              "    <tr>\n",
              "      <th>0</th>\n",
              "      <td>1</td>\n",
              "      <td>nyc, new york, usa</td>\n",
              "      <td>NaN</td>\n",
              "    </tr>\n",
              "    <tr>\n",
              "      <th>1</th>\n",
              "      <td>2</td>\n",
              "      <td>stockton, california, usa</td>\n",
              "      <td>18.0</td>\n",
              "    </tr>\n",
              "    <tr>\n",
              "      <th>2</th>\n",
              "      <td>3</td>\n",
              "      <td>moscow, yukon territory, russia</td>\n",
              "      <td>NaN</td>\n",
              "    </tr>\n",
              "  </tbody>\n",
              "</table>\n",
              "</div>\n",
              "      <button class=\"colab-df-convert\" onclick=\"convertToInteractive('df-6376a4e4-015b-4474-afe6-e21c15c6f179')\"\n",
              "              title=\"Convert this dataframe to an interactive table.\"\n",
              "              style=\"display:none;\">\n",
              "        \n",
              "  <svg xmlns=\"http://www.w3.org/2000/svg\" height=\"24px\"viewBox=\"0 0 24 24\"\n",
              "       width=\"24px\">\n",
              "    <path d=\"M0 0h24v24H0V0z\" fill=\"none\"/>\n",
              "    <path d=\"M18.56 5.44l.94 2.06.94-2.06 2.06-.94-2.06-.94-.94-2.06-.94 2.06-2.06.94zm-11 1L8.5 8.5l.94-2.06 2.06-.94-2.06-.94L8.5 2.5l-.94 2.06-2.06.94zm10 10l.94 2.06.94-2.06 2.06-.94-2.06-.94-.94-2.06-.94 2.06-2.06.94z\"/><path d=\"M17.41 7.96l-1.37-1.37c-.4-.4-.92-.59-1.43-.59-.52 0-1.04.2-1.43.59L10.3 9.45l-7.72 7.72c-.78.78-.78 2.05 0 2.83L4 21.41c.39.39.9.59 1.41.59.51 0 1.02-.2 1.41-.59l7.78-7.78 2.81-2.81c.8-.78.8-2.07 0-2.86zM5.41 20L4 18.59l7.72-7.72 1.47 1.35L5.41 20z\"/>\n",
              "  </svg>\n",
              "      </button>\n",
              "      \n",
              "  <style>\n",
              "    .colab-df-container {\n",
              "      display:flex;\n",
              "      flex-wrap:wrap;\n",
              "      gap: 12px;\n",
              "    }\n",
              "\n",
              "    .colab-df-convert {\n",
              "      background-color: #E8F0FE;\n",
              "      border: none;\n",
              "      border-radius: 50%;\n",
              "      cursor: pointer;\n",
              "      display: none;\n",
              "      fill: #1967D2;\n",
              "      height: 32px;\n",
              "      padding: 0 0 0 0;\n",
              "      width: 32px;\n",
              "    }\n",
              "\n",
              "    .colab-df-convert:hover {\n",
              "      background-color: #E2EBFA;\n",
              "      box-shadow: 0px 1px 2px rgba(60, 64, 67, 0.3), 0px 1px 3px 1px rgba(60, 64, 67, 0.15);\n",
              "      fill: #174EA6;\n",
              "    }\n",
              "\n",
              "    [theme=dark] .colab-df-convert {\n",
              "      background-color: #3B4455;\n",
              "      fill: #D2E3FC;\n",
              "    }\n",
              "\n",
              "    [theme=dark] .colab-df-convert:hover {\n",
              "      background-color: #434B5C;\n",
              "      box-shadow: 0px 1px 3px 1px rgba(0, 0, 0, 0.15);\n",
              "      filter: drop-shadow(0px 1px 2px rgba(0, 0, 0, 0.3));\n",
              "      fill: #FFFFFF;\n",
              "    }\n",
              "  </style>\n",
              "\n",
              "      <script>\n",
              "        const buttonEl =\n",
              "          document.querySelector('#df-6376a4e4-015b-4474-afe6-e21c15c6f179 button.colab-df-convert');\n",
              "        buttonEl.style.display =\n",
              "          google.colab.kernel.accessAllowed ? 'block' : 'none';\n",
              "\n",
              "        async function convertToInteractive(key) {\n",
              "          const element = document.querySelector('#df-6376a4e4-015b-4474-afe6-e21c15c6f179');\n",
              "          const dataTable =\n",
              "            await google.colab.kernel.invokeFunction('convertToInteractive',\n",
              "                                                     [key], {});\n",
              "          if (!dataTable) return;\n",
              "\n",
              "          const docLinkHtml = 'Like what you see? Visit the ' +\n",
              "            '<a target=\"_blank\" href=https://colab.research.google.com/notebooks/data_table.ipynb>data table notebook</a>'\n",
              "            + ' to learn more about interactive tables.';\n",
              "          element.innerHTML = '';\n",
              "          dataTable['output_type'] = 'display_data';\n",
              "          await google.colab.output.renderOutput(dataTable, element);\n",
              "          const docLink = document.createElement('div');\n",
              "          docLink.innerHTML = docLinkHtml;\n",
              "          element.appendChild(docLink);\n",
              "        }\n",
              "      </script>\n",
              "    </div>\n",
              "  </div>\n",
              "  "
            ]
          },
          "metadata": {},
          "execution_count": 61
        }
      ],
      "source": [
        "users_df.head(3)"
      ]
    },
    {
      "cell_type": "markdown",
      "metadata": {
        "id": "7hBIi_osiCS2"
      },
      "source": [
        "### Dataset Rows & Columns count"
      ]
    },
    {
      "cell_type": "code",
      "execution_count": 62,
      "metadata": {
        "colab": {
          "base_uri": "https://localhost:8080/"
        },
        "id": "Kllu7SJgmLij",
        "outputId": "611d3203-3e04-4de7-8e05-cc5d710b4aa0"
      },
      "outputs": [
        {
          "output_type": "stream",
          "name": "stdout",
          "text": [
            "---------------------------------\n",
            "books dataframe rows and columns:\n",
            "(271360, 8)\n",
            "---------------------------------\n",
            "ratings dataframe rows and columns:\n",
            "(1149780, 3)\n",
            "---------------------------------\n",
            "users dataframe rows and columns:\n",
            "(278858, 3)\n"
          ]
        }
      ],
      "source": [
        "# Dataset Rows & Columns count\n",
        "dict_df={'books':books_df,'ratings':ratings_df,'users':users_df}\n",
        "for key in dict_df.keys():\n",
        "  print(f'---------------------------------\\n{key} dataframe rows and columns:\\n{dict_df[key].shape}')\n"
      ]
    },
    {
      "cell_type": "markdown",
      "metadata": {
        "id": "JlHwYmJAmNHm"
      },
      "source": [
        "### Dataset Information"
      ]
    },
    {
      "cell_type": "code",
      "execution_count": 63,
      "metadata": {
        "colab": {
          "base_uri": "https://localhost:8080/"
        },
        "id": "e9hRXRi6meOf",
        "outputId": "9087de72-7926-4d12-bf64-783640e678f4"
      },
      "outputs": [
        {
          "output_type": "stream",
          "name": "stdout",
          "text": [
            "<class 'pandas.core.frame.DataFrame'>\n",
            "RangeIndex: 271360 entries, 0 to 271359\n",
            "Data columns (total 8 columns):\n",
            " #   Column               Non-Null Count   Dtype \n",
            "---  ------               --------------   ----- \n",
            " 0   ISBN                 271360 non-null  object\n",
            " 1   Book-Title           271360 non-null  object\n",
            " 2   Book-Author          271359 non-null  object\n",
            " 3   Year-Of-Publication  271360 non-null  object\n",
            " 4   Publisher            271358 non-null  object\n",
            " 5   Image-URL-S          271360 non-null  object\n",
            " 6   Image-URL-M          271360 non-null  object\n",
            " 7   Image-URL-L          271357 non-null  object\n",
            "dtypes: object(8)\n",
            "memory usage: 16.6+ MB\n",
            "-------------Info of books dataframe------------------\n",
            "\n",
            "\n",
            "None\n",
            "<class 'pandas.core.frame.DataFrame'>\n",
            "RangeIndex: 1149780 entries, 0 to 1149779\n",
            "Data columns (total 3 columns):\n",
            " #   Column       Non-Null Count    Dtype \n",
            "---  ------       --------------    ----- \n",
            " 0   User-ID      1149780 non-null  int64 \n",
            " 1   ISBN         1149780 non-null  object\n",
            " 2   Book-Rating  1149780 non-null  int64 \n",
            "dtypes: int64(2), object(1)\n",
            "memory usage: 26.3+ MB\n",
            "-------------Info of ratings dataframe------------------\n",
            "\n",
            "\n",
            "None\n",
            "<class 'pandas.core.frame.DataFrame'>\n",
            "RangeIndex: 278858 entries, 0 to 278857\n",
            "Data columns (total 3 columns):\n",
            " #   Column    Non-Null Count   Dtype  \n",
            "---  ------    --------------   -----  \n",
            " 0   User-ID   278858 non-null  int64  \n",
            " 1   Location  278858 non-null  object \n",
            " 2   Age       168096 non-null  float64\n",
            "dtypes: float64(1), int64(1), object(1)\n",
            "memory usage: 6.4+ MB\n",
            "-------------Info of users dataframe------------------\n",
            "\n",
            "\n",
            "None\n"
          ]
        }
      ],
      "source": [
        "# Dataset Info\n",
        "for key in dict_df.keys():\n",
        "  print(f'-------------Info of {key} dataframe------------------\\n\\n\\n{dict_df[key].info()}')\n"
      ]
    },
    {
      "cell_type": "markdown",
      "metadata": {
        "id": "35m5QtbWiB9F"
      },
      "source": [
        "#### Duplicate Values"
      ]
    },
    {
      "cell_type": "code",
      "execution_count": 64,
      "metadata": {
        "colab": {
          "base_uri": "https://localhost:8080/"
        },
        "id": "1sLdpKYkmox0",
        "outputId": "caeb8527-8390-4da7-cb75-99064c1ef75c"
      },
      "outputs": [
        {
          "output_type": "stream",
          "name": "stdout",
          "text": [
            "--------------Duplicates in books------------------------\n",
            "\n",
            "\n",
            "ISBN                   0\n",
            "Book-Title             0\n",
            "Book-Author            0\n",
            "Year-Of-Publication    0\n",
            "Publisher              0\n",
            "Image-URL-S            0\n",
            "Image-URL-M            0\n",
            "Image-URL-L            0\n",
            "dtype: int64\n",
            "\n",
            "\n",
            "--------------Duplicates in ratings------------------------\n",
            "\n",
            "\n",
            "User-ID        0\n",
            "ISBN           0\n",
            "Book-Rating    0\n",
            "dtype: int64\n",
            "\n",
            "\n",
            "--------------Duplicates in users------------------------\n",
            "\n",
            "\n",
            "User-ID     0\n",
            "Location    0\n",
            "Age         0\n",
            "dtype: int64\n",
            "\n",
            "\n"
          ]
        }
      ],
      "source": [
        "# Dataset Duplicate Value Count\n",
        "for key in dict_df.keys():\n",
        "  print(f'--------------Duplicates in {key}------------------------\\n\\n\\n{dict_df[key][dict_df[key].duplicated()].count()}\\n\\n')\n"
      ]
    },
    {
      "cell_type": "markdown",
      "metadata": {
        "id": "PoPl-ycgm1ru"
      },
      "source": [
        "#### Missing Values/Null Values"
      ]
    },
    {
      "cell_type": "code",
      "execution_count": 65,
      "metadata": {
        "colab": {
          "base_uri": "https://localhost:8080/"
        },
        "id": "GgHWkxvamxVg",
        "outputId": "e44a3de7-ee06-4d7d-8e4a-594133a55634"
      },
      "outputs": [
        {
          "output_type": "stream",
          "name": "stdout",
          "text": [
            "---------------Missing values in books dataframe----------------------\n",
            "\n",
            "\n",
            "ISBN                   0\n",
            "Book-Title             0\n",
            "Book-Author            1\n",
            "Year-Of-Publication    0\n",
            "Publisher              2\n",
            "Image-URL-S            0\n",
            "Image-URL-M            0\n",
            "Image-URL-L            3\n",
            "dtype: int64\n",
            "\n",
            "---------------Missing values in ratings dataframe----------------------\n",
            "\n",
            "\n",
            "User-ID        0\n",
            "ISBN           0\n",
            "Book-Rating    0\n",
            "dtype: int64\n",
            "\n",
            "---------------Missing values in users dataframe----------------------\n",
            "\n",
            "\n",
            "User-ID          0\n",
            "Location         0\n",
            "Age         110762\n",
            "dtype: int64\n",
            "\n"
          ]
        }
      ],
      "source": [
        "# Missing Values/Null Values Count\n",
        "for key in dict_df.keys():\n",
        "  print(f'---------------Missing values in {key} dataframe----------------------\\n\\n\\n{dict_df[key].isna().sum()}\\n')\n",
        "\n",
        "\n"
      ]
    },
    {
      "cell_type": "code",
      "execution_count": 66,
      "metadata": {
        "colab": {
          "base_uri": "https://localhost:8080/",
          "height": 550
        },
        "id": "3q5wnI3om9sJ",
        "outputId": "649ab877-a6e5-44df-bbdb-77704f0fccd4"
      },
      "outputs": [
        {
          "output_type": "execute_result",
          "data": {
            "text/plain": [
              "<Axes: >"
            ]
          },
          "metadata": {},
          "execution_count": 66
        },
        {
          "output_type": "display_data",
          "data": {
            "text/plain": [
              "<Figure size 2500x1000 with 2 Axes>"
            ],
            "image/png": "[encoded data removed]"
          },
          "metadata": {}
        }
      ],
      "source": [
        "# Visualizing the missing values in users dataframe\n",
        "msno.matrix(users_df)"
      ]
    },
    {
      "cell_type": "code",
      "execution_count": 67,
      "metadata": {
        "colab": {
          "base_uri": "https://localhost:8080/",
          "height": 477
        },
        "id": "Hs8aBpqW8RNu",
        "outputId": "9d53f79f-40ef-4952-f9ae-acf377cac383"
      },
      "outputs": [
        {
          "output_type": "display_data",
          "data": {
            "text/plain": [
              "<Figure size 640x480 with 1 Axes>"
            ],
            "image/png": "[encoded data removed]"
          },
          "metadata": {}
        }
      ],
      "source": [
        "# set the background style of the plot\n",
        "import matplotlib.pyplot as plt\n",
        "sns.set_style('whitegrid')\n",
        "sns.distplot(users_df['Age'], kde = False, color ='red', bins = 30)\n",
        "plt.show()"
      ]
    },
    {
      "cell_type": "markdown",
      "metadata": {
        "id": "PzX0CFRX9m0J"
      },
      "source": [
        "#Checking for people whoes age is greater than 85"
      ]
    },
    {
      "cell_type": "code",
      "execution_count": 68,
      "metadata": {
        "colab": {
          "base_uri": "https://localhost:8080/",
          "height": 477
        },
        "id": "EpGx8xEg9hFG",
        "outputId": "27d8c623-d686-4318-c35b-9b40323d06c6"
      },
      "outputs": [
        {
          "output_type": "display_data",
          "data": {
            "text/plain": [
              "<Figure size 640x480 with 1 Axes>"
            ],
            "image/png": "[encoded data removed]"
          },
          "metadata": {}
        }
      ],
      "source": [
        "# set the background style of the plot\n",
        "import matplotlib.pyplot as plt\n",
        "sns.set_style('whitegrid')\n",
        "sns.distplot(users_df[users_df['Age']>85]['Age'], kde = False, color ='red', bins = 30)\n",
        "plt.show()"
      ]
    },
    {
      "cell_type": "markdown",
      "metadata": {
        "id": "oUmu4RT190mu"
      },
      "source": [
        "#Replacing people with age greater than 85 with mean age."
      ]
    },
    {
      "cell_type": "code",
      "execution_count": 69,
      "metadata": {
        "colab": {
          "base_uri": "https://localhost:8080/"
        },
        "id": "qxg1qTdP_R-U",
        "outputId": "4f2828d6-2087-4d8b-ff44-9b89dc91a730"
      },
      "outputs": [
        {
          "output_type": "execute_result",
          "data": {
            "text/plain": [
              "34.75143370454978"
            ]
          },
          "metadata": {},
          "execution_count": 69
        }
      ],
      "source": [
        "users_df['Age'].mean()"
      ]
    },
    {
      "cell_type": "code",
      "execution_count": 70,
      "metadata": {
        "colab": {
          "base_uri": "https://localhost:8080/"
        },
        "id": "LBP81B4M_YDm",
        "outputId": "92c6d1d5-2f0d-4aa8-bbca-77fb45b3c618"
      },
      "outputs": [
        {
          "output_type": "execute_result",
          "data": {
            "text/plain": [
              "1288      103.0\n",
              "1322      104.0\n",
              "1578      231.0\n",
              "3084      104.0\n",
              "3210      119.0\n",
              "          ...  \n",
              "276352    104.0\n",
              "277107    104.0\n",
              "277503    103.0\n",
              "277558     98.0\n",
              "278301    104.0\n",
              "Name: Age, Length: 452, dtype: float64"
            ]
          },
          "metadata": {},
          "execution_count": 70
        }
      ],
      "source": [
        "users_df[users_df['Age']>85]['Age']"
      ]
    },
    {
      "cell_type": "code",
      "execution_count": 71,
      "metadata": {
        "id": "m7TTKzGc-Kjw"
      },
      "outputs": [],
      "source": [
        "users_df[users_df['Age']>85]['Age']=users_df['Age'].mean()"
      ]
    },
    {
      "cell_type": "code",
      "execution_count": 72,
      "metadata": {
        "colab": {
          "base_uri": "https://localhost:8080/",
          "height": 477
        },
        "id": "5tdAj0QW-WKX",
        "outputId": "42dd4bc8-8466-4cd0-f8bd-390423d904c9"
      },
      "outputs": [
        {
          "output_type": "display_data",
          "data": {
            "text/plain": [
              "<Figure size 640x480 with 1 Axes>"
            ],
            "image/png": "[encoded data removed]"
          },
          "metadata": {}
        }
      ],
      "source": [
        "sns.set_style('whitegrid')\n",
        "sns.distplot(users_df['Age'], kde = False, color ='red', bins = 30)\n",
        "plt.show()"
      ]
    },
    {
      "cell_type": "markdown",
      "metadata": {
        "id": "H0kj-8xxnORC"
      },
      "source": [
        "### What did you know about your dataset?"
      ]
    },
    {
      "cell_type": "markdown",
      "metadata": {
        "id": "gfoNAAC-nUe_"
      },
      "source": [
        "Answer Here"
      ]
    },
    {
      "cell_type": "markdown",
      "metadata": {
        "id": "nA9Y7ga8ng1Z"
      },
      "source": [
        "## ***2. Understanding Your Variables***"
      ]
    },
    {
      "cell_type": "code",
      "execution_count": 73,
      "metadata": {
        "colab": {
          "base_uri": "https://localhost:8080/"
        },
        "id": "j7xfkqrt5Ag5",
        "outputId": "7aa01e9f-2b2e-4bb1-f875-1cac3058b53e"
      },
      "outputs": [
        {
          "output_type": "stream",
          "name": "stdout",
          "text": [
            "########################  Columns in books dataframe   ########################\n",
            "\n",
            "\n",
            "Index(['ISBN', 'Book-Title', 'Book-Author', 'Year-Of-Publication', 'Publisher',\n",
            "       'Image-URL-S', 'Image-URL-M', 'Image-URL-L'],\n",
            "      dtype='object')\n",
            "\n",
            "\n",
            "########################  Columns in ratings dataframe   ########################\n",
            "\n",
            "\n",
            "Index(['User-ID', 'ISBN', 'Book-Rating'], dtype='object')\n",
            "\n",
            "\n",
            "########################  Columns in users dataframe   ########################\n",
            "\n",
            "\n",
            "Index(['User-ID', 'Location', 'Age'], dtype='object')\n",
            "\n",
            "\n"
          ]
        }
      ],
      "source": [
        "# Dataset \n",
        "for key in dict_df.keys():\n",
        "  print(f'########################  Columns in {key} dataframe   ########################\\n\\n\\n{dict_df[key].columns}\\n\\n')"
      ]
    },
    {
      "cell_type": "code",
      "execution_count": 74,
      "metadata": {
        "colab": {
          "base_uri": "https://localhost:8080/"
        },
        "id": "DnOaZdaE5Q5t",
        "outputId": "fe602640-463c-4e76-e9e8-9aed2f6c54e6"
      },
      "outputs": [
        {
          "output_type": "stream",
          "name": "stdout",
          "text": [
            "----------------Description of books dataframe-------------------------\n",
            "\n",
            "\n",
            "              ISBN      Book-Title      Book-Author Year-Of-Publication  \\\n",
            "count       271360          271360           271359              271360   \n",
            "unique      271360          242135           102023                 118   \n",
            "top     0195153448  Selected Poems  Agatha Christie                2002   \n",
            "freq             1              27              632               17627   \n",
            "\n",
            "        Publisher                                        Image-URL-S  \\\n",
            "count      271358                                             271360   \n",
            "unique      16807                                             271044   \n",
            "top     Harlequin  http://images.amazon.com/images/P/185326119X.0...   \n",
            "freq         7535                                                  2   \n",
            "\n",
            "                                              Image-URL-M  \\\n",
            "count                                              271360   \n",
            "unique                                             271044   \n",
            "top     http://images.amazon.com/images/P/185326119X.0...   \n",
            "freq                                                    2   \n",
            "\n",
            "                                              Image-URL-L  \n",
            "count                                              271357  \n",
            "unique                                             271041  \n",
            "top     http://images.amazon.com/images/P/225307649X.0...  \n",
            "freq                                                    2  \n",
            "\n",
            "\n",
            "----------------Description of ratings dataframe-------------------------\n",
            "\n",
            "\n",
            "            User-ID   Book-Rating\n",
            "count  1.149780e+06  1.149780e+06\n",
            "mean   1.403864e+05  2.866950e+00\n",
            "std    8.056228e+04  3.854184e+00\n",
            "min    2.000000e+00  0.000000e+00\n",
            "25%    7.034500e+04  0.000000e+00\n",
            "50%    1.410100e+05  0.000000e+00\n",
            "75%    2.110280e+05  7.000000e+00\n",
            "max    2.788540e+05  1.000000e+01\n",
            "\n",
            "\n",
            "----------------Description of users dataframe-------------------------\n",
            "\n",
            "\n",
            "            User-ID            Age\n",
            "count  278858.00000  168096.000000\n",
            "mean   139429.50000      34.751434\n",
            "std     80499.51502      14.428097\n",
            "min         1.00000       0.000000\n",
            "25%     69715.25000      24.000000\n",
            "50%    139429.50000      32.000000\n",
            "75%    209143.75000      44.000000\n",
            "max    278858.00000     244.000000\n",
            "\n",
            "\n"
          ]
        }
      ],
      "source": [
        "# Dataset Describe\n",
        "for key in dict_df.keys():\n",
        "  print(f'----------------Description of {key} dataframe-------------------------\\n\\n\\n{dict_df[key].describe()}\\n\\n')"
      ]
    },
    {
      "cell_type": "markdown",
      "metadata": {
        "id": "PBTbrJXOngz2"
      },
      "source": [
        "### Variables Description "
      ]
    },
    {
      "cell_type": "markdown",
      "metadata": {
        "id": "aJV4KIxSnxay"
      },
      "source": [
        "Answer Here"
      ]
    },
    {
      "cell_type": "markdown",
      "metadata": {
        "id": "u3PMJOP6ngxN"
      },
      "source": [
        "### Check Unique Values for each variable."
      ]
    },
    {
      "cell_type": "code",
      "execution_count": 75,
      "metadata": {
        "colab": {
          "base_uri": "https://localhost:8080/"
        },
        "id": "zms12Yq5n-jE",
        "outputId": "24668374-2fb4-4db7-b839-b6f56dca922a"
      },
      "outputs": [
        {
          "output_type": "stream",
          "name": "stdout",
          "text": [
            "--------------Unique values in books dataframe-------------------------\n",
            "\n",
            "\n",
            "ISBN                   271360\n",
            "Book-Title             242135\n",
            "Book-Author            102023\n",
            "Year-Of-Publication       118\n",
            "Publisher               16807\n",
            "Image-URL-S            271044\n",
            "Image-URL-M            271044\n",
            "Image-URL-L            271041\n",
            "dtype: int64\n",
            "\n",
            "\n",
            "--------------Unique values in ratings dataframe-------------------------\n",
            "\n",
            "\n",
            "User-ID        105283\n",
            "ISBN           340556\n",
            "Book-Rating        11\n",
            "dtype: int64\n",
            "\n",
            "\n",
            "--------------Unique values in users dataframe-------------------------\n",
            "\n",
            "\n",
            "User-ID     278858\n",
            "Location     57339\n",
            "Age            165\n",
            "dtype: int64\n",
            "\n",
            "\n"
          ]
        }
      ],
      "source": [
        "# Check Unique Values for each variable.\n",
        "for key in dict_df.keys():\n",
        "  print(f'--------------Unique values in {key} dataframe-------------------------\\n\\n\\n{dict_df[key].nunique()}\\n\\n')"
      ]
    },
    {
      "cell_type": "markdown",
      "metadata": {
        "id": "dauF4eBmngu3"
      },
      "source": [
        "## 3. ***Data Wrangling***"
      ]
    },
    {
      "cell_type": "markdown",
      "metadata": {
        "id": "bKJF3rekwFvQ"
      },
      "source": [
        "### Data Wrangling Code"
      ]
    },
    {
      "cell_type": "code",
      "execution_count": 76,
      "metadata": {
        "id": "wk-9a2fpoLcV"
      },
      "outputs": [],
      "source": [
        "# Write your code to make your dataset analysis ready."
      ]
    },
    {
      "cell_type": "markdown",
      "metadata": {
        "id": "MSa1f5Uengrz"
      },
      "source": [
        "### What all manipulations have you done and insights you found?"
      ]
    },
    {
      "cell_type": "markdown",
      "metadata": {
        "id": "LbyXE7I1olp8"
      },
      "source": [
        "Answer Here."
      ]
    },
    {
      "cell_type": "markdown",
      "metadata": {
        "id": "GF8Ens_Soomf"
      },
      "source": [
        "## ***4. Data Vizualization, Storytelling & Experimenting with charts : Understand the relationships between variables***"
      ]
    },
    {
      "cell_type": "markdown",
      "metadata": {
        "id": "0wOQAZs5pc--"
      },
      "source": [
        "#### Chart - 1"
      ]
    },
    {
      "cell_type": "code",
      "execution_count": 77,
      "metadata": {
        "id": "7v_ESjsspbW7"
      },
      "outputs": [],
      "source": [
        "# Chart - 1 visualization code"
      ]
    },
    {
      "cell_type": "markdown",
      "metadata": {
        "id": "K5QZ13OEpz2H"
      },
      "source": [
        "##### 1. Why did you pick the specific chart?"
      ]
    },
    {
      "cell_type": "markdown",
      "metadata": {
        "id": "XESiWehPqBRc"
      },
      "source": [
        "Answer Here."
      ]
    },
    {
      "cell_type": "markdown",
      "metadata": {
        "id": "lQ7QKXXCp7Bj"
      },
      "source": [
        "##### 2. What is/are the insight(s) found from the chart?"
      ]
    },
    {
      "cell_type": "markdown",
      "metadata": {
        "id": "C_j1G7yiqdRP"
      },
      "source": [
        "Answer Here"
      ]
    },
    {
      "cell_type": "markdown",
      "metadata": {
        "id": "448CDAPjqfQr"
      },
      "source": [
        "##### 3. Will the gained insights help creating a positive business impact? \n",
        "Are there any insights that lead to negative growth? Justify with specific reason."
      ]
    },
    {
      "cell_type": "markdown",
      "metadata": {
        "id": "3cspy4FjqxJW"
      },
      "source": [
        "Answer Here"
      ]
    },
    {
      "cell_type": "markdown",
      "metadata": {
        "id": "KSlN3yHqYklG"
      },
      "source": [
        "#### Chart - 2"
      ]
    },
    {
      "cell_type": "code",
      "execution_count": 78,
      "metadata": {
        "id": "R4YgtaqtYklH"
      },
      "outputs": [],
      "source": [
        "# Chart - 2 visualization code"
      ]
    },
    {
      "cell_type": "markdown",
      "metadata": {
        "id": "t6dVpIINYklI"
      },
      "source": [
        "##### 1. Why did you pick the specific chart?"
      ]
    },
    {
      "cell_type": "markdown",
      "metadata": {
        "id": "5aaW0BYyYklI"
      },
      "source": [
        "Answer Here."
      ]
    },
    {
      "cell_type": "markdown",
      "metadata": {
        "id": "ijmpgYnKYklI"
      },
      "source": [
        "##### 2. What is/are the insight(s) found from the chart?"
      ]
    },
    {
      "cell_type": "markdown",
      "metadata": {
        "id": "PSx9atu2YklI"
      },
      "source": [
        "Answer Here"
      ]
    },
    {
      "cell_type": "markdown",
      "metadata": {
        "id": "-JiQyfWJYklI"
      },
      "source": [
        "##### 3. Will the gained insights help creating a positive business impact? \n",
        "Are there any insights that lead to negative growth? Justify with specific reason."
      ]
    },
    {
      "cell_type": "markdown",
      "metadata": {
        "id": "BcBbebzrYklV"
      },
      "source": [
        "Answer Here"
      ]
    },
    {
      "cell_type": "markdown",
      "metadata": {
        "id": "EM7whBJCYoAo"
      },
      "source": [
        "#### Chart - 3"
      ]
    },
    {
      "cell_type": "code",
      "execution_count": 79,
      "metadata": {
        "id": "t6GMdE67YoAp"
      },
      "outputs": [],
      "source": [
        "# Chart - 3 visualization code"
      ]
    },
    {
      "cell_type": "markdown",
      "metadata": {
        "id": "fge-S5ZAYoAp"
      },
      "source": [
        "##### 1. Why did you pick the specific chart?"
      ]
    },
    {
      "cell_type": "markdown",
      "metadata": {
        "id": "5dBItgRVYoAp"
      },
      "source": [
        "Answer Here."
      ]
    },
    {
      "cell_type": "markdown",
      "metadata": {
        "id": "85gYPyotYoAp"
      },
      "source": [
        "##### 2. What is/are the insight(s) found from the chart?"
      ]
    },
    {
      "cell_type": "markdown",
      "metadata": {
        "id": "4jstXR6OYoAp"
      },
      "source": [
        "Answer Here"
      ]
    },
    {
      "cell_type": "markdown",
      "metadata": {
        "id": "RoGjAbkUYoAp"
      },
      "source": [
        "##### 3. Will the gained insights help creating a positive business impact? \n",
        "Are there any insights that lead to negative growth? Justify with specific reason."
      ]
    },
    {
      "cell_type": "markdown",
      "metadata": {
        "id": "zfJ8IqMcYoAp"
      },
      "source": [
        "Answer Here"
      ]
    },
    {
      "cell_type": "markdown",
      "metadata": {
        "id": "4Of9eVA-YrdM"
      },
      "source": [
        "#### Chart - 4"
      ]
    },
    {
      "cell_type": "code",
      "execution_count": 80,
      "metadata": {
        "id": "irlUoxc8YrdO"
      },
      "outputs": [],
      "source": [
        "# Chart - 4 visualization code"
      ]
    },
    {
      "cell_type": "markdown",
      "metadata": {
        "id": "iky9q4vBYrdO"
      },
      "source": [
        "##### 1. Why did you pick the specific chart?"
      ]
    },
    {
      "cell_type": "markdown",
      "metadata": {
        "id": "aJRCwT6DYrdO"
      },
      "source": [
        "Answer Here."
      ]
    },
    {
      "cell_type": "markdown",
      "metadata": {
        "id": "F6T5p64dYrdO"
      },
      "source": [
        "##### 2. What is/are the insight(s) found from the chart?"
      ]
    },
    {
      "cell_type": "markdown",
      "metadata": {
        "id": "Xx8WAJvtYrdO"
      },
      "source": [
        "Answer Here"
      ]
    },
    {
      "cell_type": "markdown",
      "metadata": {
        "id": "y-Ehk30pYrdP"
      },
      "source": [
        "##### 3. Will the gained insights help creating a positive business impact? \n",
        "Are there any insights that lead to negative growth? Justify with specific reason."
      ]
    },
    {
      "cell_type": "markdown",
      "metadata": {
        "id": "jLNxxz7MYrdP"
      },
      "source": [
        "Answer Here"
      ]
    },
    {
      "cell_type": "markdown",
      "metadata": {
        "id": "bamQiAODYuh1"
      },
      "source": [
        "#### Chart - 5"
      ]
    },
    {
      "cell_type": "code",
      "execution_count": 81,
      "metadata": {
        "id": "TIJwrbroYuh3"
      },
      "outputs": [],
      "source": [
        "# Chart - 5 visualization code"
      ]
    },
    {
      "cell_type": "markdown",
      "metadata": {
        "id": "QHF8YVU7Yuh3"
      },
      "source": [
        "##### 1. Why did you pick the specific chart?"
      ]
    },
    {
      "cell_type": "markdown",
      "metadata": {
        "id": "dcxuIMRPYuh3"
      },
      "source": [
        "Answer Here."
      ]
    },
    {
      "cell_type": "markdown",
      "metadata": {
        "id": "GwzvFGzlYuh3"
      },
      "source": [
        "##### 2. What is/are the insight(s) found from the chart?"
      ]
    },
    {
      "cell_type": "markdown",
      "metadata": {
        "id": "uyqkiB8YYuh3"
      },
      "source": [
        "Answer Here"
      ]
    },
    {
      "cell_type": "markdown",
      "metadata": {
        "id": "qYpmQ266Yuh3"
      },
      "source": [
        "##### 3. Will the gained insights help creating a positive business impact? \n",
        "Are there any insights that lead to negative growth? Justify with specific reason."
      ]
    },
    {
      "cell_type": "markdown",
      "metadata": {
        "id": "_WtzZ_hCYuh4"
      },
      "source": [
        "Answer Here"
      ]
    },
    {
      "cell_type": "markdown",
      "metadata": {
        "id": "OH-pJp9IphqM"
      },
      "source": [
        "#### Chart - 6"
      ]
    },
    {
      "cell_type": "code",
      "execution_count": 82,
      "metadata": {
        "id": "kuRf4wtuphqN"
      },
      "outputs": [],
      "source": [
        "# Chart - 6 visualization code"
      ]
    },
    {
      "cell_type": "markdown",
      "metadata": {
        "id": "bbFf2-_FphqN"
      },
      "source": [
        "##### 1. Why did you pick the specific chart?"
      ]
    },
    {
      "cell_type": "markdown",
      "metadata": {
        "id": "loh7H2nzphqN"
      },
      "source": [
        "Answer Here."
      ]
    },
    {
      "cell_type": "markdown",
      "metadata": {
        "id": "_ouA3fa0phqN"
      },
      "source": [
        "##### 2. What is/are the insight(s) found from the chart?"
      ]
    },
    {
      "cell_type": "markdown",
      "metadata": {
        "id": "VECbqPI7phqN"
      },
      "source": [
        "Answer Here"
      ]
    },
    {
      "cell_type": "markdown",
      "metadata": {
        "id": "Seke61FWphqN"
      },
      "source": [
        "##### 3. Will the gained insights help creating a positive business impact? \n",
        "Are there any insights that lead to negative growth? Justify with specific reason."
      ]
    },
    {
      "cell_type": "markdown",
      "metadata": {
        "id": "DW4_bGpfphqN"
      },
      "source": [
        "Answer Here"
      ]
    },
    {
      "cell_type": "markdown",
      "metadata": {
        "id": "PIIx-8_IphqN"
      },
      "source": [
        "#### Chart - 7"
      ]
    },
    {
      "cell_type": "code",
      "execution_count": 83,
      "metadata": {
        "id": "lqAIGUfyphqO"
      },
      "outputs": [],
      "source": [
        "# Chart - 7 visualization code"
      ]
    },
    {
      "cell_type": "markdown",
      "metadata": {
        "id": "t27r6nlMphqO"
      },
      "source": [
        "##### 1. Why did you pick the specific chart?"
      ]
    },
    {
      "cell_type": "markdown",
      "metadata": {
        "id": "iv6ro40sphqO"
      },
      "source": [
        "Answer Here."
      ]
    },
    {
      "cell_type": "markdown",
      "metadata": {
        "id": "r2jJGEOYphqO"
      },
      "source": [
        "##### 2. What is/are the insight(s) found from the chart?"
      ]
    },
    {
      "cell_type": "markdown",
      "metadata": {
        "id": "Po6ZPi4hphqO"
      },
      "source": [
        "Answer Here"
      ]
    },
    {
      "cell_type": "markdown",
      "metadata": {
        "id": "b0JNsNcRphqO"
      },
      "source": [
        "##### 3. Will the gained insights help creating a positive business impact? \n",
        "Are there any insights that lead to negative growth? Justify with specific reason."
      ]
    },
    {
      "cell_type": "markdown",
      "metadata": {
        "id": "xvSq8iUTphqO"
      },
      "source": [
        "Answer Here"
      ]
    },
    {
      "cell_type": "markdown",
      "metadata": {
        "id": "BZR9WyysphqO"
      },
      "source": [
        "#### Chart - 8"
      ]
    },
    {
      "cell_type": "code",
      "execution_count": 84,
      "metadata": {
        "id": "TdPTWpAVphqO"
      },
      "outputs": [],
      "source": [
        "# Chart - 8 visualization code"
      ]
    },
    {
      "cell_type": "markdown",
      "metadata": {
        "id": "jj7wYXLtphqO"
      },
      "source": [
        "##### 1. Why did you pick the specific chart?"
      ]
    },
    {
      "cell_type": "markdown",
      "metadata": {
        "id": "Ob8u6rCTphqO"
      },
      "source": [
        "Answer Here."
      ]
    },
    {
      "cell_type": "markdown",
      "metadata": {
        "id": "eZrbJ2SmphqO"
      },
      "source": [
        "##### 2. What is/are the insight(s) found from the chart?"
      ]
    },
    {
      "cell_type": "markdown",
      "metadata": {
        "id": "mZtgC_hjphqO"
      },
      "source": [
        "Answer Here"
      ]
    },
    {
      "cell_type": "markdown",
      "metadata": {
        "id": "rFu4xreNphqO"
      },
      "source": [
        "##### 3. Will the gained insights help creating a positive business impact? \n",
        "Are there any insights that lead to negative growth? Justify with specific reason."
      ]
    },
    {
      "cell_type": "markdown",
      "metadata": {
        "id": "ey_0qi68phqO"
      },
      "source": [
        "Answer Here"
      ]
    },
    {
      "cell_type": "markdown",
      "metadata": {
        "id": "YJ55k-q6phqO"
      },
      "source": [
        "#### Chart - 9"
      ]
    },
    {
      "cell_type": "code",
      "execution_count": 85,
      "metadata": {
        "id": "B2aS4O1ophqO"
      },
      "outputs": [],
      "source": [
        "# Chart - 9 visualization code"
      ]
    },
    {
      "cell_type": "markdown",
      "metadata": {
        "id": "gCFgpxoyphqP"
      },
      "source": [
        "##### 1. Why did you pick the specific chart?"
      ]
    },
    {
      "cell_type": "markdown",
      "metadata": {
        "id": "TVxDimi2phqP"
      },
      "source": [
        "Answer Here."
      ]
    },
    {
      "cell_type": "markdown",
      "metadata": {
        "id": "OVtJsKN_phqQ"
      },
      "source": [
        "##### 2. What is/are the insight(s) found from the chart?"
      ]
    },
    {
      "cell_type": "markdown",
      "metadata": {
        "id": "ngGi97qjphqQ"
      },
      "source": [
        "Answer Here"
      ]
    },
    {
      "cell_type": "markdown",
      "metadata": {
        "id": "lssrdh5qphqQ"
      },
      "source": [
        "##### 3. Will the gained insights help creating a positive business impact? \n",
        "Are there any insights that lead to negative growth? Justify with specific reason."
      ]
    },
    {
      "cell_type": "markdown",
      "metadata": {
        "id": "tBpY5ekJphqQ"
      },
      "source": [
        "Answer Here"
      ]
    },
    {
      "cell_type": "markdown",
      "metadata": {
        "id": "U2RJ9gkRphqQ"
      },
      "source": [
        "#### Chart - 10"
      ]
    },
    {
      "cell_type": "code",
      "execution_count": 86,
      "metadata": {
        "id": "GM7a4YP4phqQ"
      },
      "outputs": [],
      "source": [
        "# Chart - 10 visualization code"
      ]
    },
    {
      "cell_type": "markdown",
      "metadata": {
        "id": "1M8mcRywphqQ"
      },
      "source": [
        "##### 1. Why did you pick the specific chart?"
      ]
    },
    {
      "cell_type": "markdown",
      "metadata": {
        "id": "8agQvks0phqQ"
      },
      "source": [
        "Answer Here."
      ]
    },
    {
      "cell_type": "markdown",
      "metadata": {
        "id": "tgIPom80phqQ"
      },
      "source": [
        "##### 2. What is/are the insight(s) found from the chart?"
      ]
    },
    {
      "cell_type": "markdown",
      "metadata": {
        "id": "Qp13pnNzphqQ"
      },
      "source": [
        "Answer Here"
      ]
    },
    {
      "cell_type": "markdown",
      "metadata": {
        "id": "JMzcOPDDphqR"
      },
      "source": [
        "##### 3. Will the gained insights help creating a positive business impact? \n",
        "Are there any insights that lead to negative growth? Justify with specific reason."
      ]
    },
    {
      "cell_type": "markdown",
      "metadata": {
        "id": "R4Ka1PC2phqR"
      },
      "source": [
        "Answer Here"
      ]
    },
    {
      "cell_type": "markdown",
      "metadata": {
        "id": "x-EpHcCOp1ci"
      },
      "source": [
        "#### Chart - 11"
      ]
    },
    {
      "cell_type": "code",
      "execution_count": 87,
      "metadata": {
        "id": "mAQTIvtqp1cj"
      },
      "outputs": [],
      "source": [
        "# Chart - 11 visualization code"
      ]
    },
    {
      "cell_type": "markdown",
      "metadata": {
        "id": "X_VqEhTip1ck"
      },
      "source": [
        "##### 1. Why did you pick the specific chart?"
      ]
    },
    {
      "cell_type": "markdown",
      "metadata": {
        "id": "-vsMzt_np1ck"
      },
      "source": [
        "Answer Here."
      ]
    },
    {
      "cell_type": "markdown",
      "metadata": {
        "id": "8zGJKyg5p1ck"
      },
      "source": [
        "##### 2. What is/are the insight(s) found from the chart?"
      ]
    },
    {
      "cell_type": "markdown",
      "metadata": {
        "id": "ZYdMsrqVp1ck"
      },
      "source": [
        "Answer Here"
      ]
    },
    {
      "cell_type": "markdown",
      "metadata": {
        "id": "PVzmfK_Ep1ck"
      },
      "source": [
        "##### 3. Will the gained insights help creating a positive business impact? \n",
        "Are there any insights that lead to negative growth? Justify with specific reason."
      ]
    },
    {
      "cell_type": "markdown",
      "metadata": {
        "id": "druuKYZpp1ck"
      },
      "source": [
        "Answer Here"
      ]
    },
    {
      "cell_type": "markdown",
      "metadata": {
        "id": "n3dbpmDWp1ck"
      },
      "source": [
        "#### Chart - 12"
      ]
    },
    {
      "cell_type": "code",
      "execution_count": 88,
      "metadata": {
        "id": "bwevp1tKp1ck"
      },
      "outputs": [],
      "source": [
        "# Chart - 12 visualization code"
      ]
    },
    {
      "cell_type": "markdown",
      "metadata": {
        "id": "ylSl6qgtp1ck"
      },
      "source": [
        "##### 1. Why did you pick the specific chart?"
      ]
    },
    {
      "cell_type": "markdown",
      "metadata": {
        "id": "m2xqNkiQp1ck"
      },
      "source": [
        "Answer Here."
      ]
    },
    {
      "cell_type": "markdown",
      "metadata": {
        "id": "ZWILFDl5p1ck"
      },
      "source": [
        "##### 2. What is/are the insight(s) found from the chart?"
      ]
    },
    {
      "cell_type": "markdown",
      "metadata": {
        "id": "x-lUsV2mp1ck"
      },
      "source": [
        "Answer Here"
      ]
    },
    {
      "cell_type": "markdown",
      "metadata": {
        "id": "M7G43BXep1ck"
      },
      "source": [
        "##### 3. Will the gained insights help creating a positive business impact? \n",
        "Are there any insights that lead to negative growth? Justify with specific reason."
      ]
    },
    {
      "cell_type": "markdown",
      "metadata": {
        "id": "5wwDJXsLp1cl"
      },
      "source": [
        "Answer Here"
      ]
    },
    {
      "cell_type": "markdown",
      "metadata": {
        "id": "Ag9LCva-p1cl"
      },
      "source": [
        "#### Chart - 13"
      ]
    },
    {
      "cell_type": "code",
      "execution_count": 89,
      "metadata": {
        "id": "EUfxeq9-p1cl"
      },
      "outputs": [],
      "source": [
        "# Chart - 13 visualization code"
      ]
    },
    {
      "cell_type": "markdown",
      "metadata": {
        "id": "E6MkPsBcp1cl"
      },
      "source": [
        "##### 1. Why did you pick the specific chart?"
      ]
    },
    {
      "cell_type": "markdown",
      "metadata": {
        "id": "V22bRsFWp1cl"
      },
      "source": [
        "Answer Here."
      ]
    },
    {
      "cell_type": "markdown",
      "metadata": {
        "id": "2cELzS2fp1cl"
      },
      "source": [
        "##### 2. What is/are the insight(s) found from the chart?"
      ]
    },
    {
      "cell_type": "markdown",
      "metadata": {
        "id": "ozQPc2_Ip1cl"
      },
      "source": [
        "Answer Here"
      ]
    },
    {
      "cell_type": "markdown",
      "metadata": {
        "id": "3MPXvC8up1cl"
      },
      "source": [
        "##### 3. Will the gained insights help creating a positive business impact? \n",
        "Are there any insights that lead to negative growth? Justify with specific reason."
      ]
    },
    {
      "cell_type": "markdown",
      "metadata": {
        "id": "GL8l1tdLp1cl"
      },
      "source": [
        "Answer Here"
      ]
    },
    {
      "cell_type": "markdown",
      "metadata": {
        "id": "NC_X3p0fY2L0"
      },
      "source": [
        "#### Chart - 14 - Correlation Heatmap"
      ]
    },
    {
      "cell_type": "code",
      "execution_count": 90,
      "metadata": {
        "id": "xyC9zolEZNRQ"
      },
      "outputs": [],
      "source": [
        "# Correlation Heatmap visualization code"
      ]
    },
    {
      "cell_type": "markdown",
      "metadata": {
        "id": "UV0SzAkaZNRQ"
      },
      "source": [
        "##### 1. Why did you pick the specific chart?"
      ]
    },
    {
      "cell_type": "markdown",
      "metadata": {
        "id": "DVPuT8LYZNRQ"
      },
      "source": [
        "Answer Here."
      ]
    },
    {
      "cell_type": "markdown",
      "metadata": {
        "id": "YPEH6qLeZNRQ"
      },
      "source": [
        "##### 2. What is/are the insight(s) found from the chart?"
      ]
    },
    {
      "cell_type": "markdown",
      "metadata": {
        "id": "bfSqtnDqZNRR"
      },
      "source": [
        "Answer Here"
      ]
    },
    {
      "cell_type": "markdown",
      "metadata": {
        "id": "q29F0dvdveiT"
      },
      "source": [
        "#### Chart - 15 - Pair Plot "
      ]
    },
    {
      "cell_type": "code",
      "execution_count": 91,
      "metadata": {
        "id": "o58-TEIhveiU"
      },
      "outputs": [],
      "source": [
        "# Pair Plot visualization code"
      ]
    },
    {
      "cell_type": "markdown",
      "metadata": {
        "id": "EXh0U9oCveiU"
      },
      "source": [
        "##### 1. Why did you pick the specific chart?"
      ]
    },
    {
      "cell_type": "markdown",
      "metadata": {
        "id": "eMmPjTByveiU"
      },
      "source": [
        "Answer Here."
      ]
    },
    {
      "cell_type": "markdown",
      "metadata": {
        "id": "22aHeOlLveiV"
      },
      "source": [
        "##### 2. What is/are the insight(s) found from the chart?"
      ]
    },
    {
      "cell_type": "markdown",
      "metadata": {
        "id": "uPQ8RGwHveiV"
      },
      "source": [
        "Answer Here"
      ]
    },
    {
      "cell_type": "markdown",
      "metadata": {
        "id": "g-ATYxFrGrvw"
      },
      "source": [
        "## ***5. Hypothesis Testing***"
      ]
    },
    {
      "cell_type": "markdown",
      "metadata": {
        "id": "Yfr_Vlr8HBkt"
      },
      "source": [
        "### Based on your chart experiments, define three hypothetical statements from the dataset. In the next three questions, perform hypothesis testing to obtain final conclusion about the statements through your code and statistical testing."
      ]
    },
    {
      "cell_type": "markdown",
      "metadata": {
        "id": "-7MS06SUHkB-"
      },
      "source": [
        "Answer Here."
      ]
    },
    {
      "cell_type": "markdown",
      "metadata": {
        "id": "8yEUt7NnHlrM"
      },
      "source": [
        "### Hypothetical Statement - 1"
      ]
    },
    {
      "cell_type": "markdown",
      "metadata": {
        "id": "tEA2Xm5dHt1r"
      },
      "source": [
        "#### 1. State Your research hypothesis as a null hypothesis and alternate hypothesis."
      ]
    },
    {
      "cell_type": "markdown",
      "metadata": {
        "id": "HI9ZP0laH0D-"
      },
      "source": [
        "Answer Here."
      ]
    },
    {
      "cell_type": "markdown",
      "metadata": {
        "id": "I79__PHVH19G"
      },
      "source": [
        "#### 2. Perform an appropriate statistical test."
      ]
    },
    {
      "cell_type": "code",
      "execution_count": 92,
      "metadata": {
        "id": "oZrfquKtyian"
      },
      "outputs": [],
      "source": [
        "# Perform Statistical Test to obtain P-Value"
      ]
    },
    {
      "cell_type": "markdown",
      "metadata": {
        "id": "Ou-I18pAyIpj"
      },
      "source": [
        "##### Which statistical test have you done to obtain P-Value?"
      ]
    },
    {
      "cell_type": "markdown",
      "metadata": {
        "id": "s2U0kk00ygSB"
      },
      "source": [
        "Answer Here."
      ]
    },
    {
      "cell_type": "markdown",
      "metadata": {
        "id": "fF3858GYyt-u"
      },
      "source": [
        "##### Why did you choose the specific statistical test?"
      ]
    },
    {
      "cell_type": "markdown",
      "metadata": {
        "id": "HO4K0gP5y3B4"
      },
      "source": [
        "Answer Here."
      ]
    },
    {
      "cell_type": "markdown",
      "metadata": {
        "id": "4_0_7-oCpUZd"
      },
      "source": [
        "### Hypothetical Statement - 2"
      ]
    },
    {
      "cell_type": "markdown",
      "metadata": {
        "id": "hwyV_J3ipUZe"
      },
      "source": [
        "#### 1. State Your research hypothesis as a null hypothesis and alternate hypothesis."
      ]
    },
    {
      "cell_type": "markdown",
      "metadata": {
        "id": "FnpLGJ-4pUZe"
      },
      "source": [
        "Answer Here."
      ]
    },
    {
      "cell_type": "markdown",
      "metadata": {
        "id": "3yB-zSqbpUZe"
      },
      "source": [
        "#### 2. Perform an appropriate statistical test."
      ]
    },
    {
      "cell_type": "code",
      "execution_count": 93,
      "metadata": {
        "id": "sWxdNTXNpUZe"
      },
      "outputs": [],
      "source": [
        "# Perform Statistical Test to obtain P-Value"
      ]
    },
    {
      "cell_type": "markdown",
      "metadata": {
        "id": "dEUvejAfpUZe"
      },
      "source": [
        "##### Which statistical test have you done to obtain P-Value?"
      ]
    },
    {
      "cell_type": "markdown",
      "metadata": {
        "id": "oLDrPz7HpUZf"
      },
      "source": [
        "Answer Here."
      ]
    },
    {
      "cell_type": "markdown",
      "metadata": {
        "id": "Fd15vwWVpUZf"
      },
      "source": [
        "##### Why did you choose the specific statistical test?"
      ]
    },
    {
      "cell_type": "markdown",
      "metadata": {
        "id": "4xOGYyiBpUZf"
      },
      "source": [
        "Answer Here."
      ]
    },
    {
      "cell_type": "markdown",
      "metadata": {
        "id": "bn_IUdTipZyH"
      },
      "source": [
        "### Hypothetical Statement - 3"
      ]
    },
    {
      "cell_type": "markdown",
      "metadata": {
        "id": "49K5P_iCpZyH"
      },
      "source": [
        "#### 1. State Your research hypothesis as a null hypothesis and alternate hypothesis."
      ]
    },
    {
      "cell_type": "markdown",
      "metadata": {
        "id": "7gWI5rT9pZyH"
      },
      "source": [
        "Answer Here."
      ]
    },
    {
      "cell_type": "markdown",
      "metadata": {
        "id": "Nff-vKELpZyI"
      },
      "source": [
        "#### 2. Perform an appropriate statistical test."
      ]
    },
    {
      "cell_type": "code",
      "execution_count": 94,
      "metadata": {
        "id": "s6AnJQjtpZyI"
      },
      "outputs": [],
      "source": [
        "# Perform Statistical Test to obtain P-Value"
      ]
    },
    {
      "cell_type": "markdown",
      "metadata": {
        "id": "kLW572S8pZyI"
      },
      "source": [
        "##### Which statistical test have you done to obtain P-Value?"
      ]
    },
    {
      "cell_type": "markdown",
      "metadata": {
        "id": "ytWJ8v15pZyI"
      },
      "source": [
        "Answer Here."
      ]
    },
    {
      "cell_type": "markdown",
      "metadata": {
        "id": "dWbDXHzopZyI"
      },
      "source": [
        "##### Why did you choose the specific statistical test?"
      ]
    },
    {
      "cell_type": "markdown",
      "metadata": {
        "id": "M99G98V6pZyI"
      },
      "source": [
        "Answer Here."
      ]
    },
    {
      "cell_type": "markdown",
      "metadata": {
        "id": "yLjJCtPM0KBk"
      },
      "source": [
        "## ***6. Feature Engineering & Data Pre-processing***"
      ]
    },
    {
      "cell_type": "markdown",
      "metadata": {
        "id": "xiyOF9F70UgQ"
      },
      "source": [
        "### 1. Handling Missing Values"
      ]
    },
    {
      "cell_type": "code",
      "execution_count": 95,
      "metadata": {
        "id": "iRsAHk1K0fpS"
      },
      "outputs": [],
      "source": [
        "# Handling Missing Values & Missing Value Imputation"
      ]
    },
    {
      "cell_type": "markdown",
      "metadata": {
        "id": "7wuGOrhz0itI"
      },
      "source": [
        "#### What all missing value imputation techniques have you used and why did you use those techniques?"
      ]
    },
    {
      "cell_type": "markdown",
      "metadata": {
        "id": "1ixusLtI0pqI"
      },
      "source": [
        "Answer Here."
      ]
    },
    {
      "cell_type": "markdown",
      "metadata": {
        "id": "id1riN9m0vUs"
      },
      "source": [
        "### 2. Handling Outliers"
      ]
    },
    {
      "cell_type": "code",
      "execution_count": 96,
      "metadata": {
        "id": "M6w2CzZf04JK"
      },
      "outputs": [],
      "source": [
        "# Handling Outliers & Outlier treatments"
      ]
    },
    {
      "cell_type": "markdown",
      "metadata": {
        "id": "578E2V7j08f6"
      },
      "source": [
        "##### What all outlier treatment techniques have you used and why did you use those techniques?"
      ]
    },
    {
      "cell_type": "markdown",
      "metadata": {
        "id": "uGZz5OrT1HH-"
      },
      "source": [
        "Answer Here."
      ]
    },
    {
      "cell_type": "markdown",
      "metadata": {
        "id": "89xtkJwZ18nB"
      },
      "source": [
        "### 3. Categorical Encoding"
      ]
    },
    {
      "cell_type": "markdown",
      "metadata": {
        "id": "zm9KhpNSDGY5"
      },
      "source": []
    },
    {
      "cell_type": "code",
      "execution_count": 97,
      "metadata": {
        "id": "21JmIYMG2hEo"
      },
      "outputs": [],
      "source": [
        "# Encode your categorical columns"
      ]
    },
    {
      "cell_type": "markdown",
      "metadata": {
        "id": "bKefqMmZDHsM"
      },
      "source": []
    },
    {
      "cell_type": "markdown",
      "metadata": {
        "id": "67NQN5KX2AMe"
      },
      "source": [
        "#### What all categorical encoding techniques have you used & why did you use those techniques?"
      ]
    },
    {
      "cell_type": "markdown",
      "metadata": {
        "id": "UDaue5h32n_G"
      },
      "source": [
        "Answer Here."
      ]
    },
    {
      "cell_type": "markdown",
      "metadata": {
        "id": "Ih9AxjNEDJJ8"
      },
      "source": [
        "#Popularity Based Recommendation System"
      ]
    },
    {
      "cell_type": "code",
      "execution_count": 98,
      "metadata": {
        "id": "JP5m9cyoDUBr"
      },
      "outputs": [],
      "source": [
        "merged_dataset= ratings_df.merge(books_df,on='ISBN')"
      ]
    },
    {
      "cell_type": "code",
      "execution_count": 99,
      "metadata": {
        "colab": {
          "base_uri": "https://localhost:8080/",
          "height": 381
        },
        "id": "ovoVR2bHD47R",
        "outputId": "f7a37d0c-5c63-471a-a300-5ec91f30c2e5"
      },
      "outputs": [
        {
          "output_type": "execute_result",
          "data": {
            "text/plain": [
              "   User-ID        ISBN  Book-Rating            Book-Title Book-Author  \\\n",
              "0   276725  034545104X            0  Flesh Tones: A Novel  M. J. Rose   \n",
              "1     2313  034545104X            5  Flesh Tones: A Novel  M. J. Rose   \n",
              "2     6543  034545104X            0  Flesh Tones: A Novel  M. J. Rose   \n",
              "\n",
              "  Year-Of-Publication         Publisher  \\\n",
              "0                2002  Ballantine Books   \n",
              "1                2002  Ballantine Books   \n",
              "2                2002  Ballantine Books   \n",
              "\n",
              "                                         Image-URL-S  \\\n",
              "0  http://images.amazon.com/images/P/034545104X.0...   \n",
              "1  http://images.amazon.com/images/P/034545104X.0...   \n",
              "2  http://images.amazon.com/images/P/034545104X.0...   \n",
              "\n",
              "                                         Image-URL-M  \\\n",
              "0  http://images.amazon.com/images/P/034545104X.0...   \n",
              "1  http://images.amazon.com/images/P/034545104X.0...   \n",
              "2  http://images.amazon.com/images/P/034545104X.0...   \n",
              "\n",
              "                                         Image-URL-L  \n",
              "0  http://images.amazon.com/images/P/034545104X.0...  \n",
              "1  http://images.amazon.com/images/P/034545104X.0...  \n",
              "2  http://images.amazon.com/images/P/034545104X.0...  "
            ],
            "text/html": [
              "\n",
              "  <div id=\"df-9f42e722-fff5-4969-be20-875399004d27\">\n",
              "    <div class=\"colab-df-container\">\n",
              "      <div>\n",
              "<style scoped>\n",
              "    .dataframe tbody tr th:only-of-type {\n",
              "        vertical-align: middle;\n",
              "    }\n",
              "\n",
              "    .dataframe tbody tr th {\n",
              "        vertical-align: top;\n",
              "    }\n",
              "\n",
              "    .dataframe thead th {\n",
              "        text-align: right;\n",
              "    }\n",
              "</style>\n",
              "<table border=\"1\" class=\"dataframe\">\n",
              "  <thead>\n",
              "    <tr style=\"text-align: right;\">\n",
              "      <th></th>\n",
              "      <th>User-ID</th>\n",
              "      <th>ISBN</th>\n",
              "      <th>Book-Rating</th>\n",
              "      <th>Book-Title</th>\n",
              "      <th>Book-Author</th>\n",
              "      <th>Year-Of-Publication</th>\n",
              "      <th>Publisher</th>\n",
              "      <th>Image-URL-S</th>\n",
              "      <th>Image-URL-M</th>\n",
              "      <th>Image-URL-L</th>\n",
              "    </tr>\n",
              "  </thead>\n",
              "  <tbody>\n",
              "    <tr>\n",
              "      <th>0</th>\n",
              "      <td>276725</td>\n",
              "      <td>034545104X</td>\n",
              "      <td>0</td>\n",
              "      <td>Flesh Tones: A Novel</td>\n",
              "      <td>M. J. Rose</td>\n",
              "      <td>2002</td>\n",
              "      <td>Ballantine Books</td>\n",
              "      <td>http://images.amazon.com/images/P/034545104X.0...</td>\n",
              "      <td>http://images.amazon.com/images/P/034545104X.0...</td>\n",
              "      <td>http://images.amazon.com/images/P/034545104X.0...</td>\n",
              "    </tr>\n",
              "    <tr>\n",
              "      <th>1</th>\n",
              "      <td>2313</td>\n",
              "      <td>034545104X</td>\n",
              "      <td>5</td>\n",
              "      <td>Flesh Tones: A Novel</td>\n",
              "      <td>M. J. Rose</td>\n",
              "      <td>2002</td>\n",
              "      <td>Ballantine Books</td>\n",
              "      <td>http://images.amazon.com/images/P/034545104X.0...</td>\n",
              "      <td>http://images.amazon.com/images/P/034545104X.0...</td>\n",
              "      <td>http://images.amazon.com/images/P/034545104X.0...</td>\n",
              "    </tr>\n",
              "    <tr>\n",
              "      <th>2</th>\n",
              "      <td>6543</td>\n",
              "      <td>034545104X</td>\n",
              "      <td>0</td>\n",
              "      <td>Flesh Tones: A Novel</td>\n",
              "      <td>M. J. Rose</td>\n",
              "      <td>2002</td>\n",
              "      <td>Ballantine Books</td>\n",
              "      <td>http://images.amazon.com/images/P/034545104X.0...</td>\n",
              "      <td>http://images.amazon.com/images/P/034545104X.0...</td>\n",
              "      <td>http://images.amazon.com/images/P/034545104X.0...</td>\n",
              "    </tr>\n",
              "  </tbody>\n",
              "</table>\n",
              "</div>\n",
              "      <button class=\"colab-df-convert\" onclick=\"convertToInteractive('df-9f42e722-fff5-4969-be20-875399004d27')\"\n",
              "              title=\"Convert this dataframe to an interactive table.\"\n",
              "              style=\"display:none;\">\n",
              "        \n",
              "  <svg xmlns=\"http://www.w3.org/2000/svg\" height=\"24px\"viewBox=\"0 0 24 24\"\n",
              "       width=\"24px\">\n",
              "    <path d=\"M0 0h24v24H0V0z\" fill=\"none\"/>\n",
              "    <path d=\"M18.56 5.44l.94 2.06.94-2.06 2.06-.94-2.06-.94-.94-2.06-.94 2.06-2.06.94zm-11 1L8.5 8.5l.94-2.06 2.06-.94-2.06-.94L8.5 2.5l-.94 2.06-2.06.94zm10 10l.94 2.06.94-2.06 2.06-.94-2.06-.94-.94-2.06-.94 2.06-2.06.94z\"/><path d=\"M17.41 7.96l-1.37-1.37c-.4-.4-.92-.59-1.43-.59-.52 0-1.04.2-1.43.59L10.3 9.45l-7.72 7.72c-.78.78-.78 2.05 0 2.83L4 21.41c.39.39.9.59 1.41.59.51 0 1.02-.2 1.41-.59l7.78-7.78 2.81-2.81c.8-.78.8-2.07 0-2.86zM5.41 20L4 18.59l7.72-7.72 1.47 1.35L5.41 20z\"/>\n",
              "  </svg>\n",
              "      </button>\n",
              "      \n",
              "  <style>\n",
              "    .colab-df-container {\n",
              "      display:flex;\n",
              "      flex-wrap:wrap;\n",
              "      gap: 12px;\n",
              "    }\n",
              "\n",
              "    .colab-df-convert {\n",
              "      background-color: #E8F0FE;\n",
              "      border: none;\n",
              "      border-radius: 50%;\n",
              "      cursor: pointer;\n",
              "      display: none;\n",
              "      fill: #1967D2;\n",
              "      height: 32px;\n",
              "      padding: 0 0 0 0;\n",
              "      width: 32px;\n",
              "    }\n",
              "\n",
              "    .colab-df-convert:hover {\n",
              "      background-color: #E2EBFA;\n",
              "      box-shadow: 0px 1px 2px rgba(60, 64, 67, 0.3), 0px 1px 3px 1px rgba(60, 64, 67, 0.15);\n",
              "      fill: #174EA6;\n",
              "    }\n",
              "\n",
              "    [theme=dark] .colab-df-convert {\n",
              "      background-color: #3B4455;\n",
              "      fill: #D2E3FC;\n",
              "    }\n",
              "\n",
              "    [theme=dark] .colab-df-convert:hover {\n",
              "      background-color: #434B5C;\n",
              "      box-shadow: 0px 1px 3px 1px rgba(0, 0, 0, 0.15);\n",
              "      filter: drop-shadow(0px 1px 2px rgba(0, 0, 0, 0.3));\n",
              "      fill: #FFFFFF;\n",
              "    }\n",
              "  </style>\n",
              "\n",
              "      <script>\n",
              "        const buttonEl =\n",
              "          document.querySelector('#df-9f42e722-fff5-4969-be20-875399004d27 button.colab-df-convert');\n",
              "        buttonEl.style.display =\n",
              "          google.colab.kernel.accessAllowed ? 'block' : 'none';\n",
              "\n",
              "        async function convertToInteractive(key) {\n",
              "          const element = document.querySelector('#df-9f42e722-fff5-4969-be20-875399004d27');\n",
              "          const dataTable =\n",
              "            await google.colab.kernel.invokeFunction('convertToInteractive',\n",
              "                                                     [key], {});\n",
              "          if (!dataTable) return;\n",
              "\n",
              "          const docLinkHtml = 'Like what you see? Visit the ' +\n",
              "            '<a target=\"_blank\" href=https://colab.research.google.com/notebooks/data_table.ipynb>data table notebook</a>'\n",
              "            + ' to learn more about interactive tables.';\n",
              "          element.innerHTML = '';\n",
              "          dataTable['output_type'] = 'display_data';\n",
              "          await google.colab.output.renderOutput(dataTable, element);\n",
              "          const docLink = document.createElement('div');\n",
              "          docLink.innerHTML = docLinkHtml;\n",
              "          element.appendChild(docLink);\n",
              "        }\n",
              "      </script>\n",
              "    </div>\n",
              "  </div>\n",
              "  "
            ]
          },
          "metadata": {},
          "execution_count": 99
        }
      ],
      "source": [
        "merged_dataset.head(3)"
      ]
    },
    {
      "cell_type": "code",
      "execution_count": 100,
      "metadata": {
        "id": "L5oPOKOrEmGm",
        "colab": {
          "base_uri": "https://localhost:8080/",
          "height": 143
        },
        "outputId": "3b6a3bbe-74e6-4a5e-f8dd-bc5c1b98a0cf"
      },
      "outputs": [
        {
          "output_type": "execute_result",
          "data": {
            "text/plain": [
              "                                          Book-Title  count_ratings\n",
              "0   A Light in the Storm: The Civil War Diary of ...              4\n",
              "1                              Always Have Popsicles              1\n",
              "2               Apple Magic (The Collector's series)              1"
            ],
            "text/html": [
              "\n",
              "  <div id=\"df-4b2686c9-22d5-4299-9561-86b16476dacd\">\n",
              "    <div class=\"colab-df-container\">\n",
              "      <div>\n",
              "<style scoped>\n",
              "    .dataframe tbody tr th:only-of-type {\n",
              "        vertical-align: middle;\n",
              "    }\n",
              "\n",
              "    .dataframe tbody tr th {\n",
              "        vertical-align: top;\n",
              "    }\n",
              "\n",
              "    .dataframe thead th {\n",
              "        text-align: right;\n",
              "    }\n",
              "</style>\n",
              "<table border=\"1\" class=\"dataframe\">\n",
              "  <thead>\n",
              "    <tr style=\"text-align: right;\">\n",
              "      <th></th>\n",
              "      <th>Book-Title</th>\n",
              "      <th>count_ratings</th>\n",
              "    </tr>\n",
              "  </thead>\n",
              "  <tbody>\n",
              "    <tr>\n",
              "      <th>0</th>\n",
              "      <td>A Light in the Storm: The Civil War Diary of ...</td>\n",
              "      <td>4</td>\n",
              "    </tr>\n",
              "    <tr>\n",
              "      <th>1</th>\n",
              "      <td>Always Have Popsicles</td>\n",
              "      <td>1</td>\n",
              "    </tr>\n",
              "    <tr>\n",
              "      <th>2</th>\n",
              "      <td>Apple Magic (The Collector's series)</td>\n",
              "      <td>1</td>\n",
              "    </tr>\n",
              "  </tbody>\n",
              "</table>\n",
              "</div>\n",
              "      <button class=\"colab-df-convert\" onclick=\"convertToInteractive('df-4b2686c9-22d5-4299-9561-86b16476dacd')\"\n",
              "              title=\"Convert this dataframe to an interactive table.\"\n",
              "              style=\"display:none;\">\n",
              "        \n",
              "  <svg xmlns=\"http://www.w3.org/2000/svg\" height=\"24px\"viewBox=\"0 0 24 24\"\n",
              "       width=\"24px\">\n",
              "    <path d=\"M0 0h24v24H0V0z\" fill=\"none\"/>\n",
              "    <path d=\"M18.56 5.44l.94 2.06.94-2.06 2.06-.94-2.06-.94-.94-2.06-.94 2.06-2.06.94zm-11 1L8.5 8.5l.94-2.06 2.06-.94-2.06-.94L8.5 2.5l-.94 2.06-2.06.94zm10 10l.94 2.06.94-2.06 2.06-.94-2.06-.94-.94-2.06-.94 2.06-2.06.94z\"/><path d=\"M17.41 7.96l-1.37-1.37c-.4-.4-.92-.59-1.43-.59-.52 0-1.04.2-1.43.59L10.3 9.45l-7.72 7.72c-.78.78-.78 2.05 0 2.83L4 21.41c.39.39.9.59 1.41.59.51 0 1.02-.2 1.41-.59l7.78-7.78 2.81-2.81c.8-.78.8-2.07 0-2.86zM5.41 20L4 18.59l7.72-7.72 1.47 1.35L5.41 20z\"/>\n",
              "  </svg>\n",
              "      </button>\n",
              "      \n",
              "  <style>\n",
              "    .colab-df-container {\n",
              "      display:flex;\n",
              "      flex-wrap:wrap;\n",
              "      gap: 12px;\n",
              "    }\n",
              "\n",
              "    .colab-df-convert {\n",
              "      background-color: #E8F0FE;\n",
              "      border: none;\n",
              "      border-radius: 50%;\n",
              "      cursor: pointer;\n",
              "      display: none;\n",
              "      fill: #1967D2;\n",
              "      height: 32px;\n",
              "      padding: 0 0 0 0;\n",
              "      width: 32px;\n",
              "    }\n",
              "\n",
              "    .colab-df-convert:hover {\n",
              "      background-color: #E2EBFA;\n",
              "      box-shadow: 0px 1px 2px rgba(60, 64, 67, 0.3), 0px 1px 3px 1px rgba(60, 64, 67, 0.15);\n",
              "      fill: #174EA6;\n",
              "    }\n",
              "\n",
              "    [theme=dark] .colab-df-convert {\n",
              "      background-color: #3B4455;\n",
              "      fill: #D2E3FC;\n",
              "    }\n",
              "\n",
              "    [theme=dark] .colab-df-convert:hover {\n",
              "      background-color: #434B5C;\n",
              "      box-shadow: 0px 1px 3px 1px rgba(0, 0, 0, 0.15);\n",
              "      filter: drop-shadow(0px 1px 2px rgba(0, 0, 0, 0.3));\n",
              "      fill: #FFFFFF;\n",
              "    }\n",
              "  </style>\n",
              "\n",
              "      <script>\n",
              "        const buttonEl =\n",
              "          document.querySelector('#df-4b2686c9-22d5-4299-9561-86b16476dacd button.colab-df-convert');\n",
              "        buttonEl.style.display =\n",
              "          google.colab.kernel.accessAllowed ? 'block' : 'none';\n",
              "\n",
              "        async function convertToInteractive(key) {\n",
              "          const element = document.querySelector('#df-4b2686c9-22d5-4299-9561-86b16476dacd');\n",
              "          const dataTable =\n",
              "            await google.colab.kernel.invokeFunction('convertToInteractive',\n",
              "                                                     [key], {});\n",
              "          if (!dataTable) return;\n",
              "\n",
              "          const docLinkHtml = 'Like what you see? Visit the ' +\n",
              "            '<a target=\"_blank\" href=https://colab.research.google.com/notebooks/data_table.ipynb>data table notebook</a>'\n",
              "            + ' to learn more about interactive tables.';\n",
              "          element.innerHTML = '';\n",
              "          dataTable['output_type'] = 'display_data';\n",
              "          await google.colab.output.renderOutput(dataTable, element);\n",
              "          const docLink = document.createElement('div');\n",
              "          docLink.innerHTML = docLinkHtml;\n",
              "          element.appendChild(docLink);\n",
              "        }\n",
              "      </script>\n",
              "    </div>\n",
              "  </div>\n",
              "  "
            ]
          },
          "metadata": {},
          "execution_count": 100
        }
      ],
      "source": [
        "count_ratings=merged_dataset.groupby('Book-Title')['Book-Rating'].count().reset_index()\n",
        "count_ratings.rename(columns={'Book-Rating':'count_ratings'},inplace=True)\n",
        "count_ratings.head(3)"
      ]
    },
    {
      "cell_type": "code",
      "execution_count": 101,
      "metadata": {
        "id": "EoYjVm0gHk6v",
        "colab": {
          "base_uri": "https://localhost:8080/",
          "height": 143
        },
        "outputId": "b3ecf634-e0b0-473a-de05-ad934e2ed34c"
      },
      "outputs": [
        {
          "output_type": "execute_result",
          "data": {
            "text/plain": [
              "                                          Book-Title  mean_ratings\n",
              "0   A Light in the Storm: The Civil War Diary of ...          2.25\n",
              "1                              Always Have Popsicles          0.00\n",
              "2               Apple Magic (The Collector's series)          0.00"
            ],
            "text/html": [
              "\n",
              "  <div id=\"df-d8558311-2390-40cf-9c95-0f946b3f4892\">\n",
              "    <div class=\"colab-df-container\">\n",
              "      <div>\n",
              "<style scoped>\n",
              "    .dataframe tbody tr th:only-of-type {\n",
              "        vertical-align: middle;\n",
              "    }\n",
              "\n",
              "    .dataframe tbody tr th {\n",
              "        vertical-align: top;\n",
              "    }\n",
              "\n",
              "    .dataframe thead th {\n",
              "        text-align: right;\n",
              "    }\n",
              "</style>\n",
              "<table border=\"1\" class=\"dataframe\">\n",
              "  <thead>\n",
              "    <tr style=\"text-align: right;\">\n",
              "      <th></th>\n",
              "      <th>Book-Title</th>\n",
              "      <th>mean_ratings</th>\n",
              "    </tr>\n",
              "  </thead>\n",
              "  <tbody>\n",
              "    <tr>\n",
              "      <th>0</th>\n",
              "      <td>A Light in the Storm: The Civil War Diary of ...</td>\n",
              "      <td>2.25</td>\n",
              "    </tr>\n",
              "    <tr>\n",
              "      <th>1</th>\n",
              "      <td>Always Have Popsicles</td>\n",
              "      <td>0.00</td>\n",
              "    </tr>\n",
              "    <tr>\n",
              "      <th>2</th>\n",
              "      <td>Apple Magic (The Collector's series)</td>\n",
              "      <td>0.00</td>\n",
              "    </tr>\n",
              "  </tbody>\n",
              "</table>\n",
              "</div>\n",
              "      <button class=\"colab-df-convert\" onclick=\"convertToInteractive('df-d8558311-2390-40cf-9c95-0f946b3f4892')\"\n",
              "              title=\"Convert this dataframe to an interactive table.\"\n",
              "              style=\"display:none;\">\n",
              "        \n",
              "  <svg xmlns=\"http://www.w3.org/2000/svg\" height=\"24px\"viewBox=\"0 0 24 24\"\n",
              "       width=\"24px\">\n",
              "    <path d=\"M0 0h24v24H0V0z\" fill=\"none\"/>\n",
              "    <path d=\"M18.56 5.44l.94 2.06.94-2.06 2.06-.94-2.06-.94-.94-2.06-.94 2.06-2.06.94zm-11 1L8.5 8.5l.94-2.06 2.06-.94-2.06-.94L8.5 2.5l-.94 2.06-2.06.94zm10 10l.94 2.06.94-2.06 2.06-.94-2.06-.94-.94-2.06-.94 2.06-2.06.94z\"/><path d=\"M17.41 7.96l-1.37-1.37c-.4-.4-.92-.59-1.43-.59-.52 0-1.04.2-1.43.59L10.3 9.45l-7.72 7.72c-.78.78-.78 2.05 0 2.83L4 21.41c.39.39.9.59 1.41.59.51 0 1.02-.2 1.41-.59l7.78-7.78 2.81-2.81c.8-.78.8-2.07 0-2.86zM5.41 20L4 18.59l7.72-7.72 1.47 1.35L5.41 20z\"/>\n",
              "  </svg>\n",
              "      </button>\n",
              "      \n",
              "  <style>\n",
              "    .colab-df-container {\n",
              "      display:flex;\n",
              "      flex-wrap:wrap;\n",
              "      gap: 12px;\n",
              "    }\n",
              "\n",
              "    .colab-df-convert {\n",
              "      background-color: #E8F0FE;\n",
              "      border: none;\n",
              "      border-radius: 50%;\n",
              "      cursor: pointer;\n",
              "      display: none;\n",
              "      fill: #1967D2;\n",
              "      height: 32px;\n",
              "      padding: 0 0 0 0;\n",
              "      width: 32px;\n",
              "    }\n",
              "\n",
              "    .colab-df-convert:hover {\n",
              "      background-color: #E2EBFA;\n",
              "      box-shadow: 0px 1px 2px rgba(60, 64, 67, 0.3), 0px 1px 3px 1px rgba(60, 64, 67, 0.15);\n",
              "      fill: #174EA6;\n",
              "    }\n",
              "\n",
              "    [theme=dark] .colab-df-convert {\n",
              "      background-color: #3B4455;\n",
              "      fill: #D2E3FC;\n",
              "    }\n",
              "\n",
              "    [theme=dark] .colab-df-convert:hover {\n",
              "      background-color: #434B5C;\n",
              "      box-shadow: 0px 1px 3px 1px rgba(0, 0, 0, 0.15);\n",
              "      filter: drop-shadow(0px 1px 2px rgba(0, 0, 0, 0.3));\n",
              "      fill: #FFFFFF;\n",
              "    }\n",
              "  </style>\n",
              "\n",
              "      <script>\n",
              "        const buttonEl =\n",
              "          document.querySelector('#df-d8558311-2390-40cf-9c95-0f946b3f4892 button.colab-df-convert');\n",
              "        buttonEl.style.display =\n",
              "          google.colab.kernel.accessAllowed ? 'block' : 'none';\n",
              "\n",
              "        async function convertToInteractive(key) {\n",
              "          const element = document.querySelector('#df-d8558311-2390-40cf-9c95-0f946b3f4892');\n",
              "          const dataTable =\n",
              "            await google.colab.kernel.invokeFunction('convertToInteractive',\n",
              "                                                     [key], {});\n",
              "          if (!dataTable) return;\n",
              "\n",
              "          const docLinkHtml = 'Like what you see? Visit the ' +\n",
              "            '<a target=\"_blank\" href=https://colab.research.google.com/notebooks/data_table.ipynb>data table notebook</a>'\n",
              "            + ' to learn more about interactive tables.';\n",
              "          element.innerHTML = '';\n",
              "          dataTable['output_type'] = 'display_data';\n",
              "          await google.colab.output.renderOutput(dataTable, element);\n",
              "          const docLink = document.createElement('div');\n",
              "          docLink.innerHTML = docLinkHtml;\n",
              "          element.appendChild(docLink);\n",
              "        }\n",
              "      </script>\n",
              "    </div>\n",
              "  </div>\n",
              "  "
            ]
          },
          "metadata": {},
          "execution_count": 101
        }
      ],
      "source": [
        "mean_rating=merged_dataset.groupby('Book-Title')['Book-Rating'].mean().reset_index()\n",
        "mean_rating.rename(columns={'Book-Rating':'mean_ratings'},inplace=True)\n",
        "mean_rating.head(3)"
      ]
    },
    {
      "cell_type": "code",
      "source": [
        "book_mean_rating=pd.merge(count_ratings,mean_rating, on='Book-Title', how='inner')\n",
        "popular_books=book_mean_rating[book_mean_rating['count_ratings']>=150].sort_values('mean_ratings',ascending=False).head(50)\n",
        "popular_books"
      ],
      "metadata": {
        "colab": {
          "base_uri": "https://localhost:8080/",
          "height": 1000
        },
        "id": "qpKNyQsUiyYV",
        "outputId": "b2621fe9-412a-45c5-e1f8-bdd29bb1dd67"
      },
      "execution_count": 167,
      "outputs": [
        {
          "output_type": "execute_result",
          "data": {
            "text/plain": [
              "                                               Book-Title  count_ratings  \\\n",
              "80434   Harry Potter and the Prisoner of Azkaban (Book 3)            428   \n",
              "80422        Harry Potter and the Goblet of Fire (Book 4)            387   \n",
              "80441      Harry Potter and the Sorcerer's Stone (Book 1)            278   \n",
              "80426   Harry Potter and the Order of the Phoenix (Boo...            347   \n",
              "60582       Ender's Game (Ender Wiggins Saga (Paperback))            249   \n",
              "80414    Harry Potter and the Chamber of Secrets (Book 2)            556   \n",
              "191612  The Hobbit : The Enchanting Prelude to The Lor...            281   \n",
              "187377  The Fellowship of the Ring (The Lord of the Ri...            368   \n",
              "189274                 The Giver (21st Century Reference)            179   \n",
              "94259        Ishmael: An Adventure of the Mind and Spirit            162   \n",
              "80445   Harry Potter and the Sorcerer's Stone (Harry P...            575   \n",
              "211384     The Two Towers (The Lord of the Rings, Part 2)            260   \n",
              "200913                              The Other Boleyn Girl            159   \n",
              "219741                              To Kill a Mockingbird            510   \n",
              "183573                                  The Da Vinci Code            898   \n",
              "160107                                         Siddhartha            172   \n",
              "187880                 The Five People You Meet in Heaven            430   \n",
              "7742                                    A Wrinkle In Time            158   \n",
              "180556                             The Catcher in the Rye            449   \n",
              "204672  The Return of the King (The Lord of the Rings,...            211   \n",
              "55014                                  Dragonfly in Amber            151   \n",
              "196326                          The Lovely Bones: A Novel           1295   \n",
              "190081                                   The Great Gatsby            205   \n",
              "764                                                  1984            284   \n",
              "144165                           Prodigal Summer: A Novel            253   \n",
              "128670                                         Neverwhere            265   \n",
              "206502                            The Secret Life of Bees            774   \n",
              "168719  Stupid White Men ...and Other Sorry Excuses fo...            283   \n",
              "223135  Tuesdays with Morrie: An Old Man, a Young Man,...            493   \n",
              "204387                The Red Tent (Bestselling Backlist)            723   \n",
              "27295                                     Brave New World            226   \n",
              "239022                                    Year of Wonders            169   \n",
              "191589               The Hitchhiker's Guide to the Galaxy            268   \n",
              "39675                                            Coraline            183   \n",
              "118982                             Memoirs of a Geisha Uk            163   \n",
              "7743                                    A Wrinkle in Time            192   \n",
              "129379   Nickel and Dimed: On (Not) Getting By in America            335   \n",
              "209778                                    The Tao of Pooh            211   \n",
              "14607                                         Animal Farm            233   \n",
              "93381                                       Into the Wild            252   \n",
              "84480                            Holes (Yearling Newbery)            154   \n",
              "55986                           Dude, Where's My Country?            178   \n",
              "63867                                      Fahrenheit 451            409   \n",
              "76287                                          Good Omens            168   \n",
              "7373    A Walk in the Woods: Rediscovering America on ...            205   \n",
              "74750                           Girl with a Pearl Earring            526   \n",
              "129444                                              Night            202   \n",
              "136145                                          Outlander            283   \n",
              "127366                                              Naked            196   \n",
              "185338  The Drawing of the Three (The Dark Tower, Book 2)            179   \n",
              "\n",
              "        mean_ratings  \n",
              "80434       5.852804  \n",
              "80422       5.824289  \n",
              "80441       5.737410  \n",
              "80426       5.501441  \n",
              "60582       5.409639  \n",
              "80414       5.183453  \n",
              "191612      5.007117  \n",
              "187377      4.948370  \n",
              "189274      4.916201  \n",
              "94259       4.907407  \n",
              "80445       4.895652  \n",
              "211384      4.880769  \n",
              "200913      4.761006  \n",
              "219741      4.700000  \n",
              "183573      4.642539  \n",
              "160107      4.563953  \n",
              "187880      4.551163  \n",
              "7742        4.550633  \n",
              "180556      4.545657  \n",
              "204672      4.497630  \n",
              "55014       4.476821  \n",
              "196326      4.468726  \n",
              "190081      4.458537  \n",
              "764         4.454225  \n",
              "144165      4.450593  \n",
              "128670      4.449057  \n",
              "206502      4.447028  \n",
              "168719      4.356890  \n",
              "223135      4.354970  \n",
              "204387      4.334716  \n",
              "27295       4.331858  \n",
              "239022      4.331361  \n",
              "191589      4.328358  \n",
              "39675       4.327869  \n",
              "118982      4.312883  \n",
              "7743        4.307292  \n",
              "129379      4.289552  \n",
              "209778      4.289100  \n",
              "14607       4.274678  \n",
              "93381       4.273810  \n",
              "84480       4.272727  \n",
              "55986       4.269663  \n",
              "63867       4.264059  \n",
              "76287       4.244048  \n",
              "7373        4.243902  \n",
              "74750       4.218631  \n",
              "129444      4.217822  \n",
              "136145      4.173145  \n",
              "127366      4.158163  \n",
              "185338      4.134078  "
            ],
            "text/html": [
              "\n",
              "  <div id=\"df-5920b945-eb4e-43c6-a070-7ed09d631261\">\n",
              "    <div class=\"colab-df-container\">\n",
              "      <div>\n",
              "<style scoped>\n",
              "    .dataframe tbody tr th:only-of-type {\n",
              "        vertical-align: middle;\n",
              "    }\n",
              "\n",
              "    .dataframe tbody tr th {\n",
              "        vertical-align: top;\n",
              "    }\n",
              "\n",
              "    .dataframe thead th {\n",
              "        text-align: right;\n",
              "    }\n",
              "</style>\n",
              "<table border=\"1\" class=\"dataframe\">\n",
              "  <thead>\n",
              "    <tr style=\"text-align: right;\">\n",
              "      <th></th>\n",
              "      <th>Book-Title</th>\n",
              "      <th>count_ratings</th>\n",
              "      <th>mean_ratings</th>\n",
              "    </tr>\n",
              "  </thead>\n",
              "  <tbody>\n",
              "    <tr>\n",
              "      <th>80434</th>\n",
              "      <td>Harry Potter and the Prisoner of Azkaban (Book 3)</td>\n",
              "      <td>428</td>\n",
              "      <td>5.852804</td>\n",
              "    </tr>\n",
              "    <tr>\n",
              "      <th>80422</th>\n",
              "      <td>Harry Potter and the Goblet of Fire (Book 4)</td>\n",
              "      <td>387</td>\n",
              "      <td>5.824289</td>\n",
              "    </tr>\n",
              "    <tr>\n",
              "      <th>80441</th>\n",
              "      <td>Harry Potter and the Sorcerer's Stone (Book 1)</td>\n",
              "      <td>278</td>\n",
              "      <td>5.737410</td>\n",
              "    </tr>\n",
              "    <tr>\n",
              "      <th>80426</th>\n",
              "      <td>Harry Potter and the Order of the Phoenix (Boo...</td>\n",
              "      <td>347</td>\n",
              "      <td>5.501441</td>\n",
              "    </tr>\n",
              "    <tr>\n",
              "      <th>60582</th>\n",
              "      <td>Ender's Game (Ender Wiggins Saga (Paperback))</td>\n",
              "      <td>249</td>\n",
              "      <td>5.409639</td>\n",
              "    </tr>\n",
              "    <tr>\n",
              "      <th>80414</th>\n",
              "      <td>Harry Potter and the Chamber of Secrets (Book 2)</td>\n",
              "      <td>556</td>\n",
              "      <td>5.183453</td>\n",
              "    </tr>\n",
              "    <tr>\n",
              "      <th>191612</th>\n",
              "      <td>The Hobbit : The Enchanting Prelude to The Lor...</td>\n",
              "      <td>281</td>\n",
              "      <td>5.007117</td>\n",
              "    </tr>\n",
              "    <tr>\n",
              "      <th>187377</th>\n",
              "      <td>The Fellowship of the Ring (The Lord of the Ri...</td>\n",
              "      <td>368</td>\n",
              "      <td>4.948370</td>\n",
              "    </tr>\n",
              "    <tr>\n",
              "      <th>189274</th>\n",
              "      <td>The Giver (21st Century Reference)</td>\n",
              "      <td>179</td>\n",
              "      <td>4.916201</td>\n",
              "    </tr>\n",
              "    <tr>\n",
              "      <th>94259</th>\n",
              "      <td>Ishmael: An Adventure of the Mind and Spirit</td>\n",
              "      <td>162</td>\n",
              "      <td>4.907407</td>\n",
              "    </tr>\n",
              "    <tr>\n",
              "      <th>80445</th>\n",
              "      <td>Harry Potter and the Sorcerer's Stone (Harry P...</td>\n",
              "      <td>575</td>\n",
              "      <td>4.895652</td>\n",
              "    </tr>\n",
              "    <tr>\n",
              "      <th>211384</th>\n",
              "      <td>The Two Towers (The Lord of the Rings, Part 2)</td>\n",
              "      <td>260</td>\n",
              "      <td>4.880769</td>\n",
              "    </tr>\n",
              "    <tr>\n",
              "      <th>200913</th>\n",
              "      <td>The Other Boleyn Girl</td>\n",
              "      <td>159</td>\n",
              "      <td>4.761006</td>\n",
              "    </tr>\n",
              "    <tr>\n",
              "      <th>219741</th>\n",
              "      <td>To Kill a Mockingbird</td>\n",
              "      <td>510</td>\n",
              "      <td>4.700000</td>\n",
              "    </tr>\n",
              "    <tr>\n",
              "      <th>183573</th>\n",
              "      <td>The Da Vinci Code</td>\n",
              "      <td>898</td>\n",
              "      <td>4.642539</td>\n",
              "    </tr>\n",
              "    <tr>\n",
              "      <th>160107</th>\n",
              "      <td>Siddhartha</td>\n",
              "      <td>172</td>\n",
              "      <td>4.563953</td>\n",
              "    </tr>\n",
              "    <tr>\n",
              "      <th>187880</th>\n",
              "      <td>The Five People You Meet in Heaven</td>\n",
              "      <td>430</td>\n",
              "      <td>4.551163</td>\n",
              "    </tr>\n",
              "    <tr>\n",
              "      <th>7742</th>\n",
              "      <td>A Wrinkle In Time</td>\n",
              "      <td>158</td>\n",
              "      <td>4.550633</td>\n",
              "    </tr>\n",
              "    <tr>\n",
              "      <th>180556</th>\n",
              "      <td>The Catcher in the Rye</td>\n",
              "      <td>449</td>\n",
              "      <td>4.545657</td>\n",
              "    </tr>\n",
              "    <tr>\n",
              "      <th>204672</th>\n",
              "      <td>The Return of the King (The Lord of the Rings,...</td>\n",
              "      <td>211</td>\n",
              "      <td>4.497630</td>\n",
              "    </tr>\n",
              "    <tr>\n",
              "      <th>55014</th>\n",
              "      <td>Dragonfly in Amber</td>\n",
              "      <td>151</td>\n",
              "      <td>4.476821</td>\n",
              "    </tr>\n",
              "    <tr>\n",
              "      <th>196326</th>\n",
              "      <td>The Lovely Bones: A Novel</td>\n",
              "      <td>1295</td>\n",
              "      <td>4.468726</td>\n",
              "    </tr>\n",
              "    <tr>\n",
              "      <th>190081</th>\n",
              "      <td>The Great Gatsby</td>\n",
              "      <td>205</td>\n",
              "      <td>4.458537</td>\n",
              "    </tr>\n",
              "    <tr>\n",
              "      <th>764</th>\n",
              "      <td>1984</td>\n",
              "      <td>284</td>\n",
              "      <td>4.454225</td>\n",
              "    </tr>\n",
              "    <tr>\n",
              "      <th>144165</th>\n",
              "      <td>Prodigal Summer: A Novel</td>\n",
              "      <td>253</td>\n",
              "      <td>4.450593</td>\n",
              "    </tr>\n",
              "    <tr>\n",
              "      <th>128670</th>\n",
              "      <td>Neverwhere</td>\n",
              "      <td>265</td>\n",
              "      <td>4.449057</td>\n",
              "    </tr>\n",
              "    <tr>\n",
              "      <th>206502</th>\n",
              "      <td>The Secret Life of Bees</td>\n",
              "      <td>774</td>\n",
              "      <td>4.447028</td>\n",
              "    </tr>\n",
              "    <tr>\n",
              "      <th>168719</th>\n",
              "      <td>Stupid White Men ...and Other Sorry Excuses fo...</td>\n",
              "      <td>283</td>\n",
              "      <td>4.356890</td>\n",
              "    </tr>\n",
              "    <tr>\n",
              "      <th>223135</th>\n",
              "      <td>Tuesdays with Morrie: An Old Man, a Young Man,...</td>\n",
              "      <td>493</td>\n",
              "      <td>4.354970</td>\n",
              "    </tr>\n",
              "    <tr>\n",
              "      <th>204387</th>\n",
              "      <td>The Red Tent (Bestselling Backlist)</td>\n",
              "      <td>723</td>\n",
              "      <td>4.334716</td>\n",
              "    </tr>\n",
              "    <tr>\n",
              "      <th>27295</th>\n",
              "      <td>Brave New World</td>\n",
              "      <td>226</td>\n",
              "      <td>4.331858</td>\n",
              "    </tr>\n",
              "    <tr>\n",
              "      <th>239022</th>\n",
              "      <td>Year of Wonders</td>\n",
              "      <td>169</td>\n",
              "      <td>4.331361</td>\n",
              "    </tr>\n",
              "    <tr>\n",
              "      <th>191589</th>\n",
              "      <td>The Hitchhiker's Guide to the Galaxy</td>\n",
              "      <td>268</td>\n",
              "      <td>4.328358</td>\n",
              "    </tr>\n",
              "    <tr>\n",
              "      <th>39675</th>\n",
              "      <td>Coraline</td>\n",
              "      <td>183</td>\n",
              "      <td>4.327869</td>\n",
              "    </tr>\n",
              "    <tr>\n",
              "      <th>118982</th>\n",
              "      <td>Memoirs of a Geisha Uk</td>\n",
              "      <td>163</td>\n",
              "      <td>4.312883</td>\n",
              "    </tr>\n",
              "    <tr>\n",
              "      <th>7743</th>\n",
              "      <td>A Wrinkle in Time</td>\n",
              "      <td>192</td>\n",
              "      <td>4.307292</td>\n",
              "    </tr>\n",
              "    <tr>\n",
              "      <th>129379</th>\n",
              "      <td>Nickel and Dimed: On (Not) Getting By in America</td>\n",
              "      <td>335</td>\n",
              "      <td>4.289552</td>\n",
              "    </tr>\n",
              "    <tr>\n",
              "      <th>209778</th>\n",
              "      <td>The Tao of Pooh</td>\n",
              "      <td>211</td>\n",
              "      <td>4.289100</td>\n",
              "    </tr>\n",
              "    <tr>\n",
              "      <th>14607</th>\n",
              "      <td>Animal Farm</td>\n",
              "      <td>233</td>\n",
              "      <td>4.274678</td>\n",
              "    </tr>\n",
              "    <tr>\n",
              "      <th>93381</th>\n",
              "      <td>Into the Wild</td>\n",
              "      <td>252</td>\n",
              "      <td>4.273810</td>\n",
              "    </tr>\n",
              "    <tr>\n",
              "      <th>84480</th>\n",
              "      <td>Holes (Yearling Newbery)</td>\n",
              "      <td>154</td>\n",
              "      <td>4.272727</td>\n",
              "    </tr>\n",
              "    <tr>\n",
              "      <th>55986</th>\n",
              "      <td>Dude, Where's My Country?</td>\n",
              "      <td>178</td>\n",
              "      <td>4.269663</td>\n",
              "    </tr>\n",
              "    <tr>\n",
              "      <th>63867</th>\n",
              "      <td>Fahrenheit 451</td>\n",
              "      <td>409</td>\n",
              "      <td>4.264059</td>\n",
              "    </tr>\n",
              "    <tr>\n",
              "      <th>76287</th>\n",
              "      <td>Good Omens</td>\n",
              "      <td>168</td>\n",
              "      <td>4.244048</td>\n",
              "    </tr>\n",
              "    <tr>\n",
              "      <th>7373</th>\n",
              "      <td>A Walk in the Woods: Rediscovering America on ...</td>\n",
              "      <td>205</td>\n",
              "      <td>4.243902</td>\n",
              "    </tr>\n",
              "    <tr>\n",
              "      <th>74750</th>\n",
              "      <td>Girl with a Pearl Earring</td>\n",
              "      <td>526</td>\n",
              "      <td>4.218631</td>\n",
              "    </tr>\n",
              "    <tr>\n",
              "      <th>129444</th>\n",
              "      <td>Night</td>\n",
              "      <td>202</td>\n",
              "      <td>4.217822</td>\n",
              "    </tr>\n",
              "    <tr>\n",
              "      <th>136145</th>\n",
              "      <td>Outlander</td>\n",
              "      <td>283</td>\n",
              "      <td>4.173145</td>\n",
              "    </tr>\n",
              "    <tr>\n",
              "      <th>127366</th>\n",
              "      <td>Naked</td>\n",
              "      <td>196</td>\n",
              "      <td>4.158163</td>\n",
              "    </tr>\n",
              "    <tr>\n",
              "      <th>185338</th>\n",
              "      <td>The Drawing of the Three (The Dark Tower, Book 2)</td>\n",
              "      <td>179</td>\n",
              "      <td>4.134078</td>\n",
              "    </tr>\n",
              "  </tbody>\n",
              "</table>\n",
              "</div>\n",
              "      <button class=\"colab-df-convert\" onclick=\"convertToInteractive('df-5920b945-eb4e-43c6-a070-7ed09d631261')\"\n",
              "              title=\"Convert this dataframe to an interactive table.\"\n",
              "              style=\"display:none;\">\n",
              "        \n",
              "  <svg xmlns=\"http://www.w3.org/2000/svg\" height=\"24px\"viewBox=\"0 0 24 24\"\n",
              "       width=\"24px\">\n",
              "    <path d=\"M0 0h24v24H0V0z\" fill=\"none\"/>\n",
              "    <path d=\"M18.56 5.44l.94 2.06.94-2.06 2.06-.94-2.06-.94-.94-2.06-.94 2.06-2.06.94zm-11 1L8.5 8.5l.94-2.06 2.06-.94-2.06-.94L8.5 2.5l-.94 2.06-2.06.94zm10 10l.94 2.06.94-2.06 2.06-.94-2.06-.94-.94-2.06-.94 2.06-2.06.94z\"/><path d=\"M17.41 7.96l-1.37-1.37c-.4-.4-.92-.59-1.43-.59-.52 0-1.04.2-1.43.59L10.3 9.45l-7.72 7.72c-.78.78-.78 2.05 0 2.83L4 21.41c.39.39.9.59 1.41.59.51 0 1.02-.2 1.41-.59l7.78-7.78 2.81-2.81c.8-.78.8-2.07 0-2.86zM5.41 20L4 18.59l7.72-7.72 1.47 1.35L5.41 20z\"/>\n",
              "  </svg>\n",
              "      </button>\n",
              "      \n",
              "  <style>\n",
              "    .colab-df-container {\n",
              "      display:flex;\n",
              "      flex-wrap:wrap;\n",
              "      gap: 12px;\n",
              "    }\n",
              "\n",
              "    .colab-df-convert {\n",
              "      background-color: #E8F0FE;\n",
              "      border: none;\n",
              "      border-radius: 50%;\n",
              "      cursor: pointer;\n",
              "      display: none;\n",
              "      fill: #1967D2;\n",
              "      height: 32px;\n",
              "      padding: 0 0 0 0;\n",
              "      width: 32px;\n",
              "    }\n",
              "\n",
              "    .colab-df-convert:hover {\n",
              "      background-color: #E2EBFA;\n",
              "      box-shadow: 0px 1px 2px rgba(60, 64, 67, 0.3), 0px 1px 3px 1px rgba(60, 64, 67, 0.15);\n",
              "      fill: #174EA6;\n",
              "    }\n",
              "\n",
              "    [theme=dark] .colab-df-convert {\n",
              "      background-color: #3B4455;\n",
              "      fill: #D2E3FC;\n",
              "    }\n",
              "\n",
              "    [theme=dark] .colab-df-convert:hover {\n",
              "      background-color: #434B5C;\n",
              "      box-shadow: 0px 1px 3px 1px rgba(0, 0, 0, 0.15);\n",
              "      filter: drop-shadow(0px 1px 2px rgba(0, 0, 0, 0.3));\n",
              "      fill: #FFFFFF;\n",
              "    }\n",
              "  </style>\n",
              "\n",
              "      <script>\n",
              "        const buttonEl =\n",
              "          document.querySelector('#df-5920b945-eb4e-43c6-a070-7ed09d631261 button.colab-df-convert');\n",
              "        buttonEl.style.display =\n",
              "          google.colab.kernel.accessAllowed ? 'block' : 'none';\n",
              "\n",
              "        async function convertToInteractive(key) {\n",
              "          const element = document.querySelector('#df-5920b945-eb4e-43c6-a070-7ed09d631261');\n",
              "          const dataTable =\n",
              "            await google.colab.kernel.invokeFunction('convertToInteractive',\n",
              "                                                     [key], {});\n",
              "          if (!dataTable) return;\n",
              "\n",
              "          const docLinkHtml = 'Like what you see? Visit the ' +\n",
              "            '<a target=\"_blank\" href=https://colab.research.google.com/notebooks/data_table.ipynb>data table notebook</a>'\n",
              "            + ' to learn more about interactive tables.';\n",
              "          element.innerHTML = '';\n",
              "          dataTable['output_type'] = 'display_data';\n",
              "          await google.colab.output.renderOutput(dataTable, element);\n",
              "          const docLink = document.createElement('div');\n",
              "          docLink.innerHTML = docLinkHtml;\n",
              "          element.appendChild(docLink);\n",
              "        }\n",
              "      </script>\n",
              "    </div>\n",
              "  </div>\n",
              "  "
            ]
          },
          "metadata": {},
          "execution_count": 167
        }
      ]
    },
    {
      "cell_type": "code",
      "execution_count": 103,
      "metadata": {
        "id": "DpV9PBZmio4Z",
        "colab": {
          "base_uri": "https://localhost:8080/",
          "height": 187
        },
        "outputId": "b014b80a-ebfb-4d9e-8ba0-ebe451770644"
      },
      "outputs": [
        {
          "output_type": "execute_result",
          "data": {
            "text/plain": [
              "         ISBN                                         Book-Title  \\\n",
              "0  0439136350  Harry Potter and the Prisoner of Azkaban (Book 3)   \n",
              "3  0439139597       Harry Potter and the Goblet of Fire (Book 4)   \n",
              "5  0590353403     Harry Potter and the Sorcerer's Stone (Book 1)   \n",
              "\n",
              "     Book-Author Year-Of-Publication  \\\n",
              "0  J. K. Rowling                1999   \n",
              "3  J. K. Rowling                2000   \n",
              "5  J. K. Rowling                1998   \n",
              "\n",
              "                                         Image-URL-M  count_ratings  \\\n",
              "0  http://images.amazon.com/images/P/0439136350.0...            428   \n",
              "3  http://images.amazon.com/images/P/0439139597.0...            387   \n",
              "5  http://images.amazon.com/images/P/0590353403.0...            278   \n",
              "\n",
              "   mean_ratings  \n",
              "0      5.852804  \n",
              "3      5.824289  \n",
              "5      5.737410  "
            ],
            "text/html": [
              "\n",
              "  <div id=\"df-147dd347-1346-4eff-835e-47a1089c83c6\">\n",
              "    <div class=\"colab-df-container\">\n",
              "      <div>\n",
              "<style scoped>\n",
              "    .dataframe tbody tr th:only-of-type {\n",
              "        vertical-align: middle;\n",
              "    }\n",
              "\n",
              "    .dataframe tbody tr th {\n",
              "        vertical-align: top;\n",
              "    }\n",
              "\n",
              "    .dataframe thead th {\n",
              "        text-align: right;\n",
              "    }\n",
              "</style>\n",
              "<table border=\"1\" class=\"dataframe\">\n",
              "  <thead>\n",
              "    <tr style=\"text-align: right;\">\n",
              "      <th></th>\n",
              "      <th>ISBN</th>\n",
              "      <th>Book-Title</th>\n",
              "      <th>Book-Author</th>\n",
              "      <th>Year-Of-Publication</th>\n",
              "      <th>Image-URL-M</th>\n",
              "      <th>count_ratings</th>\n",
              "      <th>mean_ratings</th>\n",
              "    </tr>\n",
              "  </thead>\n",
              "  <tbody>\n",
              "    <tr>\n",
              "      <th>0</th>\n",
              "      <td>0439136350</td>\n",
              "      <td>Harry Potter and the Prisoner of Azkaban (Book 3)</td>\n",
              "      <td>J. K. Rowling</td>\n",
              "      <td>1999</td>\n",
              "      <td>http://images.amazon.com/images/P/0439136350.0...</td>\n",
              "      <td>428</td>\n",
              "      <td>5.852804</td>\n",
              "    </tr>\n",
              "    <tr>\n",
              "      <th>3</th>\n",
              "      <td>0439139597</td>\n",
              "      <td>Harry Potter and the Goblet of Fire (Book 4)</td>\n",
              "      <td>J. K. Rowling</td>\n",
              "      <td>2000</td>\n",
              "      <td>http://images.amazon.com/images/P/0439139597.0...</td>\n",
              "      <td>387</td>\n",
              "      <td>5.824289</td>\n",
              "    </tr>\n",
              "    <tr>\n",
              "      <th>5</th>\n",
              "      <td>0590353403</td>\n",
              "      <td>Harry Potter and the Sorcerer's Stone (Book 1)</td>\n",
              "      <td>J. K. Rowling</td>\n",
              "      <td>1998</td>\n",
              "      <td>http://images.amazon.com/images/P/0590353403.0...</td>\n",
              "      <td>278</td>\n",
              "      <td>5.737410</td>\n",
              "    </tr>\n",
              "  </tbody>\n",
              "</table>\n",
              "</div>\n",
              "      <button class=\"colab-df-convert\" onclick=\"convertToInteractive('df-147dd347-1346-4eff-835e-47a1089c83c6')\"\n",
              "              title=\"Convert this dataframe to an interactive table.\"\n",
              "              style=\"display:none;\">\n",
              "        \n",
              "  <svg xmlns=\"http://www.w3.org/2000/svg\" height=\"24px\"viewBox=\"0 0 24 24\"\n",
              "       width=\"24px\">\n",
              "    <path d=\"M0 0h24v24H0V0z\" fill=\"none\"/>\n",
              "    <path d=\"M18.56 5.44l.94 2.06.94-2.06 2.06-.94-2.06-.94-.94-2.06-.94 2.06-2.06.94zm-11 1L8.5 8.5l.94-2.06 2.06-.94-2.06-.94L8.5 2.5l-.94 2.06-2.06.94zm10 10l.94 2.06.94-2.06 2.06-.94-2.06-.94-.94-2.06-.94 2.06-2.06.94z\"/><path d=\"M17.41 7.96l-1.37-1.37c-.4-.4-.92-.59-1.43-.59-.52 0-1.04.2-1.43.59L10.3 9.45l-7.72 7.72c-.78.78-.78 2.05 0 2.83L4 21.41c.39.39.9.59 1.41.59.51 0 1.02-.2 1.41-.59l7.78-7.78 2.81-2.81c.8-.78.8-2.07 0-2.86zM5.41 20L4 18.59l7.72-7.72 1.47 1.35L5.41 20z\"/>\n",
              "  </svg>\n",
              "      </button>\n",
              "      \n",
              "  <style>\n",
              "    .colab-df-container {\n",
              "      display:flex;\n",
              "      flex-wrap:wrap;\n",
              "      gap: 12px;\n",
              "    }\n",
              "\n",
              "    .colab-df-convert {\n",
              "      background-color: #E8F0FE;\n",
              "      border: none;\n",
              "      border-radius: 50%;\n",
              "      cursor: pointer;\n",
              "      display: none;\n",
              "      fill: #1967D2;\n",
              "      height: 32px;\n",
              "      padding: 0 0 0 0;\n",
              "      width: 32px;\n",
              "    }\n",
              "\n",
              "    .colab-df-convert:hover {\n",
              "      background-color: #E2EBFA;\n",
              "      box-shadow: 0px 1px 2px rgba(60, 64, 67, 0.3), 0px 1px 3px 1px rgba(60, 64, 67, 0.15);\n",
              "      fill: #174EA6;\n",
              "    }\n",
              "\n",
              "    [theme=dark] .colab-df-convert {\n",
              "      background-color: #3B4455;\n",
              "      fill: #D2E3FC;\n",
              "    }\n",
              "\n",
              "    [theme=dark] .colab-df-convert:hover {\n",
              "      background-color: #434B5C;\n",
              "      box-shadow: 0px 1px 3px 1px rgba(0, 0, 0, 0.15);\n",
              "      filter: drop-shadow(0px 1px 2px rgba(0, 0, 0, 0.3));\n",
              "      fill: #FFFFFF;\n",
              "    }\n",
              "  </style>\n",
              "\n",
              "      <script>\n",
              "        const buttonEl =\n",
              "          document.querySelector('#df-147dd347-1346-4eff-835e-47a1089c83c6 button.colab-df-convert');\n",
              "        buttonEl.style.display =\n",
              "          google.colab.kernel.accessAllowed ? 'block' : 'none';\n",
              "\n",
              "        async function convertToInteractive(key) {\n",
              "          const element = document.querySelector('#df-147dd347-1346-4eff-835e-47a1089c83c6');\n",
              "          const dataTable =\n",
              "            await google.colab.kernel.invokeFunction('convertToInteractive',\n",
              "                                                     [key], {});\n",
              "          if (!dataTable) return;\n",
              "\n",
              "          const docLinkHtml = 'Like what you see? Visit the ' +\n",
              "            '<a target=\"_blank\" href=https://colab.research.google.com/notebooks/data_table.ipynb>data table notebook</a>'\n",
              "            + ' to learn more about interactive tables.';\n",
              "          element.innerHTML = '';\n",
              "          dataTable['output_type'] = 'display_data';\n",
              "          await google.colab.output.renderOutput(dataTable, element);\n",
              "          const docLink = document.createElement('div');\n",
              "          docLink.innerHTML = docLinkHtml;\n",
              "          element.appendChild(docLink);\n",
              "        }\n",
              "      </script>\n",
              "    </div>\n",
              "  </div>\n",
              "  "
            ]
          },
          "metadata": {},
          "execution_count": 103
        }
      ],
      "source": [
        "popular_books = popular_books.merge(books_df,on='Book-Title').drop_duplicates('Book-Title')\n",
        "popular_books=popular_books[['ISBN','Book-Title','Book-Author','Year-Of-Publication','Image-URL-M','count_ratings','mean_ratings']]\n",
        "popular_books.head(3)"
      ]
    },
    {
      "cell_type": "markdown",
      "source": [
        "#Recommendation based on similar authors.\n",
        "\n",
        "\n",
        "\n"
      ],
      "metadata": {
        "id": "J6lqZ75K5X6N"
      }
    },
    {
      "cell_type": "code",
      "source": [
        "def author_based_filtering(author,book_name):\n",
        "  df=merged_dataset[merged_dataset['Book-Author']==author].drop_duplicates('Year-Of-Publication')[['Book-Title','Book-Author','Image-URL-M']]\n",
        "  df=df[~(df['Book-Title'].str.contains(book_name))]\n",
        "  return df"
      ],
      "metadata": {
        "id": "HSn49Vlu5SGB"
      },
      "execution_count": 104,
      "outputs": []
    },
    {
      "cell_type": "code",
      "source": [
        "author_based_filtering('Anne Rice','Cry to Heaven')"
      ],
      "metadata": {
        "colab": {
          "base_uri": "https://localhost:8080/",
          "height": 676
        },
        "id": "5BCYv-Fo6HmD",
        "outputId": "1112829e-8f29-485b-e516-8f55103b64d5"
      },
      "execution_count": 105,
      "outputs": [
        {
          "output_type": "execute_result",
          "data": {
            "text/plain": [
              "                                               Book-Title Book-Author  \\\n",
              "38714   Pandora: New Tales of the Vampires (New Tales ...   Anne Rice   \n",
              "68893                                 Feast of All Saints   Anne Rice   \n",
              "68982   The Queen of the Damned (Vampire Chronicles (P...   Anne Rice   \n",
              "193502  The Vampire Armand (The Vampire Chronicles, Bo...   Anne Rice   \n",
              "205213                     The Mummy or Ramses the Damned   Anne Rice   \n",
              "215283                Der FÃ?Â¼rst der Finsternis. Roman.   Anne Rice   \n",
              "218137    Vittorio the Vampire: New Tales of the Vampires   Anne Rice   \n",
              "232188            Blackwood Farm (The Vampire Chronicles)   Anne Rice   \n",
              "283517       Memnoch the Devil (Vampire Chronicles, No 5)   Anne Rice   \n",
              "313528                                            Belinda   Anne Rice   \n",
              "326614                               Servant of the Bones   Anne Rice   \n",
              "326663  The Vampire Armand : The Vampire Chronicles (R...   Anne Rice   \n",
              "464044  Queen of the Damned (Vampire Chronicles, Book ...   Anne Rice   \n",
              "549341                         Interview with the Vampire   Anne Rice   \n",
              "550241                                Feast of All Saints   Anne Rice   \n",
              "618465                     The Mummy or Ramses the Damned   Anne Rice   \n",
              "659414            Blood Canticle (The Vampire Chronicles)   Anne Rice   \n",
              "806091             Lestat le Vampire / Lestat the Vampire   Anne Rice   \n",
              "970336                         FEAST OF ALL STS : A NOVEL   Anne Rice   \n",
              "989839                         Interview With the Vampire   Anne Rice   \n",
              "\n",
              "                                              Image-URL-M  \n",
              "38714   http://images.amazon.com/images/P/0345422384.0...  \n",
              "68893   http://images.amazon.com/images/P/0345334531.0...  \n",
              "68982   http://images.amazon.com/images/P/0345351525.0...  \n",
              "193502  http://images.amazon.com/images/P/0345434803.0...  \n",
              "205213  http://images.amazon.com/images/P/0345369947.0...  \n",
              "215283  http://images.amazon.com/images/P/3442098424.0...  \n",
              "218137  http://images.amazon.com/images/P/0345422392.0...  \n",
              "232188  http://images.amazon.com/images/P/0375411992.0...  \n",
              "283517  http://images.amazon.com/images/P/0345409671.0...  \n",
              "313528  http://images.amazon.com/images/P/0515093556.0...  \n",
              "326614  http://images.amazon.com/images/P/0679433015.0...  \n",
              "326663  http://images.amazon.com/images/P/0679454470.0...  \n",
              "464044  http://images.amazon.com/images/P/0394558235.0...  \n",
              "549341  http://images.amazon.com/images/P/0345310594.0...  \n",
              "550241  http://images.amazon.com/images/P/0449210634.0...  \n",
              "618465  http://images.amazon.com/images/P/0345360001.0...  \n",
              "659414  http://images.amazon.com/images/P/0965330257.0...  \n",
              "806091  http://images.amazon.com/images/P/226612157X.0...  \n",
              "970336  http://images.amazon.com/images/P/0671247557.0...  \n",
              "989839  http://images.amazon.com/images/P/0345256085.0...  "
            ],
            "text/html": [
              "\n",
              "  <div id=\"df-e4f74a4b-e39a-4b0e-b70d-81686db8ae8d\">\n",
              "    <div class=\"colab-df-container\">\n",
              "      <div>\n",
              "<style scoped>\n",
              "    .dataframe tbody tr th:only-of-type {\n",
              "        vertical-align: middle;\n",
              "    }\n",
              "\n",
              "    .dataframe tbody tr th {\n",
              "        vertical-align: top;\n",
              "    }\n",
              "\n",
              "    .dataframe thead th {\n",
              "        text-align: right;\n",
              "    }\n",
              "</style>\n",
              "<table border=\"1\" class=\"dataframe\">\n",
              "  <thead>\n",
              "    <tr style=\"text-align: right;\">\n",
              "      <th></th>\n",
              "      <th>Book-Title</th>\n",
              "      <th>Book-Author</th>\n",
              "      <th>Image-URL-M</th>\n",
              "    </tr>\n",
              "  </thead>\n",
              "  <tbody>\n",
              "    <tr>\n",
              "      <th>38714</th>\n",
              "      <td>Pandora: New Tales of the Vampires (New Tales ...</td>\n",
              "      <td>Anne Rice</td>\n",
              "      <td>http://images.amazon.com/images/P/0345422384.0...</td>\n",
              "    </tr>\n",
              "    <tr>\n",
              "      <th>68893</th>\n",
              "      <td>Feast of All Saints</td>\n",
              "      <td>Anne Rice</td>\n",
              "      <td>http://images.amazon.com/images/P/0345334531.0...</td>\n",
              "    </tr>\n",
              "    <tr>\n",
              "      <th>68982</th>\n",
              "      <td>The Queen of the Damned (Vampire Chronicles (P...</td>\n",
              "      <td>Anne Rice</td>\n",
              "      <td>http://images.amazon.com/images/P/0345351525.0...</td>\n",
              "    </tr>\n",
              "    <tr>\n",
              "      <th>193502</th>\n",
              "      <td>The Vampire Armand (The Vampire Chronicles, Bo...</td>\n",
              "      <td>Anne Rice</td>\n",
              "      <td>http://images.amazon.com/images/P/0345434803.0...</td>\n",
              "    </tr>\n",
              "    <tr>\n",
              "      <th>205213</th>\n",
              "      <td>The Mummy or Ramses the Damned</td>\n",
              "      <td>Anne Rice</td>\n",
              "      <td>http://images.amazon.com/images/P/0345369947.0...</td>\n",
              "    </tr>\n",
              "    <tr>\n",
              "      <th>215283</th>\n",
              "      <td>Der FÃ?Â¼rst der Finsternis. Roman.</td>\n",
              "      <td>Anne Rice</td>\n",
              "      <td>http://images.amazon.com/images/P/3442098424.0...</td>\n",
              "    </tr>\n",
              "    <tr>\n",
              "      <th>218137</th>\n",
              "      <td>Vittorio the Vampire: New Tales of the Vampires</td>\n",
              "      <td>Anne Rice</td>\n",
              "      <td>http://images.amazon.com/images/P/0345422392.0...</td>\n",
              "    </tr>\n",
              "    <tr>\n",
              "      <th>232188</th>\n",
              "      <td>Blackwood Farm (The Vampire Chronicles)</td>\n",
              "      <td>Anne Rice</td>\n",
              "      <td>http://images.amazon.com/images/P/0375411992.0...</td>\n",
              "    </tr>\n",
              "    <tr>\n",
              "      <th>283517</th>\n",
              "      <td>Memnoch the Devil (Vampire Chronicles, No 5)</td>\n",
              "      <td>Anne Rice</td>\n",
              "      <td>http://images.amazon.com/images/P/0345409671.0...</td>\n",
              "    </tr>\n",
              "    <tr>\n",
              "      <th>313528</th>\n",
              "      <td>Belinda</td>\n",
              "      <td>Anne Rice</td>\n",
              "      <td>http://images.amazon.com/images/P/0515093556.0...</td>\n",
              "    </tr>\n",
              "    <tr>\n",
              "      <th>326614</th>\n",
              "      <td>Servant of the Bones</td>\n",
              "      <td>Anne Rice</td>\n",
              "      <td>http://images.amazon.com/images/P/0679433015.0...</td>\n",
              "    </tr>\n",
              "    <tr>\n",
              "      <th>326663</th>\n",
              "      <td>The Vampire Armand : The Vampire Chronicles (R...</td>\n",
              "      <td>Anne Rice</td>\n",
              "      <td>http://images.amazon.com/images/P/0679454470.0...</td>\n",
              "    </tr>\n",
              "    <tr>\n",
              "      <th>464044</th>\n",
              "      <td>Queen of the Damned (Vampire Chronicles, Book ...</td>\n",
              "      <td>Anne Rice</td>\n",
              "      <td>http://images.amazon.com/images/P/0394558235.0...</td>\n",
              "    </tr>\n",
              "    <tr>\n",
              "      <th>549341</th>\n",
              "      <td>Interview with the Vampire</td>\n",
              "      <td>Anne Rice</td>\n",
              "      <td>http://images.amazon.com/images/P/0345310594.0...</td>\n",
              "    </tr>\n",
              "    <tr>\n",
              "      <th>550241</th>\n",
              "      <td>Feast of All Saints</td>\n",
              "      <td>Anne Rice</td>\n",
              "      <td>http://images.amazon.com/images/P/0449210634.0...</td>\n",
              "    </tr>\n",
              "    <tr>\n",
              "      <th>618465</th>\n",
              "      <td>The Mummy or Ramses the Damned</td>\n",
              "      <td>Anne Rice</td>\n",
              "      <td>http://images.amazon.com/images/P/0345360001.0...</td>\n",
              "    </tr>\n",
              "    <tr>\n",
              "      <th>659414</th>\n",
              "      <td>Blood Canticle (The Vampire Chronicles)</td>\n",
              "      <td>Anne Rice</td>\n",
              "      <td>http://images.amazon.com/images/P/0965330257.0...</td>\n",
              "    </tr>\n",
              "    <tr>\n",
              "      <th>806091</th>\n",
              "      <td>Lestat le Vampire / Lestat the Vampire</td>\n",
              "      <td>Anne Rice</td>\n",
              "      <td>http://images.amazon.com/images/P/226612157X.0...</td>\n",
              "    </tr>\n",
              "    <tr>\n",
              "      <th>970336</th>\n",
              "      <td>FEAST OF ALL STS : A NOVEL</td>\n",
              "      <td>Anne Rice</td>\n",
              "      <td>http://images.amazon.com/images/P/0671247557.0...</td>\n",
              "    </tr>\n",
              "    <tr>\n",
              "      <th>989839</th>\n",
              "      <td>Interview With the Vampire</td>\n",
              "      <td>Anne Rice</td>\n",
              "      <td>http://images.amazon.com/images/P/0345256085.0...</td>\n",
              "    </tr>\n",
              "  </tbody>\n",
              "</table>\n",
              "</div>\n",
              "      <button class=\"colab-df-convert\" onclick=\"convertToInteractive('df-e4f74a4b-e39a-4b0e-b70d-81686db8ae8d')\"\n",
              "              title=\"Convert this dataframe to an interactive table.\"\n",
              "              style=\"display:none;\">\n",
              "        \n",
              "  <svg xmlns=\"http://www.w3.org/2000/svg\" height=\"24px\"viewBox=\"0 0 24 24\"\n",
              "       width=\"24px\">\n",
              "    <path d=\"M0 0h24v24H0V0z\" fill=\"none\"/>\n",
              "    <path d=\"M18.56 5.44l.94 2.06.94-2.06 2.06-.94-2.06-.94-.94-2.06-.94 2.06-2.06.94zm-11 1L8.5 8.5l.94-2.06 2.06-.94-2.06-.94L8.5 2.5l-.94 2.06-2.06.94zm10 10l.94 2.06.94-2.06 2.06-.94-2.06-.94-.94-2.06-.94 2.06-2.06.94z\"/><path d=\"M17.41 7.96l-1.37-1.37c-.4-.4-.92-.59-1.43-.59-.52 0-1.04.2-1.43.59L10.3 9.45l-7.72 7.72c-.78.78-.78 2.05 0 2.83L4 21.41c.39.39.9.59 1.41.59.51 0 1.02-.2 1.41-.59l7.78-7.78 2.81-2.81c.8-.78.8-2.07 0-2.86zM5.41 20L4 18.59l7.72-7.72 1.47 1.35L5.41 20z\"/>\n",
              "  </svg>\n",
              "      </button>\n",
              "      \n",
              "  <style>\n",
              "    .colab-df-container {\n",
              "      display:flex;\n",
              "      flex-wrap:wrap;\n",
              "      gap: 12px;\n",
              "    }\n",
              "\n",
              "    .colab-df-convert {\n",
              "      background-color: #E8F0FE;\n",
              "      border: none;\n",
              "      border-radius: 50%;\n",
              "      cursor: pointer;\n",
              "      display: none;\n",
              "      fill: #1967D2;\n",
              "      height: 32px;\n",
              "      padding: 0 0 0 0;\n",
              "      width: 32px;\n",
              "    }\n",
              "\n",
              "    .colab-df-convert:hover {\n",
              "      background-color: #E2EBFA;\n",
              "      box-shadow: 0px 1px 2px rgba(60, 64, 67, 0.3), 0px 1px 3px 1px rgba(60, 64, 67, 0.15);\n",
              "      fill: #174EA6;\n",
              "    }\n",
              "\n",
              "    [theme=dark] .colab-df-convert {\n",
              "      background-color: #3B4455;\n",
              "      fill: #D2E3FC;\n",
              "    }\n",
              "\n",
              "    [theme=dark] .colab-df-convert:hover {\n",
              "      background-color: #434B5C;\n",
              "      box-shadow: 0px 1px 3px 1px rgba(0, 0, 0, 0.15);\n",
              "      filter: drop-shadow(0px 1px 2px rgba(0, 0, 0, 0.3));\n",
              "      fill: #FFFFFF;\n",
              "    }\n",
              "  </style>\n",
              "\n",
              "      <script>\n",
              "        const buttonEl =\n",
              "          document.querySelector('#df-e4f74a4b-e39a-4b0e-b70d-81686db8ae8d button.colab-df-convert');\n",
              "        buttonEl.style.display =\n",
              "          google.colab.kernel.accessAllowed ? 'block' : 'none';\n",
              "\n",
              "        async function convertToInteractive(key) {\n",
              "          const element = document.querySelector('#df-e4f74a4b-e39a-4b0e-b70d-81686db8ae8d');\n",
              "          const dataTable =\n",
              "            await google.colab.kernel.invokeFunction('convertToInteractive',\n",
              "                                                     [key], {});\n",
              "          if (!dataTable) return;\n",
              "\n",
              "          const docLinkHtml = 'Like what you see? Visit the ' +\n",
              "            '<a target=\"_blank\" href=https://colab.research.google.com/notebooks/data_table.ipynb>data table notebook</a>'\n",
              "            + ' to learn more about interactive tables.';\n",
              "          element.innerHTML = '';\n",
              "          dataTable['output_type'] = 'display_data';\n",
              "          await google.colab.output.renderOutput(dataTable, element);\n",
              "          const docLink = document.createElement('div');\n",
              "          docLink.innerHTML = docLinkHtml;\n",
              "          element.appendChild(docLink);\n",
              "        }\n",
              "      </script>\n",
              "    </div>\n",
              "  </div>\n",
              "  "
            ]
          },
          "metadata": {},
          "execution_count": 105
        }
      ]
    },
    {
      "cell_type": "markdown",
      "metadata": {
        "id": "Iwf50b-R2tYG"
      },
      "source": [
        "### 4. Textual Data Preprocessing \n",
        "(It's mandatory for textual dataset i.e., NLP, Sentiment Analysis, Text Clustering etc.)"
      ]
    },
    {
      "cell_type": "markdown",
      "metadata": {
        "id": "IuJt6uYEDAld"
      },
      "source": []
    },
    {
      "cell_type": "markdown",
      "metadata": {
        "id": "GMQiZwjn3iu7"
      },
      "source": [
        "#### 1. Expand Contraction"
      ]
    },
    {
      "cell_type": "code",
      "execution_count": 106,
      "metadata": {
        "id": "PTouz10C3oNN"
      },
      "outputs": [],
      "source": [
        "# Expand Contraction"
      ]
    },
    {
      "cell_type": "markdown",
      "metadata": {
        "id": "WVIkgGqN3qsr"
      },
      "source": [
        "#### 2. Lower Casing"
      ]
    },
    {
      "cell_type": "code",
      "execution_count": 107,
      "metadata": {
        "id": "88JnJ1jN3w7j"
      },
      "outputs": [],
      "source": [
        "# Lower Casing"
      ]
    },
    {
      "cell_type": "markdown",
      "metadata": {
        "id": "XkPnILGE3zoT"
      },
      "source": [
        "#### 3. Removing Punctuations"
      ]
    },
    {
      "cell_type": "code",
      "execution_count": 108,
      "metadata": {
        "id": "vqbBqNaA33c0"
      },
      "outputs": [],
      "source": [
        "# Remove Punctuations"
      ]
    },
    {
      "cell_type": "markdown",
      "metadata": {
        "id": "Hlsf0x5436Go"
      },
      "source": [
        "#### 4. Removing URLs & Removing words and digits contain digits."
      ]
    },
    {
      "cell_type": "code",
      "execution_count": 109,
      "metadata": {
        "id": "2sxKgKxu4Ip3"
      },
      "outputs": [],
      "source": [
        "# Remove URLs & Remove words and digits contain digits"
      ]
    },
    {
      "cell_type": "markdown",
      "metadata": {
        "id": "mT9DMSJo4nBL"
      },
      "source": [
        "#### 5. Removing Stopwords & Removing White spaces"
      ]
    },
    {
      "cell_type": "code",
      "execution_count": 110,
      "metadata": {
        "id": "T2LSJh154s8W"
      },
      "outputs": [],
      "source": [
        "# Remove Stopwords"
      ]
    },
    {
      "cell_type": "code",
      "execution_count": 111,
      "metadata": {
        "id": "EgLJGffy4vm0"
      },
      "outputs": [],
      "source": [
        "# Remove White spaces"
      ]
    },
    {
      "cell_type": "markdown",
      "metadata": {
        "id": "c49ITxTc407N"
      },
      "source": [
        "#### 6. Rephrase Text"
      ]
    },
    {
      "cell_type": "code",
      "execution_count": 112,
      "metadata": {
        "id": "foqY80Qu48N2"
      },
      "outputs": [],
      "source": [
        "# Rephrase Text"
      ]
    },
    {
      "cell_type": "markdown",
      "metadata": {
        "id": "OeJFEK0N496M"
      },
      "source": [
        "#### 7. Tokenization"
      ]
    },
    {
      "cell_type": "code",
      "execution_count": 113,
      "metadata": {
        "id": "ijx1rUOS5CUU"
      },
      "outputs": [],
      "source": [
        "# Tokenization"
      ]
    },
    {
      "cell_type": "markdown",
      "metadata": {
        "id": "9ExmJH0g5HBk"
      },
      "source": [
        "#### 8. Text Normalization"
      ]
    },
    {
      "cell_type": "code",
      "execution_count": 114,
      "metadata": {
        "id": "AIJ1a-Zc5PY8"
      },
      "outputs": [],
      "source": [
        "# Normalizing Text (i.e., Stemming, Lemmatization etc.)"
      ]
    },
    {
      "cell_type": "markdown",
      "metadata": {
        "id": "cJNqERVU536h"
      },
      "source": [
        "##### Which text normalization technique have you used and why?"
      ]
    },
    {
      "cell_type": "markdown",
      "metadata": {
        "id": "Z9jKVxE06BC1"
      },
      "source": [
        "Answer Here."
      ]
    },
    {
      "cell_type": "markdown",
      "metadata": {
        "id": "k5UmGsbsOxih"
      },
      "source": [
        "#### 9. Part of speech tagging"
      ]
    },
    {
      "cell_type": "code",
      "execution_count": 115,
      "metadata": {
        "id": "btT3ZJBAO6Ik"
      },
      "outputs": [],
      "source": [
        "# POS Taging"
      ]
    },
    {
      "cell_type": "markdown",
      "metadata": {
        "id": "T0VqWOYE6DLQ"
      },
      "source": [
        "#### 10. Text Vectorization"
      ]
    },
    {
      "cell_type": "code",
      "execution_count": 116,
      "metadata": {
        "id": "yBRtdhth6JDE"
      },
      "outputs": [],
      "source": [
        "# Vectorizing Text"
      ]
    },
    {
      "cell_type": "markdown",
      "metadata": {
        "id": "qBMux9mC6MCf"
      },
      "source": [
        "##### Which text vectorization technique have you used and why?"
      ]
    },
    {
      "cell_type": "markdown",
      "metadata": {
        "id": "su2EnbCh6UKQ"
      },
      "source": [
        "Answer Here."
      ]
    },
    {
      "cell_type": "markdown",
      "metadata": {
        "id": "-oLEiFgy-5Pf"
      },
      "source": [
        "### 4. Feature Manipulation & Selection"
      ]
    },
    {
      "cell_type": "markdown",
      "metadata": {
        "id": "C74aWNz2AliB"
      },
      "source": [
        "#### 1. Feature Manipulation"
      ]
    },
    {
      "cell_type": "code",
      "execution_count": 117,
      "metadata": {
        "id": "h1qC4yhBApWC"
      },
      "outputs": [],
      "source": [
        "# Manipulate Features to minimize feature correlation and create new features"
      ]
    },
    {
      "cell_type": "markdown",
      "metadata": {
        "id": "2DejudWSA-a0"
      },
      "source": [
        "#### 2. Feature Selection"
      ]
    },
    {
      "cell_type": "code",
      "execution_count": 118,
      "metadata": {
        "id": "YLhe8UmaBCEE"
      },
      "outputs": [],
      "source": [
        "# Select your features wisely to avoid overfitting"
      ]
    },
    {
      "cell_type": "markdown",
      "metadata": {
        "id": "pEMng2IbBLp7"
      },
      "source": [
        "##### What all feature selection methods have you used  and why?"
      ]
    },
    {
      "cell_type": "markdown",
      "metadata": {
        "id": "rb2Lh6Z8BgGs"
      },
      "source": [
        "Answer Here."
      ]
    },
    {
      "cell_type": "markdown",
      "metadata": {
        "id": "rAdphbQ9Bhjc"
      },
      "source": [
        "##### Which all features you found important and why?"
      ]
    },
    {
      "cell_type": "markdown",
      "metadata": {
        "id": "fGgaEstsBnaf"
      },
      "source": [
        "Answer Here."
      ]
    },
    {
      "cell_type": "markdown",
      "metadata": {
        "id": "TNVZ9zx19K6k"
      },
      "source": [
        "### 5. Data Transformation"
      ]
    },
    {
      "cell_type": "markdown",
      "metadata": {
        "id": "nqoHp30x9hH9"
      },
      "source": [
        "#### Do you think that your data needs to be transformed? If yes, which transformation have you used. Explain Why?"
      ]
    },
    {
      "cell_type": "code",
      "execution_count": 119,
      "metadata": {
        "id": "I6quWQ1T9rtH"
      },
      "outputs": [],
      "source": [
        "# Transform Your data"
      ]
    },
    {
      "cell_type": "markdown",
      "metadata": {
        "id": "rMDnDkt2B6du"
      },
      "source": [
        "### 6. Data Scaling"
      ]
    },
    {
      "cell_type": "code",
      "execution_count": 120,
      "metadata": {
        "id": "dL9LWpySC6x_"
      },
      "outputs": [],
      "source": [
        "# Scaling your data"
      ]
    },
    {
      "cell_type": "markdown",
      "metadata": {
        "id": "yiiVWRdJDDil"
      },
      "source": [
        "##### Which method have you used to scale you data and why?"
      ]
    },
    {
      "cell_type": "markdown",
      "metadata": {
        "id": "1UUpS68QDMuG"
      },
      "source": [
        "### 7. Dimesionality Reduction"
      ]
    },
    {
      "cell_type": "markdown",
      "metadata": {
        "id": "kexQrXU-DjzY"
      },
      "source": [
        "##### Do you think that dimensionality reduction is needed? Explain Why?"
      ]
    },
    {
      "cell_type": "markdown",
      "metadata": {
        "id": "GGRlBsSGDtTQ"
      },
      "source": [
        "Answer Here."
      ]
    },
    {
      "cell_type": "code",
      "execution_count": 121,
      "metadata": {
        "id": "kQfvxBBHDvCa"
      },
      "outputs": [],
      "source": [
        "# DImensionality Reduction (If needed)"
      ]
    },
    {
      "cell_type": "markdown",
      "metadata": {
        "id": "T5CmagL3EC8N"
      },
      "source": [
        "##### Which dimensionality reduction technique have you used and why? (If dimensionality reduction done on dataset.)"
      ]
    },
    {
      "cell_type": "markdown",
      "metadata": {
        "id": "ZKr75IDuEM7t"
      },
      "source": [
        "Answer Here."
      ]
    },
    {
      "cell_type": "markdown",
      "metadata": {
        "id": "BhH2vgX9EjGr"
      },
      "source": [
        "### 8. Data Splitting"
      ]
    },
    {
      "cell_type": "code",
      "execution_count": 122,
      "metadata": {
        "id": "0CTyd2UwEyNM"
      },
      "outputs": [],
      "source": [
        "# Split your data to train and test. Choose Splitting ratio wisely."
      ]
    },
    {
      "cell_type": "markdown",
      "metadata": {
        "id": "qjKvONjwE8ra"
      },
      "source": [
        "##### What data splitting ratio have you used and why? "
      ]
    },
    {
      "cell_type": "markdown",
      "metadata": {
        "id": "Y2lJ8cobFDb_"
      },
      "source": [
        "Answer Here."
      ]
    },
    {
      "cell_type": "markdown",
      "metadata": {
        "id": "P1XJ9OREExlT"
      },
      "source": [
        "### 9. Handling Imbalanced Dataset"
      ]
    },
    {
      "cell_type": "markdown",
      "metadata": {
        "id": "VFOzZv6IFROw"
      },
      "source": [
        "##### Do you think the dataset is imbalanced? Explain Why."
      ]
    },
    {
      "cell_type": "markdown",
      "metadata": {
        "id": "GeKDIv7pFgcC"
      },
      "source": [
        "Answer Here."
      ]
    },
    {
      "cell_type": "code",
      "execution_count": 123,
      "metadata": {
        "id": "nQsRhhZLFiDs"
      },
      "outputs": [],
      "source": [
        "# Handling Imbalanced Dataset (If needed)"
      ]
    },
    {
      "cell_type": "markdown",
      "metadata": {
        "id": "TIqpNgepFxVj"
      },
      "source": [
        "##### What technique did you use to handle the imbalance dataset and why? (If needed to be balanced)"
      ]
    },
    {
      "cell_type": "markdown",
      "metadata": {
        "id": "qbet1HwdGDTz"
      },
      "source": [
        "Answer Here."
      ]
    },
    {
      "cell_type": "markdown",
      "metadata": {
        "id": "VfCC591jGiD4"
      },
      "source": [
        "## ***7. ML Model Implementation***"
      ]
    },
    {
      "cell_type": "markdown",
      "source": [
        "**Collaborative Filtering (CF)**\n",
        "\n",
        "Collaborative filtering is the process of filtering for information or patterns using techniques involving collaboration among multiple agents, viewpoints, data sources.Basically, it is a method of making automatic predictions (filtering) about the interests of a user by collecting preferences or taste information from many users.\n",
        "\n",
        "There are 2 approaches to CF -->\n",
        "\n",
        "**Memory-Based CF** - It is an approach which finds similarity between users or between items to recommend similar items. Examples include Neighbourhood-based CF and Item-based/User-based top-N recommendations.\n",
        "\n",
        "**Model-Based CF** - In this approach we use different data mining, machine learning algorithms to predict users' rating of unrated items. Examples include Singular Value Decomposition (SVD) , Principal Component Analysis (PCA) etc."
      ],
      "metadata": {
        "id": "LqYRau6Wnrif"
      }
    },
    {
      "cell_type": "markdown",
      "source": [
        "#<b>Item based collaborative filtering"
      ],
      "metadata": {
        "id": "usicf5VyQNCR"
      }
    },
    {
      "cell_type": "code",
      "execution_count": 124,
      "metadata": {
        "id": "2LDrXEcqRwXx"
      },
      "outputs": [],
      "source": [
        "#Filtering users who have given atleast 200 ratings\n",
        "xp_readers = merged_dataset.groupby('User-ID').count()['Book-Rating'] > 200\n",
        "\n",
        "#Index of all the users who have given atleast 200 ratings to books\n",
        "xp_readers_index = xp_readers[xp_readers].index\n",
        "\n",
        "#Filtering all these users in dataframe\n",
        "filtered_xp_users = merged_dataset[merged_dataset['User-ID'].isin(xp_readers_index)]"
      ]
    },
    {
      "cell_type": "code",
      "execution_count": 125,
      "metadata": {
        "id": "Q8wKgRgqRwXy"
      },
      "outputs": [],
      "source": [
        "#Filtering all the books which have got atleast 50 ratings\n",
        "popular_books = filtered_xp_users.groupby('Book-Title').count()['Book-Rating']>=50\n",
        "\n",
        "#Index of all the books who have got atleast 50 ratings \n",
        "popular_books_index= popular_books[popular_books].index\n",
        "\n",
        "#Filtering all books in dataframe\n",
        "final_filtered_df = filtered_xp_users[filtered_xp_users['Book-Title'].isin(popular_books_index)]"
      ]
    },
    {
      "cell_type": "code",
      "source": [
        "#Creating  Pivot Table\n",
        "book_pivot = final_filtered_df.pivot_table(columns='User-ID', index='Book-Title', values=\"Book-Rating\")\n",
        "book_pivot.fillna(0, inplace=True)\n",
        "book_pivot"
      ],
      "metadata": {
        "colab": {
          "base_uri": "https://localhost:8080/",
          "height": 533
        },
        "id": "RhRn9YEzQWYc",
        "outputId": "795b807e-dade-4271-80a3-c889ff05327f"
      },
      "execution_count": 126,
      "outputs": [
        {
          "output_type": "execute_result",
          "data": {
            "text/plain": [
              "User-ID                                             254     2276    2766    \\\n",
              "Book-Title                                                                   \n",
              "1984                                                   9.0     0.0     0.0   \n",
              "1st to Die: A Novel                                    0.0     0.0     0.0   \n",
              "2nd Chance                                             0.0    10.0     0.0   \n",
              "4 Blondes                                              0.0     0.0     0.0   \n",
              "A Bend in the Road                                     0.0     0.0     7.0   \n",
              "...                                                    ...     ...     ...   \n",
              "Year of Wonders                                        0.0     0.0     0.0   \n",
              "You Belong To Me                                       0.0     0.0     0.0   \n",
              "Zen and the Art of Motorcycle Maintenance: An I...     0.0     0.0     0.0   \n",
              "Zoya                                                   0.0     0.0     0.0   \n",
              "\\O\\\" Is for Outlaw\"                                    0.0     0.0     0.0   \n",
              "\n",
              "User-ID                                             2977    3363    4017    \\\n",
              "Book-Title                                                                   \n",
              "1984                                                   0.0     0.0     0.0   \n",
              "1st to Die: A Novel                                    0.0     0.0     0.0   \n",
              "2nd Chance                                             0.0     0.0     0.0   \n",
              "4 Blondes                                              0.0     0.0     0.0   \n",
              "A Bend in the Road                                     0.0     0.0     0.0   \n",
              "...                                                    ...     ...     ...   \n",
              "Year of Wonders                                        7.0     0.0     0.0   \n",
              "You Belong To Me                                       0.0     0.0     0.0   \n",
              "Zen and the Art of Motorcycle Maintenance: An I...     0.0     0.0     0.0   \n",
              "Zoya                                                   0.0     0.0     0.0   \n",
              "\\O\\\" Is for Outlaw\"                                    0.0     0.0     0.0   \n",
              "\n",
              "User-ID                                             4385    6251    6323    \\\n",
              "Book-Title                                                                   \n",
              "1984                                                   0.0     0.0     0.0   \n",
              "1st to Die: A Novel                                    0.0     0.0     0.0   \n",
              "2nd Chance                                             0.0     0.0     0.0   \n",
              "4 Blondes                                              0.0     0.0     0.0   \n",
              "A Bend in the Road                                     0.0     0.0     0.0   \n",
              "...                                                    ...     ...     ...   \n",
              "Year of Wonders                                        0.0     0.0     0.0   \n",
              "You Belong To Me                                       0.0     0.0     0.0   \n",
              "Zen and the Art of Motorcycle Maintenance: An I...     0.0     0.0     0.0   \n",
              "Zoya                                                   0.0     0.0     0.0   \n",
              "\\O\\\" Is for Outlaw\"                                    0.0     0.0     0.0   \n",
              "\n",
              "User-ID                                             6543    ...  271705  \\\n",
              "Book-Title                                                  ...           \n",
              "1984                                                   0.0  ...    10.0   \n",
              "1st to Die: A Novel                                    9.0  ...     0.0   \n",
              "2nd Chance                                             0.0  ...     0.0   \n",
              "4 Blondes                                              0.0  ...     0.0   \n",
              "A Bend in the Road                                     0.0  ...     0.0   \n",
              "...                                                    ...  ...     ...   \n",
              "Year of Wonders                                        0.0  ...     0.0   \n",
              "You Belong To Me                                       0.0  ...     0.0   \n",
              "Zen and the Art of Motorcycle Maintenance: An I...     0.0  ...     0.0   \n",
              "Zoya                                                   0.0  ...     0.0   \n",
              "\\O\\\" Is for Outlaw\"                                    0.0  ...     0.0   \n",
              "\n",
              "User-ID                                             273979  274004  274061  \\\n",
              "Book-Title                                                                   \n",
              "1984                                                   0.0     0.0     0.0   \n",
              "1st to Die: A Novel                                    0.0     0.0     0.0   \n",
              "2nd Chance                                             0.0     0.0     0.0   \n",
              "4 Blondes                                              0.0     0.0     0.0   \n",
              "A Bend in the Road                                     0.0     0.0     0.0   \n",
              "...                                                    ...     ...     ...   \n",
              "Year of Wonders                                        9.0     0.0     0.0   \n",
              "You Belong To Me                                       0.0     0.0     0.0   \n",
              "Zen and the Art of Motorcycle Maintenance: An I...     0.0     0.0     0.0   \n",
              "Zoya                                                   0.0     0.0     0.0   \n",
              "\\O\\\" Is for Outlaw\"                                    0.0     0.0     0.0   \n",
              "\n",
              "User-ID                                             274301  274308  275970  \\\n",
              "Book-Title                                                                   \n",
              "1984                                                   0.0     0.0     0.0   \n",
              "1st to Die: A Novel                                    0.0     0.0     0.0   \n",
              "2nd Chance                                             0.0     0.0     0.0   \n",
              "4 Blondes                                              0.0     0.0     0.0   \n",
              "A Bend in the Road                                     0.0     0.0     0.0   \n",
              "...                                                    ...     ...     ...   \n",
              "Year of Wonders                                        0.0     0.0     0.0   \n",
              "You Belong To Me                                       0.0     0.0     0.0   \n",
              "Zen and the Art of Motorcycle Maintenance: An I...     0.0     0.0     0.0   \n",
              "Zoya                                                   0.0     0.0     0.0   \n",
              "\\O\\\" Is for Outlaw\"                                    8.0     0.0     0.0   \n",
              "\n",
              "User-ID                                             277427  277639  278418  \n",
              "Book-Title                                                                  \n",
              "1984                                                   0.0     0.0     0.0  \n",
              "1st to Die: A Novel                                    0.0     0.0     0.0  \n",
              "2nd Chance                                             0.0     0.0     0.0  \n",
              "4 Blondes                                              0.0     0.0     0.0  \n",
              "A Bend in the Road                                     0.0     0.0     0.0  \n",
              "...                                                    ...     ...     ...  \n",
              "Year of Wonders                                        0.0     0.0     0.0  \n",
              "You Belong To Me                                       0.0     0.0     0.0  \n",
              "Zen and the Art of Motorcycle Maintenance: An I...     0.0     0.0     0.0  \n",
              "Zoya                                                   0.0     0.0     0.0  \n",
              "\\O\\\" Is for Outlaw\"                                    0.0     0.0     0.0  \n",
              "\n",
              "[706 rows x 810 columns]"
            ],
            "text/html": [
              "\n",
              "  <div id=\"df-fbce4f11-84c7-4c95-86f7-d9642d1939cc\">\n",
              "    <div class=\"colab-df-container\">\n",
              "      <div>\n",
              "<style scoped>\n",
              "    .dataframe tbody tr th:only-of-type {\n",
              "        vertical-align: middle;\n",
              "    }\n",
              "\n",
              "    .dataframe tbody tr th {\n",
              "        vertical-align: top;\n",
              "    }\n",
              "\n",
              "    .dataframe thead th {\n",
              "        text-align: right;\n",
              "    }\n",
              "</style>\n",
              "<table border=\"1\" class=\"dataframe\">\n",
              "  <thead>\n",
              "    <tr style=\"text-align: right;\">\n",
              "      <th>User-ID</th>\n",
              "      <th>254</th>\n",
              "      <th>2276</th>\n",
              "      <th>2766</th>\n",
              "      <th>2977</th>\n",
              "      <th>3363</th>\n",
              "      <th>4017</th>\n",
              "      <th>4385</th>\n",
              "      <th>6251</th>\n",
              "      <th>6323</th>\n",
              "      <th>6543</th>\n",
              "      <th>...</th>\n",
              "      <th>271705</th>\n",
              "      <th>273979</th>\n",
              "      <th>274004</th>\n",
              "      <th>274061</th>\n",
              "      <th>274301</th>\n",
              "      <th>274308</th>\n",
              "      <th>275970</th>\n",
              "      <th>277427</th>\n",
              "      <th>277639</th>\n",
              "      <th>278418</th>\n",
              "    </tr>\n",
              "    <tr>\n",
              "      <th>Book-Title</th>\n",
              "      <th></th>\n",
              "      <th></th>\n",
              "      <th></th>\n",
              "      <th></th>\n",
              "      <th></th>\n",
              "      <th></th>\n",
              "      <th></th>\n",
              "      <th></th>\n",
              "      <th></th>\n",
              "      <th></th>\n",
              "      <th></th>\n",
              "      <th></th>\n",
              "      <th></th>\n",
              "      <th></th>\n",
              "      <th></th>\n",
              "      <th></th>\n",
              "      <th></th>\n",
              "      <th></th>\n",
              "      <th></th>\n",
              "      <th></th>\n",
              "      <th></th>\n",
              "    </tr>\n",
              "  </thead>\n",
              "  <tbody>\n",
              "    <tr>\n",
              "      <th>1984</th>\n",
              "      <td>9.0</td>\n",
              "      <td>0.0</td>\n",
              "      <td>0.0</td>\n",
              "      <td>0.0</td>\n",
              "      <td>0.0</td>\n",
              "      <td>0.0</td>\n",
              "      <td>0.0</td>\n",
              "      <td>0.0</td>\n",
              "      <td>0.0</td>\n",
              "      <td>0.0</td>\n",
              "      <td>...</td>\n",
              "      <td>10.0</td>\n",
              "      <td>0.0</td>\n",
              "      <td>0.0</td>\n",
              "      <td>0.0</td>\n",
              "      <td>0.0</td>\n",
              "      <td>0.0</td>\n",
              "      <td>0.0</td>\n",
              "      <td>0.0</td>\n",
              "      <td>0.0</td>\n",
              "      <td>0.0</td>\n",
              "    </tr>\n",
              "    <tr>\n",
              "      <th>1st to Die: A Novel</th>\n",
              "      <td>0.0</td>\n",
              "      <td>0.0</td>\n",
              "      <td>0.0</td>\n",
              "      <td>0.0</td>\n",
              "      <td>0.0</td>\n",
              "      <td>0.0</td>\n",
              "      <td>0.0</td>\n",
              "      <td>0.0</td>\n",
              "      <td>0.0</td>\n",
              "      <td>9.0</td>\n",
              "      <td>...</td>\n",
              "      <td>0.0</td>\n",
              "      <td>0.0</td>\n",
              "      <td>0.0</td>\n",
              "      <td>0.0</td>\n",
              "      <td>0.0</td>\n",
              "      <td>0.0</td>\n",
              "      <td>0.0</td>\n",
              "      <td>0.0</td>\n",
              "      <td>0.0</td>\n",
              "      <td>0.0</td>\n",
              "    </tr>\n",
              "    <tr>\n",
              "      <th>2nd Chance</th>\n",
              "      <td>0.0</td>\n",
              "      <td>10.0</td>\n",
              "      <td>0.0</td>\n",
              "      <td>0.0</td>\n",
              "      <td>0.0</td>\n",
              "      <td>0.0</td>\n",
              "      <td>0.0</td>\n",
              "      <td>0.0</td>\n",
              "      <td>0.0</td>\n",
              "      <td>0.0</td>\n",
              "      <td>...</td>\n",
              "      <td>0.0</td>\n",
              "      <td>0.0</td>\n",
              "      <td>0.0</td>\n",
              "      <td>0.0</td>\n",
              "      <td>0.0</td>\n",
              "      <td>0.0</td>\n",
              "      <td>0.0</td>\n",
              "      <td>0.0</td>\n",
              "      <td>0.0</td>\n",
              "      <td>0.0</td>\n",
              "    </tr>\n",
              "    <tr>\n",
              "      <th>4 Blondes</th>\n",
              "      <td>0.0</td>\n",
              "      <td>0.0</td>\n",
              "      <td>0.0</td>\n",
              "      <td>0.0</td>\n",
              "      <td>0.0</td>\n",
              "      <td>0.0</td>\n",
              "      <td>0.0</td>\n",
              "      <td>0.0</td>\n",
              "      <td>0.0</td>\n",
              "      <td>0.0</td>\n",
              "      <td>...</td>\n",
              "      <td>0.0</td>\n",
              "      <td>0.0</td>\n",
              "      <td>0.0</td>\n",
              "      <td>0.0</td>\n",
              "      <td>0.0</td>\n",
              "      <td>0.0</td>\n",
              "      <td>0.0</td>\n",
              "      <td>0.0</td>\n",
              "      <td>0.0</td>\n",
              "      <td>0.0</td>\n",
              "    </tr>\n",
              "    <tr>\n",
              "      <th>A Bend in the Road</th>\n",
              "      <td>0.0</td>\n",
              "      <td>0.0</td>\n",
              "      <td>7.0</td>\n",
              "      <td>0.0</td>\n",
              "      <td>0.0</td>\n",
              "      <td>0.0</td>\n",
              "      <td>0.0</td>\n",
              "      <td>0.0</td>\n",
              "      <td>0.0</td>\n",
              "      <td>0.0</td>\n",
              "      <td>...</td>\n",
              "      <td>0.0</td>\n",
              "      <td>0.0</td>\n",
              "      <td>0.0</td>\n",
              "      <td>0.0</td>\n",
              "      <td>0.0</td>\n",
              "      <td>0.0</td>\n",
              "      <td>0.0</td>\n",
              "      <td>0.0</td>\n",
              "      <td>0.0</td>\n",
              "      <td>0.0</td>\n",
              "    </tr>\n",
              "    <tr>\n",
              "      <th>...</th>\n",
              "      <td>...</td>\n",
              "      <td>...</td>\n",
              "      <td>...</td>\n",
              "      <td>...</td>\n",
              "      <td>...</td>\n",
              "      <td>...</td>\n",
              "      <td>...</td>\n",
              "      <td>...</td>\n",
              "      <td>...</td>\n",
              "      <td>...</td>\n",
              "      <td>...</td>\n",
              "      <td>...</td>\n",
              "      <td>...</td>\n",
              "      <td>...</td>\n",
              "      <td>...</td>\n",
              "      <td>...</td>\n",
              "      <td>...</td>\n",
              "      <td>...</td>\n",
              "      <td>...</td>\n",
              "      <td>...</td>\n",
              "      <td>...</td>\n",
              "    </tr>\n",
              "    <tr>\n",
              "      <th>Year of Wonders</th>\n",
              "      <td>0.0</td>\n",
              "      <td>0.0</td>\n",
              "      <td>0.0</td>\n",
              "      <td>7.0</td>\n",
              "      <td>0.0</td>\n",
              "      <td>0.0</td>\n",
              "      <td>0.0</td>\n",
              "      <td>0.0</td>\n",
              "      <td>0.0</td>\n",
              "      <td>0.0</td>\n",
              "      <td>...</td>\n",
              "      <td>0.0</td>\n",
              "      <td>9.0</td>\n",
              "      <td>0.0</td>\n",
              "      <td>0.0</td>\n",
              "      <td>0.0</td>\n",
              "      <td>0.0</td>\n",
              "      <td>0.0</td>\n",
              "      <td>0.0</td>\n",
              "      <td>0.0</td>\n",
              "      <td>0.0</td>\n",
              "    </tr>\n",
              "    <tr>\n",
              "      <th>You Belong To Me</th>\n",
              "      <td>0.0</td>\n",
              "      <td>0.0</td>\n",
              "      <td>0.0</td>\n",
              "      <td>0.0</td>\n",
              "      <td>0.0</td>\n",
              "      <td>0.0</td>\n",
              "      <td>0.0</td>\n",
              "      <td>0.0</td>\n",
              "      <td>0.0</td>\n",
              "      <td>0.0</td>\n",
              "      <td>...</td>\n",
              "      <td>0.0</td>\n",
              "      <td>0.0</td>\n",
              "      <td>0.0</td>\n",
              "      <td>0.0</td>\n",
              "      <td>0.0</td>\n",
              "      <td>0.0</td>\n",
              "      <td>0.0</td>\n",
              "      <td>0.0</td>\n",
              "      <td>0.0</td>\n",
              "      <td>0.0</td>\n",
              "    </tr>\n",
              "    <tr>\n",
              "      <th>Zen and the Art of Motorcycle Maintenance: An Inquiry into Values</th>\n",
              "      <td>0.0</td>\n",
              "      <td>0.0</td>\n",
              "      <td>0.0</td>\n",
              "      <td>0.0</td>\n",
              "      <td>0.0</td>\n",
              "      <td>0.0</td>\n",
              "      <td>0.0</td>\n",
              "      <td>0.0</td>\n",
              "      <td>0.0</td>\n",
              "      <td>0.0</td>\n",
              "      <td>...</td>\n",
              "      <td>0.0</td>\n",
              "      <td>0.0</td>\n",
              "      <td>0.0</td>\n",
              "      <td>0.0</td>\n",
              "      <td>0.0</td>\n",
              "      <td>0.0</td>\n",
              "      <td>0.0</td>\n",
              "      <td>0.0</td>\n",
              "      <td>0.0</td>\n",
              "      <td>0.0</td>\n",
              "    </tr>\n",
              "    <tr>\n",
              "      <th>Zoya</th>\n",
              "      <td>0.0</td>\n",
              "      <td>0.0</td>\n",
              "      <td>0.0</td>\n",
              "      <td>0.0</td>\n",
              "      <td>0.0</td>\n",
              "      <td>0.0</td>\n",
              "      <td>0.0</td>\n",
              "      <td>0.0</td>\n",
              "      <td>0.0</td>\n",
              "      <td>0.0</td>\n",
              "      <td>...</td>\n",
              "      <td>0.0</td>\n",
              "      <td>0.0</td>\n",
              "      <td>0.0</td>\n",
              "      <td>0.0</td>\n",
              "      <td>0.0</td>\n",
              "      <td>0.0</td>\n",
              "      <td>0.0</td>\n",
              "      <td>0.0</td>\n",
              "      <td>0.0</td>\n",
              "      <td>0.0</td>\n",
              "    </tr>\n",
              "    <tr>\n",
              "      <th>\\O\\\" Is for Outlaw\"</th>\n",
              "      <td>0.0</td>\n",
              "      <td>0.0</td>\n",
              "      <td>0.0</td>\n",
              "      <td>0.0</td>\n",
              "      <td>0.0</td>\n",
              "      <td>0.0</td>\n",
              "      <td>0.0</td>\n",
              "      <td>0.0</td>\n",
              "      <td>0.0</td>\n",
              "      <td>0.0</td>\n",
              "      <td>...</td>\n",
              "      <td>0.0</td>\n",
              "      <td>0.0</td>\n",
              "      <td>0.0</td>\n",
              "      <td>0.0</td>\n",
              "      <td>8.0</td>\n",
              "      <td>0.0</td>\n",
              "      <td>0.0</td>\n",
              "      <td>0.0</td>\n",
              "      <td>0.0</td>\n",
              "      <td>0.0</td>\n",
              "    </tr>\n",
              "  </tbody>\n",
              "</table>\n",
              "<p>706 rows × 810 columns</p>\n",
              "</div>\n",
              "      <button class=\"colab-df-convert\" onclick=\"convertToInteractive('df-fbce4f11-84c7-4c95-86f7-d9642d1939cc')\"\n",
              "              title=\"Convert this dataframe to an interactive table.\"\n",
              "              style=\"display:none;\">\n",
              "        \n",
              "  <svg xmlns=\"http://www.w3.org/2000/svg\" height=\"24px\"viewBox=\"0 0 24 24\"\n",
              "       width=\"24px\">\n",
              "    <path d=\"M0 0h24v24H0V0z\" fill=\"none\"/>\n",
              "    <path d=\"M18.56 5.44l.94 2.06.94-2.06 2.06-.94-2.06-.94-.94-2.06-.94 2.06-2.06.94zm-11 1L8.5 8.5l.94-2.06 2.06-.94-2.06-.94L8.5 2.5l-.94 2.06-2.06.94zm10 10l.94 2.06.94-2.06 2.06-.94-2.06-.94-.94-2.06-.94 2.06-2.06.94z\"/><path d=\"M17.41 7.96l-1.37-1.37c-.4-.4-.92-.59-1.43-.59-.52 0-1.04.2-1.43.59L10.3 9.45l-7.72 7.72c-.78.78-.78 2.05 0 2.83L4 21.41c.39.39.9.59 1.41.59.51 0 1.02-.2 1.41-.59l7.78-7.78 2.81-2.81c.8-.78.8-2.07 0-2.86zM5.41 20L4 18.59l7.72-7.72 1.47 1.35L5.41 20z\"/>\n",
              "  </svg>\n",
              "      </button>\n",
              "      \n",
              "  <style>\n",
              "    .colab-df-container {\n",
              "      display:flex;\n",
              "      flex-wrap:wrap;\n",
              "      gap: 12px;\n",
              "    }\n",
              "\n",
              "    .colab-df-convert {\n",
              "      background-color: #E8F0FE;\n",
              "      border: none;\n",
              "      border-radius: 50%;\n",
              "      cursor: pointer;\n",
              "      display: none;\n",
              "      fill: #1967D2;\n",
              "      height: 32px;\n",
              "      padding: 0 0 0 0;\n",
              "      width: 32px;\n",
              "    }\n",
              "\n",
              "    .colab-df-convert:hover {\n",
              "      background-color: #E2EBFA;\n",
              "      box-shadow: 0px 1px 2px rgba(60, 64, 67, 0.3), 0px 1px 3px 1px rgba(60, 64, 67, 0.15);\n",
              "      fill: #174EA6;\n",
              "    }\n",
              "\n",
              "    [theme=dark] .colab-df-convert {\n",
              "      background-color: #3B4455;\n",
              "      fill: #D2E3FC;\n",
              "    }\n",
              "\n",
              "    [theme=dark] .colab-df-convert:hover {\n",
              "      background-color: #434B5C;\n",
              "      box-shadow: 0px 1px 3px 1px rgba(0, 0, 0, 0.15);\n",
              "      filter: drop-shadow(0px 1px 2px rgba(0, 0, 0, 0.3));\n",
              "      fill: #FFFFFF;\n",
              "    }\n",
              "  </style>\n",
              "\n",
              "      <script>\n",
              "        const buttonEl =\n",
              "          document.querySelector('#df-fbce4f11-84c7-4c95-86f7-d9642d1939cc button.colab-df-convert');\n",
              "        buttonEl.style.display =\n",
              "          google.colab.kernel.accessAllowed ? 'block' : 'none';\n",
              "\n",
              "        async function convertToInteractive(key) {\n",
              "          const element = document.querySelector('#df-fbce4f11-84c7-4c95-86f7-d9642d1939cc');\n",
              "          const dataTable =\n",
              "            await google.colab.kernel.invokeFunction('convertToInteractive',\n",
              "                                                     [key], {});\n",
              "          if (!dataTable) return;\n",
              "\n",
              "          const docLinkHtml = 'Like what you see? Visit the ' +\n",
              "            '<a target=\"_blank\" href=https://colab.research.google.com/notebooks/data_table.ipynb>data table notebook</a>'\n",
              "            + ' to learn more about interactive tables.';\n",
              "          element.innerHTML = '';\n",
              "          dataTable['output_type'] = 'display_data';\n",
              "          await google.colab.output.renderOutput(dataTable, element);\n",
              "          const docLink = document.createElement('div');\n",
              "          docLink.innerHTML = docLinkHtml;\n",
              "          element.appendChild(docLink);\n",
              "        }\n",
              "      </script>\n",
              "    </div>\n",
              "  </div>\n",
              "  "
            ]
          },
          "metadata": {},
          "execution_count": 126
        }
      ]
    },
    {
      "cell_type": "code",
      "source": [
        "# Implementing nearest neighbors algorithm which uses clustering based on euclidian distance.\n",
        "\n",
        "#Pivot table, we have lots of zero values so we will convert the pivot table to the sparse matrix and then feed it to the model for increasing efficiency.\n",
        "from scipy.sparse import csr_matrix\n",
        "book_sparse = csr_matrix(book_pivot)"
      ],
      "metadata": {
        "id": "tBSnEpUZSFCD"
      },
      "execution_count": 127,
      "outputs": []
    },
    {
      "cell_type": "code",
      "source": [
        "book_sparse"
      ],
      "metadata": {
        "colab": {
          "base_uri": "https://localhost:8080/"
        },
        "id": "0eevSAGu2z7S",
        "outputId": "1a72de8e-6ec2-4fca-aac3-299e4709bec0"
      },
      "execution_count": 128,
      "outputs": [
        {
          "output_type": "execute_result",
          "data": {
            "text/plain": [
              "<706x810 sparse matrix of type '<class 'numpy.float64'>'\n",
              "\twith 14289 stored elements in Compressed Sparse Row format>"
            ]
          },
          "metadata": {},
          "execution_count": 128
        }
      ]
    },
    {
      "cell_type": "code",
      "source": [
        "#Implementing nearest neighbour algorithm\n",
        "from sklearn.neighbors import NearestNeighbors\n",
        "model = NearestNeighbors(algorithm='auto')\n",
        "model.fit(book_sparse)\n"
      ],
      "metadata": {
        "id": "AyGYM25bSutR",
        "colab": {
          "base_uri": "https://localhost:8080/",
          "height": 74
        },
        "outputId": "9dd718c3-655c-4a63-fc4e-71e71e67b41d"
      },
      "execution_count": 129,
      "outputs": [
        {
          "output_type": "execute_result",
          "data": {
            "text/plain": [
              "NearestNeighbors()"
            ],
            "text/html": [
              "<style>#sk-container-id-1 {color: black;background-color: white;}#sk-container-id-1 pre{padding: 0;}#sk-container-id-1 div.sk-toggleable {background-color: white;}#sk-container-id-1 label.sk-toggleable__label {cursor: pointer;display: block;width: 100%;margin-bottom: 0;padding: 0.3em;box-sizing: border-box;text-align: center;}#sk-container-id-1 label.sk-toggleable__label-arrow:before {content: \"▸\";float: left;margin-right: 0.25em;color: #696969;}#sk-container-id-1 label.sk-toggleable__label-arrow:hover:before {color: black;}#sk-container-id-1 div.sk-estimator:hover label.sk-toggleable__label-arrow:before {color: black;}#sk-container-id-1 div.sk-toggleable__content {max-height: 0;max-width: 0;overflow: hidden;text-align: left;background-color: #f0f8ff;}#sk-container-id-1 div.sk-toggleable__content pre {margin: 0.2em;color: black;border-radius: 0.25em;background-color: #f0f8ff;}#sk-container-id-1 input.sk-toggleable__control:checked~div.sk-toggleable__content {max-height: 200px;max-width: 100%;overflow: auto;}#sk-container-id-1 input.sk-toggleable__control:checked~label.sk-toggleable__label-arrow:before {content: \"▾\";}#sk-container-id-1 div.sk-estimator input.sk-toggleable__control:checked~label.sk-toggleable__label {background-color: #d4ebff;}#sk-container-id-1 div.sk-label input.sk-toggleable__control:checked~label.sk-toggleable__label {background-color: #d4ebff;}#sk-container-id-1 input.sk-hidden--visually {border: 0;clip: rect(1px 1px 1px 1px);clip: rect(1px, 1px, 1px, 1px);height: 1px;margin: -1px;overflow: hidden;padding: 0;position: absolute;width: 1px;}#sk-container-id-1 div.sk-estimator {font-family: monospace;background-color: #f0f8ff;border: 1px dotted black;border-radius: 0.25em;box-sizing: border-box;margin-bottom: 0.5em;}#sk-container-id-1 div.sk-estimator:hover {background-color: #d4ebff;}#sk-container-id-1 div.sk-parallel-item::after {content: \"\";width: 100%;border-bottom: 1px solid gray;flex-grow: 1;}#sk-container-id-1 div.sk-label:hover label.sk-toggleable__label {background-color: #d4ebff;}#sk-container-id-1 div.sk-serial::before {content: \"\";position: absolute;border-left: 1px solid gray;box-sizing: border-box;top: 0;bottom: 0;left: 50%;z-index: 0;}#sk-container-id-1 div.sk-serial {display: flex;flex-direction: column;align-items: center;background-color: white;padding-right: 0.2em;padding-left: 0.2em;position: relative;}#sk-container-id-1 div.sk-item {position: relative;z-index: 1;}#sk-container-id-1 div.sk-parallel {display: flex;align-items: stretch;justify-content: center;background-color: white;position: relative;}#sk-container-id-1 div.sk-item::before, #sk-container-id-1 div.sk-parallel-item::before {content: \"\";position: absolute;border-left: 1px solid gray;box-sizing: border-box;top: 0;bottom: 0;left: 50%;z-index: -1;}#sk-container-id-1 div.sk-parallel-item {display: flex;flex-direction: column;z-index: 1;position: relative;background-color: white;}#sk-container-id-1 div.sk-parallel-item:first-child::after {align-self: flex-end;width: 50%;}#sk-container-id-1 div.sk-parallel-item:last-child::after {align-self: flex-start;width: 50%;}#sk-container-id-1 div.sk-parallel-item:only-child::after {width: 0;}#sk-container-id-1 div.sk-dashed-wrapped {border: 1px dashed gray;margin: 0 0.4em 0.5em 0.4em;box-sizing: border-box;padding-bottom: 0.4em;background-color: white;}#sk-container-id-1 div.sk-label label {font-family: monospace;font-weight: bold;display: inline-block;line-height: 1.2em;}#sk-container-id-1 div.sk-label-container {text-align: center;}#sk-container-id-1 div.sk-container {/* jupyter's `normalize.less` sets `[hidden] { display: none; }` but bootstrap.min.css set `[hidden] { display: none !important; }` so we also need the `!important` here to be able to override the default hidden behavior on the sphinx rendered scikit-learn.org. See: https://github.com/scikit-learn/scikit-learn/issues/21755 */display: inline-block !important;position: relative;}#sk-container-id-1 div.sk-text-repr-fallback {display: none;}</style><div id=\"sk-container-id-1\" class=\"sk-top-container\"><div class=\"sk-text-repr-fallback\"><pre>NearestNeighbors()</pre><b>In a Jupyter environment, please rerun this cell to show the HTML representation or trust the notebook. <br />On GitHub, the HTML representation is unable to render, please try loading this page with nbviewer.org.</b></div><div class=\"sk-container\" hidden><div class=\"sk-item\"><div class=\"sk-estimator sk-toggleable\"><input class=\"sk-toggleable__control sk-hidden--visually\" id=\"sk-estimator-id-1\" type=\"checkbox\" checked><label for=\"sk-estimator-id-1\" class=\"sk-toggleable__label sk-toggleable__label-arrow\">NearestNeighbors</label><div class=\"sk-toggleable__content\"><pre>NearestNeighbors()</pre></div></div></div></div></div>"
            ]
          },
          "metadata": {},
          "execution_count": 129
        }
      ]
    },
    {
      "cell_type": "code",
      "source": [
        "#Checking index of Harry Potter and the Chamber of Secrets (Book 2)\n",
        "for i in range(len(book_pivot.index)):\n",
        "  if(book_pivot.index[i]==\"Harry Potter and the Chamber of Secrets (Book 2)\"):\n",
        "    print(i)\n"
      ],
      "metadata": {
        "id": "-hVFZSawYb6L",
        "colab": {
          "base_uri": "https://localhost:8080/"
        },
        "outputId": "fd3e1f2f-bee7-494b-b902-88d459d7df06"
      },
      "execution_count": 130,
      "outputs": [
        {
          "output_type": "stream",
          "name": "stdout",
          "text": [
            "227\n"
          ]
        }
      ]
    },
    {
      "cell_type": "code",
      "source": [
        "#prediction to check recommendation for Harry Potter and the Chamber of Secrets (Book 2)\n",
        "distances, suggestions = model.kneighbors(book_pivot.iloc[237, :].values.reshape(1, -1))\n"
      ],
      "metadata": {
        "id": "tSGxPswqU1IO"
      },
      "execution_count": 131,
      "outputs": []
    },
    {
      "cell_type": "code",
      "source": [
        "book_pivot.index[suggestions[0][2]]"
      ],
      "metadata": {
        "id": "5Bu0PE8JdOwJ",
        "colab": {
          "base_uri": "https://localhost:8080/",
          "height": 35
        },
        "outputId": "fcc909d8-8c7f-4f9c-9d7a-c1b7e06c9fc2"
      },
      "execution_count": 132,
      "outputs": [
        {
          "output_type": "execute_result",
          "data": {
            "text/plain": [
              "\"Tom Clancy's Op-Center (Tom Clancy's Op Center (Paperback))\""
            ],
            "application/vnd.google.colaboratory.intrinsic+json": {
              "type": "string"
            }
          },
          "metadata": {},
          "execution_count": 132
        }
      ]
    },
    {
      "cell_type": "code",
      "source": [
        "new_df = pd.DataFrame()\n",
        "for i in range(5):\n",
        "  df = pd.DataFrame()\n",
        "  df=merged_dataset[merged_dataset['Book-Title']==book_pivot.index[suggestions[0][i]]].drop_duplicates('Book-Title')[['Book-Title','Book-Author','Year-Of-Publication','Publisher','Image-URL-M']]\n",
        "  new_df=new_df.append(df, ignore_index=True)"
      ],
      "metadata": {
        "id": "pECOxwFOU_xZ"
      },
      "execution_count": 133,
      "outputs": []
    },
    {
      "cell_type": "code",
      "source": [
        "new_df"
      ],
      "metadata": {
        "id": "x2kH_tlxcq5L",
        "colab": {
          "base_uri": "https://localhost:8080/",
          "height": 250
        },
        "outputId": "fa057f88-8ce2-48a2-8e8f-7231b7c04963"
      },
      "execution_count": 134,
      "outputs": [
        {
          "output_type": "execute_result",
          "data": {
            "text/plain": [
              "                                          Book-Title              Book-Author  \\\n",
              "0                                 Hearts In Atlantis             Stephen King   \n",
              "1                                      No Safe Place  RICHARD NORTH PATTERSON   \n",
              "2  Tom Clancy's Op-Center (Tom Clancy's Op Center...               Tom Clancy   \n",
              "3                                          Exclusive             Sandra Brown   \n",
              "4                                Long After Midnight            IRIS JOHANSEN   \n",
              "\n",
              "  Year-Of-Publication                 Publisher  \\\n",
              "0                2000                    Pocket   \n",
              "1                1999          Ballantine Books   \n",
              "2                1995  Berkley Publishing Group   \n",
              "3                1997              Warner Books   \n",
              "4                1997                    Bantam   \n",
              "\n",
              "                                         Image-URL-M  \n",
              "0  http://images.amazon.com/images/P/0671024248.0...  \n",
              "1  http://images.amazon.com/images/P/0345404777.0...  \n",
              "2  http://images.amazon.com/images/P/0425147363.0...  \n",
              "3  http://images.amazon.com/images/P/0446604232.0...  \n",
              "4  http://images.amazon.com/images/P/0553571818.0...  "
            ],
            "text/html": [
              "\n",
              "  <div id=\"df-abf86cf2-c433-4fe5-83b5-6471ba4fc4b3\">\n",
              "    <div class=\"colab-df-container\">\n",
              "      <div>\n",
              "<style scoped>\n",
              "    .dataframe tbody tr th:only-of-type {\n",
              "        vertical-align: middle;\n",
              "    }\n",
              "\n",
              "    .dataframe tbody tr th {\n",
              "        vertical-align: top;\n",
              "    }\n",
              "\n",
              "    .dataframe thead th {\n",
              "        text-align: right;\n",
              "    }\n",
              "</style>\n",
              "<table border=\"1\" class=\"dataframe\">\n",
              "  <thead>\n",
              "    <tr style=\"text-align: right;\">\n",
              "      <th></th>\n",
              "      <th>Book-Title</th>\n",
              "      <th>Book-Author</th>\n",
              "      <th>Year-Of-Publication</th>\n",
              "      <th>Publisher</th>\n",
              "      <th>Image-URL-M</th>\n",
              "    </tr>\n",
              "  </thead>\n",
              "  <tbody>\n",
              "    <tr>\n",
              "      <th>0</th>\n",
              "      <td>Hearts In Atlantis</td>\n",
              "      <td>Stephen King</td>\n",
              "      <td>2000</td>\n",
              "      <td>Pocket</td>\n",
              "      <td>http://images.amazon.com/images/P/0671024248.0...</td>\n",
              "    </tr>\n",
              "    <tr>\n",
              "      <th>1</th>\n",
              "      <td>No Safe Place</td>\n",
              "      <td>RICHARD NORTH PATTERSON</td>\n",
              "      <td>1999</td>\n",
              "      <td>Ballantine Books</td>\n",
              "      <td>http://images.amazon.com/images/P/0345404777.0...</td>\n",
              "    </tr>\n",
              "    <tr>\n",
              "      <th>2</th>\n",
              "      <td>Tom Clancy's Op-Center (Tom Clancy's Op Center...</td>\n",
              "      <td>Tom Clancy</td>\n",
              "      <td>1995</td>\n",
              "      <td>Berkley Publishing Group</td>\n",
              "      <td>http://images.amazon.com/images/P/0425147363.0...</td>\n",
              "    </tr>\n",
              "    <tr>\n",
              "      <th>3</th>\n",
              "      <td>Exclusive</td>\n",
              "      <td>Sandra Brown</td>\n",
              "      <td>1997</td>\n",
              "      <td>Warner Books</td>\n",
              "      <td>http://images.amazon.com/images/P/0446604232.0...</td>\n",
              "    </tr>\n",
              "    <tr>\n",
              "      <th>4</th>\n",
              "      <td>Long After Midnight</td>\n",
              "      <td>IRIS JOHANSEN</td>\n",
              "      <td>1997</td>\n",
              "      <td>Bantam</td>\n",
              "      <td>http://images.amazon.com/images/P/0553571818.0...</td>\n",
              "    </tr>\n",
              "  </tbody>\n",
              "</table>\n",
              "</div>\n",
              "      <button class=\"colab-df-convert\" onclick=\"convertToInteractive('df-abf86cf2-c433-4fe5-83b5-6471ba4fc4b3')\"\n",
              "              title=\"Convert this dataframe to an interactive table.\"\n",
              "              style=\"display:none;\">\n",
              "        \n",
              "  <svg xmlns=\"http://www.w3.org/2000/svg\" height=\"24px\"viewBox=\"0 0 24 24\"\n",
              "       width=\"24px\">\n",
              "    <path d=\"M0 0h24v24H0V0z\" fill=\"none\"/>\n",
              "    <path d=\"M18.56 5.44l.94 2.06.94-2.06 2.06-.94-2.06-.94-.94-2.06-.94 2.06-2.06.94zm-11 1L8.5 8.5l.94-2.06 2.06-.94-2.06-.94L8.5 2.5l-.94 2.06-2.06.94zm10 10l.94 2.06.94-2.06 2.06-.94-2.06-.94-.94-2.06-.94 2.06-2.06.94z\"/><path d=\"M17.41 7.96l-1.37-1.37c-.4-.4-.92-.59-1.43-.59-.52 0-1.04.2-1.43.59L10.3 9.45l-7.72 7.72c-.78.78-.78 2.05 0 2.83L4 21.41c.39.39.9.59 1.41.59.51 0 1.02-.2 1.41-.59l7.78-7.78 2.81-2.81c.8-.78.8-2.07 0-2.86zM5.41 20L4 18.59l7.72-7.72 1.47 1.35L5.41 20z\"/>\n",
              "  </svg>\n",
              "      </button>\n",
              "      \n",
              "  <style>\n",
              "    .colab-df-container {\n",
              "      display:flex;\n",
              "      flex-wrap:wrap;\n",
              "      gap: 12px;\n",
              "    }\n",
              "\n",
              "    .colab-df-convert {\n",
              "      background-color: #E8F0FE;\n",
              "      border: none;\n",
              "      border-radius: 50%;\n",
              "      cursor: pointer;\n",
              "      display: none;\n",
              "      fill: #1967D2;\n",
              "      height: 32px;\n",
              "      padding: 0 0 0 0;\n",
              "      width: 32px;\n",
              "    }\n",
              "\n",
              "    .colab-df-convert:hover {\n",
              "      background-color: #E2EBFA;\n",
              "      box-shadow: 0px 1px 2px rgba(60, 64, 67, 0.3), 0px 1px 3px 1px rgba(60, 64, 67, 0.15);\n",
              "      fill: #174EA6;\n",
              "    }\n",
              "\n",
              "    [theme=dark] .colab-df-convert {\n",
              "      background-color: #3B4455;\n",
              "      fill: #D2E3FC;\n",
              "    }\n",
              "\n",
              "    [theme=dark] .colab-df-convert:hover {\n",
              "      background-color: #434B5C;\n",
              "      box-shadow: 0px 1px 3px 1px rgba(0, 0, 0, 0.15);\n",
              "      filter: drop-shadow(0px 1px 2px rgba(0, 0, 0, 0.3));\n",
              "      fill: #FFFFFF;\n",
              "    }\n",
              "  </style>\n",
              "\n",
              "      <script>\n",
              "        const buttonEl =\n",
              "          document.querySelector('#df-abf86cf2-c433-4fe5-83b5-6471ba4fc4b3 button.colab-df-convert');\n",
              "        buttonEl.style.display =\n",
              "          google.colab.kernel.accessAllowed ? 'block' : 'none';\n",
              "\n",
              "        async function convertToInteractive(key) {\n",
              "          const element = document.querySelector('#df-abf86cf2-c433-4fe5-83b5-6471ba4fc4b3');\n",
              "          const dataTable =\n",
              "            await google.colab.kernel.invokeFunction('convertToInteractive',\n",
              "                                                     [key], {});\n",
              "          if (!dataTable) return;\n",
              "\n",
              "          const docLinkHtml = 'Like what you see? Visit the ' +\n",
              "            '<a target=\"_blank\" href=https://colab.research.google.com/notebooks/data_table.ipynb>data table notebook</a>'\n",
              "            + ' to learn more about interactive tables.';\n",
              "          element.innerHTML = '';\n",
              "          dataTable['output_type'] = 'display_data';\n",
              "          await google.colab.output.renderOutput(dataTable, element);\n",
              "          const docLink = document.createElement('div');\n",
              "          docLink.innerHTML = docLinkHtml;\n",
              "          element.appendChild(docLink);\n",
              "        }\n",
              "      </script>\n",
              "    </div>\n",
              "  </div>\n",
              "  "
            ]
          },
          "metadata": {},
          "execution_count": 134
        }
      ]
    },
    {
      "cell_type": "code",
      "source": [
        "#Checking index of Harry Potter and the Chamber of Secrets (Book 2)\n",
        "for i in range(len(book_pivot.index)):\n",
        "  if(book_pivot.index[i]==\"The Drawing of the Three (The Dark Tower, Book 2)\"):\n",
        "    print(i)"
      ],
      "metadata": {
        "id": "LhxG0tHahR7S",
        "colab": {
          "base_uri": "https://localhost:8080/"
        },
        "outputId": "a57bb079-16bb-4631-ed72-70231909031e"
      },
      "execution_count": 135,
      "outputs": [
        {
          "output_type": "stream",
          "name": "stdout",
          "text": [
            "520\n"
          ]
        }
      ]
    },
    {
      "cell_type": "code",
      "source": [
        "#prediction to check recommendation for Harry Potter and the Chamber of Secrets (Book 2)\n",
        "distances, suggestions = model.kneighbors(book_pivot.iloc[547, :].values.reshape(1, -1))"
      ],
      "metadata": {
        "id": "vLNDCPhfhmvu"
      },
      "execution_count": 136,
      "outputs": []
    },
    {
      "cell_type": "code",
      "source": [
        "new_df = pd.DataFrame()\n",
        "for i in range(5):\n",
        "  df = pd.DataFrame()\n",
        "  df=merged_dataset[merged_dataset['Book-Title']==book_pivot.index[suggestions[0][i]]].drop_duplicates('Book-Title')[['Book-Title','Book-Author','Year-Of-Publication','Publisher','Image-URL-M']]\n",
        "  new_df=new_df.append(df, ignore_index=True)  "
      ],
      "metadata": {
        "id": "Igxwpt6VhNac"
      },
      "execution_count": 137,
      "outputs": []
    },
    {
      "cell_type": "code",
      "source": [
        "new_df"
      ],
      "metadata": {
        "id": "hhHKN2i1hzZa",
        "colab": {
          "base_uri": "https://localhost:8080/",
          "height": 206
        },
        "outputId": "49750b6d-3d24-4c2f-e48b-add9a54e0b8f"
      },
      "execution_count": 138,
      "outputs": [
        {
          "output_type": "execute_result",
          "data": {
            "text/plain": [
              "                                          Book-Title              Book-Author  \\\n",
              "0  The Hobbit : The Enchanting Prelude to The Lor...           J.R.R. TOLKIEN   \n",
              "1                                      No Safe Place  RICHARD NORTH PATTERSON   \n",
              "2                                 Jacob Have I Loved       Katherine Paterson   \n",
              "3                                         Gorky Park        Martin Cruz Smith   \n",
              "4                                          Exclusive             Sandra Brown   \n",
              "\n",
              "  Year-Of-Publication         Publisher  \\\n",
              "0                1986           Del Rey   \n",
              "1                1999  Ballantine Books   \n",
              "2                1990      HarperTrophy   \n",
              "3                1993  Ballantine Books   \n",
              "4                1997      Warner Books   \n",
              "\n",
              "                                         Image-URL-M  \n",
              "0  http://images.amazon.com/images/P/0345339681.0...  \n",
              "1  http://images.amazon.com/images/P/0345404777.0...  \n",
              "2  http://images.amazon.com/images/P/0064403688.0...  \n",
              "3  http://images.amazon.com/images/P/0345298349.0...  \n",
              "4  http://images.amazon.com/images/P/0446604232.0...  "
            ],
            "text/html": [
              "\n",
              "  <div id=\"df-5ecb2c0c-4452-4754-9bbf-cf86ba926da8\">\n",
              "    <div class=\"colab-df-container\">\n",
              "      <div>\n",
              "<style scoped>\n",
              "    .dataframe tbody tr th:only-of-type {\n",
              "        vertical-align: middle;\n",
              "    }\n",
              "\n",
              "    .dataframe tbody tr th {\n",
              "        vertical-align: top;\n",
              "    }\n",
              "\n",
              "    .dataframe thead th {\n",
              "        text-align: right;\n",
              "    }\n",
              "</style>\n",
              "<table border=\"1\" class=\"dataframe\">\n",
              "  <thead>\n",
              "    <tr style=\"text-align: right;\">\n",
              "      <th></th>\n",
              "      <th>Book-Title</th>\n",
              "      <th>Book-Author</th>\n",
              "      <th>Year-Of-Publication</th>\n",
              "      <th>Publisher</th>\n",
              "      <th>Image-URL-M</th>\n",
              "    </tr>\n",
              "  </thead>\n",
              "  <tbody>\n",
              "    <tr>\n",
              "      <th>0</th>\n",
              "      <td>The Hobbit : The Enchanting Prelude to The Lor...</td>\n",
              "      <td>J.R.R. TOLKIEN</td>\n",
              "      <td>1986</td>\n",
              "      <td>Del Rey</td>\n",
              "      <td>http://images.amazon.com/images/P/0345339681.0...</td>\n",
              "    </tr>\n",
              "    <tr>\n",
              "      <th>1</th>\n",
              "      <td>No Safe Place</td>\n",
              "      <td>RICHARD NORTH PATTERSON</td>\n",
              "      <td>1999</td>\n",
              "      <td>Ballantine Books</td>\n",
              "      <td>http://images.amazon.com/images/P/0345404777.0...</td>\n",
              "    </tr>\n",
              "    <tr>\n",
              "      <th>2</th>\n",
              "      <td>Jacob Have I Loved</td>\n",
              "      <td>Katherine Paterson</td>\n",
              "      <td>1990</td>\n",
              "      <td>HarperTrophy</td>\n",
              "      <td>http://images.amazon.com/images/P/0064403688.0...</td>\n",
              "    </tr>\n",
              "    <tr>\n",
              "      <th>3</th>\n",
              "      <td>Gorky Park</td>\n",
              "      <td>Martin Cruz Smith</td>\n",
              "      <td>1993</td>\n",
              "      <td>Ballantine Books</td>\n",
              "      <td>http://images.amazon.com/images/P/0345298349.0...</td>\n",
              "    </tr>\n",
              "    <tr>\n",
              "      <th>4</th>\n",
              "      <td>Exclusive</td>\n",
              "      <td>Sandra Brown</td>\n",
              "      <td>1997</td>\n",
              "      <td>Warner Books</td>\n",
              "      <td>http://images.amazon.com/images/P/0446604232.0...</td>\n",
              "    </tr>\n",
              "  </tbody>\n",
              "</table>\n",
              "</div>\n",
              "      <button class=\"colab-df-convert\" onclick=\"convertToInteractive('df-5ecb2c0c-4452-4754-9bbf-cf86ba926da8')\"\n",
              "              title=\"Convert this dataframe to an interactive table.\"\n",
              "              style=\"display:none;\">\n",
              "        \n",
              "  <svg xmlns=\"http://www.w3.org/2000/svg\" height=\"24px\"viewBox=\"0 0 24 24\"\n",
              "       width=\"24px\">\n",
              "    <path d=\"M0 0h24v24H0V0z\" fill=\"none\"/>\n",
              "    <path d=\"M18.56 5.44l.94 2.06.94-2.06 2.06-.94-2.06-.94-.94-2.06-.94 2.06-2.06.94zm-11 1L8.5 8.5l.94-2.06 2.06-.94-2.06-.94L8.5 2.5l-.94 2.06-2.06.94zm10 10l.94 2.06.94-2.06 2.06-.94-2.06-.94-.94-2.06-.94 2.06-2.06.94z\"/><path d=\"M17.41 7.96l-1.37-1.37c-.4-.4-.92-.59-1.43-.59-.52 0-1.04.2-1.43.59L10.3 9.45l-7.72 7.72c-.78.78-.78 2.05 0 2.83L4 21.41c.39.39.9.59 1.41.59.51 0 1.02-.2 1.41-.59l7.78-7.78 2.81-2.81c.8-.78.8-2.07 0-2.86zM5.41 20L4 18.59l7.72-7.72 1.47 1.35L5.41 20z\"/>\n",
              "  </svg>\n",
              "      </button>\n",
              "      \n",
              "  <style>\n",
              "    .colab-df-container {\n",
              "      display:flex;\n",
              "      flex-wrap:wrap;\n",
              "      gap: 12px;\n",
              "    }\n",
              "\n",
              "    .colab-df-convert {\n",
              "      background-color: #E8F0FE;\n",
              "      border: none;\n",
              "      border-radius: 50%;\n",
              "      cursor: pointer;\n",
              "      display: none;\n",
              "      fill: #1967D2;\n",
              "      height: 32px;\n",
              "      padding: 0 0 0 0;\n",
              "      width: 32px;\n",
              "    }\n",
              "\n",
              "    .colab-df-convert:hover {\n",
              "      background-color: #E2EBFA;\n",
              "      box-shadow: 0px 1px 2px rgba(60, 64, 67, 0.3), 0px 1px 3px 1px rgba(60, 64, 67, 0.15);\n",
              "      fill: #174EA6;\n",
              "    }\n",
              "\n",
              "    [theme=dark] .colab-df-convert {\n",
              "      background-color: #3B4455;\n",
              "      fill: #D2E3FC;\n",
              "    }\n",
              "\n",
              "    [theme=dark] .colab-df-convert:hover {\n",
              "      background-color: #434B5C;\n",
              "      box-shadow: 0px 1px 3px 1px rgba(0, 0, 0, 0.15);\n",
              "      filter: drop-shadow(0px 1px 2px rgba(0, 0, 0, 0.3));\n",
              "      fill: #FFFFFF;\n",
              "    }\n",
              "  </style>\n",
              "\n",
              "      <script>\n",
              "        const buttonEl =\n",
              "          document.querySelector('#df-5ecb2c0c-4452-4754-9bbf-cf86ba926da8 button.colab-df-convert');\n",
              "        buttonEl.style.display =\n",
              "          google.colab.kernel.accessAllowed ? 'block' : 'none';\n",
              "\n",
              "        async function convertToInteractive(key) {\n",
              "          const element = document.querySelector('#df-5ecb2c0c-4452-4754-9bbf-cf86ba926da8');\n",
              "          const dataTable =\n",
              "            await google.colab.kernel.invokeFunction('convertToInteractive',\n",
              "                                                     [key], {});\n",
              "          if (!dataTable) return;\n",
              "\n",
              "          const docLinkHtml = 'Like what you see? Visit the ' +\n",
              "            '<a target=\"_blank\" href=https://colab.research.google.com/notebooks/data_table.ipynb>data table notebook</a>'\n",
              "            + ' to learn more about interactive tables.';\n",
              "          element.innerHTML = '';\n",
              "          dataTable['output_type'] = 'display_data';\n",
              "          await google.colab.output.renderOutput(dataTable, element);\n",
              "          const docLink = document.createElement('div');\n",
              "          docLink.innerHTML = docLinkHtml;\n",
              "          element.appendChild(docLink);\n",
              "        }\n",
              "      </script>\n",
              "    </div>\n",
              "  </div>\n",
              "  "
            ]
          },
          "metadata": {},
          "execution_count": 138
        }
      ]
    },
    {
      "cell_type": "markdown",
      "source": [
        "**Memory Based Collaborative Filtering**\n",
        "There are 2 approaches to Memory-Based CF -->\n",
        "\n",
        "**User-User Collaborative Filtering** - In this we we calculate similarity of all the users to the active user ( the user whom the prediction is for ).Then sort and filter the Top-N users to make predictions for the active user. This is usually very effective but takes a lot of time and resources. For example if Dennis and Davis like the same movies and a new movie comes out that Davis likes,then we can recommend that movie to Dennis because Davis and Dennis seem to like the same movies.\n",
        "\n",
        "**Item-Item Collaborative Filtering** - This is similar to User-User CF, just that we now compute similarity between items to recommend similar items. Eg. When you buy any product on Amazon, you will find this line \"Users who bought this item also bought...\", so Amazon uses item-item CF widely, Mind that I'm not saying they use only item-item CF, they have hybrid techniques to better suit users of even unique interests.\n",
        "\n",
        "Item-Item CF are a lot faster than User-User CF. and secondly user profiles changes quickly and the entire system model has to be recomputed, whereas item's average ratings doesn't change that quickly, and this leads to more stable rating distributions in the model, so the model doesn't have to be rebuilt as often.\n",
        "\n",
        "Q) How do we calculate similarity?\n",
        "\n",
        "Ans. There are many measures to calculate the similarity matrix, some of them are -->\n",
        "\n",
        "Jaccard Similarity - It is a statistic used for comparing the similarity and diversity of sample sets. It is defined as the size of the intersection divided by the size of the union of the sample sets.\n",
        "\n",
        "Cosine Similarity - It measures the angle between the ratings vector. If the angle is 0°, then they are vectors having same orientation and if the angle is 180°, then they are highly dissimilar vectors.\n",
        "\n",
        "Pearson Similarity - It is actually Centered-Cosine similarity. We subtract the mean ratings from the user ratings, so that the mean is centered at 0, and then calculate the cosine similarity."
      ],
      "metadata": {
        "id": "r2_esLOGoh2Y"
      }
    },
    {
      "cell_type": "markdown",
      "metadata": {
        "id": "cnTCgnE3By8k"
      },
      "source": [
        "#<b>User based Collaborative filtering method"
      ]
    },
    {
      "cell_type": "code",
      "execution_count": 139,
      "metadata": {
        "id": "uv7BQ-MD-mAV",
        "colab": {
          "base_uri": "https://localhost:8080/"
        },
        "outputId": "a827df4c-320c-49ae-dbb1-6b4f96be50bb"
      },
      "outputs": [
        {
          "output_type": "stream",
          "name": "stdout",
          "text": [
            "['Goodbye to the Buttermilk Sky', 'More Cunning Than Man: A Social History of Rats and Man', 'The Witchfinder (Amos Walker Mystery Series)']\n"
          ]
        }
      ],
      "source": [
        "# Function to find the top N favorite book of a user \n",
        "def favoritebook(activeUser,N):\n",
        "    #1. subset the dataframe to have the rows corresponding to the active user\n",
        "    # 2. sort by the rating in descending order\n",
        "    # 3. pick the top N rows\n",
        "    topbooks=pd.DataFrame.sort_values(merged_dataset[merged_dataset['User-ID']==activeUser],['Book-Rating'],ascending=[0])[:N]\n",
        "    # return the title corresponding to the books in topbooks \n",
        "    if(topbooks.empty):\n",
        "      return \"Insufficient data\"\n",
        "    else:  \n",
        "      return list(topbooks['Book-Title'])\n",
        "\n",
        "print(favoritebook(8,3)) # Print the top 3 favorite books of user 8\n"
      ]
    },
    {
      "cell_type": "code",
      "execution_count": 140,
      "metadata": {
        "id": "DMVUBJY2xAB7"
      },
      "outputs": [],
      "source": [
        "#Filtering users who have given atleast 200 ratings\n",
        "xp_readers = merged_dataset.groupby('User-ID').count()['Book-Rating'] > 200\n",
        "\n",
        "#Index of all the users who have given atleast 200 ratings to books\n",
        "xp_readers_index = xp_readers[xp_readers].index\n",
        "\n",
        "#Filtering all these users in dataframe\n",
        "filtered_xp_users = merged_dataset[merged_dataset['User-ID'].isin(xp_readers_index)]"
      ]
    },
    {
      "cell_type": "code",
      "execution_count": 141,
      "metadata": {
        "id": "QQtVyehfzjJQ"
      },
      "outputs": [],
      "source": [
        "#Filtering all the books which have got atleast 50 ratings\n",
        "popular_books = filtered_xp_users.groupby('Book-Title').count()['Book-Rating']>=50\n",
        "\n",
        "#Index of all the books who have got atleast 50 ratings \n",
        "popular_books_index= popular_books[popular_books].index\n",
        "\n",
        "#Filtering all books in dataframe\n",
        "final_filtered_df = filtered_xp_users[filtered_xp_users['Book-Title'].isin(popular_books_index)]"
      ]
    },
    {
      "cell_type": "code",
      "execution_count": 142,
      "metadata": {
        "id": "_13634c8zwwF",
        "colab": {
          "base_uri": "https://localhost:8080/",
          "height": 469
        },
        "outputId": "d2eda2dd-0cc6-40df-ba90-177f9aa39a10"
      },
      "outputs": [
        {
          "output_type": "execute_result",
          "data": {
            "text/plain": [
              "Book-Title  1984  1st to Die: A Novel  2nd Chance  4 Blondes  \\\n",
              "User-ID                                                        \n",
              "254          9.0                  NaN         NaN        NaN   \n",
              "2276         NaN                  NaN        10.0        NaN   \n",
              "2766         NaN                  NaN         NaN        NaN   \n",
              "2977         NaN                  NaN         NaN        NaN   \n",
              "3363         NaN                  NaN         NaN        NaN   \n",
              "\n",
              "Book-Title  A Bend in the Road  A Case of Need  \\\n",
              "User-ID                                          \n",
              "254                        0.0             NaN   \n",
              "2276                       NaN             NaN   \n",
              "2766                       7.0             0.0   \n",
              "2977                       NaN             NaN   \n",
              "3363                       NaN             NaN   \n",
              "\n",
              "Book-Title  A Child Called \\It\\\": One Child's Courage to Survive\"  \\\n",
              "User-ID                                                             \n",
              "254                                                       NaN       \n",
              "2276                                                      NaN       \n",
              "2766                                                      NaN       \n",
              "2977                                                      NaN       \n",
              "3363                                                      NaN       \n",
              "\n",
              "Book-Title  A Civil Action  A Day Late and a Dollar Short  A Fine Balance  \\\n",
              "User-ID                                                                     \n",
              "254                    NaN                            NaN             NaN   \n",
              "2276                   NaN                            NaN             NaN   \n",
              "2766                   NaN                            NaN             NaN   \n",
              "2977                   NaN                            NaN             NaN   \n",
              "3363                   0.0                            NaN             NaN   \n",
              "\n",
              "Book-Title  ...  Winter Solstice  Wish You Well  Without Remorse  \\\n",
              "User-ID     ...                                                    \n",
              "254         ...              NaN            NaN              NaN   \n",
              "2276        ...              NaN            NaN              NaN   \n",
              "2766        ...              NaN            NaN              NaN   \n",
              "2977        ...              NaN            NaN              NaN   \n",
              "3363        ...              NaN            NaN              NaN   \n",
              "\n",
              "Book-Title  Wizard and Glass (The Dark Tower, Book 4)  Wuthering Heights  \\\n",
              "User-ID                                                                    \n",
              "254                                               NaN                NaN   \n",
              "2276                                              NaN                NaN   \n",
              "2766                                              NaN                NaN   \n",
              "2977                                              NaN                NaN   \n",
              "3363                                              NaN                NaN   \n",
              "\n",
              "Book-Title  Year of Wonders  You Belong To Me  \\\n",
              "User-ID                                         \n",
              "254                     NaN               NaN   \n",
              "2276                    NaN               NaN   \n",
              "2766                    NaN               NaN   \n",
              "2977                    7.0               NaN   \n",
              "3363                    NaN               NaN   \n",
              "\n",
              "Book-Title  Zen and the Art of Motorcycle Maintenance: An Inquiry into Values  \\\n",
              "User-ID                                                                         \n",
              "254                                                       NaN                   \n",
              "2276                                                      NaN                   \n",
              "2766                                                      NaN                   \n",
              "2977                                                      NaN                   \n",
              "3363                                                      0.0                   \n",
              "\n",
              "Book-Title  Zoya  \\O\\\" Is for Outlaw\"  \n",
              "User-ID                                \n",
              "254          NaN                  NaN  \n",
              "2276         NaN                  NaN  \n",
              "2766         NaN                  NaN  \n",
              "2977         NaN                  NaN  \n",
              "3363         NaN                  NaN  \n",
              "\n",
              "[5 rows x 706 columns]"
            ],
            "text/html": [
              "\n",
              "  <div id=\"df-9b242adf-a2d9-4b8d-b040-fc1060fe306d\">\n",
              "    <div class=\"colab-df-container\">\n",
              "      <div>\n",
              "<style scoped>\n",
              "    .dataframe tbody tr th:only-of-type {\n",
              "        vertical-align: middle;\n",
              "    }\n",
              "\n",
              "    .dataframe tbody tr th {\n",
              "        vertical-align: top;\n",
              "    }\n",
              "\n",
              "    .dataframe thead th {\n",
              "        text-align: right;\n",
              "    }\n",
              "</style>\n",
              "<table border=\"1\" class=\"dataframe\">\n",
              "  <thead>\n",
              "    <tr style=\"text-align: right;\">\n",
              "      <th>Book-Title</th>\n",
              "      <th>1984</th>\n",
              "      <th>1st to Die: A Novel</th>\n",
              "      <th>2nd Chance</th>\n",
              "      <th>4 Blondes</th>\n",
              "      <th>A Bend in the Road</th>\n",
              "      <th>A Case of Need</th>\n",
              "      <th>A Child Called \\It\\\": One Child's Courage to Survive\"</th>\n",
              "      <th>A Civil Action</th>\n",
              "      <th>A Day Late and a Dollar Short</th>\n",
              "      <th>A Fine Balance</th>\n",
              "      <th>...</th>\n",
              "      <th>Winter Solstice</th>\n",
              "      <th>Wish You Well</th>\n",
              "      <th>Without Remorse</th>\n",
              "      <th>Wizard and Glass (The Dark Tower, Book 4)</th>\n",
              "      <th>Wuthering Heights</th>\n",
              "      <th>Year of Wonders</th>\n",
              "      <th>You Belong To Me</th>\n",
              "      <th>Zen and the Art of Motorcycle Maintenance: An Inquiry into Values</th>\n",
              "      <th>Zoya</th>\n",
              "      <th>\\O\\\" Is for Outlaw\"</th>\n",
              "    </tr>\n",
              "    <tr>\n",
              "      <th>User-ID</th>\n",
              "      <th></th>\n",
              "      <th></th>\n",
              "      <th></th>\n",
              "      <th></th>\n",
              "      <th></th>\n",
              "      <th></th>\n",
              "      <th></th>\n",
              "      <th></th>\n",
              "      <th></th>\n",
              "      <th></th>\n",
              "      <th></th>\n",
              "      <th></th>\n",
              "      <th></th>\n",
              "      <th></th>\n",
              "      <th></th>\n",
              "      <th></th>\n",
              "      <th></th>\n",
              "      <th></th>\n",
              "      <th></th>\n",
              "      <th></th>\n",
              "      <th></th>\n",
              "    </tr>\n",
              "  </thead>\n",
              "  <tbody>\n",
              "    <tr>\n",
              "      <th>254</th>\n",
              "      <td>9.0</td>\n",
              "      <td>NaN</td>\n",
              "      <td>NaN</td>\n",
              "      <td>NaN</td>\n",
              "      <td>0.0</td>\n",
              "      <td>NaN</td>\n",
              "      <td>NaN</td>\n",
              "      <td>NaN</td>\n",
              "      <td>NaN</td>\n",
              "      <td>NaN</td>\n",
              "      <td>...</td>\n",
              "      <td>NaN</td>\n",
              "      <td>NaN</td>\n",
              "      <td>NaN</td>\n",
              "      <td>NaN</td>\n",
              "      <td>NaN</td>\n",
              "      <td>NaN</td>\n",
              "      <td>NaN</td>\n",
              "      <td>NaN</td>\n",
              "      <td>NaN</td>\n",
              "      <td>NaN</td>\n",
              "    </tr>\n",
              "    <tr>\n",
              "      <th>2276</th>\n",
              "      <td>NaN</td>\n",
              "      <td>NaN</td>\n",
              "      <td>10.0</td>\n",
              "      <td>NaN</td>\n",
              "      <td>NaN</td>\n",
              "      <td>NaN</td>\n",
              "      <td>NaN</td>\n",
              "      <td>NaN</td>\n",
              "      <td>NaN</td>\n",
              "      <td>NaN</td>\n",
              "      <td>...</td>\n",
              "      <td>NaN</td>\n",
              "      <td>NaN</td>\n",
              "      <td>NaN</td>\n",
              "      <td>NaN</td>\n",
              "      <td>NaN</td>\n",
              "      <td>NaN</td>\n",
              "      <td>NaN</td>\n",
              "      <td>NaN</td>\n",
              "      <td>NaN</td>\n",
              "      <td>NaN</td>\n",
              "    </tr>\n",
              "    <tr>\n",
              "      <th>2766</th>\n",
              "      <td>NaN</td>\n",
              "      <td>NaN</td>\n",
              "      <td>NaN</td>\n",
              "      <td>NaN</td>\n",
              "      <td>7.0</td>\n",
              "      <td>0.0</td>\n",
              "      <td>NaN</td>\n",
              "      <td>NaN</td>\n",
              "      <td>NaN</td>\n",
              "      <td>NaN</td>\n",
              "      <td>...</td>\n",
              "      <td>NaN</td>\n",
              "      <td>NaN</td>\n",
              "      <td>NaN</td>\n",
              "      <td>NaN</td>\n",
              "      <td>NaN</td>\n",
              "      <td>NaN</td>\n",
              "      <td>NaN</td>\n",
              "      <td>NaN</td>\n",
              "      <td>NaN</td>\n",
              "      <td>NaN</td>\n",
              "    </tr>\n",
              "    <tr>\n",
              "      <th>2977</th>\n",
              "      <td>NaN</td>\n",
              "      <td>NaN</td>\n",
              "      <td>NaN</td>\n",
              "      <td>NaN</td>\n",
              "      <td>NaN</td>\n",
              "      <td>NaN</td>\n",
              "      <td>NaN</td>\n",
              "      <td>NaN</td>\n",
              "      <td>NaN</td>\n",
              "      <td>NaN</td>\n",
              "      <td>...</td>\n",
              "      <td>NaN</td>\n",
              "      <td>NaN</td>\n",
              "      <td>NaN</td>\n",
              "      <td>NaN</td>\n",
              "      <td>NaN</td>\n",
              "      <td>7.0</td>\n",
              "      <td>NaN</td>\n",
              "      <td>NaN</td>\n",
              "      <td>NaN</td>\n",
              "      <td>NaN</td>\n",
              "    </tr>\n",
              "    <tr>\n",
              "      <th>3363</th>\n",
              "      <td>NaN</td>\n",
              "      <td>NaN</td>\n",
              "      <td>NaN</td>\n",
              "      <td>NaN</td>\n",
              "      <td>NaN</td>\n",
              "      <td>NaN</td>\n",
              "      <td>NaN</td>\n",
              "      <td>0.0</td>\n",
              "      <td>NaN</td>\n",
              "      <td>NaN</td>\n",
              "      <td>...</td>\n",
              "      <td>NaN</td>\n",
              "      <td>NaN</td>\n",
              "      <td>NaN</td>\n",
              "      <td>NaN</td>\n",
              "      <td>NaN</td>\n",
              "      <td>NaN</td>\n",
              "      <td>NaN</td>\n",
              "      <td>0.0</td>\n",
              "      <td>NaN</td>\n",
              "      <td>NaN</td>\n",
              "    </tr>\n",
              "  </tbody>\n",
              "</table>\n",
              "<p>5 rows × 706 columns</p>\n",
              "</div>\n",
              "      <button class=\"colab-df-convert\" onclick=\"convertToInteractive('df-9b242adf-a2d9-4b8d-b040-fc1060fe306d')\"\n",
              "              title=\"Convert this dataframe to an interactive table.\"\n",
              "              style=\"display:none;\">\n",
              "        \n",
              "  <svg xmlns=\"http://www.w3.org/2000/svg\" height=\"24px\"viewBox=\"0 0 24 24\"\n",
              "       width=\"24px\">\n",
              "    <path d=\"M0 0h24v24H0V0z\" fill=\"none\"/>\n",
              "    <path d=\"M18.56 5.44l.94 2.06.94-2.06 2.06-.94-2.06-.94-.94-2.06-.94 2.06-2.06.94zm-11 1L8.5 8.5l.94-2.06 2.06-.94-2.06-.94L8.5 2.5l-.94 2.06-2.06.94zm10 10l.94 2.06.94-2.06 2.06-.94-2.06-.94-.94-2.06-.94 2.06-2.06.94z\"/><path d=\"M17.41 7.96l-1.37-1.37c-.4-.4-.92-.59-1.43-.59-.52 0-1.04.2-1.43.59L10.3 9.45l-7.72 7.72c-.78.78-.78 2.05 0 2.83L4 21.41c.39.39.9.59 1.41.59.51 0 1.02-.2 1.41-.59l7.78-7.78 2.81-2.81c.8-.78.8-2.07 0-2.86zM5.41 20L4 18.59l7.72-7.72 1.47 1.35L5.41 20z\"/>\n",
              "  </svg>\n",
              "      </button>\n",
              "      \n",
              "  <style>\n",
              "    .colab-df-container {\n",
              "      display:flex;\n",
              "      flex-wrap:wrap;\n",
              "      gap: 12px;\n",
              "    }\n",
              "\n",
              "    .colab-df-convert {\n",
              "      background-color: #E8F0FE;\n",
              "      border: none;\n",
              "      border-radius: 50%;\n",
              "      cursor: pointer;\n",
              "      display: none;\n",
              "      fill: #1967D2;\n",
              "      height: 32px;\n",
              "      padding: 0 0 0 0;\n",
              "      width: 32px;\n",
              "    }\n",
              "\n",
              "    .colab-df-convert:hover {\n",
              "      background-color: #E2EBFA;\n",
              "      box-shadow: 0px 1px 2px rgba(60, 64, 67, 0.3), 0px 1px 3px 1px rgba(60, 64, 67, 0.15);\n",
              "      fill: #174EA6;\n",
              "    }\n",
              "\n",
              "    [theme=dark] .colab-df-convert {\n",
              "      background-color: #3B4455;\n",
              "      fill: #D2E3FC;\n",
              "    }\n",
              "\n",
              "    [theme=dark] .colab-df-convert:hover {\n",
              "      background-color: #434B5C;\n",
              "      box-shadow: 0px 1px 3px 1px rgba(0, 0, 0, 0.15);\n",
              "      filter: drop-shadow(0px 1px 2px rgba(0, 0, 0, 0.3));\n",
              "      fill: #FFFFFF;\n",
              "    }\n",
              "  </style>\n",
              "\n",
              "      <script>\n",
              "        const buttonEl =\n",
              "          document.querySelector('#df-9b242adf-a2d9-4b8d-b040-fc1060fe306d button.colab-df-convert');\n",
              "        buttonEl.style.display =\n",
              "          google.colab.kernel.accessAllowed ? 'block' : 'none';\n",
              "\n",
              "        async function convertToInteractive(key) {\n",
              "          const element = document.querySelector('#df-9b242adf-a2d9-4b8d-b040-fc1060fe306d');\n",
              "          const dataTable =\n",
              "            await google.colab.kernel.invokeFunction('convertToInteractive',\n",
              "                                                     [key], {});\n",
              "          if (!dataTable) return;\n",
              "\n",
              "          const docLinkHtml = 'Like what you see? Visit the ' +\n",
              "            '<a target=\"_blank\" href=https://colab.research.google.com/notebooks/data_table.ipynb>data table notebook</a>'\n",
              "            + ' to learn more about interactive tables.';\n",
              "          element.innerHTML = '';\n",
              "          dataTable['output_type'] = 'display_data';\n",
              "          await google.colab.output.renderOutput(dataTable, element);\n",
              "          const docLink = document.createElement('div');\n",
              "          docLink.innerHTML = docLinkHtml;\n",
              "          element.appendChild(docLink);\n",
              "        }\n",
              "      </script>\n",
              "    </div>\n",
              "  </div>\n",
              "  "
            ]
          },
          "metadata": {},
          "execution_count": 142
        }
      ],
      "source": [
        "#finding  the K Nearest neighbours of a user and using their ratings to predict ratings of the active user for books they haven't rated.\n",
        "\n",
        "#Creating Pivot table\n",
        "userItemRatingMatrix=pd.pivot_table(final_filtered_df, values='Book-Rating',index=['User-ID'],\n",
        "                                    columns=['Book-Title'])\n",
        "\n",
        "userItemRatingMatrix.head()"
      ]
    },
    {
      "cell_type": "markdown",
      "metadata": {
        "id": "fBO7V_pe9eGv"
      },
      "source": [
        "#Now each user has been represented using their ratings."
      ]
    },
    {
      "cell_type": "code",
      "execution_count": 143,
      "metadata": {
        "id": "FLKP7WCB9OXU"
      },
      "outputs": [],
      "source": [
        "# function to find the similarity between 2 users using correlation\n",
        "\n",
        "from scipy.spatial.distance import correlation \n",
        "def similarity(user1,user2):\n",
        "    #normalizing user1 by the mean rating of user 1 for any book for removing biases\n",
        "    user1=np.array(user1)-np.nanmean(user1)\n",
        "\n",
        "    #normalizing user1 by the mean rating of user 2 for any book for removing biases\n",
        "    user2=np.array(user2)-np.nanmean(user2)\n",
        "    # Now to find the similarity between 2 users\n",
        "    # We'll first subset each user to be represented only by the ratings for book the 2 users have in common \n",
        "    commonItemIds=[i for i in range(len(user1)) if user1[i]>0 and user2[i]>0]\n",
        "    # Gives us book for which both users have non NaN ratings \n",
        "    if len(commonItemIds)==0:\n",
        "        # If there are no book in common \n",
        "        return 0\n",
        "    else:\n",
        "        user1=np.array([user1[i] for i in commonItemIds])\n",
        "        user2=np.array([user2[i] for i in commonItemIds])\n",
        "        return correlation(user1,user2)"
      ]
    },
    {
      "cell_type": "markdown",
      "metadata": {
        "id": "bKTwSRfEKaJF"
      },
      "source": [
        "#Formula for predicting the rating of active user."
      ]
    },
    {
      "cell_type": "markdown",
      "metadata": {
        "id": "5kjRGml1KU-e"
      },
      "source": [
        "![Screenshot from 2023-05-05 09-41-32.png](data:image/png;base64,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)"
      ]
    },
    {
      "cell_type": "code",
      "execution_count": 144,
      "metadata": {
        "id": "bQL1_54NEz1e"
      },
      "outputs": [],
      "source": [
        "# Using this similarity function we will find the nearest neighbours of the active user\n",
        "\n",
        "def nearestNeighbourRatings(activeUser,K):\n",
        "    '''This function will find the K Nearest neighbours of the active user, then \n",
        "      use their ratings to predict the activeUsers ratings for other movies '''\n",
        "    \n",
        "    # Creating an empty matrix whose row index is userIds, and the value will be \n",
        "    # similarity of that user to the active User for finding similarity with other users.\n",
        "    similarityMatrix=pd.DataFrame(index=userItemRatingMatrix.index,\n",
        "                                  columns=['Similarity'])\n",
        "    \n",
        "    # Finding the similarity between user i and the active user and add it to the similarityMatrix\n",
        "    # using similarity function.\n",
        "    for i in userItemRatingMatrix.index:\n",
        "        similarityMatrix.loc[i]=similarity(userItemRatingMatrix.loc[activeUser],\n",
        "                                          userItemRatingMatrix.loc[i])\n",
        "        \n",
        "    # Sorting the similarity matrix in the descending order of similarity    \n",
        "    similarityMatrix=pd.DataFrame.sort_values(similarityMatrix,\n",
        "                                              ['Similarity'],ascending=False)\n",
        "    \n",
        "    # Finding K Nearest neighbours of the active user\n",
        "    nearestNeighbours=similarityMatrix[:K]\n",
        "     \n",
        "    \n",
        "    # Using the nearest neighbours ratings to predict the active user's rating for every books\n",
        "    \n",
        "    neighbourItemRatings=userItemRatingMatrix.loc[nearestNeighbours.index]\n",
        "    \n",
        "    # A placeholder for the predicted item ratings. \n",
        "    predictItemRating=pd.DataFrame(index=userItemRatingMatrix.columns, columns=['Rating'])\n",
        "\n",
        "    \"\"\"We will find predicted rating for active user using the above formula\"\"\"\n",
        "\n",
        "     # for each item \n",
        "    for i in userItemRatingMatrix.columns:\n",
        "\n",
        "        # start with the average rating of the user\n",
        "        predictedRating=np.nanmean(userItemRatingMatrix.loc[activeUser])\n",
        "\n",
        "        # for each neighbour in the neighbour list\n",
        "        for j in neighbourItemRatings.index:\n",
        "\n",
        "           ''' If the neighbour has rated that item Add the rating of the neighbour for that item\n",
        "            adjusted by the average rating of the neighbour weighted by the similarity of the neighbour \n",
        "            to the active user'''\n",
        "\n",
        "           if (userItemRatingMatrix.loc[j,i]>0):\n",
        "                \n",
        "                predictedRating += (userItemRatingMatrix.loc[j,i]\n",
        "                                    -np.nanmean(userItemRatingMatrix.loc[j]))*nearestNeighbours.loc[j,'Similarity']\n",
        "        # adding the rating to the predicted Rating matrix\n",
        "        predictItemRating.loc[i,'Rating']=predictedRating\n",
        "    return predictItemRating"
      ]
    },
    {
      "cell_type": "code",
      "execution_count": 145,
      "metadata": {
        "id": "q70Z96JmNFz1"
      },
      "outputs": [],
      "source": [
        "# Using predicted Ratings to find the top N Recommendations for the active user \n",
        "\n",
        "def topNRecommendations(activeUser,N):\n",
        "    # Using the 10 nearest neighbours to find the predicted ratings\n",
        "    predictItemRating=nearestNeighbourRatings(activeUser,10)\n",
        "    \n",
        "    #removing books which are already read by active user\n",
        "    booksAlreadyRead=list(userItemRatingMatrix.loc[activeUser]\n",
        "                              .loc[userItemRatingMatrix.loc[activeUser]>0].index)\n",
        "    \n",
        "    # finding the list of items whose ratings which are not NaN\n",
        "    predictItemRating=predictItemRating.drop(booksAlreadyRead)\n",
        "    topRecommendations=pd.DataFrame.sort_values(predictItemRating,\n",
        "                                                ['Rating'],ascending=[0])[:N]\n",
        "    # This will give us the list of itemIds which are the top recommendations \n",
        "    # Let's find the corresponding book titles \n",
        "\n",
        "    topRecommendationTitles=(final_filtered_df.loc[final_filtered_df['Book-Title'].isin(topRecommendations.index)])\n",
        "    list(set(topRecommendationTitles['Book-Title']))\n",
        "    return final_filtered_df[final_filtered_df['Book-Title'].isin(list(set(topRecommendationTitles['Book-Title'])))].drop_duplicates('Book-Title')[['Book-Title','Book-Author','Year-Of-Publication','Publisher','Image-URL-M']].reset_index().drop(['index'],axis=1)\n",
        "  "
      ]
    },
    {
      "cell_type": "code",
      "execution_count": 146,
      "metadata": {
        "id": "qAuzeRwCTFsj",
        "colab": {
          "base_uri": "https://localhost:8080/",
          "height": 261
        },
        "outputId": "3513aa64-e1e7-48ea-b29a-c67ad5bb72e6"
      },
      "outputs": [
        {
          "output_type": "stream",
          "name": "stdout",
          "text": [
            "Most favourite books of users \n",
            "{Books:[\"Where the Heart Is (Oprah's Book Club (Paperback))\", 'Joyful Noise (rpkg) : Poems for Two Voices', 'Afternoon of the Elves', 'A Pocket Full of Seeds (A Puffin Book)', 'The Gym Teacher from the Black Lagoon']}\n"
          ]
        },
        {
          "output_type": "execute_result",
          "data": {
            "text/plain": [
              "                                          Book-Title             Book-Author  \\\n",
              "0                                1st to Die: A Novel         James Patterson   \n",
              "1  Tears of the Giraffe (No.1 Ladies Detective Ag...  Alexander McCall Smith   \n",
              "2                                          Tara Road            Maeve Binchy   \n",
              "3                                               1984           George Orwell   \n",
              "4               Taltos: Lives of the Mayfair Witches               Anne Rice   \n",
              "\n",
              "  Year-Of-Publication                Publisher  \\\n",
              "0                2002            Warner Vision   \n",
              "1                2002                   Anchor   \n",
              "2                2000  Dell Publishing Company   \n",
              "3                1990              Signet Book   \n",
              "4                1996         Ballantine Books   \n",
              "\n",
              "                                         Image-URL-M  \n",
              "0  http://images.amazon.com/images/P/0446610038.0...  \n",
              "1  http://images.amazon.com/images/P/1400031354.0...  \n",
              "2  http://images.amazon.com/images/P/0440235596.0...  \n",
              "3  http://images.amazon.com/images/P/0451524934.0...  \n",
              "4  http://images.amazon.com/images/P/0345404319.0...  "
            ],
            "text/html": [
              "\n",
              "  <div id=\"df-e5657920-b7e8-4ce2-aba5-cb6384126998\">\n",
              "    <div class=\"colab-df-container\">\n",
              "      <div>\n",
              "<style scoped>\n",
              "    .dataframe tbody tr th:only-of-type {\n",
              "        vertical-align: middle;\n",
              "    }\n",
              "\n",
              "    .dataframe tbody tr th {\n",
              "        vertical-align: top;\n",
              "    }\n",
              "\n",
              "    .dataframe thead th {\n",
              "        text-align: right;\n",
              "    }\n",
              "</style>\n",
              "<table border=\"1\" class=\"dataframe\">\n",
              "  <thead>\n",
              "    <tr style=\"text-align: right;\">\n",
              "      <th></th>\n",
              "      <th>Book-Title</th>\n",
              "      <th>Book-Author</th>\n",
              "      <th>Year-Of-Publication</th>\n",
              "      <th>Publisher</th>\n",
              "      <th>Image-URL-M</th>\n",
              "    </tr>\n",
              "  </thead>\n",
              "  <tbody>\n",
              "    <tr>\n",
              "      <th>0</th>\n",
              "      <td>1st to Die: A Novel</td>\n",
              "      <td>James Patterson</td>\n",
              "      <td>2002</td>\n",
              "      <td>Warner Vision</td>\n",
              "      <td>http://images.amazon.com/images/P/0446610038.0...</td>\n",
              "    </tr>\n",
              "    <tr>\n",
              "      <th>1</th>\n",
              "      <td>Tears of the Giraffe (No.1 Ladies Detective Ag...</td>\n",
              "      <td>Alexander McCall Smith</td>\n",
              "      <td>2002</td>\n",
              "      <td>Anchor</td>\n",
              "      <td>http://images.amazon.com/images/P/1400031354.0...</td>\n",
              "    </tr>\n",
              "    <tr>\n",
              "      <th>2</th>\n",
              "      <td>Tara Road</td>\n",
              "      <td>Maeve Binchy</td>\n",
              "      <td>2000</td>\n",
              "      <td>Dell Publishing Company</td>\n",
              "      <td>http://images.amazon.com/images/P/0440235596.0...</td>\n",
              "    </tr>\n",
              "    <tr>\n",
              "      <th>3</th>\n",
              "      <td>1984</td>\n",
              "      <td>George Orwell</td>\n",
              "      <td>1990</td>\n",
              "      <td>Signet Book</td>\n",
              "      <td>http://images.amazon.com/images/P/0451524934.0...</td>\n",
              "    </tr>\n",
              "    <tr>\n",
              "      <th>4</th>\n",
              "      <td>Taltos: Lives of the Mayfair Witches</td>\n",
              "      <td>Anne Rice</td>\n",
              "      <td>1996</td>\n",
              "      <td>Ballantine Books</td>\n",
              "      <td>http://images.amazon.com/images/P/0345404319.0...</td>\n",
              "    </tr>\n",
              "  </tbody>\n",
              "</table>\n",
              "</div>\n",
              "      <button class=\"colab-df-convert\" onclick=\"convertToInteractive('df-e5657920-b7e8-4ce2-aba5-cb6384126998')\"\n",
              "              title=\"Convert this dataframe to an interactive table.\"\n",
              "              style=\"display:none;\">\n",
              "        \n",
              "  <svg xmlns=\"http://www.w3.org/2000/svg\" height=\"24px\"viewBox=\"0 0 24 24\"\n",
              "       width=\"24px\">\n",
              "    <path d=\"M0 0h24v24H0V0z\" fill=\"none\"/>\n",
              "    <path d=\"M18.56 5.44l.94 2.06.94-2.06 2.06-.94-2.06-.94-.94-2.06-.94 2.06-2.06.94zm-11 1L8.5 8.5l.94-2.06 2.06-.94-2.06-.94L8.5 2.5l-.94 2.06-2.06.94zm10 10l.94 2.06.94-2.06 2.06-.94-2.06-.94-.94-2.06-.94 2.06-2.06.94z\"/><path d=\"M17.41 7.96l-1.37-1.37c-.4-.4-.92-.59-1.43-.59-.52 0-1.04.2-1.43.59L10.3 9.45l-7.72 7.72c-.78.78-.78 2.05 0 2.83L4 21.41c.39.39.9.59 1.41.59.51 0 1.02-.2 1.41-.59l7.78-7.78 2.81-2.81c.8-.78.8-2.07 0-2.86zM5.41 20L4 18.59l7.72-7.72 1.47 1.35L5.41 20z\"/>\n",
              "  </svg>\n",
              "      </button>\n",
              "      \n",
              "  <style>\n",
              "    .colab-df-container {\n",
              "      display:flex;\n",
              "      flex-wrap:wrap;\n",
              "      gap: 12px;\n",
              "    }\n",
              "\n",
              "    .colab-df-convert {\n",
              "      background-color: #E8F0FE;\n",
              "      border: none;\n",
              "      border-radius: 50%;\n",
              "      cursor: pointer;\n",
              "      display: none;\n",
              "      fill: #1967D2;\n",
              "      height: 32px;\n",
              "      padding: 0 0 0 0;\n",
              "      width: 32px;\n",
              "    }\n",
              "\n",
              "    .colab-df-convert:hover {\n",
              "      background-color: #E2EBFA;\n",
              "      box-shadow: 0px 1px 2px rgba(60, 64, 67, 0.3), 0px 1px 3px 1px rgba(60, 64, 67, 0.15);\n",
              "      fill: #174EA6;\n",
              "    }\n",
              "\n",
              "    [theme=dark] .colab-df-convert {\n",
              "      background-color: #3B4455;\n",
              "      fill: #D2E3FC;\n",
              "    }\n",
              "\n",
              "    [theme=dark] .colab-df-convert:hover {\n",
              "      background-color: #434B5C;\n",
              "      box-shadow: 0px 1px 3px 1px rgba(0, 0, 0, 0.15);\n",
              "      filter: drop-shadow(0px 1px 2px rgba(0, 0, 0, 0.3));\n",
              "      fill: #FFFFFF;\n",
              "    }\n",
              "  </style>\n",
              "\n",
              "      <script>\n",
              "        const buttonEl =\n",
              "          document.querySelector('#df-e5657920-b7e8-4ce2-aba5-cb6384126998 button.colab-df-convert');\n",
              "        buttonEl.style.display =\n",
              "          google.colab.kernel.accessAllowed ? 'block' : 'none';\n",
              "\n",
              "        async function convertToInteractive(key) {\n",
              "          const element = document.querySelector('#df-e5657920-b7e8-4ce2-aba5-cb6384126998');\n",
              "          const dataTable =\n",
              "            await google.colab.kernel.invokeFunction('convertToInteractive',\n",
              "                                                     [key], {});\n",
              "          if (!dataTable) return;\n",
              "\n",
              "          const docLinkHtml = 'Like what you see? Visit the ' +\n",
              "            '<a target=\"_blank\" href=https://colab.research.google.com/notebooks/data_table.ipynb>data table notebook</a>'\n",
              "            + ' to learn more about interactive tables.';\n",
              "          element.innerHTML = '';\n",
              "          dataTable['output_type'] = 'display_data';\n",
              "          await google.colab.output.renderOutput(dataTable, element);\n",
              "          const docLink = document.createElement('div');\n",
              "          docLink.innerHTML = docLinkHtml;\n",
              "          element.appendChild(docLink);\n",
              "        }\n",
              "      </script>\n",
              "    </div>\n",
              "  </div>\n",
              "  "
            ]
          },
          "metadata": {},
          "execution_count": 146
        }
      ],
      "source": [
        "# Let's take this for a spin \n",
        "activeUser=3363\n",
        "print(f'Most favourite books of users \\n{{Books:{favoritebook(activeUser,5)}}}')\n",
        "topNRecommendations(activeUser,5)"
      ]
    },
    {
      "cell_type": "code",
      "source": [
        "filtered_xp_users.head(2)"
      ],
      "metadata": {
        "colab": {
          "base_uri": "https://localhost:8080/",
          "height": 297
        },
        "id": "zCsXfoH812WE",
        "outputId": "63ef75bb-b454-4692-c49d-a5979336a713"
      },
      "execution_count": 147,
      "outputs": [
        {
          "output_type": "execute_result",
          "data": {
            "text/plain": [
              "   User-ID        ISBN  Book-Rating            Book-Title Book-Author  \\\n",
              "2     6543  034545104X            0  Flesh Tones: A Novel  M. J. Rose   \n",
              "5    23768  034545104X            0  Flesh Tones: A Novel  M. J. Rose   \n",
              "\n",
              "  Year-Of-Publication         Publisher  \\\n",
              "2                2002  Ballantine Books   \n",
              "5                2002  Ballantine Books   \n",
              "\n",
              "                                         Image-URL-S  \\\n",
              "2  http://images.amazon.com/images/P/034545104X.0...   \n",
              "5  http://images.amazon.com/images/P/034545104X.0...   \n",
              "\n",
              "                                         Image-URL-M  \\\n",
              "2  http://images.amazon.com/images/P/034545104X.0...   \n",
              "5  http://images.amazon.com/images/P/034545104X.0...   \n",
              "\n",
              "                                         Image-URL-L  \n",
              "2  http://images.amazon.com/images/P/034545104X.0...  \n",
              "5  http://images.amazon.com/images/P/034545104X.0...  "
            ],
            "text/html": [
              "\n",
              "  <div id=\"df-bb59a559-16cb-4294-9070-233174961021\">\n",
              "    <div class=\"colab-df-container\">\n",
              "      <div>\n",
              "<style scoped>\n",
              "    .dataframe tbody tr th:only-of-type {\n",
              "        vertical-align: middle;\n",
              "    }\n",
              "\n",
              "    .dataframe tbody tr th {\n",
              "        vertical-align: top;\n",
              "    }\n",
              "\n",
              "    .dataframe thead th {\n",
              "        text-align: right;\n",
              "    }\n",
              "</style>\n",
              "<table border=\"1\" class=\"dataframe\">\n",
              "  <thead>\n",
              "    <tr style=\"text-align: right;\">\n",
              "      <th></th>\n",
              "      <th>User-ID</th>\n",
              "      <th>ISBN</th>\n",
              "      <th>Book-Rating</th>\n",
              "      <th>Book-Title</th>\n",
              "      <th>Book-Author</th>\n",
              "      <th>Year-Of-Publication</th>\n",
              "      <th>Publisher</th>\n",
              "      <th>Image-URL-S</th>\n",
              "      <th>Image-URL-M</th>\n",
              "      <th>Image-URL-L</th>\n",
              "    </tr>\n",
              "  </thead>\n",
              "  <tbody>\n",
              "    <tr>\n",
              "      <th>2</th>\n",
              "      <td>6543</td>\n",
              "      <td>034545104X</td>\n",
              "      <td>0</td>\n",
              "      <td>Flesh Tones: A Novel</td>\n",
              "      <td>M. J. Rose</td>\n",
              "      <td>2002</td>\n",
              "      <td>Ballantine Books</td>\n",
              "      <td>http://images.amazon.com/images/P/034545104X.0...</td>\n",
              "      <td>http://images.amazon.com/images/P/034545104X.0...</td>\n",
              "      <td>http://images.amazon.com/images/P/034545104X.0...</td>\n",
              "    </tr>\n",
              "    <tr>\n",
              "      <th>5</th>\n",
              "      <td>23768</td>\n",
              "      <td>034545104X</td>\n",
              "      <td>0</td>\n",
              "      <td>Flesh Tones: A Novel</td>\n",
              "      <td>M. J. Rose</td>\n",
              "      <td>2002</td>\n",
              "      <td>Ballantine Books</td>\n",
              "      <td>http://images.amazon.com/images/P/034545104X.0...</td>\n",
              "      <td>http://images.amazon.com/images/P/034545104X.0...</td>\n",
              "      <td>http://images.amazon.com/images/P/034545104X.0...</td>\n",
              "    </tr>\n",
              "  </tbody>\n",
              "</table>\n",
              "</div>\n",
              "      <button class=\"colab-df-convert\" onclick=\"convertToInteractive('df-bb59a559-16cb-4294-9070-233174961021')\"\n",
              "              title=\"Convert this dataframe to an interactive table.\"\n",
              "              style=\"display:none;\">\n",
              "        \n",
              "  <svg xmlns=\"http://www.w3.org/2000/svg\" height=\"24px\"viewBox=\"0 0 24 24\"\n",
              "       width=\"24px\">\n",
              "    <path d=\"M0 0h24v24H0V0z\" fill=\"none\"/>\n",
              "    <path d=\"M18.56 5.44l.94 2.06.94-2.06 2.06-.94-2.06-.94-.94-2.06-.94 2.06-2.06.94zm-11 1L8.5 8.5l.94-2.06 2.06-.94-2.06-.94L8.5 2.5l-.94 2.06-2.06.94zm10 10l.94 2.06.94-2.06 2.06-.94-2.06-.94-.94-2.06-.94 2.06-2.06.94z\"/><path d=\"M17.41 7.96l-1.37-1.37c-.4-.4-.92-.59-1.43-.59-.52 0-1.04.2-1.43.59L10.3 9.45l-7.72 7.72c-.78.78-.78 2.05 0 2.83L4 21.41c.39.39.9.59 1.41.59.51 0 1.02-.2 1.41-.59l7.78-7.78 2.81-2.81c.8-.78.8-2.07 0-2.86zM5.41 20L4 18.59l7.72-7.72 1.47 1.35L5.41 20z\"/>\n",
              "  </svg>\n",
              "      </button>\n",
              "      \n",
              "  <style>\n",
              "    .colab-df-container {\n",
              "      display:flex;\n",
              "      flex-wrap:wrap;\n",
              "      gap: 12px;\n",
              "    }\n",
              "\n",
              "    .colab-df-convert {\n",
              "      background-color: #E8F0FE;\n",
              "      border: none;\n",
              "      border-radius: 50%;\n",
              "      cursor: pointer;\n",
              "      display: none;\n",
              "      fill: #1967D2;\n",
              "      height: 32px;\n",
              "      padding: 0 0 0 0;\n",
              "      width: 32px;\n",
              "    }\n",
              "\n",
              "    .colab-df-convert:hover {\n",
              "      background-color: #E2EBFA;\n",
              "      box-shadow: 0px 1px 2px rgba(60, 64, 67, 0.3), 0px 1px 3px 1px rgba(60, 64, 67, 0.15);\n",
              "      fill: #174EA6;\n",
              "    }\n",
              "\n",
              "    [theme=dark] .colab-df-convert {\n",
              "      background-color: #3B4455;\n",
              "      fill: #D2E3FC;\n",
              "    }\n",
              "\n",
              "    [theme=dark] .colab-df-convert:hover {\n",
              "      background-color: #434B5C;\n",
              "      box-shadow: 0px 1px 3px 1px rgba(0, 0, 0, 0.15);\n",
              "      filter: drop-shadow(0px 1px 2px rgba(0, 0, 0, 0.3));\n",
              "      fill: #FFFFFF;\n",
              "    }\n",
              "  </style>\n",
              "\n",
              "      <script>\n",
              "        const buttonEl =\n",
              "          document.querySelector('#df-bb59a559-16cb-4294-9070-233174961021 button.colab-df-convert');\n",
              "        buttonEl.style.display =\n",
              "          google.colab.kernel.accessAllowed ? 'block' : 'none';\n",
              "\n",
              "        async function convertToInteractive(key) {\n",
              "          const element = document.querySelector('#df-bb59a559-16cb-4294-9070-233174961021');\n",
              "          const dataTable =\n",
              "            await google.colab.kernel.invokeFunction('convertToInteractive',\n",
              "                                                     [key], {});\n",
              "          if (!dataTable) return;\n",
              "\n",
              "          const docLinkHtml = 'Like what you see? Visit the ' +\n",
              "            '<a target=\"_blank\" href=https://colab.research.google.com/notebooks/data_table.ipynb>data table notebook</a>'\n",
              "            + ' to learn more about interactive tables.';\n",
              "          element.innerHTML = '';\n",
              "          dataTable['output_type'] = 'display_data';\n",
              "          await google.colab.output.renderOutput(dataTable, element);\n",
              "          const docLink = document.createElement('div');\n",
              "          docLink.innerHTML = docLinkHtml;\n",
              "          element.appendChild(docLink);\n",
              "        }\n",
              "      </script>\n",
              "    </div>\n",
              "  </div>\n",
              "  "
            ]
          },
          "metadata": {},
          "execution_count": 147
        }
      ]
    },
    {
      "cell_type": "markdown",
      "metadata": {
        "id": "CMTr1GRxebQI"
      },
      "source": [
        "#Using Matrix Factorization"
      ]
    },
    {
      "cell_type": "markdown",
      "metadata": {
        "id": "8hDO0U570G42"
      },
      "source": [
        "* The idea here is to identify some factors (these are factors which influencea user'r rating). The factors are identified by decomposing the user item rating matrix into a user-factor matrix and a item-factor matrix.\n",
        "*  Each row in the user-factor matrix maps the user onto the hidden factors.\n",
        "* Each row in the product factor matrix maps the item onto the hidden factors.\n",
        "* This operation will be pretty expensive because it will effectively give us the factor vectors needed to find the rating of any product by any user \n",
        "\n"
      ]
    },
    {
      "cell_type": "markdown",
      "metadata": {
        "id": "IdlAmbm17hFL"
      },
      "source": [
        "![Screenshot from 2023-05-05 13-10-53.png](data:image/png;base64,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)"
      ]
    },
    {
      "cell_type": "markdown",
      "metadata": {
        "id": "QfpncVJB7Tku"
      },
      "source": [
        "![Screenshot from 2023-05-05 13-22-03.png](data:image/png;base64,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)"
      ]
    },
    {
      "cell_type": "code",
      "execution_count": 148,
      "metadata": {
        "id": "j_HtMk0Bd07d"
      },
      "outputs": [],
      "source": [
        "# Function to predict ratings for all the users\n",
        "def matrixFactorization(R, K, steps=10, gamma=0.001,lamda=0.02):\n",
        "    # R is the user item rating matrix \n",
        "    # K is the number of factors we will find \n",
        "    # We'll be using Stochastic Gradient descent to find the factor vectors\n",
        "\n",
        "    N=len(R.index)# Number of users\n",
        "    M=len(R.columns) # Number of items \n",
        "\n",
        "    # This is the user factor matrix we want to find. It will has N rows on for each user and K columns,\n",
        "    # one for each factor. We are initializing this matrix with some random numbers, then we will iteratively move towards \n",
        "    # the actual value we want to find \n",
        "    P=pd.DataFrame(np.random.rand(N,K),index=R.index)\n",
        "    # This is the product factor matrix we want to find. It will have M rows, \n",
        "    # one for each product/item/movie.\n",
        "    Q=pd.DataFrame(np.random.rand(M,K),index=R.columns)\n",
        "    # This is the product factor matrix we want to find. It will have M rows, \n",
        "    # one for each product/item/movie. \n",
        "\n",
        "    # SGD will loop through the ratings in the user item rating matrix \n",
        "    # It will do this as many times as we specify (number of steps) or \n",
        "    # until the error we are minimizing reaches a certain threshold\n",
        "    for step in range(steps):\n",
        "        # SGD will loop through the ratings in the user item rating matrix \n",
        "        # It will do this as many times as we specify (number of steps) or \n",
        "        # until the error we are minimizing reaches a certain threshold \n",
        "        for i in R.index:\n",
        "            for j in R.columns:\n",
        "                if R.loc[i,j]>0:\n",
        "                    # For each rating that exists in the training set \n",
        "                    ''' Calulating the error for one rating (ie difference between the actual value of the rating \n",
        "                 and the predicted value (dot product of the corresponding user factor vector and item-factor vector)\n",
        "                 which we have an error function to minimize'''\n",
        "\n",
        "                    eij=R.loc[i,j]-np.dot(P.loc[i],Q.loc[j])\n",
        "\n",
        "                    # The Ps and Qs should be moved in the downward direction \n",
        "                    # of the slope of the error at the current point \n",
        "                    P.loc[i]=P.loc[i]+gamma*(eij*Q.loc[j]-lamda*P.loc[i])\n",
        "\n",
        "                    # Gamma is the size of the step we are taking / moving the value of P by \n",
        "                    # The value in the brackets is the partial derivative of the error function ie the slope. \n",
        "                    # Lamda is the value of the regularization parameter which penalizes the model for the \n",
        "                    # number of factors we are finding.\n",
        "                    Q.loc[j]=Q.loc[j]+gamma*(eij*P.loc[i]-lamda*Q.loc[j])\n",
        "\n",
        "\n",
        "        # checking the value of the error function to see if we have reached \n",
        "        # the threshold at which we want to stop, else we will repeat the process\n",
        "        e=0\n",
        "        for i in R.index:\n",
        "            for j in R.columns:\n",
        "                if R.loc[i,j]>0:\n",
        "                    #Sum of squares of the errors in the rating\n",
        "                    e= e + pow(R.loc[i,j]-np.dot(P.loc[i],Q.loc[j]),2)+lamda*(pow(np.linalg.norm(P.loc[i]),2)+pow(np.linalg.norm(Q.loc[j]),2))\n",
        "        if e<0.001:\n",
        "            break\n",
        "        print(step)\n",
        "    return P,Q"
      ]
    },
    {
      "cell_type": "code",
      "execution_count": 149,
      "metadata": {
        "id": "Wn66D7BU-nXo",
        "colab": {
          "base_uri": "https://localhost:8080/"
        },
        "outputId": "90316756-0cec-4167-ef75-79d05cd86131"
      },
      "outputs": [
        {
          "output_type": "stream",
          "name": "stdout",
          "text": [
            "0\n",
            "1\n",
            "2\n",
            "3\n",
            "4\n",
            "5\n",
            "6\n",
            "7\n",
            "8\n",
            "9\n",
            "10\n",
            "11\n",
            "12\n",
            "13\n",
            "14\n",
            "15\n",
            "16\n",
            "17\n",
            "18\n",
            "19\n",
            "20\n",
            "21\n",
            "22\n",
            "23\n",
            "24\n",
            "25\n",
            "26\n",
            "27\n",
            "28\n",
            "29\n",
            "30\n",
            "31\n",
            "32\n",
            "33\n",
            "34\n",
            "35\n",
            "36\n",
            "37\n",
            "38\n",
            "39\n",
            "40\n",
            "41\n",
            "42\n",
            "43\n",
            "44\n",
            "45\n",
            "46\n",
            "47\n",
            "48\n",
            "49\n",
            "50\n",
            "51\n",
            "52\n",
            "53\n",
            "54\n",
            "55\n",
            "56\n",
            "57\n",
            "58\n",
            "59\n",
            "60\n",
            "61\n",
            "62\n",
            "63\n",
            "64\n",
            "65\n",
            "66\n",
            "67\n",
            "68\n",
            "69\n",
            "70\n",
            "71\n",
            "72\n",
            "73\n",
            "74\n",
            "75\n",
            "76\n",
            "77\n",
            "78\n",
            "79\n",
            "80\n",
            "81\n",
            "82\n",
            "83\n",
            "84\n",
            "85\n",
            "86\n",
            "87\n",
            "88\n",
            "89\n",
            "90\n",
            "91\n",
            "92\n",
            "93\n",
            "94\n",
            "95\n",
            "96\n",
            "97\n",
            "98\n",
            "99\n",
            "100\n",
            "101\n",
            "102\n",
            "103\n",
            "104\n",
            "105\n",
            "106\n",
            "107\n",
            "108\n",
            "109\n",
            "110\n",
            "111\n",
            "112\n",
            "113\n",
            "114\n",
            "115\n",
            "116\n",
            "117\n",
            "118\n",
            "119\n",
            "120\n",
            "121\n",
            "122\n",
            "123\n",
            "124\n",
            "125\n",
            "126\n",
            "127\n",
            "128\n",
            "129\n",
            "130\n",
            "131\n",
            "132\n",
            "133\n",
            "134\n",
            "135\n",
            "136\n",
            "137\n",
            "138\n",
            "139\n",
            "140\n",
            "141\n",
            "142\n",
            "143\n",
            "144\n",
            "145\n",
            "146\n",
            "147\n",
            "148\n",
            "149\n",
            "150\n",
            "151\n",
            "152\n",
            "153\n",
            "154\n",
            "155\n",
            "156\n",
            "157\n",
            "158\n",
            "159\n",
            "160\n",
            "161\n",
            "162\n",
            "163\n",
            "164\n",
            "165\n",
            "166\n",
            "167\n",
            "168\n",
            "169\n",
            "170\n",
            "171\n",
            "172\n",
            "173\n",
            "174\n",
            "175\n",
            "176\n",
            "177\n",
            "178\n",
            "179\n",
            "180\n",
            "181\n",
            "182\n",
            "183\n",
            "184\n",
            "185\n",
            "186\n",
            "187\n",
            "188\n",
            "189\n",
            "190\n",
            "191\n",
            "192\n",
            "193\n",
            "194\n",
            "195\n",
            "196\n",
            "197\n",
            "198\n",
            "199\n"
          ]
        }
      ],
      "source": [
        "# Let's call this function now \n",
        "(P,Q)=matrixFactorization(userItemRatingMatrix.iloc[:100,:100],K=2,gamma=0.001,lamda=0.02, steps=200)\n"
      ]
    },
    {
      "cell_type": "code",
      "execution_count": 150,
      "metadata": {
        "id": "mRb_Znnnh8BB",
        "colab": {
          "base_uri": "https://localhost:8080/"
        },
        "outputId": "4255923d-cad0-41f5-bb5e-b8cb67670636"
      },
      "outputs": [
        {
          "output_type": "execute_result",
          "data": {
            "text/plain": [
              "[254,\n",
              " 2276,\n",
              " 2766,\n",
              " 2977,\n",
              " 3363,\n",
              " 4017,\n",
              " 4385,\n",
              " 6251,\n",
              " 6323,\n",
              " 6543,\n",
              " 6563,\n",
              " 6575,\n",
              " 7158,\n",
              " 7286,\n",
              " 7346,\n",
              " 7915,\n",
              " 8067,\n",
              " 8245,\n",
              " 8681,\n",
              " 8936]"
            ]
          },
          "metadata": {},
          "execution_count": 150
        }
      ],
      "source": [
        "#List of 20 active users\n",
        "list(userItemRatingMatrix.index)[:20]"
      ]
    },
    {
      "cell_type": "code",
      "execution_count": 151,
      "metadata": {
        "colab": {
          "base_uri": "https://localhost:8080/",
          "height": 206
        },
        "id": "CAnL-662h2Ur",
        "outputId": "9d5ba243-04e3-4b95-facc-233489c1a43f"
      },
      "outputs": [
        {
          "output_type": "execute_result",
          "data": {
            "text/plain": [
              "                                          Book-Title       Book-Author  \\\n",
              "0                Cat &amp; Mouse (Alex Cross Novels)   James Patterson   \n",
              "1                                 Bel Canto: A Novel      Ann Patchett   \n",
              "2             At Home in Mitford (The Mitford Years)         Jan Karon   \n",
              "3                                  A Wrinkle in Time  L'Engle Madelein   \n",
              "4  A Man Named Dave: A Story of Triumph and Forgi...   David J. Pelzer   \n",
              "\n",
              "  Year-Of-Publication          Publisher  \\\n",
              "0                1998       Warner Books   \n",
              "1                2002          Perennial   \n",
              "2                1996       Viking Books   \n",
              "3                1996  Laurel-Leaf Books   \n",
              "4                1999       Dutton Books   \n",
              "\n",
              "                                         Image-URL-M  \n",
              "0  http://images.amazon.com/images/P/0446606189.0...  \n",
              "1  http://images.amazon.com/images/P/0060934417.0...  \n",
              "2  http://images.amazon.com/images/P/014025448X.0...  \n",
              "3  http://images.amazon.com/images/P/0440220394.0...  \n",
              "4  http://images.amazon.com/images/P/0525945210.0...  "
            ],
            "text/html": [
              "\n",
              "  <div id=\"df-a8e37f32-754d-401b-8b05-e93121b6c4de\">\n",
              "    <div class=\"colab-df-container\">\n",
              "      <div>\n",
              "<style scoped>\n",
              "    .dataframe tbody tr th:only-of-type {\n",
              "        vertical-align: middle;\n",
              "    }\n",
              "\n",
              "    .dataframe tbody tr th {\n",
              "        vertical-align: top;\n",
              "    }\n",
              "\n",
              "    .dataframe thead th {\n",
              "        text-align: right;\n",
              "    }\n",
              "</style>\n",
              "<table border=\"1\" class=\"dataframe\">\n",
              "  <thead>\n",
              "    <tr style=\"text-align: right;\">\n",
              "      <th></th>\n",
              "      <th>Book-Title</th>\n",
              "      <th>Book-Author</th>\n",
              "      <th>Year-Of-Publication</th>\n",
              "      <th>Publisher</th>\n",
              "      <th>Image-URL-M</th>\n",
              "    </tr>\n",
              "  </thead>\n",
              "  <tbody>\n",
              "    <tr>\n",
              "      <th>0</th>\n",
              "      <td>Cat &amp;amp; Mouse (Alex Cross Novels)</td>\n",
              "      <td>James Patterson</td>\n",
              "      <td>1998</td>\n",
              "      <td>Warner Books</td>\n",
              "      <td>http://images.amazon.com/images/P/0446606189.0...</td>\n",
              "    </tr>\n",
              "    <tr>\n",
              "      <th>1</th>\n",
              "      <td>Bel Canto: A Novel</td>\n",
              "      <td>Ann Patchett</td>\n",
              "      <td>2002</td>\n",
              "      <td>Perennial</td>\n",
              "      <td>http://images.amazon.com/images/P/0060934417.0...</td>\n",
              "    </tr>\n",
              "    <tr>\n",
              "      <th>2</th>\n",
              "      <td>At Home in Mitford (The Mitford Years)</td>\n",
              "      <td>Jan Karon</td>\n",
              "      <td>1996</td>\n",
              "      <td>Viking Books</td>\n",
              "      <td>http://images.amazon.com/images/P/014025448X.0...</td>\n",
              "    </tr>\n",
              "    <tr>\n",
              "      <th>3</th>\n",
              "      <td>A Wrinkle in Time</td>\n",
              "      <td>L'Engle Madelein</td>\n",
              "      <td>1996</td>\n",
              "      <td>Laurel-Leaf Books</td>\n",
              "      <td>http://images.amazon.com/images/P/0440220394.0...</td>\n",
              "    </tr>\n",
              "    <tr>\n",
              "      <th>4</th>\n",
              "      <td>A Man Named Dave: A Story of Triumph and Forgi...</td>\n",
              "      <td>David J. Pelzer</td>\n",
              "      <td>1999</td>\n",
              "      <td>Dutton Books</td>\n",
              "      <td>http://images.amazon.com/images/P/0525945210.0...</td>\n",
              "    </tr>\n",
              "  </tbody>\n",
              "</table>\n",
              "</div>\n",
              "      <button class=\"colab-df-convert\" onclick=\"convertToInteractive('df-a8e37f32-754d-401b-8b05-e93121b6c4de')\"\n",
              "              title=\"Convert this dataframe to an interactive table.\"\n",
              "              style=\"display:none;\">\n",
              "        \n",
              "  <svg xmlns=\"http://www.w3.org/2000/svg\" height=\"24px\"viewBox=\"0 0 24 24\"\n",
              "       width=\"24px\">\n",
              "    <path d=\"M0 0h24v24H0V0z\" fill=\"none\"/>\n",
              "    <path d=\"M18.56 5.44l.94 2.06.94-2.06 2.06-.94-2.06-.94-.94-2.06-.94 2.06-2.06.94zm-11 1L8.5 8.5l.94-2.06 2.06-.94-2.06-.94L8.5 2.5l-.94 2.06-2.06.94zm10 10l.94 2.06.94-2.06 2.06-.94-2.06-.94-.94-2.06-.94 2.06-2.06.94z\"/><path d=\"M17.41 7.96l-1.37-1.37c-.4-.4-.92-.59-1.43-.59-.52 0-1.04.2-1.43.59L10.3 9.45l-7.72 7.72c-.78.78-.78 2.05 0 2.83L4 21.41c.39.39.9.59 1.41.59.51 0 1.02-.2 1.41-.59l7.78-7.78 2.81-2.81c.8-.78.8-2.07 0-2.86zM5.41 20L4 18.59l7.72-7.72 1.47 1.35L5.41 20z\"/>\n",
              "  </svg>\n",
              "      </button>\n",
              "      \n",
              "  <style>\n",
              "    .colab-df-container {\n",
              "      display:flex;\n",
              "      flex-wrap:wrap;\n",
              "      gap: 12px;\n",
              "    }\n",
              "\n",
              "    .colab-df-convert {\n",
              "      background-color: #E8F0FE;\n",
              "      border: none;\n",
              "      border-radius: 50%;\n",
              "      cursor: pointer;\n",
              "      display: none;\n",
              "      fill: #1967D2;\n",
              "      height: 32px;\n",
              "      padding: 0 0 0 0;\n",
              "      width: 32px;\n",
              "    }\n",
              "\n",
              "    .colab-df-convert:hover {\n",
              "      background-color: #E2EBFA;\n",
              "      box-shadow: 0px 1px 2px rgba(60, 64, 67, 0.3), 0px 1px 3px 1px rgba(60, 64, 67, 0.15);\n",
              "      fill: #174EA6;\n",
              "    }\n",
              "\n",
              "    [theme=dark] .colab-df-convert {\n",
              "      background-color: #3B4455;\n",
              "      fill: #D2E3FC;\n",
              "    }\n",
              "\n",
              "    [theme=dark] .colab-df-convert:hover {\n",
              "      background-color: #434B5C;\n",
              "      box-shadow: 0px 1px 3px 1px rgba(0, 0, 0, 0.15);\n",
              "      filter: drop-shadow(0px 1px 2px rgba(0, 0, 0, 0.3));\n",
              "      fill: #FFFFFF;\n",
              "    }\n",
              "  </style>\n",
              "\n",
              "      <script>\n",
              "        const buttonEl =\n",
              "          document.querySelector('#df-a8e37f32-754d-401b-8b05-e93121b6c4de button.colab-df-convert');\n",
              "        buttonEl.style.display =\n",
              "          google.colab.kernel.accessAllowed ? 'block' : 'none';\n",
              "\n",
              "        async function convertToInteractive(key) {\n",
              "          const element = document.querySelector('#df-a8e37f32-754d-401b-8b05-e93121b6c4de');\n",
              "          const dataTable =\n",
              "            await google.colab.kernel.invokeFunction('convertToInteractive',\n",
              "                                                     [key], {});\n",
              "          if (!dataTable) return;\n",
              "\n",
              "          const docLinkHtml = 'Like what you see? Visit the ' +\n",
              "            '<a target=\"_blank\" href=https://colab.research.google.com/notebooks/data_table.ipynb>data table notebook</a>'\n",
              "            + ' to learn more about interactive tables.';\n",
              "          element.innerHTML = '';\n",
              "          dataTable['output_type'] = 'display_data';\n",
              "          await google.colab.output.renderOutput(dataTable, element);\n",
              "          const docLink = document.createElement('div');\n",
              "          docLink.innerHTML = docLinkHtml;\n",
              "          element.appendChild(docLink);\n",
              "        }\n",
              "      </script>\n",
              "    </div>\n",
              "  </div>\n",
              "  "
            ]
          },
          "metadata": {},
          "execution_count": 151
        }
      ],
      "source": [
        "# Let's quickly use these ratings to find top recommendations for a user \n",
        "activeUser=8067\n",
        "predictItemRating=pd.DataFrame(np.dot(P.loc[activeUser],Q.T),index=Q.index,columns=['Book-Rating'])\n",
        "topRecommendations=pd.DataFrame.sort_values(predictItemRating,['Book-Rating'],ascending=[0])[:5]\n",
        "# We found the ratings of all movies by the active user and then sorted them to find the top 5 movies \n",
        "topRecommendationTitles=final_filtered_df.loc[final_filtered_df['Book-Title'].isin(topRecommendations.index)]\n",
        "final_filtered_df[final_filtered_df['Book-Title'].isin(list(set(topRecommendationTitles['Book-Title'])))].drop_duplicates('Book-Title')[['Book-Title','Book-Author','Year-Of-Publication','Publisher','Image-URL-M']].reset_index().drop(['index'],axis=1)"
      ]
    },
    {
      "cell_type": "markdown",
      "metadata": {
        "id": "y-sAxV4JeaVU"
      },
      "source": [
        "#Using Association rules(Apriory Algorithm)"
      ]
    },
    {
      "cell_type": "code",
      "execution_count": null,
      "metadata": {
        "id": "YU4sAXgi5kGY"
      },
      "outputs": [],
      "source": [
        "# Association rules normally make sense with purchases / transactions datasets\n",
        "# Here the rule won't have much meaning, except to say a person who reads a book A will also be likely to read book B \n",
        "\n",
        "import itertools \n",
        "# This module will help us generate all permutations of book title\n",
        "# We'll use that to find the possible rules and then filter for those with \n",
        "# the required confidence\n",
        "\n",
        "\n",
        "\n",
        "def support(itemset):\n",
        "    userList=userItemRatingMatrix.index\n",
        "    nUsers=len(userList)\n",
        "    ratingMatrix=userItemRatingMatrix\n",
        "    for book in bookset:\n",
        "        ratingMatrix=ratingMatrix.loc[ratingMatrix.loc[:,book]>0]\n",
        "        #Subset the ratingMatrix to the set of users who have rated this item \n",
        "        userList=ratingMatrix.index\n",
        "    # After looping through all the items in the set, we are left only with the\n",
        "    # users who have rated all the items in the itemset\n",
        "    return float(len(userList))/float(nUsers)\n",
        "# Support is the proportion of all users who have watched this set of movies \n"
      ]
    },
    {
      "cell_type": "code",
      "execution_count": null,
      "metadata": {
        "id": "4v2HpfpQ930F"
      },
      "outputs": [],
      "source": [
        "allitems=[]\n",
        "minsupport=0.03\n",
        "for book in list(userItemRatingMatrix.columns):\n",
        "    bookset=[book]\n",
        "    if support(bookset)>minsupport:\n",
        "        allitems.append(book)\n",
        "# We are now left only with the items which have been rated by atleast 3% of \n",
        "#the users"
      ]
    },
    {
      "cell_type": "code",
      "execution_count": null,
      "metadata": {
        "colab": {
          "base_uri": "https://localhost:8080/"
        },
        "id": "GQ65bWwBBoEo",
        "outputId": "c3b6b4c3-4ec0-46b0-b820-263e3e1c06ca"
      },
      "outputs": [
        {
          "output_type": "execute_result",
          "data": {
            "text/plain": [
              "174"
            ]
          },
          "metadata": {},
          "execution_count": 382
        }
      ],
      "source": [
        "len(allitems)"
      ]
    },
    {
      "cell_type": "code",
      "execution_count": null,
      "metadata": {
        "colab": {
          "base_uri": "https://localhost:8080/"
        },
        "id": "nJjtf1SM6JYE",
        "outputId": "b51328c1-e054-43b0-ee17-1b3291ac0be5"
      },
      "outputs": [
        {
          "output_type": "stream",
          "name": "stderr",
          "text": [
            "30102it [00:59, 506.04it/s]\n"
          ]
        }
      ],
      "source": [
        "#  174 of the books were read by atleast 3% of the users. From these books\n",
        "# we'll generate rules and test again for support and confidence\n",
        "minconfidence=0.9\n",
        "assocRules=[]\n",
        "\n",
        "\n",
        "# This will generate all possible 2 item rules which satisfy the support and  confidence constraints. \n",
        "for rule in tqdm(itertools.permutations(allitems,2)):\n",
        "    #Generates all possible permutations of 2 items from the remaining\n",
        "    # list of 174 books \n",
        "    from_item=[rule[0]]\n",
        "    to_item=rule\n",
        "    # each rule is a tuple of 2 items \n",
        "    confidence=support(to_item)/support(from_item)\n",
        "    if (confidence>minconfidence and support(to_item)>minsupport):\n",
        "        assocRules.append(rule)\n"
      ]
    },
    {
      "cell_type": "code",
      "source": [
        "for i in range(30102):\n",
        "  if(assocRules[i][0]=='Red Dragon'):\n",
        "    print(assocRules[i][1])"
      ],
      "metadata": {
        "colab": {
          "base_uri": "https://localhost:8080/"
        },
        "id": "AXaoCLs_mFSR",
        "outputId": "e16b634d-fbf7-4802-be8b-d332e0944627"
      },
      "execution_count": null,
      "outputs": [
        {
          "output_type": "stream",
          "name": "stdout",
          "text": [
            "1984\n",
            "1st to Die: A Novel\n",
            "2nd Chance\n",
            "A Bend in the Road\n",
            "A Is for Alibi (Kinsey Millhone Mysteries (Paperback))\n",
            "A Painted House\n",
            "A Prayer for Owen Meany\n",
            "A Time to Kill\n",
            "A Walk to Remember\n",
            "A Wrinkle in Time\n",
            "ANGELA'S ASHES\n",
            "All I Really Need to Know\n",
            "Angela's Ashes: A Memoir\n",
            "Angels &amp; Demons\n",
            "Anne Frank: The Diary of a Young Girl\n",
            "Anne of Green Gables (Anne of Green Gables Novels (Paperback))\n",
            "B Is for Burglar (Kinsey Millhone Mysteries (Paperback))\n",
            "Balzac and the Little Chinese Seamstress : A Novel\n",
            "Bel Canto: A Novel\n",
            "Big Stone Gap: A Novel (Ballantine Reader's Circle)\n",
            "Black House\n",
            "Bridget Jones's Diary\n",
            "Confessions of a Shopaholic (Summer Display Opportunity)\n",
            "Congo\n",
            "Cradle and All\n",
            "Cruel &amp; Unusual (Kay Scarpetta Mysteries (Paperback))\n",
            "Dance upon the Air (Three Sisters Island Trilogy)\n",
            "Divine Secrets of the Ya-Ya Sisterhood: A Novel\n",
            "Dolores Claiborne\n",
            "Dreamcatcher\n",
            "Empire Falls\n",
            "Fahrenheit 451\n",
            "Fast Food Nation: The Dark Side of the All-American Meal\n",
            "Five Quarters of the Orange\n",
            "Four Past Midnight\n",
            "Four To Score (A Stephanie Plum Novel)\n",
            "Fried Green Tomatoes at the Whistle Stop Cafe\n",
            "Full House (Janet Evanovich's Full Series)\n",
            "G Is for Gumshoe (Kinsey Millhone Mysteries (Paperback))\n",
            "Gerald's Game\n",
            "Girl in Hyacinth Blue\n",
            "Girl with a Pearl Earring\n",
            "Girl, Interrupted\n",
            "Good in Bed\n",
            "Hannibal\n",
            "Hard Eight : A Stephanie Plum Novel (A Stephanie Plum Novel)\n",
            "Harry Potter and the Chamber of Secrets (Book 2)\n",
            "Harry Potter and the Goblet of Fire (Book 4)\n",
            "Harry Potter and the Order of the Phoenix (Book 5)\n",
            "Harry Potter and the Prisoner of Azkaban (Book 3)\n",
            "Harry Potter and the Sorcerer's Stone (Book 1)\n",
            "Harry Potter and the Sorcerer's Stone (Harry Potter (Paperback))\n",
            "High Five (A Stephanie Plum Novel)\n",
            "Hot Six : A Stephanie Plum Novel (A Stephanie Plum Novel)\n",
            "House of Sand and Fog\n",
            "In Her Shoes : A Novel\n",
            "Insomnia\n",
            "Interview with the Vampire\n",
            "It\n",
            "Jurassic Park\n",
            "Kiss the Girls\n",
            "Lamb : The Gospel According to Biff, Christ's Childhood Pal\n",
            "Left Behind: A Novel of the Earth's Last Days (Left Behind No. 1)\n",
            "Life of Pi\n",
            "Little Altars Everywhere: A Novel\n",
            "Lord of the Flies\n",
            "Lucky : A Memoir\n",
            "Me Talk Pretty One Day\n",
            "Message in a Bottle\n",
            "Midwives: A Novel\n",
            "Misery\n",
            "Neverwhere\n",
            "Nickel and Dimed: On (Not) Getting By in America\n",
            "One for the Money (A Stephanie Plum Novel)\n",
            "One for the Money (Stephanie Plum Novels (Paperback))\n",
            "Outlander\n",
            "Pet Sematary\n",
            "Point of Origin\n",
            "Q Is for Quarry\n",
            "SHIPPING NEWS\n",
            "STONES FROM THE RIVER\n",
            "Seven Up (A Stephanie Plum Novel)\n",
            "She's Come Undone (Oprah's Book Club (Paperback))\n",
            "She's Come Undone (Oprah's Book Club)\n",
            "Shopaholic Takes Manhattan (Summer Display Opportunity)\n",
            "Silence of the Lambs\n",
            "Skeleton Crew\n",
            "Skipping Christmas\n",
            "Snow Falling on Cedars\n",
            "Stupid White Men ...and Other Sorry Excuses for the State of the Nation!\n",
            "Summer Sisters\n",
            "Suzanne's Diary for Nicholas\n",
            "Tears of the Giraffe (No.1 Ladies Detective Agency)\n",
            "The Alienist\n",
            "The Bad Beginning (A Series of Unfortunate Events, Book 1)\n",
            "The Beach House\n",
            "The Bean Trees\n",
            "The Bonesetter's Daughter\n",
            "The Brethren\n",
            "The Bridges of Madison County\n",
            "The Catcher in the Rye\n",
            "The Chamber\n",
            "The Cider House Rules\n",
            "The Clan of the Cave Bear (Earth's Children (Paperback))\n",
            "The Client\n",
            "The Color Purple\n",
            "The Color of Water: A Black Man's Tribute to His White Mother\n",
            "The Da Vinci Code\n",
            "The Dark Half\n",
            "The Divine Secrets of the Ya-Ya Sisterhood: A Novel\n",
            "The Fellowship of the Ring (The Lord of the Rings, Part 1)\n",
            "The Firm\n",
            "The Five People You Meet in Heaven\n",
            "The Gift\n",
            "The Girls' Guide to Hunting and Fishing\n",
            "The Golden Compass (His Dark Materials, Book 1)\n",
            "The Gunslinger (The Dark Tower, Book 1)\n",
            "The Handmaid's Tale\n",
            "The Hitchhiker's Guide to the Galaxy\n",
            "The Hobbit : The Enchanting Prelude to The Lord of the Rings\n",
            "The Horse Whisperer\n",
            "The Hundred Secret Senses\n",
            "The Joy Luck Club\n",
            "The Little Prince\n",
            "The Lovely Bones: A Novel\n",
            "The Mists of Avalon\n",
            "The Nanny Diaries: A Novel\n",
            "The No. 1 Ladies' Detective Agency (Today Show Book Club #8)\n",
            "The Notebook\n",
            "The Partner\n",
            "The Pelican Brief\n",
            "The Perfect Storm : A True Story of Men Against the Sea\n",
            "The Pilot's Wife : A Novel\n",
            "The Poisonwood Bible: A Novel\n",
            "The Prince of Tides\n",
            "The Rainmaker\n",
            "The Reader\n",
            "The Red Tent (Bestselling Backlist)\n",
            "The Runaway Jury\n",
            "The Secret Garden\n",
            "The Secret Life of Bees\n",
            "The Street Lawyer\n",
            "The Summons\n",
            "The Sweet Potato Queens' Book of Love\n",
            "The Tale of the Body Thief (Vampire Chronicles (Paperback))\n",
            "The Talisman\n",
            "The Tao of Pooh\n",
            "The Testament\n",
            "The Thorn Birds\n",
            "The Tommyknockers\n",
            "The Two Towers (The Lord of the Rings, Part 2)\n",
            "The Vampire Lestat (Vampire Chronicles, Book II)\n",
            "The Witching Hour (Lives of the Mayfair Witches)\n",
            "Thinner\n",
            "Three To Get Deadly : A Stephanie Plum Novel (A Stephanie Plum Novel)\n",
            "Timeline\n",
            "To Kill a Mockingbird\n",
            "To the Nines: A Stephanie Plum Novel\n",
            "Tuesdays with Morrie: An Old Man, a Young Man, and Life's Greatest Lesson\n",
            "Two for the Dough\n",
            "Unnatural Exposure\n",
            "Violets Are Blue\n",
            "Watership Down\n",
            "We Were the Mulvaneys\n",
            "What Looks Like Crazy On An Ordinary Day\n",
            "When the Wind Blows\n",
            "Where the Heart Is (Oprah's Book Club (Paperback))\n",
            "While I Was Gone\n",
            "White Oleander : A Novel\n",
            "White Oleander : A Novel (Oprah's Book Club)\n",
            "Wicked: The Life and Times of the Wicked Witch of the West\n",
            "Wild Animus\n",
            "\\O\\\" Is for Outlaw\"\n"
          ]
        }
      ]
    },
    {
      "cell_type": "code",
      "execution_count": null,
      "metadata": {
        "colab": {
          "base_uri": "https://localhost:8080/"
        },
        "id": "9iiM1xZ2Nt8C",
        "outputId": "a38e44c1-0b6d-4960-bbd4-56aded562343"
      },
      "outputs": [
        {
          "output_type": "execute_result",
          "data": {
            "text/plain": [
              "30102"
            ]
          },
          "metadata": {},
          "execution_count": 351
        }
      ],
      "source": [
        "len(assocRules)"
      ]
    },
    {
      "cell_type": "code",
      "execution_count": null,
      "metadata": {
        "colab": {
          "background_save": true,
          "base_uri": "https://localhost:8080/"
        },
        "id": "DtVlE23ImNhw",
        "outputId": "01bc28bd-1e5b-4338-cdc5-1c38865f1ffb"
      },
      "outputs": [
        {
          "name": "stderr",
          "output_type": "stream",
          "text": [
            "5177544it [2:22:21, 606.19it/s]\n"
          ]
        }
      ],
      "source": [
        "# This will generate all possible 3 item rules which satisfy the support and  confidence constraints. \n",
        "assocRules=[]\n",
        "for rule in tqdm(itertools.permutations(allitems,3)):\n",
        "    #Generates all possible permutations of 2 items from the remaining\n",
        "    # list of 47 movies \n",
        "    from_item=[rule[0]]\n",
        "    to_item=rule\n",
        "    # each rule is a tuple of 2 items \n",
        "    confidence=support(to_item)/support(from_item)\n",
        "    if (confidence>minconfidence and support(to_item)>minsupport):\n",
        "        assocRules.append(rule)"
      ]
    },
    {
      "cell_type": "code",
      "execution_count": null,
      "metadata": {
        "colab": {
          "background_save": true
        },
        "id": "a8qVmEZcn0tY",
        "outputId": "8e09b194-4806-47b6-d0bc-754b676d27fd"
      },
      "outputs": [
        {
          "data": {
            "text/plain": [
              "5177544"
            ]
          },
          "execution_count": 594,
          "metadata": {},
          "output_type": "execute_result"
        }
      ],
      "source": [
        "len(assocRules)"
      ]
    },
    {
      "cell_type": "code",
      "execution_count": null,
      "metadata": {
        "id": "e_y4sbgdosig"
      },
      "outputs": [],
      "source": [
        "# This will generate all possible 3 item rules which satisfy the support and  confidence constraints. \n",
        "assocRules=[]\n",
        "for rule in tqdm(itertools.permutations(allitems,4)):\n",
        "    #Generates all possible permutations of 2 items from the remaining\n",
        "    # list of 47 movies \n",
        "    from_item=[rule[0]]\n",
        "    to_item=rule\n",
        "    # each rule is a tuple of 2 items \n",
        "    confidence=support(to_item)/support(from_item)\n",
        "    if (confidence>minconfidence and support(to_item)>minsupport):\n",
        "        assocRules.append(rule)"
      ]
    },
    {
      "cell_type": "code",
      "execution_count": null,
      "metadata": {
        "id": "3kvOwkiCo15_"
      },
      "outputs": [],
      "source": [
        "len(assocRules)"
      ]
    },
    {
      "cell_type": "markdown",
      "source": [
        "**Model Based Collaborative Filtering**\n",
        "\n",
        "Here we will be using dimensionality reduction methods to improve robustness and accuracy of Memory-Based CF. Basically, we compress user-item matrix into a low dimension matrix. We use techniques like SVD which is a low-rank factorization method, PCA which is used for dimensionaliry reduction etc.\n",
        "\n",
        "Model-based methods are based on matrix factorization and are better at dealing with sparsity.\n",
        "\n",
        "We will be using a \"Surprise\" library to implement SVD, KNN and NMF.\n",
        "You can find its documentation here > https://surprise.readthedocs.io/en/stable/\n",
        "Surprise Library has almost all the algorithms implemented that are required for model-based Recommendation systems."
      ],
      "metadata": {
        "id": "YLNRIGrHp25q"
      }
    },
    {
      "cell_type": "markdown",
      "metadata": {
        "id": "OB4l2ZhMeS1U"
      },
      "source": [
        "### ML Model - 1"
      ]
    },
    {
      "cell_type": "markdown",
      "source": [
        "#<b>1) K-Nearest Neighbours (KNN"
      ],
      "metadata": {
        "id": "n1R-tVFB6qcV"
      }
    },
    {
      "cell_type": "code",
      "source": [
        "from surprise import Reader, Dataset,KNNBasic, SVD, NMF\n",
        "from surprise.model_selection import GridSearchCV, cross_validate"
      ],
      "metadata": {
        "id": "N9bdWMCWqJKc"
      },
      "execution_count": 157,
      "outputs": []
    },
    {
      "cell_type": "code",
      "execution_count": null,
      "metadata": {
        "id": "7ebyywQieS1U"
      },
      "outputs": [],
      "source": [
        "# ML Model - 1 Implementation\n",
        "\n",
        "# Fit the Algorithm\n",
        "\n",
        "# Predict on the model"
      ]
    },
    {
      "cell_type": "code",
      "source": [
        "reader = Reader(rating_scale=(0.5, 5.0))\n",
        "\n",
        "data = Dataset.load_from_df( final_filtered_df[['User-ID', 'Book-Title', 'Book-Rating']], reader = reader )"
      ],
      "metadata": {
        "id": "TEhEcqTR2hFJ"
      },
      "execution_count": 158,
      "outputs": []
    },
    {
      "cell_type": "code",
      "source": [
        "# Split data into k-folds\n",
        "# data.split(n_folds=5)\n",
        "\n",
        "# Compute Mean Squared Distance Similarity\n",
        "sim_options = {'name' : 'msd'}\n",
        "\n",
        "algo = KNNBasic(k=20, sim_options=sim_options )\n",
        "cross_validate(algo=algo, data=data, measures=['RMSE'], cv=5, verbose=True)"
      ],
      "metadata": {
        "colab": {
          "base_uri": "https://localhost:8080/"
        },
        "id": "ZSlNHe4m4TSC",
        "outputId": "b87a041d-3f54-484d-bc8c-ad7fd6e42bb7"
      },
      "execution_count": 159,
      "outputs": [
        {
          "output_type": "stream",
          "name": "stdout",
          "text": [
            "Computing the msd similarity matrix...\n",
            "Done computing similarity matrix.\n",
            "Computing the msd similarity matrix...\n",
            "Done computing similarity matrix.\n",
            "Computing the msd similarity matrix...\n",
            "Done computing similarity matrix.\n",
            "Computing the msd similarity matrix...\n",
            "Done computing similarity matrix.\n",
            "Computing the msd similarity matrix...\n",
            "Done computing similarity matrix.\n",
            "Evaluating RMSE of algorithm KNNBasic on 5 split(s).\n",
            "\n",
            "                  Fold 1  Fold 2  Fold 3  Fold 4  Fold 5  Mean    Std     \n",
            "RMSE (testset)    3.4758  3.5107  3.5190  3.4670  3.5341  3.5013  0.0257  \n",
            "Fit time          0.11    0.11    0.10    0.11    0.15    0.12    0.02    \n",
            "Test time         1.02    1.26    1.03    1.40    1.81    1.30    0.29    \n"
          ]
        },
        {
          "output_type": "execute_result",
          "data": {
            "text/plain": [
              "{'test_rmse': array([3.47581684, 3.51066975, 3.51902384, 3.46701188, 3.53413612]),\n",
              " 'fit_time': (0.10761713981628418,\n",
              "  0.11228299140930176,\n",
              "  0.10228800773620605,\n",
              "  0.10506010055541992,\n",
              "  0.15301942825317383),\n",
              " 'test_time': (1.0206668376922607,\n",
              "  1.2624564170837402,\n",
              "  1.0342872142791748,\n",
              "  1.3953139781951904,\n",
              "  1.8066127300262451)}"
            ]
          },
          "metadata": {},
          "execution_count": 159
        }
      ]
    },
    {
      "cell_type": "code",
      "source": [
        "n_neighbours = [10, 20, 30]\n",
        "param_grid = {'n_neighbours' : n_neighbours}\n",
        "\n",
        "gs = GridSearchCV(KNNBasic, measures=['RMSE'], param_grid=param_grid)\n",
        "gs.fit(data)\n",
        "\n",
        "print('\\n\\n###############')\n",
        "# Best RMSE score\n",
        "print('Best Score :', gs.best_score['rmse'])\n",
        "\n",
        "# Combination of parameters that gave the best RMSE score\n",
        "print('Best Parameters :', gs.best_params['rmse'])\n",
        "print('###############')"
      ],
      "metadata": {
        "colab": {
          "base_uri": "https://localhost:8080/"
        },
        "id": "-qoIOXpE4ZNW",
        "outputId": "1f9adaf4-dc00-4b42-bcf7-02c20aa178e6"
      },
      "execution_count": 160,
      "outputs": [
        {
          "output_type": "stream",
          "name": "stdout",
          "text": [
            "Computing the msd similarity matrix...\n",
            "Done computing similarity matrix.\n",
            "Computing the msd similarity matrix...\n",
            "Done computing similarity matrix.\n",
            "Computing the msd similarity matrix...\n",
            "Done computing similarity matrix.\n",
            "Computing the msd similarity matrix...\n",
            "Done computing similarity matrix.\n",
            "Computing the msd similarity matrix...\n",
            "Done computing similarity matrix.\n",
            "Computing the msd similarity matrix...\n",
            "Done computing similarity matrix.\n",
            "Computing the msd similarity matrix...\n",
            "Done computing similarity matrix.\n",
            "Computing the msd similarity matrix...\n",
            "Done computing similarity matrix.\n",
            "Computing the msd similarity matrix...\n",
            "Done computing similarity matrix.\n",
            "Computing the msd similarity matrix...\n",
            "Done computing similarity matrix.\n",
            "Computing the msd similarity matrix...\n",
            "Done computing similarity matrix.\n",
            "Computing the msd similarity matrix...\n",
            "Done computing similarity matrix.\n",
            "Computing the msd similarity matrix...\n",
            "Done computing similarity matrix.\n",
            "Computing the msd similarity matrix...\n",
            "Done computing similarity matrix.\n",
            "Computing the msd similarity matrix...\n",
            "Done computing similarity matrix.\n",
            "\n",
            "\n",
            "###############\n",
            "Best Score : 3.49069795502203\n",
            "Best Parameters : {'n_neighbours': 10}\n",
            "###############\n"
          ]
        }
      ]
    },
    {
      "cell_type": "markdown",
      "metadata": {
        "id": "ArJBuiUVfxKd"
      },
      "source": [
        "#### 1. Explain the ML Model used and it's performance using Evaluation metric Score Chart."
      ]
    },
    {
      "cell_type": "code",
      "execution_count": null,
      "metadata": {
        "id": "rqD5ZohzfxKe"
      },
      "outputs": [],
      "source": [
        "# Visualizing evaluation Metric Score chart"
      ]
    },
    {
      "cell_type": "markdown",
      "metadata": {
        "id": "4qY1EAkEfxKe"
      },
      "source": [
        "#### 2. Cross- Validation & Hyperparameter Tuning"
      ]
    },
    {
      "cell_type": "code",
      "execution_count": null,
      "metadata": {
        "id": "Dy61ujd6fxKe"
      },
      "outputs": [],
      "source": [
        "# ML Model - 1 Implementation with hyperparameter optimization techniques (i.e., GridSearch CV, RandomSearch CV, Bayesian Optimization etc.)\n",
        "\n",
        "# Fit the Algorithm\n",
        "\n",
        "# Predict on the model"
      ]
    },
    {
      "cell_type": "markdown",
      "metadata": {
        "id": "PiV4Ypx8fxKe"
      },
      "source": [
        "##### Which hyperparameter optimization technique have you used and why?"
      ]
    },
    {
      "cell_type": "markdown",
      "metadata": {
        "id": "negyGRa7fxKf"
      },
      "source": [
        "Answer Here."
      ]
    },
    {
      "cell_type": "markdown",
      "metadata": {
        "id": "TfvqoZmBfxKf"
      },
      "source": [
        "##### Have you seen any improvement? Note down the improvement with updates Evaluation metric Score Chart."
      ]
    },
    {
      "cell_type": "markdown",
      "metadata": {
        "id": "OaLui8CcfxKf"
      },
      "source": [
        "Answer Here."
      ]
    },
    {
      "cell_type": "markdown",
      "metadata": {
        "id": "dJ2tPlVmpsJ0"
      },
      "source": [
        "### ML Model - 2"
      ]
    },
    {
      "cell_type": "markdown",
      "source": [
        "#<b> Singular Value Decomposition (SVD)"
      ],
      "metadata": {
        "id": "ZwtN2w-M6meq"
      }
    },
    {
      "cell_type": "markdown",
      "metadata": {
        "id": "JWYfwnehpsJ1"
      },
      "source": [
        "#### 1. Explain the ML Model used and it's performance using Evaluation metric Score Chart."
      ]
    },
    {
      "cell_type": "code",
      "execution_count": 161,
      "metadata": {
        "id": "yEl-hgQWpsJ1",
        "colab": {
          "base_uri": "https://localhost:8080/"
        },
        "outputId": "6781ab01-8b39-453c-df80-b4b89253cc48"
      },
      "outputs": [
        {
          "output_type": "stream",
          "name": "stdout",
          "text": [
            "Evaluating RMSE of algorithm SVD on 5 split(s).\n",
            "\n",
            "                  Fold 1  Fold 2  Fold 3  Fold 4  Fold 5  Mean    Std     \n",
            "RMSE (testset)    3.3642  3.4195  3.3807  3.4386  3.4056  3.4017  0.0266  \n",
            "Fit time          0.74    0.74    0.96    1.10    0.76    0.86    0.14    \n",
            "Test time         0.07    0.07    0.07    0.13    0.07    0.08    0.02    \n"
          ]
        },
        {
          "output_type": "execute_result",
          "data": {
            "text/plain": [
              "{'test_rmse': array([3.3642066 , 3.41952267, 3.38073071, 3.4386    , 3.4055553 ]),\n",
              " 'fit_time': (0.7376759052276611,\n",
              "  0.7442312240600586,\n",
              "  0.9564273357391357,\n",
              "  1.0972042083740234,\n",
              "  0.7608826160430908),\n",
              " 'test_time': (0.06969881057739258,\n",
              "  0.07277536392211914,\n",
              "  0.06793642044067383,\n",
              "  0.12527894973754883,\n",
              "  0.06961202621459961)}"
            ]
          },
          "metadata": {},
          "execution_count": 161
        }
      ],
      "source": [
        "# Visualizing evaluation Metric Score chart\n",
        "algo = SVD()\n",
        "cross_validate(algo=algo, data=data, measures=['RMSE'], cv=5, verbose=True)"
      ]
    },
    {
      "cell_type": "code",
      "source": [
        "param_grid = {'n_factors' : [50, 75], 'lr_all' : [0.5, 0.05], 'reg_all' : [0.06, 0.04]}\n",
        "\n",
        "gs = GridSearchCV(algo_class=SVD, measures=['RMSE'], param_grid=param_grid)\n",
        "gs.fit(data)\n",
        "\n",
        "print('\\n###############')\n",
        "# Best RMSE score\n",
        "print('Best Score :', gs.best_score['rmse'])\n",
        "\n",
        "# Combination of parameters that gave the best RMSE score\n",
        "print('Best Parameters :', gs.best_params['rmse'])\n",
        "print('###############')"
      ],
      "metadata": {
        "colab": {
          "base_uri": "https://localhost:8080/"
        },
        "id": "EIDVcZOZ5fFp",
        "outputId": "460557d8-8cdc-4217-abd5-d518f99daf3d"
      },
      "execution_count": 162,
      "outputs": [
        {
          "output_type": "stream",
          "name": "stdout",
          "text": [
            "\n",
            "###############\n",
            "Best Score : 4.657865837896151\n",
            "Best Parameters : {'n_factors': 50, 'lr_all': 0.5, 'reg_all': 0.06}\n",
            "###############\n"
          ]
        }
      ]
    },
    {
      "cell_type": "code",
      "source": [],
      "metadata": {
        "id": "rzvF871_5kXW"
      },
      "execution_count": null,
      "outputs": []
    },
    {
      "cell_type": "markdown",
      "metadata": {
        "id": "-jK_YjpMpsJ2"
      },
      "source": [
        "#### 2. Cross- Validation & Hyperparameter Tuning"
      ]
    },
    {
      "cell_type": "code",
      "execution_count": null,
      "metadata": {
        "id": "Dn0EOfS6psJ2"
      },
      "outputs": [],
      "source": [
        "# ML Model - 1 Implementation with hyperparameter optimization techniques (i.e., GridSearch CV, RandomSearch CV, Bayesian Optimization etc.)\n",
        "\n",
        "# Fit the Algorithm\n",
        "\n",
        "# Predict on the model"
      ]
    },
    {
      "cell_type": "markdown",
      "metadata": {
        "id": "HAih1iBOpsJ2"
      },
      "source": [
        "##### Which hyperparameter optimization technique have you used and why?"
      ]
    },
    {
      "cell_type": "markdown",
      "metadata": {
        "id": "9kBgjYcdpsJ2"
      },
      "source": [
        "Answer Here."
      ]
    },
    {
      "cell_type": "markdown",
      "metadata": {
        "id": "zVGeBEFhpsJ2"
      },
      "source": [
        "##### Have you seen any improvement? Note down the improvement with updates Evaluation metric Score Chart."
      ]
    },
    {
      "cell_type": "markdown",
      "metadata": {
        "id": "74yRdG6UpsJ3"
      },
      "source": [
        "Answer Here."
      ]
    },
    {
      "cell_type": "markdown",
      "metadata": {
        "id": "bmKjuQ-FpsJ3"
      },
      "source": [
        "#### 3. Explain each evaluation metric's indication towards business and the business impact pf the ML model used."
      ]
    },
    {
      "cell_type": "markdown",
      "metadata": {
        "id": "BDKtOrBQpsJ3"
      },
      "source": [
        "Answer Here."
      ]
    },
    {
      "cell_type": "markdown",
      "metadata": {
        "id": "Fze-IPXLpx6K"
      },
      "source": [
        "### ML Model - 3"
      ]
    },
    {
      "cell_type": "markdown",
      "source": [
        "#<b> Non-Negative Matrix Factorization (NMF)"
      ],
      "metadata": {
        "id": "SrAykzPpiHo4"
      }
    },
    {
      "cell_type": "code",
      "execution_count": 163,
      "metadata": {
        "id": "FFrSXAtrpx6M",
        "colab": {
          "base_uri": "https://localhost:8080/"
        },
        "outputId": "c3486842-7be1-48a2-ded0-3a277e072d27"
      },
      "outputs": [
        {
          "output_type": "stream",
          "name": "stdout",
          "text": [
            "Evaluating RMSE of algorithm NMF on 5 split(s).\n",
            "\n",
            "                  Fold 1  Fold 2  Fold 3  Fold 4  Fold 5  Mean    Std     \n",
            "RMSE (testset)    3.4284  3.4594  3.4838  3.4223  3.4598  3.4507  0.0226  \n",
            "Fit time          1.63    1.67    1.21    1.15    1.14    1.36    0.24    \n",
            "Test time         0.11    0.11    0.06    0.09    0.06    0.09    0.02    \n"
          ]
        },
        {
          "output_type": "execute_result",
          "data": {
            "text/plain": [
              "{'test_rmse': array([3.42840813, 3.45942155, 3.48375163, 3.42229585, 3.45984059]),\n",
              " 'fit_time': (1.625424861907959,\n",
              "  1.6675970554351807,\n",
              "  1.2081804275512695,\n",
              "  1.14628005027771,\n",
              "  1.1397926807403564),\n",
              " 'test_time': (0.1061549186706543,\n",
              "  0.10555911064147949,\n",
              "  0.05766177177429199,\n",
              "  0.09401941299438477,\n",
              "  0.06298089027404785)}"
            ]
          },
          "metadata": {},
          "execution_count": 163
        }
      ],
      "source": [
        "# ML Model - 3 Implementation\n",
        "algo = NMF()\n",
        "cross_validate(data=data, algo=algo, measures=['RMSE'], cv=5, verbose=True)\n",
        "# Fit the Algorithm\n",
        "\n",
        "# Predict on the model"
      ]
    },
    {
      "cell_type": "markdown",
      "source": [
        "#<b>4) Hybrid Recommender System"
      ],
      "metadata": {
        "id": "bEZD5jF86H2i"
      }
    },
    {
      "cell_type": "code",
      "source": [
        "books_df[books_df['Book-Title']=='Classical Mythology']['Book-Author'].unique()[0]"
      ],
      "metadata": {
        "colab": {
          "base_uri": "https://localhost:8080/",
          "height": 35
        },
        "id": "YoON-qdkAbMS",
        "outputId": "7fd66a9e-f064-4bb9-b8cc-964216fbddde"
      },
      "execution_count": 173,
      "outputs": [
        {
          "output_type": "execute_result",
          "data": {
            "text/plain": [
              "'Mark P. O. Morford'"
            ],
            "application/vnd.google.colaboratory.intrinsic+json": {
              "type": "string"
            }
          },
          "metadata": {},
          "execution_count": 173
        }
      ]
    },
    {
      "cell_type": "code",
      "source": [
        "def Hybrid_recommender(user_id,book_name):\n",
        "  author=books_df[books_df['Book-Title']==book_name]['Book-Author'].unique()[0]\n",
        "  recomendation_df=popular_books[~(df['Book-Title'].str.contains(book_name))]\n",
        "  author_df=author_based_filtering(author,book_name)\n"
      ],
      "metadata": {
        "id": "4iYxtws1-6JZ"
      },
      "execution_count": null,
      "outputs": []
    },
    {
      "cell_type": "markdown",
      "metadata": {
        "id": "7AN1z2sKpx6M"
      },
      "source": [
        "#### 1. Explain the ML Model used and it's performance using Evaluation metric Score Chart."
      ]
    },
    {
      "cell_type": "code",
      "execution_count": null,
      "metadata": {
        "id": "xIY4lxxGpx6M"
      },
      "outputs": [],
      "source": [
        "# Visualizing evaluation Metric Score chart"
      ]
    },
    {
      "cell_type": "markdown",
      "metadata": {
        "id": "9PIHJqyupx6M"
      },
      "source": [
        "#### 2. Cross- Validation & Hyperparameter Tuning"
      ]
    },
    {
      "cell_type": "code",
      "execution_count": null,
      "metadata": {
        "id": "eSVXuaSKpx6M"
      },
      "outputs": [],
      "source": [
        "# ML Model - 3 Implementation with hyperparameter optimization techniques (i.e., GridSearch CV, RandomSearch CV, Bayesian Optimization etc.)\n",
        "\n",
        "# Fit the Algorithm\n",
        "\n",
        "# Predict on the model"
      ]
    },
    {
      "cell_type": "markdown",
      "metadata": {
        "id": "_-qAgymDpx6N"
      },
      "source": [
        "##### Which hyperparameter optimization technique have you used and why?"
      ]
    },
    {
      "cell_type": "markdown",
      "metadata": {
        "id": "lQMffxkwpx6N"
      },
      "source": [
        "Answer Here."
      ]
    },
    {
      "cell_type": "markdown",
      "metadata": {
        "id": "Z-hykwinpx6N"
      },
      "source": [
        "##### Have you seen any improvement? Note down the improvement with updates Evaluation metric Score Chart."
      ]
    },
    {
      "cell_type": "markdown",
      "metadata": {
        "id": "MzVzZC6opx6N"
      },
      "source": [
        "Answer Here."
      ]
    },
    {
      "cell_type": "markdown",
      "metadata": {
        "id": "h_CCil-SKHpo"
      },
      "source": [
        "### 1. Which Evaluation metrics did you consider for a positive business impact and why?"
      ]
    },
    {
      "cell_type": "markdown",
      "metadata": {
        "id": "jHVz9hHDKFms"
      },
      "source": [
        "Answer Here."
      ]
    },
    {
      "cell_type": "markdown",
      "metadata": {
        "id": "cBFFvTBNJzUa"
      },
      "source": [
        "### 2. Which ML model did you choose from the above created models as your final prediction model and why?"
      ]
    },
    {
      "cell_type": "markdown",
      "metadata": {
        "id": "6ksF5Q1LKTVm"
      },
      "source": [
        "Answer Here."
      ]
    },
    {
      "cell_type": "markdown",
      "metadata": {
        "id": "HvGl1hHyA_VK"
      },
      "source": [
        "### 3. Explain the model which you have used and the feature importance using any model explainability tool?"
      ]
    },
    {
      "cell_type": "markdown",
      "metadata": {
        "id": "YnvVTiIxBL-C"
      },
      "source": [
        "Answer Here."
      ]
    },
    {
      "cell_type": "markdown",
      "metadata": {
        "id": "EyNgTHvd2WFk"
      },
      "source": [
        "## ***8.*** ***Future Work (Optional)***"
      ]
    },
    {
      "cell_type": "markdown",
      "metadata": {
        "id": "KH5McJBi2d8v"
      },
      "source": [
        "### 1. Save the best performing ml model in a pickle file or joblib file format for deployment process.\n"
      ]
    },
    {
      "cell_type": "code",
      "execution_count": null,
      "metadata": {
        "id": "bQIANRl32f4J"
      },
      "outputs": [],
      "source": [
        "# Save the File"
      ]
    },
    {
      "cell_type": "markdown",
      "metadata": {
        "id": "iW_Lq9qf2h6X"
      },
      "source": [
        "### 2. Again Load the saved model file and try to predict unseen data for a sanity check.\n"
      ]
    },
    {
      "cell_type": "code",
      "execution_count": null,
      "metadata": {
        "id": "oEXk9ydD2nVC"
      },
      "outputs": [],
      "source": [
        "# Load the File and predict unseen data."
      ]
    },
    {
      "cell_type": "markdown",
      "metadata": {
        "id": "-Kee-DAl2viO"
      },
      "source": [
        "### ***Congrats! Your model is successfully created and ready for deployment on a live server for a real user interaction !!!***"
      ]
    },
    {
      "cell_type": "markdown",
      "metadata": {
        "id": "gCX9965dhzqZ"
      },
      "source": [
        "# **Conclusion**"
      ]
    },
    {
      "cell_type": "markdown",
      "metadata": {
        "id": "Fjb1IsQkh3yE"
      },
      "source": [
        "Write the conclusion here."
      ]
    },
    {
      "cell_type": "markdown",
      "metadata": {
        "id": "gIfDvo9L0UH2"
      },
      "source": [
        "### ***Hurrah! You have successfully completed your Machine Learning Capstone Project !!!***"
      ]
    }
  ],
  "metadata": {
    "colab": {
      "collapsed_sections": [
        "0wOQAZs5pc--",
        "K5QZ13OEpz2H",
        "lQ7QKXXCp7Bj",
        "448CDAPjqfQr",
        "KSlN3yHqYklG",
        "t6dVpIINYklI",
        "ijmpgYnKYklI",
        "-JiQyfWJYklI",
        "EM7whBJCYoAo",
        "fge-S5ZAYoAp",
        "85gYPyotYoAp",
        "RoGjAbkUYoAp",
        "4Of9eVA-YrdM",
        "iky9q4vBYrdO",
        "F6T5p64dYrdO",
        "y-Ehk30pYrdP",
        "bamQiAODYuh1",
        "QHF8YVU7Yuh3",
        "GwzvFGzlYuh3",
        "qYpmQ266Yuh3",
        "OH-pJp9IphqM",
        "bbFf2-_FphqN",
        "_ouA3fa0phqN",
        "Seke61FWphqN",
        "PIIx-8_IphqN",
        "t27r6nlMphqO",
        "r2jJGEOYphqO",
        "b0JNsNcRphqO",
        "BZR9WyysphqO",
        "jj7wYXLtphqO",
        "eZrbJ2SmphqO",
        "rFu4xreNphqO",
        "YJ55k-q6phqO",
        "gCFgpxoyphqP",
        "OVtJsKN_phqQ",
        "lssrdh5qphqQ",
        "U2RJ9gkRphqQ",
        "1M8mcRywphqQ",
        "tgIPom80phqQ",
        "JMzcOPDDphqR",
        "x-EpHcCOp1ci",
        "X_VqEhTip1ck",
        "8zGJKyg5p1ck",
        "PVzmfK_Ep1ck",
        "n3dbpmDWp1ck",
        "ylSl6qgtp1ck",
        "ZWILFDl5p1ck",
        "M7G43BXep1ck",
        "Ag9LCva-p1cl",
        "E6MkPsBcp1cl",
        "2cELzS2fp1cl",
        "3MPXvC8up1cl",
        "NC_X3p0fY2L0",
        "UV0SzAkaZNRQ",
        "YPEH6qLeZNRQ",
        "q29F0dvdveiT",
        "EXh0U9oCveiU",
        "22aHeOlLveiV",
        "g-ATYxFrGrvw",
        "Yfr_Vlr8HBkt",
        "8yEUt7NnHlrM",
        "tEA2Xm5dHt1r",
        "I79__PHVH19G",
        "Ou-I18pAyIpj",
        "fF3858GYyt-u",
        "4_0_7-oCpUZd",
        "hwyV_J3ipUZe",
        "3yB-zSqbpUZe",
        "dEUvejAfpUZe",
        "Fd15vwWVpUZf",
        "bn_IUdTipZyH",
        "49K5P_iCpZyH",
        "Nff-vKELpZyI",
        "kLW572S8pZyI",
        "dWbDXHzopZyI",
        "id1riN9m0vUs",
        "578E2V7j08f6",
        "qBMux9mC6MCf",
        "C74aWNz2AliB",
        "2DejudWSA-a0",
        "pEMng2IbBLp7",
        "rAdphbQ9Bhjc",
        "TNVZ9zx19K6k",
        "nqoHp30x9hH9",
        "rMDnDkt2B6du",
        "yiiVWRdJDDil",
        "1UUpS68QDMuG",
        "kexQrXU-DjzY",
        "T5CmagL3EC8N",
        "BhH2vgX9EjGr",
        "qjKvONjwE8ra",
        "P1XJ9OREExlT",
        "VFOzZv6IFROw",
        "TIqpNgepFxVj",
        "ArJBuiUVfxKd",
        "4qY1EAkEfxKe",
        "PiV4Ypx8fxKe",
        "TfvqoZmBfxKf",
        "-jK_YjpMpsJ2",
        "HAih1iBOpsJ2",
        "zVGeBEFhpsJ2",
        "7AN1z2sKpx6M",
        "9PIHJqyupx6M",
        "_-qAgymDpx6N",
        "Z-hykwinpx6N",
        "h_CCil-SKHpo",
        "cBFFvTBNJzUa",
        "HvGl1hHyA_VK",
        "EyNgTHvd2WFk",
        "KH5McJBi2d8v",
        "iW_Lq9qf2h6X",
        "-Kee-DAl2viO",
        "gCX9965dhzqZ",
        "gIfDvo9L0UH2"
      ],
      "provenance": [],
      "include_colab_link": true
    },
    "gpuClass": "standard",
    "kernelspec": {
      "display_name": "Python 3",
      "name": "python3"
    },
    "language_info": {
      "name": "python"
    }
  },
  "nbformat": 4,
  "nbformat_minor": 0
}